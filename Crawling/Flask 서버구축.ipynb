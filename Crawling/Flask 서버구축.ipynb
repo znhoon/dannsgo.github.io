{
 "cells": [
  {
   "cell_type": "markdown",
   "metadata": {},
   "source": [
    "# Flask란?\n",
    " - python을 활용한 웹 프레임워크로 단순한 코드로 쉽게 개발이 가능\n",
    " - Flask 설치"
   ]
  },
  {
   "cell_type": "code",
   "execution_count": null,
   "metadata": {},
   "outputs": [],
   "source": [
    "!pip install flask"
   ]
  },
  {
   "cell_type": "markdown",
   "metadata": {},
   "source": [
    "# Flask 구조"
   ]
  },
  {
   "cell_type": "code",
   "execution_count": null,
   "metadata": {},
   "outputs": [
    {
     "name": "stdout",
     "output_type": "stream",
     "text": [
      " * Serving Flask app \"__main__\" (lazy loading)\n",
      " * Environment: production\n",
      "   WARNING: This is a development server. Do not use it in a production deployment.\n",
      "   Use a production WSGI server instead.\n",
      " * Debug mode: off\n"
     ]
    },
    {
     "name": "stderr",
     "output_type": "stream",
     "text": [
      " * Running on http://127.0.0.1:5000/ (Press CTRL+C to quit)\n",
      "127.0.0.1 - - [29/Dec/2021 10:59:47] \"\u001b[32mGET /?book=aaaa HTTP/1.1\u001b[0m\" 302 -\n"
     ]
    },
    {
     "name": "stdout",
     "output_type": "stream",
     "text": [
      "aaaa\n"
     ]
    },
    {
     "name": "stderr",
     "output_type": "stream",
     "text": [
      "127.0.0.1 - - [29/Dec/2021 11:00:30] \"\u001b[33mGET /book=aaaa HTTP/1.1\u001b[0m\" 404 -\n",
      "127.0.0.1 - - [29/Dec/2021 11:00:54] \"\u001b[32mGET /?book=aaaa HTTP/1.1\u001b[0m\" 302 -\n"
     ]
    },
    {
     "name": "stdout",
     "output_type": "stream",
     "text": [
      "aaaa\n"
     ]
    },
    {
     "name": "stderr",
     "output_type": "stream",
     "text": [
      "127.0.0.1 - - [29/Dec/2021 11:00:59] \"\u001b[32mGET /?book=aaaa HTTP/1.1\u001b[0m\" 302 -\n"
     ]
    },
    {
     "name": "stdout",
     "output_type": "stream",
     "text": [
      "aaaa\n"
     ]
    }
   ],
   "source": [
    "from flask import Flask, redirect, request\n",
    "\n",
    "app = Flask(__name__) # flask 서버객체 생성\n",
    " \n",
    "    \n",
    "# route(경로): 외부에서 접근할 때 페이지 구분을 위한 경로지정\n",
    "@app.route('/')\n",
    "def index():\n",
    "    #크롤링(제목,저자)\n",
    "    data = request.args['book']\n",
    "    print(data)\n",
    "    #크롤링(data)\n",
    "    return redirect(\"http://127.0.0.1:8097/Map/info.jsp?URL1=test&URL2=test&URL3=test\");\n",
    "\n",
    "\n",
    "# main함수의 시작을 의미 \n",
    "# 비유하자면 자바의 main(String[] args)메소드와 같은 역할\n",
    "if __name__ == '__main__':\n",
    "    # 웹서버주소(host)와 포트번호(port)를 지정하여 웹 서버 실행\n",
    "    app.run(host='127.0.0.1', port='5000') "
   ]
  },
  {
   "cell_type": "markdown",
   "metadata": {},
   "source": [
    "# 딕셔너리 데이터 사용자에게 보내기\n",
    "- json 데이터 전달을 위해 jsonify모듈 추가"
   ]
  },
  {
   "cell_type": "code",
   "execution_count": null,
   "metadata": {},
   "outputs": [
    {
     "name": "stdout",
     "output_type": "stream",
     "text": [
      " * Serving Flask app \"__main__\" (lazy loading)\n",
      " * Environment: production\n",
      "   WARNING: This is a development server. Do not use it in a production deployment.\n",
      "   Use a production WSGI server instead.\n",
      " * Debug mode: off\n"
     ]
    },
    {
     "name": "stderr",
     "output_type": "stream",
     "text": [
      " * Running on http://127.0.0.1:5000/ (Press CTRL+C to quit)\n"
     ]
    }
   ],
   "source": [
    "from flask import Flask, jsonify, redirect\n",
    "\n",
    "app = Flask(__name__)\n",
    "\n",
    "@app.route('/')\n",
    "def index():\n",
    "    data = {'name' : 'Aaron', 'family' : 'Byun'}\n",
    "    return redirect(\"http://127.0.0.1:8097/Map/info.jsp\");\n",
    "\n",
    "if __name__ == '__main__':\n",
    "    app.run(host='127.0.0.1', port='5000') "
   ]
  },
  {
   "cell_type": "markdown",
   "metadata": {},
   "source": [
    "# 요청방식 구분\n",
    "- 요청방식에는 크게 GET, POST로 구분\n",
    "- GET방식은 URL을 통해 값을 전달하는 방식\n",
    "- POST방식은 HTTP body에 담겨 값을 전달하는 방식\n",
    "- 요청방식을 구분하기 위해 request모듈 추가"
   ]
  },
  {
   "cell_type": "code",
   "execution_count": 44,
   "metadata": {},
   "outputs": [
    {
     "name": "stdout",
     "output_type": "stream",
     "text": [
      " * Serving Flask app \"__main__\" (lazy loading)\n",
      " * Environment: production\n",
      "   WARNING: This is a development server. Do not use it in a production deployment.\n",
      "   Use a production WSGI server instead.\n",
      " * Debug mode: off\n"
     ]
    },
    {
     "name": "stderr",
     "output_type": "stream",
     "text": [
      " * Running on http://127.0.0.1:5000/ (Press CTRL+C to quit)\n",
      "127.0.0.1 - - [28/Oct/2020 10:44:46] \"GET /test?data=1234 HTTP/1.1\" 200 -\n"
     ]
    },
    {
     "name": "stdout",
     "output_type": "stream",
     "text": [
      "1234\n"
     ]
    },
    {
     "name": "stderr",
     "output_type": "stream",
     "text": [
      "127.0.0.1 - - [28/Oct/2020 10:44:47] \"GET /test?data=1234 HTTP/1.1\" 200 -\n"
     ]
    },
    {
     "name": "stdout",
     "output_type": "stream",
     "text": [
      "1234\n"
     ]
    },
    {
     "name": "stderr",
     "output_type": "stream",
     "text": [
      "127.0.0.1 - - [28/Oct/2020 10:44:50] \"POST /test HTTP/1.1\" 200 -\n"
     ]
    }
   ],
   "source": [
    "from flask import Flask\n",
    "from flask import request\n",
    "\n",
    "app = Flask(__name__)\n",
    " \n",
    "@app.route('/')\n",
    "def index():\n",
    "    html = '''\n",
    "        <html>\n",
    "            <title>Flask를 활용한 웹 페이지 실행</title>\n",
    "            <body>\n",
    "                <h1>데이터 전송</h1>\n",
    "                \n",
    "                <!-- <form action=\"test\" method=\"GET\"> -->\n",
    "                <form action=\"test\" method=\"GET\">\n",
    "                    <input type=\"text\" name=\"data\">\n",
    "                    <input type=\"submit\" value=\"전송\">\n",
    "                </form>\n",
    "            </body>\n",
    "        </html>\n",
    "    '''\n",
    "    return html\n",
    "\n",
    "@app.route('/test', methods=['GET','POST'])\n",
    "def getData():\n",
    "    \n",
    "    if request.method == 'GET':\n",
    "        data = request.args['data']\n",
    "        print(data)\n",
    "        return data\n",
    "    \n",
    "    else:\n",
    "        data = request.form['data']\n",
    "        return data       \n",
    "\n",
    "if __name__ == '__main__':\n",
    "    app.run(host='127.0.0.1', port='5000') "
   ]
  },
  {
   "cell_type": "markdown",
   "metadata": {},
   "source": [
    "# 다른 웹 페이지로 이동\n",
    "- 이동기능을 사용하기 위해 redirect모듈 추가"
   ]
  },
  {
   "cell_type": "code",
   "execution_count": 45,
   "metadata": {},
   "outputs": [
    {
     "name": "stdout",
     "output_type": "stream",
     "text": [
      " * Serving Flask app \"__main__\" (lazy loading)\n",
      " * Environment: production\n",
      "   WARNING: This is a development server. Do not use it in a production deployment.\n",
      "   Use a production WSGI server instead.\n",
      " * Debug mode: off\n"
     ]
    },
    {
     "name": "stderr",
     "output_type": "stream",
     "text": [
      " * Running on http://127.0.0.1:5000/ (Press CTRL+C to quit)\n",
      "127.0.0.1 - - [28/Oct/2020 10:46:55] \"GET / HTTP/1.1\" 302 -\n"
     ]
    }
   ],
   "source": [
    "from flask import Flask\n",
    "from flask import redirect\n",
    "\n",
    "app = Flask(__name__) \n",
    " \n",
    "@app.route('/')\n",
    "def index():\n",
    "     \n",
    "    url = 'https://www.naver.com'\n",
    "    return redirect(url)\n",
    "\n",
    "if __name__ == '__main__':\n",
    "    app.run(host='127.0.0.1', port='5000') "
   ]
  },
  {
   "cell_type": "markdown",
   "metadata": {},
   "source": [
    "# Tomcat서버로 데이터 전송"
   ]
  },
  {
   "cell_type": "markdown",
   "metadata": {},
   "source": [
    "## 1. JSP로 만들어진 웹 페이지로 전송 "
   ]
  },
  {
   "cell_type": "code",
   "execution_count": 47,
   "metadata": {},
   "outputs": [
    {
     "name": "stdout",
     "output_type": "stream",
     "text": [
      " * Serving Flask app \"__main__\" (lazy loading)\n",
      " * Environment: production\n",
      "   WARNING: This is a development server. Do not use it in a production deployment.\n",
      "   Use a production WSGI server instead.\n",
      " * Debug mode: off\n"
     ]
    },
    {
     "name": "stderr",
     "output_type": "stream",
     "text": [
      " * Running on http://127.0.0.1:5000/ (Press CTRL+C to quit)\n",
      "127.0.0.1 - - [28/Oct/2020 10:50:20] \"GET / HTTP/1.1\" 302 -\n",
      "127.0.0.1 - - [28/Oct/2020 10:51:58] \"GET / HTTP/1.1\" 302 -\n"
     ]
    }
   ],
   "source": [
    "from flask import Flask\n",
    "from flask import redirect\n",
    "\n",
    "app = Flask(__name__) \n",
    "\n",
    "@app.route('/')\n",
    "def index():     \n",
    "    # JSP로 만들어진 웹 페이지에 데이터 전송\n",
    "    # GET방식으로 데이터 전달 시 쿼리스트링 기술 활용\n",
    "    #  -> ?name=value&name=value&...\n",
    "    url = 'http://localhost:8095/MyProject/flask_receive_data.jsp?data=1234'\n",
    "    return redirect(url)\n",
    "\n",
    "if __name__ == '__main__':\n",
    "    app.run(host='127.0.0.1', port='5000') "
   ]
  },
  {
   "cell_type": "markdown",
   "metadata": {},
   "source": [
    "## 2. URL Mapping되어 있는 Servlet으로 데이터 전송"
   ]
  },
  {
   "cell_type": "code",
   "execution_count": 48,
   "metadata": {},
   "outputs": [
    {
     "name": "stdout",
     "output_type": "stream",
     "text": [
      " * Serving Flask app \"__main__\" (lazy loading)\n",
      " * Environment: production\n",
      "   WARNING: This is a development server. Do not use it in a production deployment.\n",
      "   Use a production WSGI server instead.\n",
      " * Debug mode: off\n"
     ]
    },
    {
     "name": "stderr",
     "output_type": "stream",
     "text": [
      " * Running on http://127.0.0.1:5000/ (Press CTRL+C to quit)\n",
      "127.0.0.1 - - [28/Oct/2020 10:52:31] \"GET / HTTP/1.1\" 302 -\n",
      "127.0.0.1 - - [28/Oct/2020 10:52:40] \"GET / HTTP/1.1\" 302 -\n",
      "127.0.0.1 - - [28/Oct/2020 10:52:45] \"GET / HTTP/1.1\" 302 -\n"
     ]
    }
   ],
   "source": [
    "from flask import Flask\n",
    "from flask import redirect\n",
    "\n",
    "app = Flask(__name__) \n",
    "\n",
    "@app.route('/')\n",
    "def index():     \n",
    "    # JSP로 만들어진 웹 페이지에 데이터 전송\n",
    "    # GET방식으로 데이터 전달 시 쿼리스트링 기술 활용\n",
    "    #  -> ?name=value&name=value&...\n",
    "    url = 'http://localhost:8095/MyProject/FlaskReceiveController?data=1234'\n",
    "    return redirect(url)\n",
    "\n",
    "if __name__ == '__main__':\n",
    "    app.run(host='127.0.0.1', port='5000') "
   ]
  },
  {
   "cell_type": "markdown",
   "metadata": {},
   "source": [
    "# 사용자가 입력한 값을 받은 후 처리된 결과를 Tomcat서버로 전송\n",
    "## ★★머신러닝 모델에 대한 결과값을 전송할 때 활용할 수 있음"
   ]
  },
  {
   "cell_type": "code",
   "execution_count": null,
   "metadata": {},
   "outputs": [
    {
     "name": "stdout",
     "output_type": "stream",
     "text": [
      " * Serving Flask app \"__main__\" (lazy loading)\n",
      " * Environment: production\n",
      "   WARNING: This is a development server. Do not use it in a production deployment.\n",
      "   Use a production WSGI server instead.\n",
      " * Debug mode: off\n"
     ]
    },
    {
     "name": "stderr",
     "output_type": "stream",
     "text": [
      " * Running on http://127.0.0.1:5000/ (Press CTRL+C to quit)\n",
      "127.0.0.1 - - [28/Oct/2020 11:07:31] \"POST /addNumber HTTP/1.1\" 302 -\n",
      "127.0.0.1 - - [28/Oct/2020 11:12:11] \"POST /addNumber HTTP/1.1\" 302 -\n"
     ]
    }
   ],
   "source": [
    "from flask import Flask\n",
    "from flask import request, redirect\n",
    "\n",
    "app = Flask(__name__) \n",
    "\n",
    "@app.route('/addNumber', methods=['GET','POST'])\n",
    "def index():     \n",
    "       \n",
    "    if request.method == 'GET':\n",
    "        num1 = request.args['num1']\n",
    "        num2 = request.args['num2']\n",
    "        \n",
    "    else:\n",
    "        num1 = request.form['num1']\n",
    "        num2 = request.form['num2']\n",
    "\n",
    "    url = 'http://localhost:8095/MyProject/FlaskReceiveController2?result={}'.format(num1+num2)\n",
    "    return redirect(url)\n",
    "\n",
    "if __name__ == '__main__':\n",
    "    app.run(host='127.0.0.1', port='5000') "
   ]
  },
  {
   "cell_type": "code",
   "execution_count": null,
   "metadata": {},
   "outputs": [],
   "source": []
  },
  {
   "cell_type": "code",
   "execution_count": null,
   "metadata": {},
   "outputs": [],
   "source": []
  },
  {
   "cell_type": "code",
   "execution_count": null,
   "metadata": {},
   "outputs": [],
   "source": []
  },
  {
   "cell_type": "code",
   "execution_count": null,
   "metadata": {},
   "outputs": [],
   "source": []
  },
  {
   "cell_type": "code",
   "execution_count": null,
   "metadata": {},
   "outputs": [],
   "source": []
  },
  {
   "cell_type": "code",
   "execution_count": null,
   "metadata": {},
   "outputs": [],
   "source": []
  }
 ],
 "metadata": {
  "kernelspec": {
   "display_name": "Python 3",
   "language": "python",
   "name": "python3"
  },
  "language_info": {
   "codemirror_mode": {
    "name": "ipython",
    "version": 3
   },
   "file_extension": ".py",
   "mimetype": "text/x-python",
   "name": "python",
   "nbconvert_exporter": "python",
   "pygments_lexer": "ipython3",
   "version": "3.8.8"
  }
 },
 "nbformat": 4,
 "nbformat_minor": 2
}
