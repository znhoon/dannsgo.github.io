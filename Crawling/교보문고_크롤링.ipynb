{
 "cells": [
  {
   "cell_type": "code",
   "execution_count": 1,
   "id": "dae918fe",
   "metadata": {},
   "outputs": [],
   "source": [
    "import requests as req  # requests 라이브러리 불러오기\n",
    "from bs4 import BeautifulSoup as bs # BeautifulSoup 라이브러리 불러오기\n",
    "import pandas as pd\n",
    "from selenium import webdriver as wb   # 웹 통제\n",
    "from selenium.webdriver.common.keys import Keys   # 웹에 값을 입력\n",
    "import time ## time sleep\n",
    "import re ## 정규식 표현 활용 ==> re 라이브러리"
   ]
  },
  {
   "cell_type": "code",
   "execution_count": 2,
   "id": "0aff170a",
   "metadata": {},
   "outputs": [],
   "source": [
    "book_title = [] ## 책 제목\n",
    "book_date = [] ## 책 출간일\n",
    "#book_author = [] ## 책 저자\n",
    "#book_brief = [] ## 책 요약\n",
    "#book_cat = [] ## 책 카테고리\n",
    "#book_publisher = [] ## 책 출판사\n",
    "#book_pages = [] ## 책 쪽수\n",
    "#book_content = [] ## 책 목차\n",
    "#book_cover = [] ## 책 표지이미지\n",
    "#book_hashtag = [] ## 책 해시태그"
   ]
  },
  {
   "cell_type": "code",
   "execution_count": null,
   "id": "963c2cfc",
   "metadata": {
    "scrolled": true
   },
   "outputs": [],
   "source": [
    "driver = wb.Chrome() ## 드라이버\n",
    "url = 'http://www.kyobobook.co.kr/bestSellerNew/bestseller.laf' ## 교보문고 url\n",
    "driver.get(url) ## 크롬 ==> 웹 페이지 연결\n",
    "soup = bs(driver.page_source, 'lxml') ## 파싱\n",
    "\n",
    "ck = driver.find_elements_by_css_selector('.cover a img') ## 이미지 select\n",
    "\n",
    "for i in range(len(ck)):\n",
    "    ck = driver.find_elements_by_css_selector('.cover a img') ## 이미지 select\n",
    "    ck[i].click() ## 이미지 select 클릭\n",
    "    time.sleep(0.3) ## 웹페이지 바뀌는 시간\n",
    "    soup = bs(driver.page_source, 'lxml') ## 파싱\n",
    "    title = soup.select_one('#container > div:nth-child(4) > form > div.box_detail_point > h1 > strong') ## 제목 css\n",
    "    date = soup.select_one('#container > div:nth-child(4) > form > div.box_detail_point > div.author > span.date')\n",
    "    book_title.append(title.text) ## append\n",
    "    book_date.append(date.text) ## append\n",
    "    driver.back()\n",
    "    time.sleep(0.3)\n",
    "\n",
    "dic = {'책 제목' : book_title, '책 출간일' : book_date}\n",
    "df_bookList = pd.DataFrame(dic)\n",
    "df_bookList"
   ]
  },
  {
   "cell_type": "code",
   "execution_count": null,
   "id": "dce5c99d",
   "metadata": {},
   "outputs": [],
   "source": [
    "dic = {'책 제목' : book_title, '책 출간일' : book_date}\n",
    "df_bookList = pd.DataFrame(dic)\n",
    "df_bookList"
   ]
  },
  {
   "cell_type": "code",
   "execution_count": null,
   "id": "dc301a1e",
   "metadata": {},
   "outputs": [],
   "source": []
  },
  {
   "cell_type": "code",
   "execution_count": null,
   "id": "2950df6a",
   "metadata": {},
   "outputs": [],
   "source": []
  },
  {
   "cell_type": "markdown",
   "id": "a23dd2ae",
   "metadata": {},
   "source": [
    "# test"
   ]
  },
  {
   "cell_type": "code",
   "execution_count": 6,
   "id": "7bd30645",
   "metadata": {
    "scrolled": true
   },
   "outputs": [
    {
     "name": "stderr",
     "output_type": "stream",
     "text": [
      "<ipython-input-6-50516b29e404>:6: DeprecationWarning: find_elements_by_* commands are deprecated. Please use find_elements() instead\n",
      "  ck = driver.find_elements_by_css_selector('.cover a img') ## 이미지 select\n",
      "<ipython-input-6-50516b29e404>:9: DeprecationWarning: find_elements_by_* commands are deprecated. Please use find_elements() instead\n",
      "  ck = driver.find_elements_by_css_selector('.cover a img') ## 이미지 select\n"
     ]
    },
    {
     "ename": "AttributeError",
     "evalue": "'str' object has no attribute 'append'",
     "output_type": "error",
     "traceback": [
      "\u001b[1;31m---------------------------------------------------------------------------\u001b[0m",
      "\u001b[1;31mAttributeError\u001b[0m                            Traceback (most recent call last)",
      "\u001b[1;32m<ipython-input-6-50516b29e404>\u001b[0m in \u001b[0;36m<module>\u001b[1;34m\u001b[0m\n\u001b[0;32m     13\u001b[0m     \u001b[0mtitle\u001b[0m \u001b[1;33m=\u001b[0m \u001b[0msoup\u001b[0m\u001b[1;33m.\u001b[0m\u001b[0mselect_one\u001b[0m\u001b[1;33m(\u001b[0m\u001b[1;34m'h1.title > strong'\u001b[0m\u001b[1;33m)\u001b[0m \u001b[1;31m## 제목 css\u001b[0m\u001b[1;33m\u001b[0m\u001b[1;33m\u001b[0m\u001b[0m\n\u001b[0;32m     14\u001b[0m     \u001b[0mdate\u001b[0m \u001b[1;33m=\u001b[0m \u001b[0msoup\u001b[0m\u001b[1;33m.\u001b[0m\u001b[0mselect_one\u001b[0m\u001b[1;33m(\u001b[0m\u001b[1;34m'div.author > span.date'\u001b[0m\u001b[1;33m)\u001b[0m \u001b[1;31m## 출간일 css\u001b[0m\u001b[1;33m\u001b[0m\u001b[1;33m\u001b[0m\u001b[0m\n\u001b[1;32m---> 15\u001b[1;33m     \u001b[0mbook_title\u001b[0m\u001b[1;33m.\u001b[0m\u001b[0mappend\u001b[0m\u001b[1;33m(\u001b[0m\u001b[0mtitle\u001b[0m\u001b[1;33m.\u001b[0m\u001b[0mtext\u001b[0m\u001b[1;33m)\u001b[0m \u001b[1;31m## append\u001b[0m\u001b[1;33m\u001b[0m\u001b[1;33m\u001b[0m\u001b[0m\n\u001b[0m\u001b[0;32m     16\u001b[0m     \u001b[0mprint\u001b[0m\u001b[1;33m(\u001b[0m\u001b[0mbook_title\u001b[0m\u001b[1;33m)\u001b[0m\u001b[1;33m\u001b[0m\u001b[1;33m\u001b[0m\u001b[0m\n\u001b[0;32m     17\u001b[0m     \u001b[0mbook_date\u001b[0m\u001b[1;33m.\u001b[0m\u001b[0mappend\u001b[0m\u001b[1;33m(\u001b[0m\u001b[0mdate\u001b[0m\u001b[1;33m.\u001b[0m\u001b[0mtext\u001b[0m\u001b[1;33m)\u001b[0m \u001b[1;31m## append\u001b[0m\u001b[1;33m\u001b[0m\u001b[1;33m\u001b[0m\u001b[0m\n",
      "\u001b[1;31mAttributeError\u001b[0m: 'str' object has no attribute 'append'"
     ]
    }
   ],
   "source": [
    "driver = wb.Chrome() ## 드라이버\n",
    "url = 'http://www.kyobobook.co.kr/bestSellerNew/bestseller.laf' ## 교보문고 url\n",
    "driver.get(url) ## 크롬 ==> 웹 페이지 연결\n",
    "soup = bs(driver.page_source, 'lxml') ## 파싱\n",
    "\n",
    "ck = driver.find_elements_by_css_selector('.cover a img') ## 이미지 select\n",
    "\n",
    "for i in range(2):\n",
    "    ck = driver.find_elements_by_css_selector('.cover a img') ## 이미지 select\n",
    "    ck[i].click() ## 이미지 select 클릭\n",
    "    time.sleep(0.3) ## 웹페이지 바뀌는 시간\n",
    "    soup = bs(driver.page_source, 'lxml') ## 파싱\n",
    "    title = soup.select_one('h1.title > strong') ## 제목 css\n",
    "    date = soup.select_one('div.author > span.date') ## 출간일 css\n",
    "    book_title.append(title.text) ## append\n",
    "    print(book_title)\n",
    "    book_date.append(date.text) ## append\n",
    "    print(book_date)\n",
    "    driver.back()\n",
    "    time.sleep(0.3)\n",
    "\n",
    "#dic1 = {'책 제목' : book_title,'책 출간일' : book_date}\n",
    "#df = pd.DataFrame(dic1)\n",
    "#df"
   ]
  },
  {
   "cell_type": "code",
   "execution_count": null,
   "id": "590eef32",
   "metadata": {},
   "outputs": [],
   "source": [
    "print(book_title)"
   ]
  },
  {
   "cell_type": "code",
   "execution_count": 4,
   "id": "0086120c",
   "metadata": {},
   "outputs": [
    {
     "name": "stdout",
     "output_type": "stream",
     "text": [
      " 흔한남매. 9\n"
     ]
    }
   ],
   "source": [
    "txt = ''\n",
    "delete = '[\\n\\t]'\n",
    "for i in book_title:\n",
    "    book_title = txt+ ' ' +re.sub(delete,'',i)\n",
    "print(book_title)"
   ]
  },
  {
   "cell_type": "code",
   "execution_count": null,
   "id": "c89c04e5",
   "metadata": {},
   "outputs": [],
   "source": [
    "print(book_title)"
   ]
  },
  {
   "cell_type": "code",
   "execution_count": null,
   "id": "f6bc5ce2",
   "metadata": {},
   "outputs": [],
   "source": [
    "dic2 = {'책 제목' : book_title,'책 출간일' : book_date}\n",
    "df = pd.DataFrame(dic2)\n",
    "df"
   ]
  },
  {
   "cell_type": "code",
   "execution_count": null,
   "id": "d00fb8d5",
   "metadata": {},
   "outputs": [],
   "source": [
    "df = dict.fromkeys(['책 제목', '책 출간일'])\n",
    "print(df)"
   ]
  },
  {
   "cell_type": "code",
   "execution_count": null,
   "id": "ee0ed38e",
   "metadata": {},
   "outputs": [],
   "source": [
    "df"
   ]
  },
  {
   "cell_type": "code",
   "execution_count": null,
   "id": "da1bc425",
   "metadata": {},
   "outputs": [],
   "source": [
    "book_title.clear()\n",
    "book_date.clear()\n",
    "print(book_title)\n",
    "print(book_date)"
   ]
  },
  {
   "cell_type": "code",
   "execution_count": null,
   "id": "a06f711e",
   "metadata": {},
   "outputs": [],
   "source": []
  }
 ],
 "metadata": {
  "kernelspec": {
   "display_name": "Python 3",
   "language": "python",
   "name": "python3"
  },
  "language_info": {
   "codemirror_mode": {
    "name": "ipython",
    "version": 3
   },
   "file_extension": ".py",
   "mimetype": "text/x-python",
   "name": "python",
   "nbconvert_exporter": "python",
   "pygments_lexer": "ipython3",
   "version": "3.8.8"
  }
 },
 "nbformat": 4,
 "nbformat_minor": 5
}
