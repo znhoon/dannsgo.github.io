{
 "cells": [
  {
   "cell_type": "markdown",
   "id": "024ea959",
   "metadata": {},
   "source": [
    "# total"
   ]
  },
  {
   "cell_type": "markdown",
   "id": "60ffa420",
   "metadata": {},
   "source": [
    "import json ## JSON\n",
    "import urllib.request ## 웹페이지 요청 ==> 브라우저 사용\n",
    "client_id = \"3wU5xwXfFVL4LweQzLHQ\" # 애플리케이션 ID\n",
    "client_secret = \"K60NkftSAH\" # 애플리케이션  Secret\n",
    "\n",
    "for i in range(1, 1000) :\n",
    "    encText = urllib.parse.quote(\"파이썬\") ## 한글 URL 추가 ==> URL 인코딩\n",
    "    rangeText_start = urllib.parse.quote(str(i)) ## 요청 변수\n",
    "    url = \"https://openapi.naver.com/v1/search/book?query=\" + encText + \"&display=100\" + \"&start=\" + rangeText_start ## 요청 URL + 요청 변수\n",
    "    request = urllib.request.Request(url) ## urllib.request.Request 클래스 == URL 요청 관련 정보 담는 추상화 클래스\n",
    "    request.add_header(\"X-Naver-Client-Id\",client_id) ## add_header 메서드 ==> 헤더 정보 추가\n",
    "    request.add_header(\"X-Naver-Client-Secret\",client_secret)  ## add_header 메서드 ==> 헤더 정보 추가\n",
    "    response = urllib.request.urlopen(request) ## urllib.request.urlopen 메서드 ==> url string OR request 객체 전달 받음\n",
    "    rescode = response.getcode()\n",
    "    list = []\n",
    "    if(rescode==200):\n",
    "        response_body = response.read()\n",
    "        print(response_body.decode('utf-8')) ## 인코딩\n",
    "        text = response_body.decode('utf-8') ## 인코딩\n",
    "        print(type(text))\n",
    "        dict = json.loads(text) ## text로 변환\n",
    "        print(dict) ## text로 변환 출력\n",
    "        val  = dict['items']\n",
    "        for j in val :\n",
    "            list.append(j['title'])\n",
    "        print(list)\n",
    "        i += 2\n",
    "    else:\n",
    "        print(\"Error Code:\" + rescode) ## 네이버 API 오류 코드 ==> 가이드 참고"
   ]
  },
  {
   "cell_type": "code",
   "execution_count": null,
   "id": "16c9907f",
   "metadata": {},
   "outputs": [],
   "source": []
  },
  {
   "cell_type": "code",
   "execution_count": null,
   "id": "36a61a7d",
   "metadata": {},
   "outputs": [],
   "source": []
  },
  {
   "cell_type": "markdown",
   "id": "07db001f",
   "metadata": {},
   "source": [
    "# now"
   ]
  },
  {
   "cell_type": "code",
   "execution_count": 4,
   "id": "d8c1b894",
   "metadata": {
    "scrolled": false
   },
   "outputs": [
    {
     "name": "stdout",
     "output_type": "stream",
     "text": [
      "{\n",
      "\"lastBuildDate\": \"Sat, 25 Dec 2021 23:29:22 +0900\",\n",
      "\"total\": 1430,\n",
      "\"start\": 1,\n",
      "\"display\": 1,\n",
      "\"items\": [\n",
      "{\n",
      "\"title\": \"이것이 취업을 위한 코딩 테스트다 with <b>파이썬</b> (취업과 이직을 결정하는 알고리즘 인터뷰 완벽 가이드)\",\n",
      "\"link\": \"http://book.naver.com/bookdb/book_detail.php?bid=16439154\",\n",
      "\"image\": \"https://bookthumb-phinf.pstatic.net/cover/164/391/16439154.jpg?type=m1&udate=20200928\",\n",
      "\"author\": \"나동빈\",\n",
      "\"price\": \"34000\",\n",
      "\"discount\": \"30600\",\n",
      "\"publisher\": \"한빛미디어\",\n",
      "\"pubdate\": \"20200805\",\n",
      "\"isbn\": \"1162243074 9791162243077\",\n",
      "\"description\": \"8가지 핵심 알고리즘 이론을 쉽게 설명하고, 관련 실전 문제를 풀이했다. 출제 유형 분석, 이론 설명, 기출문제 풀이까지! 어떤 코딩 테스트도 이 책 한 권으로 대비할 수 있을 것이다. 코딩 테스트에서 주로 선택하는 <b>파이썬</b>을 기반으로 설명되어 있으며, <b>파이썬</b> 코드 외에도 C/C++, 자바 코드를 추가로 제공한다.\"\n",
      "\n",
      "}\n",
      "]\n",
      "}\n",
      "\n",
      "['이것이 취업을 위한 코딩 테스트다 with <b>파이썬</b> (취업과 이직을 결정하는 알고리즘 인터뷰 완벽 가이드)']\n"
     ]
    }
   ],
   "source": [
    "import json ## JSON\n",
    "import urllib.request ## 웹페이지 요청 ==> 브라우저 사용\n",
    "client_id = \"3wU5xwXfFVL4LweQzLHQ\" # 애플리케이션 ID\n",
    "client_secret = \"K60NkftSAH\" # 애플리케이션  Secret\n",
    "\n",
    "encText = urllib.parse.quote(\"파이썬\") ## 한글 URL 추가 ==> URL 인코딩\n",
    "rangeText_start = urllib.parse.quote(\"1\") ## 요청 변수\n",
    "url = \"https://openapi.naver.com/v1/search/book?query=\" + encText + \"&display=1\" + \"&start=\" + rangeText_start ## 요청 URL + 요청 변수\n",
    "request = urllib.request.Request(url) ## urllib.request.Request 클래스 == URL 요청 관련 정보 담는 추상화 클래스\n",
    "request.add_header(\"X-Naver-Client-Id\",client_id) ## add_header 메서드 ==> 헤더 정보 추가\n",
    "request.add_header(\"X-Naver-Client-Secret\",client_secret)  ## add_header 메서드 ==> 헤더 정보 추가\n",
    "response = urllib.request.urlopen(request) ## urllib.request.urlopen 메서드 ==> url string OR request 객체 전달 받음\n",
    "rescode = response.getcode()\n",
    "list = []\n",
    "\n",
    "if(rescode==200):\n",
    "    response_body = response.read()\n",
    "    print(response_body.decode('utf-8')) ## 인코딩\n",
    "    text = response_body.decode('utf-8') ## 인코딩\n",
    "    #print(type(text))\n",
    "    dict = json.loads(text) ## text로 변환\n",
    "    #print(dict) ## text로 변환 출력\n",
    "    val  = dict['items']\n",
    "    for j in val :\n",
    "        list.append(j['title'])\n",
    "else:\n",
    "    print(\"Error Code:\" + rescode) ## 네이버 API 오류 코드 ==> 가이드 참고\n",
    "\n",
    "print(list)"
   ]
  },
  {
   "cell_type": "code",
   "execution_count": null,
   "id": "e02b79de",
   "metadata": {},
   "outputs": [],
   "source": []
  },
  {
   "cell_type": "code",
   "execution_count": 11,
   "id": "3ff732d3",
   "metadata": {},
   "outputs": [
    {
     "ename": "SyntaxError",
     "evalue": "invalid syntax (<ipython-input-11-346c6fa0e699>, line 26)",
     "output_type": "error",
     "traceback": [
      "\u001b[1;36m  File \u001b[1;32m\"<ipython-input-11-346c6fa0e699>\"\u001b[1;36m, line \u001b[1;32m26\u001b[0m\n\u001b[1;33m    else:\u001b[0m\n\u001b[1;37m    ^\u001b[0m\n\u001b[1;31mSyntaxError\u001b[0m\u001b[1;31m:\u001b[0m invalid syntax\n"
     ]
    }
   ],
   "source": [
    "import json ## JSON\n",
    "import urllib.request ## 웹페이지 요청 ==> 브라우저 사용\n",
    "client_id = \"3wU5xwXfFVL4LweQzLHQ\" # 애플리케이션 ID\n",
    "client_secret = \"K60NkftSAH\" # 애플리케이션  Secret\n",
    "\n",
    "encText = urllib.parse.quote(\"파이썬\") ## 한글 URL 추가 ==> URL 인코딩\n",
    "rangeText_start = urllib.parse.quote(\"1\") ## 요청 변수\n",
    "url = \"https://openapi.naver.com/v1/search/book?query=\" + encText + \"&display=1\" + \"&start=\" + rangeText_start ## 요청 URL + 요청 변수\n",
    "request = urllib.request.Request(url) ## urllib.request.Request 클래스 == URL 요청 관련 정보 담는 추상화 클래스\n",
    "request.add_header(\"X-Naver-Client-Id\",client_id) ## add_header 메서드 ==> 헤더 정보 추가\n",
    "request.add_header(\"X-Naver-Client-Secret\",client_secret)  ## add_header 메서드 ==> 헤더 정보 추가\n",
    "response = urllib.request.urlopen(request) ## urllib.request.urlopen 메서드 ==> url string OR request 객체 전달 받음\n",
    "rescode = response.getcode()\n",
    "book_list = []\n",
    "\n",
    "if(rescode==200):\n",
    "    response_body = response.read()\n",
    "    print(response_body.decode('utf-8')) ## 인코딩\n",
    "    text = response_body.decode('utf-8') ## 인코딩\n",
    "    #print(type(text))\n",
    "    dict = json.loads(text) ## text로 변환\n",
    "    #print(dict) ## text로 변환 출력\n",
    "    val  = dict['items']\n",
    "    for j in val :\n",
    "        book_list.append(j['title']     \n",
    "else:\n",
    "    print(\"Error Code:\" + rescode) ## 네이버 API 오류 코드 ==> 가이드 참고\n",
    "\n",
    "search = '<b>'\n",
    "for j, word in enumerate(book_list):\n",
    "    if search in word :\n",
    "        book_list[j] = word.strip(search)\n",
    "\n",
    "print(book_list)"
   ]
  },
  {
   "cell_type": "code",
   "execution_count": null,
   "id": "aa327172",
   "metadata": {},
   "outputs": [],
   "source": []
  },
  {
   "cell_type": "code",
   "execution_count": null,
   "id": "ba5bbc73",
   "metadata": {},
   "outputs": [],
   "source": [
    "i = str(total)\n",
    "rangeText_start = urllib.parse.quote(i) ## 요청 변수\n",
    "url = \"https://openapi.naver.com/v1/search/book?query=\" + encText + \"&display=100\" + \"&start=\" + rangeText_start ## 요청 URL + 요청 변수\n",
    "\n",
    "request = urllib.request.Request(url) ## urllib.request.Request 클래스 == URL 요청 관련 정보 담는 추상화 클래스\n",
    "request.add_header(\"X-Naver-Client-Id\",client_id) ## add_header 메서드 ==> 헤더 정보 추가\n",
    "request.add_header(\"X-Naver-Client-Secret\",client_secret)  ## add_header 메서드 ==> 헤더 정보 추가\n",
    "\n",
    "response = urllib.request.urlopen(request) ## urllib.request.urlopen 메서드 ==> url string OR request 객체 전달 받음\n",
    "rescode = response.getcode()\n",
    "list = []\n",
    "\n",
    "if(rescode==200):\n",
    "    response_body = response.read()\n",
    "    print(response_body.decode('utf-8')) ## 인코딩 ==> 출력\n",
    "    text = response_body.decode('utf-8')\n",
    "    print(type(text))\n",
    "    dict = json.loads(text)\n",
    "    total = dict['total']\n",
    "    return total\n",
    "    val  = dict['items']\n",
    "    for total in val :\n",
    "        list.append(i['title'])\n",
    "else:\n",
    "    print(\"Error Code:\" + rescode) ## 네이버 API 오류 코드 ==> 가이드 참고"
   ]
  },
  {
   "cell_type": "code",
   "execution_count": null,
   "id": "858721a1",
   "metadata": {},
   "outputs": [],
   "source": [
    "client_id = \"3wU5xwXfFVL4LweQzLHQ\" # 애플리케이션 ID\n",
    "client_secret = \"K60NkftSAH\" # 애플리케이션  Secret\n",
    "\n",
    "encText = urllib.parse.quote(\"파이썬\") ## 한글 URL 추가 ==> URL 인코딩\n",
    "\n",
    "rangeText_start = urllib.parse.quote(i) ## 요청 변수\n",
    "url = \"https://openapi.naver.com/v1/search/book?query=\" + encText + \"&display=100\" + \"&start=\" + rangeText_start ## 요청 URL + 요청 변수\n",
    "\n",
    "request = urllib.request.Request(url) ## urllib.request.Request 클래스 == URL 요청 관련 정보 담는 추상화 클래스\n",
    "request.add_header(\"X-Naver-Client-Id\",client_id) ## add_header 메서드 ==> 헤더 정보 추가\n",
    "request.add_header(\"X-Naver-Client-Secret\",client_secret)  ## add_header 메서드 ==> 헤더 정보 추가\n",
    "\n",
    "response = urllib.request.urlopen(request) ## urllib.request.urlopen 메서드 ==> url string OR request 객체 전달 받음\n",
    "rescode = response.getcode()\n",
    "list = []\n",
    "\n",
    "if(rescode==200):\n",
    "    response_body = response.read()\n",
    "    print(response_body.decode('utf-8')) ## 인코딩 ==> 출력\n",
    "    text = response_body.decode('utf-8')\n",
    "    print(type(text))\n",
    "    dict = json.loads(text)\n",
    "    total = dict['total']\n",
    "    return total\n",
    "    val  = dict['items']\n",
    "    for total in val :\n",
    "        list.append(i['title'])\n",
    "        \n",
    "else:\n",
    "    print(\"Error Code:\" + rescode) ## 네이버 API 오류 코드 ==> 가이드 참고"
   ]
  },
  {
   "cell_type": "code",
   "execution_count": null,
   "id": "d33493a6",
   "metadata": {},
   "outputs": [],
   "source": [
    "type(total)"
   ]
  },
  {
   "cell_type": "code",
   "execution_count": null,
   "id": "06281005",
   "metadata": {},
   "outputs": [],
   "source": [
    "print(total)"
   ]
  },
  {
   "cell_type": "code",
   "execution_count": null,
   "id": "96dc2bf5",
   "metadata": {},
   "outputs": [],
   "source": [
    "print(list)"
   ]
  },
  {
   "cell_type": "code",
   "execution_count": null,
   "id": "978e59d1",
   "metadata": {},
   "outputs": [],
   "source": [
    "for i in "
   ]
  },
  {
   "cell_type": "code",
   "execution_count": null,
   "id": "b9070961",
   "metadata": {},
   "outputs": [],
   "source": []
  },
  {
   "cell_type": "markdown",
   "id": "4c702357",
   "metadata": {},
   "source": [
    "# title"
   ]
  },
  {
   "cell_type": "code",
   "execution_count": null,
   "id": "26e39d61",
   "metadata": {},
   "outputs": [],
   "source": [
    "import urllib.request ## 웹페이지 요청 ==> 브라우저 사용\n",
    "client_id = \"3wU5xwXfFVL4LweQzLHQ\" # 애플리케이션 ID\n",
    "client_secret = \"K60NkftSAH\" # 애플리케이션  Secret\n",
    "encText = urllib.parse.quote(\"파이썬\") ## URL 인코딩\n",
    "rangeText_start = urllib.parse.quote(\"1\")\n",
    "\n",
    "\n",
    "url = \"https://openapi.naver.com/v1/search/book?query=\" + encText + \"&display=100\" + \"&start=\" + rangeText_start\n",
    "request = urllib.request.Request(url)\n",
    "request.add_header(\"X-Naver-Client-Id\",client_id)\n",
    "request.add_header(\"X-Naver-Client-Secret\",client_secret)\n",
    "response = urllib.request.urlopen(request)\n",
    "rescode = response.getcode()\n",
    "list = []\n",
    "\n",
    "if(rescode==200):\n",
    "    response_body = response.read()\n",
    "    print(response_body.decode('utf-8'))\n",
    "    text = response_body.decode('utf-8')\n",
    "    print(type(text))\n",
    "    dict = json.loads(text) ##\n",
    "    print(dict)\n",
    "    val  = dict['items']\n",
    "    for i in val :\n",
    "        list.append(i['title'])\n",
    "    print(list)\n",
    "else:\n",
    "    print(\"Error Code:\" + rescode)"
   ]
  },
  {
   "cell_type": "code",
   "execution_count": null,
   "id": "f1fd51f6",
   "metadata": {},
   "outputs": [],
   "source": []
  },
  {
   "cell_type": "code",
   "execution_count": null,
   "id": "52863a45",
   "metadata": {},
   "outputs": [],
   "source": []
  }
 ],
 "metadata": {
  "kernelspec": {
   "display_name": "Python 3",
   "language": "python",
   "name": "python3"
  },
  "language_info": {
   "codemirror_mode": {
    "name": "ipython",
    "version": 3
   },
   "file_extension": ".py",
   "mimetype": "text/x-python",
   "name": "python",
   "nbconvert_exporter": "python",
   "pygments_lexer": "ipython3",
   "version": "3.8.8"
  }
 },
 "nbformat": 4,
 "nbformat_minor": 5
}
