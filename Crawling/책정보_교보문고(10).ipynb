{
 "cells": [
  {
   "cell_type": "code",
   "execution_count": 1,
   "id": "dae918fe",
   "metadata": {},
   "outputs": [],
   "source": [
    "import requests as req  # requests 라이브러리 불러오기\n",
    "from bs4 import BeautifulSoup as bs # BeautifulSoup 라이브러리 불러오기\n",
    "import pandas as pd\n",
    "from selenium import webdriver as wb   # 웹 통제\n",
    "from selenium.webdriver.common.keys import Keys   # 웹에 값을 입력\n",
    "import time ## time sleep\n",
    "import re ## 정규식 표현 활용 ==> re 라이브러리"
   ]
  },
  {
   "cell_type": "code",
   "execution_count": 2,
   "id": "0aff170a",
   "metadata": {},
   "outputs": [],
   "source": [
    "book_title = [] ## 책 제목\n",
    "book_date = [] ## 책 출간일\n",
    "book_author = [] ## 책 저자\n",
    "book_brief = [] ## 책 요약\n",
    "book_cat = [] ## 책 카테고리\n",
    "book_publisher = [] ## 책 출판사\n",
    "book_pages = [] ## 책 쪽수\n",
    "book_content = [] ## 책 목차\n",
    "book_cover = [] ## 책 표지이미지\n",
    "book_hashtag = [] ## 책 해시태그\n",
    "## <-- 리스트 구분 -->\n",
    "book_title1 = [] ## 책 제목1\n",
    "book_title2 = [] ## 책 제목2\n",
    "book_date1 = [] ## 책 출간일1\n",
    "book_date2 = [] ## 책 출간일2\n",
    "book_date3 = [] ## 책 출간일3\n",
    "book_author1 = [] ## 책 저자1\n",
    "book_author2 = [] ## 책 저자2\n",
    "book_brief1 = [] ## 책 요약1\n",
    "book_brief2 = [] ## 책 요약2\n",
    "book_cat1 = [] ## 책 카테고리1\n",
    "book_cat2 = [] ## 책 카테고리2\n",
    "book_publisher1 = [] ## 책 출판사1\n",
    "book_publisher2 = [] ## 책 출판사2\n",
    "book_pages1 = [] ## 책 쪽수1\n",
    "book_pages2 = [] ## 책 쪽수2\n",
    "book_content1 = [] ## 책 목차1\n",
    "book_content2 = [] ## 책 목차2\n",
    "book_cover1 = [] ## 책 표지이미지1\n",
    "book_cover2 = [] ## 책 표지이미지2\n",
    "book_hashtag1 = [] ## 책 해시태그1\n",
    "book_hashtag2 = [] ## 책 해시태그2"
   ]
  },
  {
   "cell_type": "markdown",
   "id": "a23dd2ae",
   "metadata": {},
   "source": [
    "# test"
   ]
  },
  {
   "cell_type": "code",
   "execution_count": null,
   "id": "c65e39c9",
   "metadata": {},
   "outputs": [
    {
     "name": "stderr",
     "output_type": "stream",
     "text": [
      "<ipython-input-3-2245305d7d2c>:5: DeprecationWarning: find_elements_by_* commands are deprecated. Please use find_elements() instead\n",
      "  cnt = driver.find_elements_by_css_selector('#showcaseNew > div:nth-child(2) > div#eventPaging > div.list_paging > ul >li') ## 페이징 클릭 select\n",
      "<ipython-input-3-2245305d7d2c>:6: DeprecationWarning: find_elements_by_* commands are deprecated. Please use find_elements() instead\n",
      "  ck = driver.find_elements_by_css_selector('#prd_list_type1 > li > div > div.info_area > div.detail > div.title > a > strong') ## 제목 클릭 select\n",
      "<ipython-input-3-2245305d7d2c>:9: DeprecationWarning: find_elements_by_* commands are deprecated. Please use find_elements() instead\n",
      "  ck = driver.find_elements_by_css_selector('#prd_list_type1 > li > div > div.info_area > div.detail > div.title > a > strong') ## 제목 클릭 select\n"
     ]
    },
    {
     "name": "stdout",
     "output_type": "stream",
     "text": [
      "0\n",
      "1\n",
      "2\n",
      "3\n",
      "4\n",
      "5\n",
      "6\n",
      "7\n",
      "8\n",
      "9\n",
      "10\n"
     ]
    }
   ],
   "source": [
    "driver = wb.Chrome() ## 드라이버\n",
    "driver.get('http://www.kyobobook.co.kr/categoryRenewal/categoryMain.laf?perPage=20&mallGb=KOR&linkClass=01&menuCode=002') ## 교보문고 url\n",
    "soup = bs(driver.page_source, 'lxml') ## 파싱\n",
    "## <-- 클릭 selector start -->\n",
    "cnt = driver.find_elements_by_css_selector('#showcaseNew > div:nth-child(2) > div#eventPaging > div.list_paging > ul >li') ## 페이징 클릭 select\n",
    "ck = driver.find_elements_by_css_selector('#prd_list_type1 > li > div > div.info_area > div.detail > div.title > a > strong') ## 제목 클릭 select\n",
    "## <-- 클릭 selector end -->\n",
    "for i in range(len(ck)):\n",
    "    ck = driver.find_elements_by_css_selector('#prd_list_type1 > li > div > div.info_area > div.detail > div.title > a > strong') ## 제목 클릭 select\n",
    "    ck[i].click() ## 제목 select 클릭\n",
    "    time.sleep(1) ## 웹페이지 바뀌는 시간\n",
    "    soup = bs(driver.page_source, 'lxml') ## 파싱\n",
    "    ## <---- selector start ---->\n",
    "    title = soup.select_one('h1.title > strong') ## 제목\n",
    "    date = soup.select_one('div.author > span.date') ## 출간일\n",
    "    author = soup.select_one('div.author > span.name > a') ## 저자\n",
    "    brief = soup.select_one('h3+div+div.box_detail_article') ## 요약\n",
    "    cat = soup.select_one('#container > div:nth-child(7) > div.content_left > div:nth-child(5) > ul > li > a') ## 카테고리\n",
    "    publisher = soup.select_one('#container > div:nth-child(4) > form > div.box_detail_point > div.author > span:nth-child(3) > a') ## 출판사\n",
    "    pages = soup.select_one('#container > div:nth-child(7) > div.content_left > div:nth-child(5) > table > tbody > tr:nth-child(2) > td') ## 쪽수\n",
    "    ## <-- 목차 selector 시작 -->\n",
    "    k = 0\n",
    "    while True :\n",
    "        title_selector = '#container > div:nth-child(7) > div.content_left > div:nth-child(5) > h2:nth-child({})'.format(k)\n",
    "        try:\n",
    "            titles = soup.select(title_selector)\n",
    "            if(titles[0].text == '목차'):\n",
    "                content = soup.select(title_selector + '+ div.box_detail_article')\n",
    "        except:\n",
    "            ''''''\n",
    "        k += 1\n",
    "        if(k > 100):\n",
    "            break\n",
    "    ## <-- 목차 selector 끝 -->\n",
    "    #content = soup.select_one(             'div.box_detail_article') ## 목차 css\n",
    "    cover = soup.select_one('#container > div:nth-child(4) > form > div.box_detail_info > div.box_detail_cover > div > a > img') ## 표지이미지 \n",
    "    cover_url = cover.get(\"src\") ## 표지이미지 scr\n",
    "    hashtag = soup.select_one('div.book_keyword > a') ## 해시태그\n",
    "    ## <---- selector end ---->\n",
    "    ## <----- append start ---->\n",
    "    book_title.append(title.text.strip()) ## 책 제목\n",
    "    book_date1.append(date.text.strip()) ## 책 출간일\n",
    "    book_author.append(author.text.strip()) ## 책 저자\n",
    "    book_brief1.append(brief.text.strip()) ## 책 요약\n",
    "    book_cat.append(cat.text.strip()) ## 책 카테고리\n",
    "    book_publisher.append(publisher.text.strip()) ## 책 출판사\n",
    "    book_pages1.append(pages.text.strip()) ## 책 쪽수\n",
    "    book_content.append(content[0].text.strip()) ## 책 목차\n",
    "    book_cover.append(cover_url.strip()) ## 책 표지이미지\n",
    "    book_hashtag1.append(hashtag.text.strip()) ## 책 해시태그\n",
    "    ## <---- append end ---->\n",
    "    driver.back() # 뒤로가기\n",
    "    time.sleep(1)\n",
    "    print(i)"
   ]
  },
  {
   "cell_type": "code",
   "execution_count": null,
   "id": "20f32ad4",
   "metadata": {},
   "outputs": [],
   "source": [
    "print(book_title1)\n",
    "print(book_date1)\n",
    "print(book_author1)\n",
    "print(book_brief1)\n",
    "print(book_cat1)\n",
    "print(book_publisher1)\n",
    "print(book_pages1)\n",
    "print(book_content1)\n",
    "print(book_cover1)\n",
    "print(book_hashtag1)"
   ]
  },
  {
   "cell_type": "code",
   "execution_count": null,
   "id": "d00d8418",
   "metadata": {},
   "outputs": [],
   "source": [
    "print(book_content1)"
   ]
  },
  {
   "cell_type": "code",
   "execution_count": null,
   "id": "e170a72d",
   "metadata": {},
   "outputs": [],
   "source": [
    "for i in book_date1: ## 책 출간일1\n",
    "    temp_n = i.replace(\"\\n\", \"\") ## \"\\n\" 제거\n",
    "    book_date2.append(temp_n) ## 책 출간일\n",
    "for i in book_date2: ## 책 출간일2\n",
    "    temp_t = i.replace(\"\\t\", \"\") ## \"\\t\" 제거\n",
    "    book_date3.append(temp_t)\n",
    "for i in book_date3: ## 책 출간일3\n",
    "    temp_s = i.replace(\"출간\", \"\") ## \"\\t\" 제거\n",
    "    book_date.append(temp_s)\n",
    "    \n",
    "for i in book_brief1: ## 책 요약1\n",
    "    temp_n = i.replace(\"\\n\", \"\") ## \"\\n\" 제거\n",
    "    book_brief2.append(temp_n) ## 책 요약2\n",
    "for i in book_brief2: ## 책 요약2\n",
    "    temp_t = i.replace(\"\\t\", \"\") ## \"\\t\" 제거\n",
    "    book_brief.append(temp_t) ## 책 요약 추가\n",
    "    \n",
    "for i in book_pages1: ## 책 쪽수1\n",
    "    temp_str = i.replace(\"쪽\", \"\") ## \"\\n\" 제거\n",
    "    book_pages.append(temp_str) ## 책 쪽수\n",
    "\n",
    "# for i in book_content1: ## 책 목차1\n",
    "#     temp_n = i.replace(\"\\n\", \"\") ## \"\\n\" 제거\n",
    "#     book_content2.append(temp_n) ## 책 목차2\n",
    "# for i in book_content2: ## 책 목차2\n",
    "#     temp_t = i.replace(\"\\t\", \"\") ## \"\\t\" 제거\n",
    "#     book_content.append(temp_t) ## 책 목차\n",
    "    \n",
    "for i in book_hashtag1: # 책 해시태그1\n",
    "    temp_n = i.replace(\"\\n\", \",\") ## \"\\n\" 제거\n",
    "    book_hashtag.append(temp_n) ## 책 해시태그2"
   ]
  },
  {
   "cell_type": "code",
   "execution_count": null,
   "id": "3b3c101e",
   "metadata": {},
   "outputs": [],
   "source": [
    "print(book_title)\n",
    "print(book_date)\n",
    "print(book_author)\n",
    "print(book_brief)\n",
    "print(book_cat)\n",
    "print(book_publisher)\n",
    "print(book_pages)\n",
    "print(book_content)\n",
    "print(book_cover)\n",
    "print(book_hashtag)"
   ]
  },
  {
   "cell_type": "markdown",
   "id": "f970546a",
   "metadata": {},
   "source": [
    "# 특정 문자열 삭제"
   ]
  },
  {
   "cell_type": "code",
   "execution_count": null,
   "id": "0086120c",
   "metadata": {},
   "outputs": [],
   "source": [
    "# for i in book_title1: ## 책 제목1\n",
    "#     temp_n = i.replace(\"\\n\", \"\") ## \"\\n\" 제거\n",
    "#     book_title2.append(temp_n) ## 책 제목1\n",
    "# for i in book_title2: ## 책 제목2\n",
    "#     temp_t = i.replace(\"\\t\", \"\") ## \"\\t\" 제거\n",
    "#     book_title.append(temp_t) ## 책 제목\n",
    "\n",
    "# for i in book_date1: ## 책 출간일1\n",
    "#     temp_n = i.replace(\" 출간\", \"\") ## \"출간\" 제거\n",
    "#     book_date.append(temp_n) ## 책 출간일\n",
    "    \n",
    "# # for i in book_author1: ## 책 저자1\n",
    "# #     temp_n = i.replace(\"\\n\", \"\") ## \"\\n\" 제거\n",
    "# #     book_author2.append(temp_n) ## 책 저자2\n",
    "# # for i in book_author2: ## 책 저자2\n",
    "# #     temp_t = i.replace(\"\\t\", \"\") ## \"\\t\" 제거\n",
    "# #     book_author.append(temp_t) ## 책 저자\n",
    "    \n",
    "# for i in book_brief1: ## 책 요약1\n",
    "#     temp_n = i.replace(\"\\n\", \"\") ## \"\\n\" 제거\n",
    "#     book_brief2.append(temp_n) ## 책 요약2\n",
    "# for i in book_brief2: ## 책 요약2\n",
    "#     temp_t = i.replace(\"\\t\", \"\") ## \"\\t\" 제거\n",
    "#     book_brief.append(temp_t) ## 책 요약 추가\n",
    "    \n",
    "# # for i in book_cat1: ## 책 카테고리1\n",
    "# #     temp_n = i.replace(\"\\n\", \"\") ## \"\\n\" 제거\n",
    "# #     book_cat2.append(temp_n) ## 책 카테고리2\n",
    "# # for i in book_cat2: ## 책 카테고리2\n",
    "# #     temp_t = i.replace(\"\\t\", \"\") ## \"\\t\" 제거\n",
    "# #     book_cat.append(temp_t) ## 책 카테고리 추가\n",
    "\n",
    "# # for i in book_publisher1: ## 책 출판사1\n",
    "# #     temp_n = i.replace(\"\\n\", \"\") ## \"\\n\" 제거\n",
    "# #     book_publisher2.append(temp_n) ## 책 출판사2\n",
    "# # for i in book_publisher2: ## 책 출판사2\n",
    "# #     temp_t = i.replace(\"\\t\", \"\") ## \"\\t\" 제거\n",
    "# #     book_publisher.append(temp_t) ## 책 출판사\n",
    "\n",
    "# for i in book_pages1: ## 책 쪽수1\n",
    "#     temp_str = i.replace(\"쪽\", \"\") ## \"\\n\" 제거\n",
    "#     book_pages.append(temp_str) ## 책 쪽수\n",
    "\n",
    "# for i in book_content1: ## 책 목차1\n",
    "#     temp_n = i.replace(\"\\n\", \"\") ## \"\\n\" 제거\n",
    "#     book_content2.append(temp_n) ## 책 목차2\n",
    "# for i in book_content2: ## 책 목차2\n",
    "#     temp_t = i.replace(\"\\t\", \"\") ## \"\\t\" 제거\n",
    "#     book_content.append(temp_t) ## 책 목차\n",
    "    \n",
    "# for i in book_hashtag1: # 책 해시태그1\n",
    "#     temp_n = i.replace(\"\\n\", \",\") ## \"\\n\" 제거\n",
    "#     book_hashtag2.append(temp_n) ## 책 해시태그2\n",
    "\n",
    "print(book_title)\n",
    "print(book_date)\n",
    "print(book_author)\n",
    "print(book_brief)\n",
    "print(book_cat)\n",
    "print(book_publisher)\n",
    "print(book_pages)\n",
    "print(book_content)\n",
    "print(book_cover)\n",
    "print(book_hashtag1)"
   ]
  },
  {
   "cell_type": "code",
   "execution_count": null,
   "id": "bbcd2422",
   "metadata": {},
   "outputs": [],
   "source": [
    "book_hashtag1"
   ]
  },
  {
   "cell_type": "code",
   "execution_count": null,
   "id": "354a1196",
   "metadata": {},
   "outputs": [],
   "source": [
    "book_hashtag.replace('\\n',\"\")"
   ]
  },
  {
   "cell_type": "code",
   "execution_count": null,
   "id": "10a18d80",
   "metadata": {},
   "outputs": [],
   "source": [
    "hashtag = book_hashtag[0].split('\\n')\n",
    "del hashtag[0]\n",
    "del hashtag[len(hashtag)-1]\n",
    "hashtag"
   ]
  },
  {
   "cell_type": "code",
   "execution_count": null,
   "id": "f1ff49eb",
   "metadata": {},
   "outputs": [],
   "source": [
    "print(book_date)\n",
    "print(book_author)\n",
    "print(book_brief)\n",
    "print(book_cat)\n",
    "print(book_publisher)\n",
    "print(book_pages)\n",
    "print(book_content)\n",
    "print(book_cover)\n",
    "print(book_hashtag)"
   ]
  },
  {
   "cell_type": "markdown",
   "id": "864491bc",
   "metadata": {},
   "source": [
    "# df"
   ]
  },
  {
   "cell_type": "code",
   "execution_count": null,
   "id": "f6bc5ce2",
   "metadata": {},
   "outputs": [],
   "source": [
    "di1 = {'책 제목' : book_title,'책 출간일' : book_date, '책 저자' : book_author, '책 요약' : book_brief, '책 카테고리' : book_cat, '책 출판사' : book_publisher, '책 쪽수' : book_pages, '책 목차' : book_content, '책 표지이미지' : book_cover, '책 해시태그' : book_hashtag}\n",
    "df = pd.DataFrame(di1)\n",
    "df"
   ]
  },
  {
   "cell_type": "code",
   "execution_count": null,
   "id": "ee0ed38e",
   "metadata": {},
   "outputs": [],
   "source": [
    "df"
   ]
  },
  {
   "cell_type": "markdown",
   "id": "d46e0957",
   "metadata": {},
   "source": [
    "# 리스트 초기화"
   ]
  },
  {
   "cell_type": "code",
   "execution_count": null,
   "id": "da1bc425",
   "metadata": {
    "scrolled": false
   },
   "outputs": [],
   "source": [
    "book_title.clear() ## 책 제목\n",
    "book_date.clear() ## 책 출간일\n",
    "book_author.clear() ## 책 저자\n",
    "book_brief.clear() ## 책 요약\n",
    "book_cat.clear() ## 책 카테고리\n",
    "book_publisher.clear() ## 책 출판사\n",
    "book_pages.clear() ## 책 쪽수\n",
    "book_content.clear() ## 책 목차\n",
    "book_cover.clear() ## 책 표지이미지\n",
    "book_hashtag.clear() ## 책 해시태그"
   ]
  },
  {
   "cell_type": "code",
   "execution_count": null,
   "id": "a06f711e",
   "metadata": {},
   "outputs": [],
   "source": [
    "print(book_title)\n",
    "print(book_date)\n",
    "print(book_author)\n",
    "print(book_brief)\n",
    "print(book_cat)\n",
    "print(book_publisher)\n",
    "print(book_pages)\n",
    "print(book_content)\n",
    "print(book_cover)\n",
    "print(book_hashtag)"
   ]
  },
  {
   "cell_type": "markdown",
   "id": "32e434f0",
   "metadata": {},
   "source": [
    "### 페이지넘기기"
   ]
  },
  {
   "cell_type": "code",
   "execution_count": null,
   "id": "8be091db",
   "metadata": {},
   "outputs": [],
   "source": [
    "driver2 = wb.Chrome()\n",
    "driver2.get('http://www.kyobobook.co.kr/categoryRenewal/categoryMain.laf?perPage=20&mallGb=KOR&linkClass=01&menuCode=002')"
   ]
  },
  {
   "cell_type": "code",
   "execution_count": null,
   "id": "d126810d",
   "metadata": {},
   "outputs": [],
   "source": [
    "cnt = driver2.find_elements_by_css_selector('#showcaseNew > div:nth-child(2) > div#eventPaging > div.list_paging > ul >li')\n",
    "\n",
    "for i in range(len(cnt)):\n",
    "    cnt = driver2.find_elements_by_css_selector('#showcaseNew > div:nth-child(2) > div#eventPaging > div.list_paging > ul >li')\n",
    "    cnt[i].click()\n",
    "    time.sleep(1)\n",
    "    \n",
    "    # 이 반복문안에 클릭과 정보가져오는 반복문을 추가\n",
    "    for"
   ]
  },
  {
   "cell_type": "code",
   "execution_count": null,
   "id": "8a9b2c80",
   "metadata": {},
   "outputs": [],
   "source": [
    "\n",
    "len(cnt)"
   ]
  },
  {
   "cell_type": "code",
   "execution_count": null,
   "id": "8b29f9d6",
   "metadata": {},
   "outputs": [],
   "source": [
    "cnt[3].click()"
   ]
  },
  {
   "cell_type": "markdown",
   "id": "d5432343",
   "metadata": {},
   "source": [
    "## 오류 확인"
   ]
  },
  {
   "cell_type": "code",
   "execution_count": null,
   "id": "53c599d7",
   "metadata": {},
   "outputs": [],
   "source": [
    "#soup.select_one('#container > div:nth-child(7) > div.content_left > div:nth-child(5) > div:nth-child(17), #container > div:nth-child(7) > div.content_left > div:nth-child(5) > div:nth-child(16)')\n",
    "\n",
    "#soup.select_one('div.box_detail_content:nth-child(5)>h2:nth-child(16)+div')\n",
    "\n",
    "#soup.select_one('#container > div:nth-child(7) > div.content_left > div:nth-child(5) > div:nth-child(16)')\n",
    "#soup.select_one('h2.title_detail_basic:nth-child(15)+div')\n",
    "\n",
    "soup.select_one('div.box_detail_article')"
   ]
  },
  {
   "cell_type": "code",
   "execution_count": null,
   "id": "e4f3c657",
   "metadata": {},
   "outputs": [],
   "source": [
    "s=soup.select_one('div.box_detail_article')"
   ]
  },
  {
   "cell_type": "code",
   "execution_count": null,
   "id": "32c50926",
   "metadata": {},
   "outputs": [],
   "source": [
    "s=soup.select('div.box_detail_article')\n",
    "s[2]"
   ]
  },
  {
   "cell_type": "code",
   "execution_count": null,
   "id": "249a5b77",
   "metadata": {},
   "outputs": [],
   "source": []
  },
  {
   "cell_type": "code",
   "execution_count": null,
   "id": "f67d2df9",
   "metadata": {},
   "outputs": [],
   "source": [
    "driver = wb.Chrome() ## 드라이버\n",
    "driver.get('http://www.kyobobook.co.kr/product/detailViewKor.laf?mallGb=KOR&ejkGb=KOR&linkClass=01&barcode=9788990982940') ## 교보문고 url\n",
    "\n",
    "soup = bs(driver.page_source, 'lxml') ## 파싱"
   ]
  },
  {
   "cell_type": "code",
   "execution_count": null,
   "id": "2345ff18",
   "metadata": {},
   "outputs": [],
   "source": [
    "i = 0\n",
    "while True:\n",
    "    title_selector = '#container > div:nth-child(7) > div.content_left > div:nth-child(5) > h2:nth-child({})'.format(i)\n",
    "    try:\n",
    "        titles = soup.select(title_selector)\n",
    "        if(titles[0].text == '목차'):\n",
    "            print(soup.select(title_selector + '+ div.box_detail_article'))\n",
    "    except:\n",
    "        ''''''\n",
    "    i += 1\n",
    "    if(i > 100):\n",
    "        break\n",
    "\n",
    "# 된 것 같네용\n",
    "# 이게 자식태그가 상당히 많아서 단순히 for문만으로 찾기는 버거워서 while문 사용했어용\n",
    "# 그리고 어차피 모든 페이지마다 목차의 위치가 다른데\n",
    "# 목차라는 제목이 붙은 이후에 바로 목차 내용의 div태그가 와서\n",
    "# while문으로 먼저 목차 위치를 찾고 그 다음에 그 목차 태그 바로 인접한 형제 div태그를 가져왔습니다.\n",
    "# 그 중에서도 첫번째에 해당하는 것만 가져오니 목차정보가 잘 가져와 지는 것 같네요\n",
    "\n",
    "\n",
    "# 감사합니다 쌤 근데 하나 더 있어요  그 페이징 넘기는거 어제 다른 쌤이 해주셨는데 이중 for문 쓰라고하셔서 이중 for문 하니까 쌤이 해주신 코드 그대로 가져왔는데 오류 생겨요 봐봅시당"
   ]
  },
  {
   "cell_type": "code",
   "execution_count": null,
   "id": "ff537ba3",
   "metadata": {},
   "outputs": [],
   "source": [
    "driver.close()"
   ]
  },
  {
   "cell_type": "code",
   "execution_count": null,
   "id": "e9974fbe",
   "metadata": {},
   "outputs": [],
   "source": []
  }
 ],
 "metadata": {
  "kernelspec": {
   "display_name": "Python 3",
   "language": "python",
   "name": "python3"
  },
  "language_info": {
   "codemirror_mode": {
    "name": "ipython",
    "version": 3
   },
   "file_extension": ".py",
   "mimetype": "text/x-python",
   "name": "python",
   "nbconvert_exporter": "python",
   "pygments_lexer": "ipython3",
   "version": "3.8.8"
  }
 },
 "nbformat": 4,
 "nbformat_minor": 5
}
