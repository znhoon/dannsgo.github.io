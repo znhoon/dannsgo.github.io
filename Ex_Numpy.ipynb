{
 "cells": [
  {
   "cell_type": "code",
   "execution_count": 1,
   "id": "ff000d89",
   "metadata": {},
   "outputs": [],
   "source": [
    "# numpy 라이브러리 불러오기\n",
    "import numpy as np"
   ]
  },
  {
   "cell_type": "code",
   "execution_count": 3,
   "id": "da0b6cc7",
   "metadata": {
    "scrolled": true
   },
   "outputs": [
    {
     "data": {
      "text/plain": [
       "[1, 2, 3, 4, 5]"
      ]
     },
     "execution_count": 3,
     "metadata": {},
     "output_type": "execute_result"
    }
   ],
   "source": [
    "# 리스트를 사용하여 1차원 배열 만들기\n",
    "list1 = [1, 2, 3, 4, 5]\n",
    "list1"
   ]
  },
  {
   "cell_type": "code",
   "execution_count": 4,
   "id": "67f60269",
   "metadata": {},
   "outputs": [
    {
     "data": {
      "text/plain": [
       "list"
      ]
     },
     "execution_count": 4,
     "metadata": {},
     "output_type": "execute_result"
    }
   ],
   "source": [
    "type(list1)"
   ]
  },
  {
   "cell_type": "code",
   "execution_count": 5,
   "id": "a122f8ee",
   "metadata": {},
   "outputs": [
    {
     "data": {
      "text/plain": [
       "array([1, 2, 3, 4, 5])"
      ]
     },
     "execution_count": 5,
     "metadata": {},
     "output_type": "execute_result"
    }
   ],
   "source": [
    "arr1 = np.array(list1)\n",
    "arr1"
   ]
  },
  {
   "cell_type": "code",
   "execution_count": 6,
   "id": "2452565e",
   "metadata": {},
   "outputs": [
    {
     "data": {
      "text/plain": [
       "numpy.ndarray"
      ]
     },
     "execution_count": 6,
     "metadata": {},
     "output_type": "execute_result"
    }
   ],
   "source": [
    "type(arr1)"
   ]
  },
  {
   "cell_type": "code",
   "execution_count": 7,
   "id": "767a50d6",
   "metadata": {},
   "outputs": [
    {
     "data": {
      "text/plain": [
       "[1, 'a', 2, 'b']"
      ]
     },
     "execution_count": 7,
     "metadata": {},
     "output_type": "execute_result"
    }
   ],
   "source": [
    "list2 = [1, 'a', 2, 'b']\n",
    "list2"
   ]
  },
  {
   "cell_type": "code",
   "execution_count": 9,
   "id": "eebfbe74",
   "metadata": {
    "scrolled": true
   },
   "outputs": [
    {
     "data": {
      "text/plain": [
       "array(['1', 'a', '2', 'b'], dtype='<U11')"
      ]
     },
     "execution_count": 9,
     "metadata": {},
     "output_type": "execute_result"
    }
   ],
   "source": [
    "# 배열은 서로 다른 타입으로 생성 X\n",
    "# 모든 데이터 값은 문자 형태로 지정됨\n",
    "arr2 = np.array(list2)\n",
    "arr2"
   ]
  },
  {
   "cell_type": "code",
   "execution_count": 10,
   "id": "23065550",
   "metadata": {},
   "outputs": [
    {
     "data": {
      "text/plain": [
       "array([5, 6, 7, 8])"
      ]
     },
     "execution_count": 10,
     "metadata": {},
     "output_type": "execute_result"
    }
   ],
   "source": [
    "# 더 쉬운 방법으로 1차원 배열 생성하기\n",
    "# 1. 리스트를 먼저 생성한다\n",
    "# 2. array() 에 리스트를 넣어 새로운 배열 생성한다\n",
    "# -> array([요소1, 요소2, 요소3])\n",
    "\n",
    "arr3 = np.array([5,6,7,8])\n",
    "arr3"
   ]
  },
  {
   "cell_type": "code",
   "execution_count": 11,
   "id": "822a1427",
   "metadata": {},
   "outputs": [
    {
     "data": {
      "text/plain": [
       "array([[1, 2, 3],\n",
       "       [4, 5, 6]])"
      ]
     },
     "execution_count": 11,
     "metadata": {},
     "output_type": "execute_result"
    }
   ],
   "source": [
    "# 2차원 배열 생성\n",
    "# [] -> 하나가 1개의 차원\n",
    "# [] 안의 요소 값 -> 열\n",
    "arr4 = np.array([[1, 2, 3], [4, 5, 6]])\n",
    "arr4"
   ]
  },
  {
   "cell_type": "code",
   "execution_count": 14,
   "id": "fb127142",
   "metadata": {},
   "outputs": [
    {
     "data": {
      "text/plain": [
       "2"
      ]
     },
     "execution_count": 14,
     "metadata": {},
     "output_type": "execute_result"
    }
   ],
   "source": [
    "# 배열의 차원(Dimension)을 확인하는 방법 -> ndim 속성\n",
    "arr4.ndim"
   ]
  },
  {
   "cell_type": "code",
   "execution_count": 16,
   "id": "73ef6421",
   "metadata": {},
   "outputs": [
    {
     "name": "stdout",
     "output_type": "stream",
     "text": [
      "1\n",
      "1\n"
     ]
    }
   ],
   "source": [
    "print(arr1.ndim)\n",
    "print(arr2.ndim)"
   ]
  },
  {
   "cell_type": "code",
   "execution_count": 17,
   "id": "956d05e2",
   "metadata": {},
   "outputs": [
    {
     "data": {
      "text/plain": [
       "array([[1, 2, 3],\n",
       "       [4, 5, 6]])"
      ]
     },
     "execution_count": 17,
     "metadata": {},
     "output_type": "execute_result"
    }
   ],
   "source": [
    "arr4"
   ]
  },
  {
   "cell_type": "code",
   "execution_count": 18,
   "id": "d561ede2",
   "metadata": {},
   "outputs": [
    {
     "data": {
      "text/plain": [
       "(2, 3)"
      ]
     },
     "execution_count": 18,
     "metadata": {},
     "output_type": "execute_result"
    }
   ],
   "source": [
    "# 배열의 크기(행, 열)를 확인하는 방법 -> shape\n",
    "arr4.shape"
   ]
  },
  {
   "cell_type": "code",
   "execution_count": 19,
   "id": "8b90186d",
   "metadata": {},
   "outputs": [
    {
     "data": {
      "text/plain": [
       "(5,)"
      ]
     },
     "execution_count": 19,
     "metadata": {},
     "output_type": "execute_result"
    }
   ],
   "source": [
    "arr1.shape\n",
    "# (5)"
   ]
  },
  {
   "cell_type": "code",
   "execution_count": 21,
   "id": "4f59b94d",
   "metadata": {},
   "outputs": [
    {
     "data": {
      "text/plain": [
       "5"
      ]
     },
     "execution_count": 21,
     "metadata": {},
     "output_type": "execute_result"
    }
   ],
   "source": [
    "# 배열의 전체 요소 갯수를 확인하는 방법 -> size\n",
    "arr1.size"
   ]
  },
  {
   "cell_type": "code",
   "execution_count": 24,
   "id": "09c23ed2",
   "metadata": {},
   "outputs": [
    {
     "data": {
      "text/plain": [
       "array([[1, 2, 3],\n",
       "       [4, 5, 6]])"
      ]
     },
     "execution_count": 24,
     "metadata": {},
     "output_type": "execute_result"
    }
   ],
   "source": [
    "arr4"
   ]
  },
  {
   "cell_type": "code",
   "execution_count": 26,
   "id": "5418956c",
   "metadata": {},
   "outputs": [
    {
     "data": {
      "text/plain": [
       "array([[[1, 2],\n",
       "        [3, 4]],\n",
       "\n",
       "       [[5, 6],\n",
       "        [7, 8]]])"
      ]
     },
     "execution_count": 26,
     "metadata": {},
     "output_type": "execute_result"
    }
   ],
   "source": [
    "# 3차원 배열 생성하기\n",
    "arr6 = np.array([[[1,2],[3,4]],[[5,6],[7,8]]])\n",
    "arr6"
   ]
  },
  {
   "cell_type": "code",
   "execution_count": 27,
   "id": "d73bd6dc",
   "metadata": {},
   "outputs": [
    {
     "data": {
      "text/plain": [
       "array([1, 2, 3, 4, 5, 6, 7, 8])"
      ]
     },
     "execution_count": 27,
     "metadata": {},
     "output_type": "execute_result"
    }
   ],
   "source": [
    "# 다차원을 만드는 또 다른 방법 -> reshape(채널의 수,행,열)\n",
    "arr6 = np.array([1,2,3,4,5,6,7,8])\n",
    "arr6"
   ]
  },
  {
   "cell_type": "code",
   "execution_count": 29,
   "id": "e39ede24",
   "metadata": {},
   "outputs": [
    {
     "data": {
      "text/plain": [
       "array([[[1, 2],\n",
       "        [3, 4]],\n",
       "\n",
       "       [[5, 6],\n",
       "        [7, 8]]])"
      ]
     },
     "execution_count": 29,
     "metadata": {},
     "output_type": "execute_result"
    }
   ],
   "source": [
    "arr6 = arr6.reshape(2,2,2)\n",
    "arr6"
   ]
  },
  {
   "cell_type": "code",
   "execution_count": 32,
   "id": "ff907d0f",
   "metadata": {},
   "outputs": [
    {
     "data": {
      "text/plain": [
       "array([[0., 0., 0., 0.],\n",
       "       [0., 0., 0., 0.],\n",
       "       [0., 0., 0., 0.]])"
      ]
     },
     "execution_count": 32,
     "metadata": {},
     "output_type": "execute_result"
    }
   ],
   "source": [
    "# 특정한 값으로만 이뤄진 배열 생성\n",
    "# 0의 값으로 이뤄진 배열 생성하는 함수 : zeros((행, 열))\n",
    "# 기본적인 데이터 타입이 실수형으로 존재\n",
    "# 배열 생성시 dtype 속성을 사용하여 데이터의 타입을 수정O\n",
    "arr7 = np.zeros((3,4))\n",
    "arr7"
   ]
  },
  {
   "cell_type": "code",
   "execution_count": 35,
   "id": "121be843",
   "metadata": {},
   "outputs": [
    {
     "data": {
      "text/plain": [
       "array([[1, 1, 1, 1],\n",
       "       [1, 1, 1, 1],\n",
       "       [1, 1, 1, 1]])"
      ]
     },
     "execution_count": 35,
     "metadata": {},
     "output_type": "execute_result"
    }
   ],
   "source": [
    "# 1의 값으로 이뤄진 배열 생성 -> ones()\n",
    "arr8 = np.ones((3,4), dtype='int')\n",
    "arr8"
   ]
  },
  {
   "cell_type": "code",
   "execution_count": 36,
   "id": "ad56b7d6",
   "metadata": {},
   "outputs": [
    {
     "data": {
      "text/plain": [
       "array([[7, 7, 7, 7, 7],\n",
       "       [7, 7, 7, 7, 7],\n",
       "       [7, 7, 7, 7, 7],\n",
       "       [7, 7, 7, 7, 7],\n",
       "       [7, 7, 7, 7, 7]])"
      ]
     },
     "execution_count": 36,
     "metadata": {},
     "output_type": "execute_result"
    }
   ],
   "source": [
    "# 사용자가 원하는 값으로 배열 생성하기 -> full((행, 열), 데이터 값)\n",
    "arr9 = np.full((5,5), 7)\n",
    "arr9"
   ]
  },
  {
   "cell_type": "code",
   "execution_count": 40,
   "id": "f2a9c1cc",
   "metadata": {},
   "outputs": [
    {
     "name": "stdout",
     "output_type": "stream",
     "text": [
      "[1, 2, 3, 4, 5, 6, 7, 8, 9, 10, 11, 12, 13, 14, 15, 16, 17, 18, 19, 20, 21, 22, 23, 24, 25, 26, 27, 28, 29, 30, 31, 32, 33, 34, 35, 36, 37, 38, 39, 40, 41, 42, 43, 44, 45, 46, 47, 48, 49, 50]\n"
     ]
    }
   ],
   "source": [
    "# 1 ~ 50 까지의 숫자가 담긴 배열 생성하기\n",
    "# 1. 1~50 까지의 숫자 생성\n",
    "# 2. 만들어진 숫자를 리스트에 저장\n",
    "# 3. 저장된 리스트를 배열의 형태로 변환\n",
    "list1 = []\n",
    "for i in range(1,51):\n",
    "    list1.append(i)\n",
    "print(list1)"
   ]
  },
  {
   "cell_type": "code",
   "execution_count": 41,
   "id": "e0085542",
   "metadata": {},
   "outputs": [
    {
     "data": {
      "text/plain": [
       "array([ 1,  2,  3,  4,  5,  6,  7,  8,  9, 10, 11, 12, 13, 14, 15, 16, 17,\n",
       "       18, 19, 20, 21, 22, 23, 24, 25, 26, 27, 28, 29, 30, 31, 32, 33, 34,\n",
       "       35, 36, 37, 38, 39, 40, 41, 42, 43, 44, 45, 46, 47, 48, 49, 50])"
      ]
     },
     "execution_count": 41,
     "metadata": {},
     "output_type": "execute_result"
    }
   ],
   "source": [
    "arr = np.array(list1)\n",
    "arr"
   ]
  },
  {
   "cell_type": "code",
   "execution_count": 54,
   "id": "f6467098",
   "metadata": {},
   "outputs": [
    {
     "data": {
      "text/plain": [
       "array([ 1,  2,  3,  4,  5,  6,  7,  8,  9, 10, 11, 12, 13, 14, 15, 16, 17,\n",
       "       18, 19, 20, 21, 22, 23, 24, 25, 26, 27, 28, 29, 30, 31, 32, 33, 34,\n",
       "       35, 36, 37, 38, 39, 40, 41, 42, 43, 44, 45, 46, 47, 48, 49, 50])"
      ]
     },
     "execution_count": 54,
     "metadata": {},
     "output_type": "execute_result"
    }
   ],
   "source": [
    "# arange()를 사용하여 원하는 범위 값의 배열을 생성해 보자\n",
    "arr = np.arange(1, 51)\n",
    "arr"
   ]
  },
  {
   "cell_type": "code",
   "execution_count": 53,
   "id": "ad726a6d",
   "metadata": {},
   "outputs": [
    {
     "data": {
      "text/plain": [
       "array([ 1, 11, 21, 31, 41])"
      ]
     },
     "execution_count": 53,
     "metadata": {},
     "output_type": "execute_result"
    }
   ],
   "source": [
    "# 1~50 사이에서 10의 간격으로 배열 값 생성하기\n",
    "# 1, 11, 21, 31, 41\n",
    "arr1 = np.arange(1, 51, 10)\n",
    "arr1"
   ]
  },
  {
   "cell_type": "code",
   "execution_count": 64,
   "id": "d0b82e5c",
   "metadata": {},
   "outputs": [
    {
     "data": {
      "text/plain": [
       "array([[0.61054458, 0.2568935 , 0.27667359],\n",
       "       [0.05894332, 0.08854709, 0.59491291]])"
      ]
     },
     "execution_count": 64,
     "metadata": {},
     "output_type": "execute_result"
    }
   ],
   "source": [
    "# 랜덤수를 사용하여 배열 생성하기\n",
    "# random.rand(행, 열)\n",
    "np.random.rand(2, 3)"
   ]
  },
  {
   "cell_type": "code",
   "execution_count": 68,
   "id": "45092470",
   "metadata": {},
   "outputs": [
    {
     "data": {
      "text/plain": [
       "array([[4, 8, 9],\n",
       "       [4, 8, 2]])"
      ]
     },
     "execution_count": 68,
     "metadata": {},
     "output_type": "execute_result"
    }
   ],
   "source": [
    "# 정수형의 랜덤 값 생성하기\n",
    "# random.randint(범위 시작, 범위 끝, size=(행, 열))\n",
    "arr2 = np.random.randint(2, 10, size=(2, 3))\n",
    "arr2"
   ]
  },
  {
   "cell_type": "code",
   "execution_count": 124,
   "id": "c40abcc4",
   "metadata": {},
   "outputs": [
    {
     "data": {
      "text/plain": [
       "array([6, 1, 4, 4, 8])"
      ]
     },
     "execution_count": 124,
     "metadata": {},
     "output_type": "execute_result"
    }
   ],
   "source": [
    "# 랜덤 seed 사용하기\n",
    "# seed : 랜덤 수를 생성할 수 있는 범위가 지정된 기능\n",
    "np.random.seed(0)\n",
    "np.random.randint(1,10,5) "
   ]
  },
  {
   "cell_type": "code",
   "execution_count": 126,
   "id": "ffc6b36f",
   "metadata": {},
   "outputs": [
    {
     "data": {
      "text/plain": [
       "array([2, 4, 6, 8])"
      ]
     },
     "execution_count": 126,
     "metadata": {},
     "output_type": "execute_result"
    }
   ],
   "source": [
    "# 배열의 연산 알아보기\n",
    "arr = np.arange(2,10,2)\n",
    "arr"
   ]
  },
  {
   "cell_type": "code",
   "execution_count": 127,
   "id": "ece2f98b",
   "metadata": {},
   "outputs": [
    {
     "data": {
      "text/plain": [
       "array([ 4,  8, 12, 16])"
      ]
     },
     "execution_count": 127,
     "metadata": {},
     "output_type": "execute_result"
    }
   ],
   "source": [
    "arr + arr\n",
    "arr * arr"
   ]
  },
  {
   "cell_type": "code",
   "execution_count": 130,
   "id": "9855494e",
   "metadata": {},
   "outputs": [
    {
     "data": {
      "text/plain": [
       "array([1., 2., 3., 4.])"
      ]
     },
     "execution_count": 130,
     "metadata": {},
     "output_type": "execute_result"
    }
   ],
   "source": [
    "# q배열의 각각의 요소에 대하여 연산 가능\n",
    "arr/2.0"
   ]
  },
  {
   "cell_type": "code",
   "execution_count": 134,
   "id": "a6e1cf18",
   "metadata": {},
   "outputs": [
    {
     "data": {
      "text/plain": [
       "1"
      ]
     },
     "execution_count": 134,
     "metadata": {},
     "output_type": "execute_result"
    }
   ],
   "source": [
    "# 인덱싱과 슬라이싱\n",
    "arr1[0]"
   ]
  },
  {
   "cell_type": "code",
   "execution_count": 132,
   "id": "2c194ed3",
   "metadata": {},
   "outputs": [
    {
     "name": "stdout",
     "output_type": "stream",
     "text": [
      "[ 1 11 21 31 41]\n",
      "21\n"
     ]
    }
   ],
   "source": [
    "print(arr1)\n",
    "print(arr1[2])"
   ]
  },
  {
   "cell_type": "code",
   "execution_count": 161,
   "id": "6238c4a4",
   "metadata": {},
   "outputs": [
    {
     "data": {
      "text/plain": [
       "array([21,  1])"
      ]
     },
     "execution_count": 161,
     "metadata": {},
     "output_type": "execute_result"
    }
   ],
   "source": [
    "# arr1으로부터 21과 1의 값 인덱싱으로 가져오기\n",
    "# 인덱스의 위치가 달라도 한번에 인덱싱 작업을 진행할 수 있음\n",
    "arr1[[2,0]]"
   ]
  },
  {
   "cell_type": "code",
   "execution_count": null,
   "id": "1b07c40c",
   "metadata": {},
   "outputs": [],
   "source": [
    "list1 = [1, 11, 21, 31, 41]\n",
    "list1"
   ]
  },
  {
   "cell_type": "code",
   "execution_count": 163,
   "id": "d9b7fd92",
   "metadata": {},
   "outputs": [
    {
     "data": {
      "text/plain": [
       "array([0, 1, 2, 3, 4, 5, 6, 7, 8, 9])"
      ]
     },
     "execution_count": 163,
     "metadata": {},
     "output_type": "execute_result"
    }
   ],
   "source": [
    "# 1차원 배열의 슬라이싱\n",
    "arr2 = np.arange(10)\n",
    "arr2"
   ]
  },
  {
   "cell_type": "code",
   "execution_count": 164,
   "id": "8839eafc",
   "metadata": {},
   "outputs": [
    {
     "data": {
      "text/plain": [
       "array([3, 4, 5, 6, 7])"
      ]
     },
     "execution_count": 164,
     "metadata": {},
     "output_type": "execute_result"
    }
   ],
   "source": [
    "arr2[3:8]"
   ]
  },
  {
   "cell_type": "code",
   "execution_count": 165,
   "id": "eb8d701e",
   "metadata": {},
   "outputs": [
    {
     "data": {
      "text/plain": [
       "array([ 0,  1,  2, 12, 12, 12, 12, 12,  8,  9])"
      ]
     },
     "execution_count": 165,
     "metadata": {},
     "output_type": "execute_result"
    }
   ],
   "source": [
    "arr2[3:8] = 12\n",
    "arr2"
   ]
  },
  {
   "cell_type": "code",
   "execution_count": 167,
   "id": "248cc5a9",
   "metadata": {},
   "outputs": [
    {
     "data": {
      "text/plain": [
       "array([0, 1, 2, 4, 5, 6, 7, 8, 8, 9])"
      ]
     },
     "execution_count": 167,
     "metadata": {},
     "output_type": "execute_result"
    }
   ],
   "source": [
    "arr2[3:8] = [4,5,6,7,8]\n",
    "arr2"
   ]
  },
  {
   "cell_type": "code",
   "execution_count": 182,
   "id": "b3ca0c79",
   "metadata": {},
   "outputs": [
    {
     "data": {
      "text/plain": [
       "array([[ 0,  1,  2,  3,  4,  5],\n",
       "       [ 6,  7,  8,  9, 10, 11],\n",
       "       [12, 13, 14, 15, 16, 17],\n",
       "       [18, 19, 20, 21, 22, 23],\n",
       "       [24, 25, 26, 27, 28, 29]])"
      ]
     },
     "execution_count": 182,
     "metadata": {},
     "output_type": "execute_result"
    }
   ],
   "source": [
    "# 0 ~ 29 까지의 2차원 배열 생성 -> (행,열) -> (5,6)\n",
    "# Hint : reshape() 사용하기\n",
    "    # 방법 1\n",
    "arr2 = np.arange(0,30)\n",
    "arr2.reshape(5,6)\n",
    "    # 방법 2\n",
    "arr2 = np.arange(0,30).reshape(5,6)\n",
    "arr2"
   ]
  },
  {
   "cell_type": "code",
   "execution_count": 190,
   "id": "89346e72",
   "metadata": {},
   "outputs": [
    {
     "data": {
      "text/plain": [
       "6"
      ]
     },
     "execution_count": 190,
     "metadata": {},
     "output_type": "execute_result"
    }
   ],
   "source": [
    "arr2[1][0] # 2행 1열"
   ]
  },
  {
   "cell_type": "code",
   "execution_count": 192,
   "id": "14f6ea8b",
   "metadata": {},
   "outputs": [
    {
     "data": {
      "text/plain": [
       "6"
      ]
     },
     "execution_count": 192,
     "metadata": {},
     "output_type": "execute_result"
    }
   ],
   "source": [
    "# arr2[행,열]\n",
    "arr2[1,0] # 2행 1열"
   ]
  },
  {
   "attachments": {
    "image.png": {
     "image/png": "[encoded data removed]"
    }
   },
   "cell_type": "markdown",
   "id": "d9ba1fbc",
   "metadata": {},
   "source": [
    "![image.png](attachment:image.png)"
   ]
  },
  {
   "cell_type": "code",
   "execution_count": 198,
   "id": "303ae550",
   "metadata": {},
   "outputs": [
    {
     "data": {
      "text/plain": [
       "array([[ 0,  1,  2,  3],\n",
       "       [ 6,  7,  8,  9],\n",
       "       [12, 13, 14, 15]])"
      ]
     },
     "execution_count": 198,
     "metadata": {},
     "output_type": "execute_result"
    }
   ],
   "source": [
    "arr2[:3,:4]"
   ]
  },
  {
   "cell_type": "code",
   "execution_count": 199,
   "id": "9cb93982",
   "metadata": {},
   "outputs": [
    {
     "data": {
      "text/plain": [
       "array([[ 0,  1,  2,  3,  4,  5],\n",
       "       [ 6,  7,  8,  9, 10, 11]])"
      ]
     },
     "execution_count": 199,
     "metadata": {},
     "output_type": "execute_result"
    }
   ],
   "source": [
    "arr2[:2, :] # == arr2[:2]"
   ]
  },
  {
   "cell_type": "code",
   "execution_count": 200,
   "id": "582fc81a",
   "metadata": {},
   "outputs": [
    {
     "data": {
      "text/plain": [
       "array([[ 0,  1,  2,  3,  4,  5],\n",
       "       [ 6,  7,  8,  9, 10, 11]])"
      ]
     },
     "execution_count": 200,
     "metadata": {},
     "output_type": "execute_result"
    }
   ],
   "source": [
    "arr2[0:2, 0:6]"
   ]
  },
  {
   "cell_type": "code",
   "execution_count": 201,
   "id": "eba66811",
   "metadata": {},
   "outputs": [
    {
     "data": {
      "text/plain": [
       "array([[ 0,  1,  2,  3,  4,  5],\n",
       "       [ 6,  7,  8,  9, 10, 11],\n",
       "       [12, 13, 14, 15, 16, 17],\n",
       "       [18, 19, 20, 21, 22, 23],\n",
       "       [24, 25, 26, 27, 28, 29]])"
      ]
     },
     "execution_count": 201,
     "metadata": {},
     "output_type": "execute_result"
    }
   ],
   "source": [
    "arr2[:,  0::1]"
   ]
  },
  {
   "cell_type": "code",
   "execution_count": null,
   "id": "b73946b0",
   "metadata": {},
   "outputs": [],
   "source": [
    "# arr[A:B:C]\n",
    "# A : 시작 위치\n",
    "# B : 끝나는 위치\n",
    "# C : 칸의 위치\n",
    "arr2[:, 0::1]"
   ]
  },
  {
   "attachments": {
    "image.png": {
     "image/png": "[encoded data removed]"
    }
   },
   "cell_type": "markdown",
   "id": "b6e687f5",
   "metadata": {},
   "source": [
    "![image.png](attachment:image.png)"
   ]
  },
  {
   "cell_type": "code",
   "execution_count": 206,
   "id": "864b0d30",
   "metadata": {},
   "outputs": [
    {
     "data": {
      "text/plain": [
       "array([[ 7,  9, 11],\n",
       "       [13, 15, 17]])"
      ]
     },
     "execution_count": 206,
     "metadata": {},
     "output_type": "execute_result"
    }
   ],
   "source": [
    "arr2[1:3,1:6:2] # arr3[행,열]"
   ]
  },
  {
   "cell_type": "code",
   "execution_count": 209,
   "id": "a5351d31",
   "metadata": {},
   "outputs": [
    {
     "data": {
      "text/plain": [
       "array([[ 0,  1,  2,  3,  4,  5],\n",
       "       [ 6,  7,  8,  9, 10, 11],\n",
       "       [12, 13, 14, 15, 16, 17]])"
      ]
     },
     "execution_count": 209,
     "metadata": {},
     "output_type": "execute_result"
    }
   ],
   "source": [
    "arr3 = np.arange(0, 18).reshape(3,6)\n",
    "arr3"
   ]
  },
  {
   "cell_type": "code",
   "execution_count": 66,
   "id": "bc350d62",
   "metadata": {},
   "outputs": [
    {
     "data": {
      "text/plain": [
       "array([100,  76,  80,  93,  55,  76,  72,  91])"
      ]
     },
     "execution_count": 66,
     "metadata": {},
     "output_type": "execute_result"
    }
   ],
   "source": [
    "# boolean 색인 : array의 색인이 True, False 값을 갖게 함\n",
    "# True인 경우에 해당 값을 출력하도록 도와주는 기능\n",
    "\n",
    "score = np.array(np.random.randint(50,101,size = 8))\n",
    "score"
   ]
  },
  {
   "cell_type": "code",
   "execution_count": 219,
   "id": "8d05c72c",
   "metadata": {},
   "outputs": [
    {
     "data": {
      "text/plain": [
       "array([False, False,  True, False, False, False, False,  True])"
      ]
     },
     "execution_count": 219,
     "metadata": {},
     "output_type": "execute_result"
    }
   ],
   "source": [
    "score >= 90"
   ]
  },
  {
   "cell_type": "code",
   "execution_count": 220,
   "id": "52d99593",
   "metadata": {},
   "outputs": [
    {
     "data": {
      "text/plain": [
       "array([97, 99])"
      ]
     },
     "execution_count": 220,
     "metadata": {},
     "output_type": "execute_result"
    }
   ],
   "source": [
    "score[score >= 90]"
   ]
  },
  {
   "cell_type": "code",
   "execution_count": 222,
   "id": "9aa884d7",
   "metadata": {},
   "outputs": [
    {
     "data": {
      "text/plain": [
       "['강', '김', '박', '이']"
      ]
     },
     "execution_count": 222,
     "metadata": {},
     "output_type": "execute_result"
    }
   ],
   "source": [
    "name = ['강', '김', '박', '이']\n",
    "name"
   ]
  },
  {
   "cell_type": "code",
   "execution_count": 227,
   "id": "be9053db",
   "metadata": {},
   "outputs": [
    {
     "data": {
      "text/plain": [
       "array([50, 60, 74, 40])"
      ]
     },
     "execution_count": 227,
     "metadata": {},
     "output_type": "execute_result"
    }
   ],
   "source": [
    "name_score = [50, 60, 74, 40]\n",
    "name_score = np.array(name_score)\n",
    "name_score"
   ]
  },
  {
   "cell_type": "code",
   "execution_count": 228,
   "id": "17c21e36",
   "metadata": {},
   "outputs": [
    {
     "data": {
      "text/plain": [
       "array([False,  True,  True, False])"
      ]
     },
     "execution_count": 228,
     "metadata": {},
     "output_type": "execute_result"
    }
   ],
   "source": [
    "name_score >= 60"
   ]
  },
  {
   "cell_type": "code",
   "execution_count": 229,
   "id": "c46d246b",
   "metadata": {},
   "outputs": [
    {
     "data": {
      "text/plain": [
       "array([60, 74])"
      ]
     },
     "execution_count": 229,
     "metadata": {},
     "output_type": "execute_result"
    }
   ],
   "source": [
    "name_score[name_score >= 60]"
   ]
  },
  {
   "cell_type": "code",
   "execution_count": 230,
   "id": "d207f570",
   "metadata": {},
   "outputs": [
    {
     "name": "stdout",
     "output_type": "stream",
     "text": [
      "['강', '김', '박', '이']\n",
      "[50 60 74 40]\n"
     ]
    }
   ],
   "source": [
    "print(name)\n",
    "print(name_score)"
   ]
  },
  {
   "cell_type": "markdown",
   "id": "e73c4f7a",
   "metadata": {},
   "source": [
    "### 사용하고자 하는 데이터 불러오기"
   ]
  },
  {
   "cell_type": "code",
   "execution_count": 35,
   "id": "e930059c",
   "metadata": {},
   "outputs": [],
   "source": [
    "# loadtxt('파일명.확장자', delimiter='') : text 파일을 읽어 들일 수 있는 함수\n",
    "data = np.loadtxt('height_weight.txt', delimiter = ',')"
   ]
  },
  {
   "cell_type": "code",
   "execution_count": 36,
   "id": "3f28f352",
   "metadata": {},
   "outputs": [
    {
     "data": {
      "text/plain": [
       "array([[175.2, 180.3, 175. , 169.2, 185.2, 188. , 177.6, 178.2, 177. ,\n",
       "        179. ],\n",
       "       [ 65.6,  88. ,  79.2,  69.3,  55. ,  71.2,  73. ,  68.9,  74. ,\n",
       "         82. ]])"
      ]
     },
     "execution_count": 36,
     "metadata": {},
     "output_type": "execute_result"
    }
   ],
   "source": [
    "data"
   ]
  },
  {
   "cell_type": "code",
   "execution_count": 41,
   "id": "64c8b211",
   "metadata": {},
   "outputs": [
    {
     "data": {
      "text/plain": [
       "array([175.2, 180.3, 175. , 169.2, 185.2, 188. , 177.6, 178.2, 177. ,\n",
       "       179. ])"
      ]
     },
     "execution_count": 41,
     "metadata": {},
     "output_type": "execute_result"
    }
   ],
   "source": [
    "# 전체 데이터로부터 몸무게와 키의 데이터를 분리해보자\n",
    "# 키 -> height\n",
    "# 몸무게 -> weight\n",
    "height = data[0]\n",
    "height"
   ]
  },
  {
   "cell_type": "code",
   "execution_count": 42,
   "id": "c4c26074",
   "metadata": {},
   "outputs": [
    {
     "data": {
      "text/plain": [
       "array([65.6, 88. , 79.2, 69.3, 55. , 71.2, 73. , 68.9, 74. , 82. ])"
      ]
     },
     "execution_count": 42,
     "metadata": {},
     "output_type": "execute_result"
    }
   ],
   "source": [
    "weight = data[1]\n",
    "weight"
   ]
  },
  {
   "cell_type": "code",
   "execution_count": 46,
   "id": "31d8306e",
   "metadata": {},
   "outputs": [
    {
     "data": {
      "text/plain": [
       "array([1.752, 1.803, 1.75 , 1.692, 1.852, 1.88 , 1.776, 1.782, 1.77 ,\n",
       "       1.79 ])"
      ]
     },
     "execution_count": 46,
     "metadata": {},
     "output_type": "execute_result"
    }
   ],
   "source": [
    "# 1cm -> 0.01m\n",
    "# 내가 가지고 있는 키 data에 대해서 전체적으로 cm -> m로 변환을 해보자\n",
    "height = data[0] * 0.01\n",
    "height"
   ]
  },
  {
   "cell_type": "code",
   "execution_count": 51,
   "id": "401ae234",
   "metadata": {},
   "outputs": [
    {
     "data": {
      "text/plain": [
       "array([21.37153104, 27.07018468, 25.86122449, 24.20652885, 16.03543423,\n",
       "       20.14486193, 23.14392095, 21.69720651, 23.62028791, 25.59220998])"
      ]
     },
     "execution_count": 51,
     "metadata": {},
     "output_type": "execute_result"
    }
   ],
   "source": [
    "BMI = weight / height**2\n",
    "BMI"
   ]
  },
  {
   "cell_type": "code",
   "execution_count": 53,
   "id": "057ad097",
   "metadata": {},
   "outputs": [
    {
     "data": {
      "text/plain": [
       "array([[5, 7, 2, 2, 8, 6, 1],\n",
       "       [9, 9, 9, 6, 2, 6, 3],\n",
       "       [8, 9, 8, 3, 2, 7, 9],\n",
       "       [5, 1, 1, 6, 3, 4, 9]])"
      ]
     },
     "execution_count": 53,
     "metadata": {},
     "output_type": "execute_result"
    }
   ],
   "source": [
    "# sum() : 매개변수로 들어오는 모든 데이터들의 합을 계산하는 함수\n",
    "arr = np.random.randint(1,10,size=(4,7))\n",
    "arr"
   ]
  },
  {
   "cell_type": "code",
   "execution_count": 60,
   "id": "dab30bae",
   "metadata": {},
   "outputs": [
    {
     "name": "stdout",
     "output_type": "stream",
     "text": [
      "150\n",
      "150\n"
     ]
    }
   ],
   "source": [
    "print(arr.sum())\n",
    "print(np.sum(arr))"
   ]
  },
  {
   "cell_type": "code",
   "execution_count": 57,
   "id": "fe04fb38",
   "metadata": {
    "collapsed": true
   },
   "outputs": [
    {
     "name": "stdout",
     "output_type": "stream",
     "text": [
      "5.357142857142857\n",
      "5.357142857142857\n"
     ]
    }
   ],
   "source": [
    "# mean() : 매개변수의 모든 데이터에 대하여 평균을 구하는 함수\n",
    "print(arr.mean())\n",
    "print(np.mean(arr))"
   ]
  },
  {
   "cell_type": "code",
   "execution_count": 63,
   "id": "49a8c7b7",
   "metadata": {},
   "outputs": [
    {
     "name": "stdout",
     "output_type": "stream",
     "text": [
      "[1 2 3 4 5]\n",
      "[1.         1.41421356 1.73205081 2.         2.23606798]\n"
     ]
    }
   ],
   "source": [
    "# sqrt() : 제곱근을 구하는 함수\n",
    "arr = np.arange(1,6)\n",
    "print(arr)\n",
    "\n",
    "print(np.sqrt(arr))"
   ]
  },
  {
   "cell_type": "code",
   "execution_count": 65,
   "id": "f4f516a9",
   "metadata": {},
   "outputs": [],
   "source": [
    "np.sqrt?"
   ]
  },
  {
   "cell_type": "code",
   "execution_count": 70,
   "id": "769f66a9",
   "metadata": {},
   "outputs": [
    {
     "name": "stdout",
     "output_type": "stream",
     "text": [
      "[-1  2  3 -4  5]\n",
      "[1 2 3 4 5]\n"
     ]
    }
   ],
   "source": [
    "# ads() : 절댓값을 구하는 함수\n",
    "arr = np.array([-1,2,3,-4,5])\n",
    "print(arr)\n",
    "print(np.abs(arr))"
   ]
  },
  {
   "cell_type": "code",
   "execution_count": null,
   "id": "d0c71751",
   "metadata": {},
   "outputs": [],
   "source": []
  }
 ],
 "metadata": {
  "kernelspec": {
   "display_name": "Python 3",
   "language": "python",
   "name": "python3"
  },
  "language_info": {
   "codemirror_mode": {
    "name": "ipython",
    "version": 3
   },
   "file_extension": ".py",
   "mimetype": "text/x-python",
   "name": "python",
   "nbconvert_exporter": "python",
   "pygments_lexer": "ipython3",
   "version": "3.8.8"
  }
 },
 "nbformat": 4,
 "nbformat_minor": 5
}
