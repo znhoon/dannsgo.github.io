{
 "cells": [
  {
   "cell_type": "code",
   "execution_count": 1,
   "id": "f064b4b1",
   "metadata": {},
   "outputs": [],
   "source": [
    "import pandas as pd"
   ]
  },
  {
   "cell_type": "code",
   "execution_count": 2,
   "id": "71b4121e",
   "metadata": {},
   "outputs": [
    {
     "data": {
      "text/plain": [
       "0    9602000\n",
       "1    3344000\n",
       "2    1488000\n",
       "3    2419000\n",
       "dtype: int64"
      ]
     },
     "execution_count": 2,
     "metadata": {},
     "output_type": "execute_result"
    }
   ],
   "source": [
    "# Series 생성하기\n",
    "population = pd.Series([9602000, 3344000, 1488000, 2419000])\n",
    "population"
   ]
  },
  {
   "cell_type": "code",
   "execution_count": 3,
   "id": "aa878e1d",
   "metadata": {},
   "outputs": [
    {
     "data": {
      "text/plain": [
       "서울    9602000\n",
       "부산    3344000\n",
       "광주    1488000\n",
       "대구    2419000\n",
       "dtype: int64"
      ]
     },
     "execution_count": 3,
     "metadata": {},
     "output_type": "execute_result"
    }
   ],
   "source": [
    "# 인덱스를 지정하는 방법 -> index\n",
    "population.index = ['서울', '부산', '광주', '대구']\n",
    "population"
   ]
  },
  {
   "cell_type": "code",
   "execution_count": 4,
   "id": "32919518",
   "metadata": {},
   "outputs": [
    {
     "data": {
      "text/plain": [
       "서울    9602000\n",
       "부산    3344000\n",
       "광주    1488000\n",
       "대구    2419000\n",
       "dtype: int64"
      ]
     },
     "execution_count": 4,
     "metadata": {},
     "output_type": "execute_result"
    }
   ],
   "source": [
    "# Series 생성 시 index index 동시에 지정하기\n",
    "population = pd.Series([9602000, 3344000, 1488000, 2419000], \n",
    "             index=['서울', '부산', '광주', '대구'])\n",
    "population"
   ]
  },
  {
   "cell_type": "code",
   "execution_count": 42,
   "id": "0e931729",
   "metadata": {},
   "outputs": [
    {
     "data": {
      "text/plain": [
       "서울    605.2\n",
       "부산    770.1\n",
       "광주    501.1\n",
       "대구    883.5\n",
       "dtype: float64"
      ]
     },
     "execution_count": 42,
     "metadata": {},
     "output_type": "execute_result"
    }
   ],
   "source": [
    "# Series 생성 시 리스트 형태가 아닌 딕셔너리도 가능함\n",
    "# 리스트 -> [요소1, 요소2]\n",
    "# 딕셔너리 -> {'키' : '값', '키' : '값', '키' : '값'}\n",
    "# 함수 -> (요소1, 요소2)\n",
    "area = pd.Series({'서울' : 605.2, '부산' : 770.1, '광주' : 501.1, '대구' : 883.5})\n",
    "area"
   ]
  },
  {
   "cell_type": "code",
   "execution_count": 6,
   "id": "b86df5a3",
   "metadata": {},
   "outputs": [
    {
     "data": {
      "text/plain": [
       "서울    9602000\n",
       "부산    3344000\n",
       "광주    1488000\n",
       "대구    2419000\n",
       "dtype: int64"
      ]
     },
     "execution_count": 6,
     "metadata": {},
     "output_type": "execute_result"
    }
   ],
   "source": [
    "population"
   ]
  },
  {
   "cell_type": "code",
   "execution_count": 7,
   "id": "91b8aef5",
   "metadata": {},
   "outputs": [
    {
     "data": {
      "text/plain": [
       "array([9602000, 3344000, 1488000, 2419000], dtype=int64)"
      ]
     },
     "execution_count": 7,
     "metadata": {},
     "output_type": "execute_result"
    }
   ],
   "source": [
    "# Series의 값을 확인하는 방법\n",
    "population.values"
   ]
  },
  {
   "cell_type": "code",
   "execution_count": 8,
   "id": "381f1fa8",
   "metadata": {},
   "outputs": [
    {
     "data": {
      "text/plain": [
       "Index(['서울', '부산', '광주', '대구'], dtype='object')"
      ]
     },
     "execution_count": 8,
     "metadata": {},
     "output_type": "execute_result"
    }
   ],
   "source": [
    "# 인덱스만 가지고 오는 방법\n",
    "population.index"
   ]
  },
  {
   "cell_type": "code",
   "execution_count": 9,
   "id": "12761871",
   "metadata": {},
   "outputs": [
    {
     "data": {
      "text/plain": [
       "dtype('int64')"
      ]
     },
     "execution_count": 9,
     "metadata": {},
     "output_type": "execute_result"
    }
   ],
   "source": [
    "# 데이터 타입 확인하는 방법\n",
    "population.dtype"
   ]
  },
  {
   "cell_type": "code",
   "execution_count": 10,
   "id": "44a9a80f",
   "metadata": {},
   "outputs": [
    {
     "data": {
      "text/plain": [
       "서울    9602000\n",
       "부산    3344000\n",
       "광주    1488000\n",
       "대구    2419000\n",
       "dtype: int64"
      ]
     },
     "execution_count": 10,
     "metadata": {},
     "output_type": "execute_result"
    }
   ],
   "source": [
    "population"
   ]
  },
  {
   "cell_type": "code",
   "execution_count": 11,
   "id": "f7f07829",
   "metadata": {},
   "outputs": [
    {
     "data": {
      "text/plain": [
       "서울    9602000\n",
       "부산    3344000\n",
       "광주    1488000\n",
       "대구    2419000\n",
       "Name: 2020 인구, dtype: int64"
      ]
     },
     "execution_count": 11,
     "metadata": {},
     "output_type": "execute_result"
    }
   ],
   "source": [
    "# Series 자체에 이름 부여하기\n",
    "population.name = '2020 인구'\n",
    "population"
   ]
  },
  {
   "cell_type": "code",
   "execution_count": 12,
   "id": "d813a5b7",
   "metadata": {},
   "outputs": [
    {
     "data": {
      "text/plain": [
       "지역\n",
       "서울    9602000\n",
       "부산    3344000\n",
       "광주    1488000\n",
       "대구    2419000\n",
       "Name: 2020 인구, dtype: int64"
      ]
     },
     "execution_count": 12,
     "metadata": {},
     "output_type": "execute_result"
    }
   ],
   "source": [
    "# 인덱스의 이름 부여하기\n",
    "population.index.name = '지역'\n",
    "population"
   ]
  },
  {
   "cell_type": "code",
   "execution_count": 16,
   "id": "d9a19771",
   "metadata": {},
   "outputs": [
    {
     "data": {
      "text/plain": [
       "지역\n",
       "서울    9602000\n",
       "부산    3344000\n",
       "광주    1488000\n",
       "대구    2419000\n",
       "대전    1500000\n",
       "Name: 2020 인구, dtype: int64"
      ]
     },
     "execution_count": 16,
     "metadata": {},
     "output_type": "execute_result"
    }
   ],
   "source": [
    "# Series 자체에 이름 부여하기\n",
    "# 대전 1500000\n",
    "population['대전'] = 1500000\n",
    "population"
   ]
  },
  {
   "cell_type": "code",
   "execution_count": 18,
   "id": "daab1f5b",
   "metadata": {},
   "outputs": [
    {
     "data": {
      "text/plain": [
       "지역\n",
       "서울    9602000\n",
       "부산    3500000\n",
       "광주    1488000\n",
       "대구    2419000\n",
       "대전    1500000\n",
       "Name: 2020 인구, dtype: int64"
      ]
     },
     "execution_count": 18,
     "metadata": {},
     "output_type": "execute_result"
    }
   ],
   "source": [
    "# 부산 3344000 -> 3500000으로 값 수정하기\n",
    "population['부산'] = 3500000\n",
    "population"
   ]
  },
  {
   "cell_type": "code",
   "execution_count": 19,
   "id": "fcc97992",
   "metadata": {},
   "outputs": [
    {
     "data": {
      "text/plain": [
       "지역\n",
       "부산    3500000\n",
       "광주    1488000\n",
       "대구    2419000\n",
       "대전    1500000\n",
       "Name: 2020 인구, dtype: int64"
      ]
     },
     "execution_count": 19,
     "metadata": {},
     "output_type": "execute_result"
    }
   ],
   "source": [
    "# 값 삭제하기\n",
    "# 1. del 키워드\n",
    "# 2. drop() 함수\n",
    "del population['서울']\n",
    "population"
   ]
  },
  {
   "cell_type": "code",
   "execution_count": 21,
   "id": "10cc4ef5",
   "metadata": {},
   "outputs": [
    {
     "data": {
      "text/plain": [
       "지역\n",
       "부산    3500000\n",
       "광주    1488000\n",
       "대구    2419000\n",
       "대전    1500000\n",
       "서울     100000\n",
       "Name: 2020 인구, dtype: int64"
      ]
     },
     "execution_count": 21,
     "metadata": {},
     "output_type": "execute_result"
    }
   ],
   "source": [
    "population['서울'] = 100000\n",
    "population"
   ]
  },
  {
   "cell_type": "code",
   "execution_count": 24,
   "id": "a6f3ab4e",
   "metadata": {},
   "outputs": [
    {
     "data": {
      "text/plain": [
       "지역\n",
       "부산    3500000\n",
       "광주    1488000\n",
       "대구    2419000\n",
       "대전    1500000\n",
       "Name: 2020 인구, dtype: int64"
      ]
     },
     "execution_count": 24,
     "metadata": {},
     "output_type": "execute_result"
    }
   ],
   "source": [
    "# drop() : 실행했을 때의 결과 값만 삭제된 값을 반환해주는 함수\n",
    "population.drop('서울')"
   ]
  },
  {
   "cell_type": "code",
   "execution_count": 23,
   "id": "a1a67522",
   "metadata": {},
   "outputs": [
    {
     "data": {
      "text/plain": [
       "지역\n",
       "부산    3500000\n",
       "광주    1488000\n",
       "대구    2419000\n",
       "대전    1500000\n",
       "서울     100000\n",
       "Name: 2020 인구, dtype: int64"
      ]
     },
     "execution_count": 23,
     "metadata": {},
     "output_type": "execute_result"
    }
   ],
   "source": [
    "population"
   ]
  },
  {
   "cell_type": "code",
   "execution_count": 29,
   "id": "de2d5292",
   "metadata": {},
   "outputs": [
    {
     "data": {
      "text/plain": [
       "지역\n",
       "부산    3344000\n",
       "광주    1488000\n",
       "대구    2419000\n",
       "대전    1500000\n",
       "서울    2951000\n",
       "인천    2951000\n",
       "Name: 2020 인구, dtype: int64"
      ]
     },
     "execution_count": 29,
     "metadata": {},
     "output_type": "execute_result"
    }
   ],
   "source": [
    "# population에 새로운 컬럼 값 추가하기\n",
    "# 부산 3344000 (원본에서 값을 수정)\n",
    "# 인천 2951000 (원본에서 새로운 값 추가)\n",
    "# 서울 9602000 (원본에서 새로운 값 추가)\n",
    "\n",
    "# 부산, 광주, 대구, 대전, 인천, 서울의 데이터 값이 나오도록\n",
    "population['부산'] = 3344000\n",
    "population['인천'] = 2951000\n",
    "population['서울'] = 2951000\n",
    "population"
   ]
  },
  {
   "cell_type": "code",
   "execution_count": 36,
   "id": "b6f210ab",
   "metadata": {},
   "outputs": [
    {
     "data": {
      "text/plain": [
       "지역\n",
       "서울    2951000\n",
       "부산    3344000\n",
       "광주    1488000\n",
       "대구    2419000\n",
       "대전    1500000\n",
       "인천    2951000\n",
       "Name: 2020 인구, dtype: int64"
      ]
     },
     "execution_count": 36,
     "metadata": {},
     "output_type": "execute_result"
    }
   ],
   "source": [
    "# 인덱스의 순서를 재정의하는 함수 : reindex([원하는 순서의 인덱스 지정])\n",
    "# reindex()의 경우 반환되는 값에서만 수정을 확인할 수 있다.\n",
    "population = population.reindex(['서울', '부산', '광주', '대구', '대전', '인천'])\n",
    "population"
   ]
  },
  {
   "cell_type": "code",
   "execution_count": 44,
   "id": "002a0d01",
   "metadata": {},
   "outputs": [
    {
     "data": {
      "text/plain": [
       "지역\n",
       "서울     605.2\n",
       "부산     770.1\n",
       "광주     501.1\n",
       "대구     883.5\n",
       "대전     883.5\n",
       "인천    1065.2\n",
       "Name: 면적(㎢), dtype: float64"
      ]
     },
     "execution_count": 44,
     "metadata": {},
     "output_type": "execute_result"
    }
   ],
   "source": [
    "area['대전'] = 883.5\n",
    "area['인천'] = 1065.2\n",
    "area.name = '면적(㎢)'\n",
    "area.index.name = '지역'\n",
    "area"
   ]
  },
  {
   "cell_type": "code",
   "execution_count": 49,
   "id": "3e10721d",
   "metadata": {},
   "outputs": [
    {
     "data": {
      "text/plain": [
       "[[9602000, 605.2], [3344000, 770.1], [1488000, 501.1], [2419000, 883.5]]"
      ]
     },
     "execution_count": 49,
     "metadata": {},
     "output_type": "execute_result"
    }
   ],
   "source": [
    "# DataFrame 생성하기\n",
    "# pd.DataFrame(데이터 값, index정의, columns 정의)\n",
    "data = [[9602000, 605.2],[3344000, 770.1], [1488000, 501.1], [2419000, 883.5]]\n",
    "data"
   ]
  },
  {
   "cell_type": "code",
   "execution_count": 52,
   "id": "bf41e254",
   "metadata": {},
   "outputs": [
    {
     "data": {
      "text/html": [
       "<div>\n",
       "<style scoped>\n",
       "    .dataframe tbody tr th:only-of-type {\n",
       "        vertical-align: middle;\n",
       "    }\n",
       "\n",
       "    .dataframe tbody tr th {\n",
       "        vertical-align: top;\n",
       "    }\n",
       "\n",
       "    .dataframe thead th {\n",
       "        text-align: right;\n",
       "    }\n",
       "</style>\n",
       "<table border=\"1\" class=\"dataframe\">\n",
       "  <thead>\n",
       "    <tr style=\"text-align: right;\">\n",
       "      <th></th>\n",
       "      <th>2020 인구</th>\n",
       "      <th>면적(㎢)</th>\n",
       "    </tr>\n",
       "  </thead>\n",
       "  <tbody>\n",
       "    <tr>\n",
       "      <th>서울</th>\n",
       "      <td>9602000</td>\n",
       "      <td>605.2</td>\n",
       "    </tr>\n",
       "    <tr>\n",
       "      <th>부산</th>\n",
       "      <td>3344000</td>\n",
       "      <td>770.1</td>\n",
       "    </tr>\n",
       "    <tr>\n",
       "      <th>광주</th>\n",
       "      <td>1488000</td>\n",
       "      <td>501.1</td>\n",
       "    </tr>\n",
       "    <tr>\n",
       "      <th>대구</th>\n",
       "      <td>2419000</td>\n",
       "      <td>883.5</td>\n",
       "    </tr>\n",
       "  </tbody>\n",
       "</table>\n",
       "</div>"
      ],
      "text/plain": [
       "    2020 인구  면적(㎢)\n",
       "서울  9602000  605.2\n",
       "부산  3344000  770.1\n",
       "광주  1488000  501.1\n",
       "대구  2419000  883.5"
      ]
     },
     "execution_count": 52,
     "metadata": {},
     "output_type": "execute_result"
    }
   ],
   "source": [
    "df = pd.DataFrame(data, index=['서울', '부산', '광주', '대구'],\n",
    "                 columns=['2020 인구', '면적(㎢)'])\n",
    "df"
   ]
  },
  {
   "cell_type": "code",
   "execution_count": 54,
   "id": "b65e6d0b",
   "metadata": {},
   "outputs": [
    {
     "data": {
      "text/plain": [
       "{'2020 인구': [9602000, 3344000, 1488000, 2419000],\n",
       " '면적(㎢)': [605.2, 770.1, 501.1, 883.5]}"
      ]
     },
     "execution_count": 54,
     "metadata": {},
     "output_type": "execute_result"
    }
   ],
   "source": [
    "# 딕셔너리 형태로 DataFrame 생성하기\n",
    "# 실제 들어갈 데이터(컬럼 이름, 실 데이터), index만 지정\n",
    "data = {'2020 인구':[9602000,3344000,1488000,2419000],\n",
    "        '면적(㎢)':[605.2, 770.1, 501.1, 883.5]}\n",
    "data"
   ]
  },
  {
   "cell_type": "code",
   "execution_count": 56,
   "id": "f159f7dc",
   "metadata": {},
   "outputs": [
    {
     "data": {
      "text/html": [
       "<div>\n",
       "<style scoped>\n",
       "    .dataframe tbody tr th:only-of-type {\n",
       "        vertical-align: middle;\n",
       "    }\n",
       "\n",
       "    .dataframe tbody tr th {\n",
       "        vertical-align: top;\n",
       "    }\n",
       "\n",
       "    .dataframe thead th {\n",
       "        text-align: right;\n",
       "    }\n",
       "</style>\n",
       "<table border=\"1\" class=\"dataframe\">\n",
       "  <thead>\n",
       "    <tr style=\"text-align: right;\">\n",
       "      <th></th>\n",
       "      <th>2020 인구</th>\n",
       "      <th>면적(㎢)</th>\n",
       "    </tr>\n",
       "  </thead>\n",
       "  <tbody>\n",
       "    <tr>\n",
       "      <th>서울</th>\n",
       "      <td>9602000</td>\n",
       "      <td>605.2</td>\n",
       "    </tr>\n",
       "    <tr>\n",
       "      <th>부산</th>\n",
       "      <td>3344000</td>\n",
       "      <td>770.1</td>\n",
       "    </tr>\n",
       "    <tr>\n",
       "      <th>광주</th>\n",
       "      <td>1488000</td>\n",
       "      <td>501.1</td>\n",
       "    </tr>\n",
       "    <tr>\n",
       "      <th>대구</th>\n",
       "      <td>2419000</td>\n",
       "      <td>883.5</td>\n",
       "    </tr>\n",
       "  </tbody>\n",
       "</table>\n",
       "</div>"
      ],
      "text/plain": [
       "    2020 인구  면적(㎢)\n",
       "서울  9602000  605.2\n",
       "부산  3344000  770.1\n",
       "광주  1488000  501.1\n",
       "대구  2419000  883.5"
      ]
     },
     "execution_count": 56,
     "metadata": {},
     "output_type": "execute_result"
    }
   ],
   "source": [
    "df = pd.DataFrame(data, index = ['서울', '부산', '광주', '대구'])\n",
    "df"
   ]
  },
  {
   "cell_type": "code",
   "execution_count": 59,
   "id": "c80a827c",
   "metadata": {},
   "outputs": [
    {
     "data": {
      "text/plain": [
       "[[175.3, 66.2, 27.0], [180.2, 78.9, 49.0], [178.6, 55.1, 35.0]]"
      ]
     },
     "execution_count": 59,
     "metadata": {},
     "output_type": "execute_result"
    }
   ],
   "source": [
    "data2 = [[175.3, 66.2, 27.0],[180.2, 78.9, 49.0], [178.6, 55.1, 35.0]]\n",
    "data2"
   ]
  },
  {
   "cell_type": "code",
   "execution_count": 61,
   "id": "589ccf2c",
   "metadata": {},
   "outputs": [
    {
     "data": {
      "text/html": [
       "<div>\n",
       "<style scoped>\n",
       "    .dataframe tbody tr th:only-of-type {\n",
       "        vertical-align: middle;\n",
       "    }\n",
       "\n",
       "    .dataframe tbody tr th {\n",
       "        vertical-align: top;\n",
       "    }\n",
       "\n",
       "    .dataframe thead th {\n",
       "        text-align: right;\n",
       "    }\n",
       "</style>\n",
       "<table border=\"1\" class=\"dataframe\">\n",
       "  <thead>\n",
       "    <tr style=\"text-align: right;\">\n",
       "      <th></th>\n",
       "      <th>키</th>\n",
       "      <th>몸무게</th>\n",
       "      <th>나이</th>\n",
       "    </tr>\n",
       "  </thead>\n",
       "  <tbody>\n",
       "    <tr>\n",
       "      <th>홍길동</th>\n",
       "      <td>175.3</td>\n",
       "      <td>66.2</td>\n",
       "      <td>27.0</td>\n",
       "    </tr>\n",
       "    <tr>\n",
       "      <th>김사또</th>\n",
       "      <td>180.2</td>\n",
       "      <td>78.9</td>\n",
       "      <td>49.0</td>\n",
       "    </tr>\n",
       "    <tr>\n",
       "      <th>임꺽정</th>\n",
       "      <td>178.6</td>\n",
       "      <td>55.1</td>\n",
       "      <td>35.0</td>\n",
       "    </tr>\n",
       "  </tbody>\n",
       "</table>\n",
       "</div>"
      ],
      "text/plain": [
       "         키   몸무게    나이\n",
       "홍길동  175.3  66.2  27.0\n",
       "김사또  180.2  78.9  49.0\n",
       "임꺽정  178.6  55.1  35.0"
      ]
     },
     "execution_count": 61,
     "metadata": {},
     "output_type": "execute_result"
    }
   ],
   "source": [
    "df2 = pd.DataFrame(data2, index=['홍길동', '김사또', '임꺽정'],\n",
    "                 columns=['키', '몸무게','나이'])\n",
    "df2"
   ]
  },
  {
   "cell_type": "code",
   "execution_count": 63,
   "id": "65009908",
   "metadata": {},
   "outputs": [
    {
     "data": {
      "text/plain": [
       "[[175.3, 180.2, 178.6], [66.2, 78.9, 55.1], [27.0, 49.0, 35.0]]"
      ]
     },
     "execution_count": 63,
     "metadata": {},
     "output_type": "execute_result"
    }
   ],
   "source": [
    "data3 = [[175.3, 180.2, 178.6], [66.2, 78.9, 55.1], [27.0, 49.0, 35.0]]\n",
    "data3"
   ]
  },
  {
   "cell_type": "code",
   "execution_count": 64,
   "id": "7078dbc3",
   "metadata": {
    "scrolled": true
   },
   "outputs": [
    {
     "data": {
      "text/html": [
       "<div>\n",
       "<style scoped>\n",
       "    .dataframe tbody tr th:only-of-type {\n",
       "        vertical-align: middle;\n",
       "    }\n",
       "\n",
       "    .dataframe tbody tr th {\n",
       "        vertical-align: top;\n",
       "    }\n",
       "\n",
       "    .dataframe thead th {\n",
       "        text-align: right;\n",
       "    }\n",
       "</style>\n",
       "<table border=\"1\" class=\"dataframe\">\n",
       "  <thead>\n",
       "    <tr style=\"text-align: right;\">\n",
       "      <th></th>\n",
       "      <th>홍길동</th>\n",
       "      <th>김사또</th>\n",
       "      <th>임꺽정</th>\n",
       "    </tr>\n",
       "  </thead>\n",
       "  <tbody>\n",
       "    <tr>\n",
       "      <th>키</th>\n",
       "      <td>175.3</td>\n",
       "      <td>180.2</td>\n",
       "      <td>178.6</td>\n",
       "    </tr>\n",
       "    <tr>\n",
       "      <th>몸무게</th>\n",
       "      <td>66.2</td>\n",
       "      <td>78.9</td>\n",
       "      <td>55.1</td>\n",
       "    </tr>\n",
       "    <tr>\n",
       "      <th>나이</th>\n",
       "      <td>27.0</td>\n",
       "      <td>49.0</td>\n",
       "      <td>35.0</td>\n",
       "    </tr>\n",
       "  </tbody>\n",
       "</table>\n",
       "</div>"
      ],
      "text/plain": [
       "       홍길동    김사또    임꺽정\n",
       "키    175.3  180.2  178.6\n",
       "몸무게   66.2   78.9   55.1\n",
       "나이    27.0   49.0   35.0"
      ]
     },
     "execution_count": 64,
     "metadata": {},
     "output_type": "execute_result"
    }
   ],
   "source": [
    "df3 = pd.DataFrame(data3, index=['키', '몸무게', '나이'],\n",
    "                 columns=['홍길동', '김사또','임꺽정'])\n",
    "df3"
   ]
  },
  {
   "cell_type": "code",
   "execution_count": null,
   "id": "e5d98ae6",
   "metadata": {},
   "outputs": [],
   "source": [
    "data = [[175.3, 180.2, 178.6], [66.2, 78.9, 55.1], [27.0, 49.0, 35.0]]\n",
    "data3"
   ]
  },
  {
   "cell_type": "code",
   "execution_count": 65,
   "id": "668cf7a8",
   "metadata": {},
   "outputs": [
    {
     "data": {
      "text/html": [
       "<div>\n",
       "<style scoped>\n",
       "    .dataframe tbody tr th:only-of-type {\n",
       "        vertical-align: middle;\n",
       "    }\n",
       "\n",
       "    .dataframe tbody tr th {\n",
       "        vertical-align: top;\n",
       "    }\n",
       "\n",
       "    .dataframe thead th {\n",
       "        text-align: right;\n",
       "    }\n",
       "</style>\n",
       "<table border=\"1\" class=\"dataframe\">\n",
       "  <thead>\n",
       "    <tr style=\"text-align: right;\">\n",
       "      <th></th>\n",
       "      <th>홍길동</th>\n",
       "      <th>김사또</th>\n",
       "      <th>임꺽정</th>\n",
       "    </tr>\n",
       "  </thead>\n",
       "  <tbody>\n",
       "    <tr>\n",
       "      <th>키</th>\n",
       "      <td>175.3</td>\n",
       "      <td>180.2</td>\n",
       "      <td>178.6</td>\n",
       "    </tr>\n",
       "    <tr>\n",
       "      <th>몸무게</th>\n",
       "      <td>66.2</td>\n",
       "      <td>78.9</td>\n",
       "      <td>55.1</td>\n",
       "    </tr>\n",
       "    <tr>\n",
       "      <th>나이</th>\n",
       "      <td>27.0</td>\n",
       "      <td>49.0</td>\n",
       "      <td>35.0</td>\n",
       "    </tr>\n",
       "  </tbody>\n",
       "</table>\n",
       "</div>"
      ],
      "text/plain": [
       "       홍길동    김사또    임꺽정\n",
       "키    175.3  180.2  178.6\n",
       "몸무게   66.2   78.9   55.1\n",
       "나이    27.0   49.0   35.0"
      ]
     },
     "execution_count": 65,
     "metadata": {},
     "output_type": "execute_result"
    }
   ],
   "source": [
    "data = [[175.3, 180.2, 178.6], [66.2, 78.9, 55.1], [27.0, 49.0, 35.0]]\n",
    "df1 = pd.DataFrame(data, index = ['키', '몸무게', '나이'],\n",
    "                  columns = ['홍길동', '김사또', '임꺽정'])\n",
    "df1"
   ]
  },
  {
   "cell_type": "code",
   "execution_count": 66,
   "id": "8bf8a462",
   "metadata": {},
   "outputs": [
    {
     "name": "stdout",
     "output_type": "stream",
     "text": [
      "    2020 인구  면적(㎢)\n",
      "서울  9602000  605.2\n",
      "부산  3344000  770.1\n",
      "광주  1488000  501.1\n",
      "대구  2419000  883.5\n",
      "                서울         부산         광주         대구\n",
      "2020 인구  9602000.0  3344000.0  1488000.0  2419000.0\n",
      "면적(㎢)        605.2      770.1      501.1      883.5\n"
     ]
    }
   ],
   "source": [
    "# .T -> DataFrame의 인덱스와 컬럼의 위치를 회전시키는 속성\n",
    "print(df)\n",
    "print(df.T)"
   ]
  },
  {
   "cell_type": "code",
   "execution_count": 67,
   "id": "b2f5f489",
   "metadata": {},
   "outputs": [
    {
     "data": {
      "text/html": [
       "<div>\n",
       "<style scoped>\n",
       "    .dataframe tbody tr th:only-of-type {\n",
       "        vertical-align: middle;\n",
       "    }\n",
       "\n",
       "    .dataframe tbody tr th {\n",
       "        vertical-align: top;\n",
       "    }\n",
       "\n",
       "    .dataframe thead th {\n",
       "        text-align: right;\n",
       "    }\n",
       "</style>\n",
       "<table border=\"1\" class=\"dataframe\">\n",
       "  <thead>\n",
       "    <tr style=\"text-align: right;\">\n",
       "      <th></th>\n",
       "      <th>홍길동</th>\n",
       "      <th>김사또</th>\n",
       "      <th>임꺽정</th>\n",
       "    </tr>\n",
       "  </thead>\n",
       "  <tbody>\n",
       "    <tr>\n",
       "      <th>키</th>\n",
       "      <td>175.3</td>\n",
       "      <td>180.2</td>\n",
       "      <td>178.6</td>\n",
       "    </tr>\n",
       "    <tr>\n",
       "      <th>몸무게</th>\n",
       "      <td>66.2</td>\n",
       "      <td>78.9</td>\n",
       "      <td>55.1</td>\n",
       "    </tr>\n",
       "    <tr>\n",
       "      <th>나이</th>\n",
       "      <td>27.0</td>\n",
       "      <td>49.0</td>\n",
       "      <td>35.0</td>\n",
       "    </tr>\n",
       "  </tbody>\n",
       "</table>\n",
       "</div>"
      ],
      "text/plain": [
       "       홍길동    김사또    임꺽정\n",
       "키    175.3  180.2  178.6\n",
       "몸무게   66.2   78.9   55.1\n",
       "나이    27.0   49.0   35.0"
      ]
     },
     "metadata": {},
     "output_type": "display_data"
    },
    {
     "data": {
      "text/html": [
       "<div>\n",
       "<style scoped>\n",
       "    .dataframe tbody tr th:only-of-type {\n",
       "        vertical-align: middle;\n",
       "    }\n",
       "\n",
       "    .dataframe tbody tr th {\n",
       "        vertical-align: top;\n",
       "    }\n",
       "\n",
       "    .dataframe thead th {\n",
       "        text-align: right;\n",
       "    }\n",
       "</style>\n",
       "<table border=\"1\" class=\"dataframe\">\n",
       "  <thead>\n",
       "    <tr style=\"text-align: right;\">\n",
       "      <th></th>\n",
       "      <th>키</th>\n",
       "      <th>몸무게</th>\n",
       "      <th>나이</th>\n",
       "    </tr>\n",
       "  </thead>\n",
       "  <tbody>\n",
       "    <tr>\n",
       "      <th>홍길동</th>\n",
       "      <td>175.3</td>\n",
       "      <td>66.2</td>\n",
       "      <td>27.0</td>\n",
       "    </tr>\n",
       "    <tr>\n",
       "      <th>김사또</th>\n",
       "      <td>180.2</td>\n",
       "      <td>78.9</td>\n",
       "      <td>49.0</td>\n",
       "    </tr>\n",
       "    <tr>\n",
       "      <th>임꺽정</th>\n",
       "      <td>178.6</td>\n",
       "      <td>55.1</td>\n",
       "      <td>35.0</td>\n",
       "    </tr>\n",
       "  </tbody>\n",
       "</table>\n",
       "</div>"
      ],
      "text/plain": [
       "         키   몸무게    나이\n",
       "홍길동  175.3  66.2  27.0\n",
       "김사또  180.2  78.9  49.0\n",
       "임꺽정  178.6  55.1  35.0"
      ]
     },
     "metadata": {},
     "output_type": "display_data"
    }
   ],
   "source": [
    "# display()\n",
    "display(df1)\n",
    "display(df1.T)"
   ]
  },
  {
   "cell_type": "code",
   "execution_count": 69,
   "id": "48657160",
   "metadata": {},
   "outputs": [
    {
     "data": {
      "text/plain": [
       "array([[175.3, 180.2, 178.6],\n",
       "       [ 66.2,  78.9,  55.1],\n",
       "       [ 27. ,  49. ,  35. ]])"
      ]
     },
     "execution_count": 69,
     "metadata": {},
     "output_type": "execute_result"
    }
   ],
   "source": [
    "# DataFrame의 여러가지 속성 확인하기\n",
    "# 1. values\n",
    "df1.values"
   ]
  },
  {
   "cell_type": "code",
   "execution_count": 70,
   "id": "68a09715",
   "metadata": {},
   "outputs": [
    {
     "data": {
      "text/plain": [
       "Index(['키', '몸무게', '나이'], dtype='object')"
      ]
     },
     "execution_count": 70,
     "metadata": {},
     "output_type": "execute_result"
    }
   ],
   "source": [
    "# index만 가지고 오기\n",
    "df1.index"
   ]
  },
  {
   "cell_type": "code",
   "execution_count": 71,
   "id": "a205fa49",
   "metadata": {},
   "outputs": [
    {
     "data": {
      "text/plain": [
       "Index(['홍길동', '김사또', '임꺽정'], dtype='object')"
      ]
     },
     "execution_count": 71,
     "metadata": {},
     "output_type": "execute_result"
    }
   ],
   "source": [
    "# columns 만 가지고 오기\n",
    "df1.columns"
   ]
  },
  {
   "cell_type": "code",
   "execution_count": 76,
   "id": "7fc63e50",
   "metadata": {},
   "outputs": [
    {
     "data": {
      "text/html": [
       "<div>\n",
       "<style scoped>\n",
       "    .dataframe tbody tr th:only-of-type {\n",
       "        vertical-align: middle;\n",
       "    }\n",
       "\n",
       "    .dataframe tbody tr th {\n",
       "        vertical-align: top;\n",
       "    }\n",
       "\n",
       "    .dataframe thead th {\n",
       "        text-align: right;\n",
       "    }\n",
       "</style>\n",
       "<table border=\"1\" class=\"dataframe\">\n",
       "  <thead>\n",
       "    <tr style=\"text-align: right;\">\n",
       "      <th></th>\n",
       "      <th>2020 인구</th>\n",
       "      <th>면적(㎢)</th>\n",
       "      <th>2020 인구밀도</th>\n",
       "    </tr>\n",
       "  </thead>\n",
       "  <tbody>\n",
       "    <tr>\n",
       "      <th>서울</th>\n",
       "      <td>9602000</td>\n",
       "      <td>605.2</td>\n",
       "      <td>15871</td>\n",
       "    </tr>\n",
       "    <tr>\n",
       "      <th>부산</th>\n",
       "      <td>3344000</td>\n",
       "      <td>770.1</td>\n",
       "      <td>4342</td>\n",
       "    </tr>\n",
       "    <tr>\n",
       "      <th>광주</th>\n",
       "      <td>1488000</td>\n",
       "      <td>501.1</td>\n",
       "      <td>2970</td>\n",
       "    </tr>\n",
       "    <tr>\n",
       "      <th>대구</th>\n",
       "      <td>2419000</td>\n",
       "      <td>883.5</td>\n",
       "      <td>2739</td>\n",
       "    </tr>\n",
       "  </tbody>\n",
       "</table>\n",
       "</div>"
      ],
      "text/plain": [
       "    2020 인구  면적(㎢)  2020 인구밀도\n",
       "서울  9602000  605.2      15871\n",
       "부산  3344000  770.1       4342\n",
       "광주  1488000  501.1       2970\n",
       "대구  2419000  883.5       2739"
      ]
     },
     "execution_count": 76,
     "metadata": {},
     "output_type": "execute_result"
    }
   ],
   "source": [
    "df['2020 인구밀도'] = df['2020 인구'] // df['면적(㎢)'].astype('int')\n",
    "df"
   ]
  },
  {
   "cell_type": "code",
   "execution_count": 82,
   "id": "d967b903",
   "metadata": {},
   "outputs": [
    {
     "data": {
      "text/plain": [
       "java         95\n",
       "python      100\n",
       "ml           85\n",
       "html/css     70\n",
       "dtype: int64"
      ]
     },
     "execution_count": 82,
     "metadata": {},
     "output_type": "execute_result"
    }
   ],
   "source": [
    "# Pandas의 인덱싱 슬라이싱\n",
    "student = pd.Series({'java':95, 'python':100, 'ml':85, 'html/css':70})\n",
    "student "
   ]
  },
  {
   "cell_type": "code",
   "execution_count": 147,
   "id": "48944848",
   "metadata": {},
   "outputs": [
    {
     "name": "stdout",
     "output_type": "stream",
     "text": [
      "100\n",
      "100\n",
      "python    100\n",
      "dtype: int64\n"
     ]
    }
   ],
   "source": [
    "# 인덱싱을 사용하여 python점수 인덱싱 하기\n",
    "# 변수명[인덱스 번호/이름]\n",
    "print(student[1])\n",
    "print(student['python'])\n",
    "print(student[['python']]) ## [['python']] 를 출력하면 python의 모든 값을 출력함 # ['python']을 입력하면 python 점수만 출력"
   ]
  },
  {
   "cell_type": "code",
   "execution_count": 114,
   "id": "2923c1e0",
   "metadata": {},
   "outputs": [
    {
     "data": {
      "text/plain": [
       "python      100\n",
       "html/css     70\n",
       "ml           85\n",
       "dtype: int64"
      ]
     },
     "execution_count": 114,
     "metadata": {},
     "output_type": "execute_result"
    }
   ],
   "source": [
    "# python, html/css, ml -> 한번에 인덱싱 해오기\n",
    "student[[1, 3, 2]]"
   ]
  },
  {
   "cell_type": "code",
   "execution_count": 115,
   "id": "0264c6c3",
   "metadata": {},
   "outputs": [
    {
     "name": "stdout",
     "output_type": "stream",
     "text": [
      "100 70 85\n"
     ]
    }
   ],
   "source": [
    "print(student['python'],student['html/css'],student['ml'])"
   ]
  },
  {
   "cell_type": "code",
   "execution_count": 123,
   "id": "15824cde",
   "metadata": {},
   "outputs": [
    {
     "data": {
      "text/plain": [
       "java       95\n",
       "python    100\n",
       "ml         85\n",
       "dtype: int64"
      ]
     },
     "execution_count": 123,
     "metadata": {},
     "output_type": "execute_result"
    }
   ],
   "source": [
    "# Series의 boolean 색인 사용하기 -> [비교 조건]\n",
    "# student로부터 85 이상의 점수 찾아오기\n",
    "result = student[student >= 85]\n",
    "result"
   ]
  },
  {
   "cell_type": "code",
   "execution_count": 138,
   "id": "3e0d9ad9",
   "metadata": {},
   "outputs": [
    {
     "data": {
      "text/plain": [
       "ml    85\n",
       "dtype: int64"
      ]
     },
     "execution_count": 138,
     "metadata": {},
     "output_type": "execute_result"
    }
   ],
   "source": [
    "# and, or 접목되는 비교 연산도 사용 가능\n",
    "# pands and -> & / or -> |\n",
    "# 성적이 75점 이상 90 미만인 과목 찾아내기\n",
    "student[student >= 75] & student[student < 90]\n",
    "student[(student >= 75) & (student < 90)]"
   ]
  },
  {
   "cell_type": "code",
   "execution_count": 133,
   "id": "a4c3e9c6",
   "metadata": {},
   "outputs": [
    {
     "data": {
      "text/plain": [
       "ml    85\n",
       "dtype: int64"
      ]
     },
     "execution_count": 133,
     "metadata": {},
     "output_type": "execute_result"
    }
   ],
   "source": [
    "result = student[student >= 75]\n",
    "result"
   ]
  },
  {
   "cell_type": "code",
   "execution_count": 148,
   "id": "7edffdd6",
   "metadata": {},
   "outputs": [
    {
     "name": "stdout",
     "output_type": "stream",
     "text": [
      "java       95\n",
      "python    100\n",
      "dtype: int64\n",
      "\n",
      "java       95\n",
      "python    100\n",
      "dtype: int64\n",
      "\n",
      "java       95\n",
      "python    100\n",
      "ml         85\n",
      "dtype: int64\n"
     ]
    }
   ],
   "source": [
    "# Series의 슬라이싱 \n",
    "# 인덱스 번호를 사용하는 경우 : student[시작 이상 : 끝 미만]\n",
    "# 실제 index 이름을 사용하는 경우 : student[시작 이름 : 끝 이름]\n",
    "print(student[0:2])\n",
    "print()\n",
    "print(student[:2])\n",
    "print()\n",
    "print(student['java' : 'python'])"
   ]
  },
  {
   "cell_type": "code",
   "execution_count": 149,
   "id": "43fa1f56",
   "metadata": {},
   "outputs": [
    {
     "data": {
      "text/html": [
       "<div>\n",
       "<style scoped>\n",
       "    .dataframe tbody tr th:only-of-type {\n",
       "        vertical-align: middle;\n",
       "    }\n",
       "\n",
       "    .dataframe tbody tr th {\n",
       "        vertical-align: top;\n",
       "    }\n",
       "\n",
       "    .dataframe thead th {\n",
       "        text-align: right;\n",
       "    }\n",
       "</style>\n",
       "<table border=\"1\" class=\"dataframe\">\n",
       "  <thead>\n",
       "    <tr style=\"text-align: right;\">\n",
       "      <th></th>\n",
       "      <th>java</th>\n",
       "      <th>python</th>\n",
       "      <th>ml</th>\n",
       "      <th>html/css</th>\n",
       "    </tr>\n",
       "  </thead>\n",
       "  <tbody>\n",
       "    <tr>\n",
       "      <th>홍길동</th>\n",
       "      <td>95</td>\n",
       "      <td>100</td>\n",
       "      <td>85</td>\n",
       "      <td>70</td>\n",
       "    </tr>\n",
       "    <tr>\n",
       "      <th>김길동</th>\n",
       "      <td>85</td>\n",
       "      <td>95</td>\n",
       "      <td>85</td>\n",
       "      <td>75</td>\n",
       "    </tr>\n",
       "  </tbody>\n",
       "</table>\n",
       "</div>"
      ],
      "text/plain": [
       "     java  python  ml  html/css\n",
       "홍길동    95     100  85        70\n",
       "김길동    85      95  85        75"
      ]
     },
     "execution_count": 149,
     "metadata": {},
     "output_type": "execute_result"
    }
   ],
   "source": [
    "# ME\n",
    "stu = [[95, 100, 85, 70], [85, 95, 85, 75]]\n",
    "df = pd.DataFrame(stu, index=['홍길동', '김길동'],\n",
    "                 columns=['java', 'python', 'ml', 'html/css'])\n",
    "df"
   ]
  },
  {
   "cell_type": "code",
   "execution_count": 152,
   "id": "71f5557a",
   "metadata": {},
   "outputs": [
    {
     "data": {
      "text/html": [
       "<div>\n",
       "<style scoped>\n",
       "    .dataframe tbody tr th:only-of-type {\n",
       "        vertical-align: middle;\n",
       "    }\n",
       "\n",
       "    .dataframe tbody tr th {\n",
       "        vertical-align: top;\n",
       "    }\n",
       "\n",
       "    .dataframe thead th {\n",
       "        text-align: right;\n",
       "    }\n",
       "</style>\n",
       "<table border=\"1\" class=\"dataframe\">\n",
       "  <thead>\n",
       "    <tr style=\"text-align: right;\">\n",
       "      <th></th>\n",
       "      <th>java</th>\n",
       "      <th>python</th>\n",
       "      <th>ml</th>\n",
       "      <th>html/css</th>\n",
       "    </tr>\n",
       "  </thead>\n",
       "  <tbody>\n",
       "    <tr>\n",
       "      <th>홍길동</th>\n",
       "      <td>95</td>\n",
       "      <td>100</td>\n",
       "      <td>85</td>\n",
       "      <td>70</td>\n",
       "    </tr>\n",
       "    <tr>\n",
       "      <th>김길동</th>\n",
       "      <td>85</td>\n",
       "      <td>95</td>\n",
       "      <td>85</td>\n",
       "      <td>75</td>\n",
       "    </tr>\n",
       "  </tbody>\n",
       "</table>\n",
       "</div>"
      ],
      "text/plain": [
       "     java  python  ml  html/css\n",
       "홍길동    95     100  85        70\n",
       "김길동    85      95  85        75"
      ]
     },
     "execution_count": 152,
     "metadata": {},
     "output_type": "execute_result"
    }
   ],
   "source": [
    "# CLASS\n",
    "df_stu = pd.DataFrame({'java':[95,85], 'python':[100,95],\n",
    "                       'ml':[85,85], 'html/css':[70,75]},\n",
    "                      index = ['홍길동', '김길동'])\n",
    "df_stu"
   ]
  },
  {
   "cell_type": "code",
   "execution_count": 153,
   "id": "31d214cb",
   "metadata": {},
   "outputs": [
    {
     "data": {
      "text/plain": [
       "홍길동    100\n",
       "김길동     95\n",
       "Name: python, dtype: int64"
      ]
     },
     "execution_count": 153,
     "metadata": {},
     "output_type": "execute_result"
    }
   ],
   "source": [
    "df_stu['python']"
   ]
  },
  {
   "cell_type": "code",
   "execution_count": 154,
   "id": "ad779cc8",
   "metadata": {},
   "outputs": [
    {
     "data": {
      "text/html": [
       "<div>\n",
       "<style scoped>\n",
       "    .dataframe tbody tr th:only-of-type {\n",
       "        vertical-align: middle;\n",
       "    }\n",
       "\n",
       "    .dataframe tbody tr th {\n",
       "        vertical-align: top;\n",
       "    }\n",
       "\n",
       "    .dataframe thead th {\n",
       "        text-align: right;\n",
       "    }\n",
       "</style>\n",
       "<table border=\"1\" class=\"dataframe\">\n",
       "  <thead>\n",
       "    <tr style=\"text-align: right;\">\n",
       "      <th></th>\n",
       "      <th>python</th>\n",
       "    </tr>\n",
       "  </thead>\n",
       "  <tbody>\n",
       "    <tr>\n",
       "      <th>홍길동</th>\n",
       "      <td>100</td>\n",
       "    </tr>\n",
       "    <tr>\n",
       "      <th>김길동</th>\n",
       "      <td>95</td>\n",
       "    </tr>\n",
       "  </tbody>\n",
       "</table>\n",
       "</div>"
      ],
      "text/plain": [
       "     python\n",
       "홍길동     100\n",
       "김길동      95"
      ]
     },
     "execution_count": 154,
     "metadata": {},
     "output_type": "execute_result"
    }
   ],
   "source": [
    "# 찾고자 하는 값을 원본에 다시 넣어주면 DataFrame형태로 반환됨\n",
    "df_stu[['python']]"
   ]
  },
  {
   "cell_type": "code",
   "execution_count": 155,
   "id": "93e7fedb",
   "metadata": {},
   "outputs": [
    {
     "data": {
      "text/html": [
       "<div>\n",
       "<style scoped>\n",
       "    .dataframe tbody tr th:only-of-type {\n",
       "        vertical-align: middle;\n",
       "    }\n",
       "\n",
       "    .dataframe tbody tr th {\n",
       "        vertical-align: top;\n",
       "    }\n",
       "\n",
       "    .dataframe thead th {\n",
       "        text-align: right;\n",
       "    }\n",
       "</style>\n",
       "<table border=\"1\" class=\"dataframe\">\n",
       "  <thead>\n",
       "    <tr style=\"text-align: right;\">\n",
       "      <th></th>\n",
       "      <th>python</th>\n",
       "      <th>ml</th>\n",
       "      <th>java</th>\n",
       "    </tr>\n",
       "  </thead>\n",
       "  <tbody>\n",
       "    <tr>\n",
       "      <th>홍길동</th>\n",
       "      <td>100</td>\n",
       "      <td>85</td>\n",
       "      <td>95</td>\n",
       "    </tr>\n",
       "    <tr>\n",
       "      <th>김길동</th>\n",
       "      <td>95</td>\n",
       "      <td>85</td>\n",
       "      <td>85</td>\n",
       "    </tr>\n",
       "  </tbody>\n",
       "</table>\n",
       "</div>"
      ],
      "text/plain": [
       "     python  ml  java\n",
       "홍길동     100  85    95\n",
       "김길동      95  85    85"
      ]
     },
     "execution_count": 155,
     "metadata": {},
     "output_type": "execute_result"
    }
   ],
   "source": [
    "df_stu[['python','ml','java']]"
   ]
  },
  {
   "cell_type": "code",
   "execution_count": 164,
   "id": "a76561a8",
   "metadata": {},
   "outputs": [
    {
     "data": {
      "text/html": [
       "<div>\n",
       "<style scoped>\n",
       "    .dataframe tbody tr th:only-of-type {\n",
       "        vertical-align: middle;\n",
       "    }\n",
       "\n",
       "    .dataframe tbody tr th {\n",
       "        vertical-align: top;\n",
       "    }\n",
       "\n",
       "    .dataframe thead th {\n",
       "        text-align: right;\n",
       "    }\n",
       "</style>\n",
       "<table border=\"1\" class=\"dataframe\">\n",
       "  <thead>\n",
       "    <tr style=\"text-align: right;\">\n",
       "      <th></th>\n",
       "      <th>java</th>\n",
       "      <th>python</th>\n",
       "      <th>ml</th>\n",
       "      <th>html/css</th>\n",
       "    </tr>\n",
       "  </thead>\n",
       "  <tbody>\n",
       "    <tr>\n",
       "      <th>홍길동</th>\n",
       "      <td>95</td>\n",
       "      <td>100</td>\n",
       "      <td>85</td>\n",
       "      <td>70</td>\n",
       "    </tr>\n",
       "  </tbody>\n",
       "</table>\n",
       "</div>"
      ],
      "text/plain": [
       "     java  python  ml  html/css\n",
       "홍길동    95     100  85        70"
      ]
     },
     "execution_count": 164,
     "metadata": {},
     "output_type": "execute_result"
    }
   ],
   "source": [
    "# df_stu로부터 홍길동에 해당하는 행의 값 가져오기\n",
    "df_stu[0:1]"
   ]
  },
  {
   "cell_type": "code",
   "execution_count": 168,
   "id": "6f9de9dd",
   "metadata": {},
   "outputs": [
    {
     "data": {
      "text/html": [
       "<div>\n",
       "<style scoped>\n",
       "    .dataframe tbody tr th:only-of-type {\n",
       "        vertical-align: middle;\n",
       "    }\n",
       "\n",
       "    .dataframe tbody tr th {\n",
       "        vertical-align: top;\n",
       "    }\n",
       "\n",
       "    .dataframe thead th {\n",
       "        text-align: right;\n",
       "    }\n",
       "</style>\n",
       "<table border=\"1\" class=\"dataframe\">\n",
       "  <thead>\n",
       "    <tr style=\"text-align: right;\">\n",
       "      <th></th>\n",
       "      <th>java</th>\n",
       "      <th>python</th>\n",
       "      <th>ml</th>\n",
       "      <th>html/css</th>\n",
       "    </tr>\n",
       "  </thead>\n",
       "  <tbody>\n",
       "    <tr>\n",
       "      <th>홍길동</th>\n",
       "      <td>95</td>\n",
       "      <td>100</td>\n",
       "      <td>85</td>\n",
       "      <td>70</td>\n",
       "    </tr>\n",
       "  </tbody>\n",
       "</table>\n",
       "</div>"
      ],
      "text/plain": [
       "     java  python  ml  html/css\n",
       "홍길동    95     100  85        70"
      ]
     },
     "execution_count": 168,
     "metadata": {},
     "output_type": "execute_result"
    }
   ],
   "source": [
    "df_stu['홍길동':'홍길동']"
   ]
  },
  {
   "cell_type": "code",
   "execution_count": 171,
   "id": "b3ac78ad",
   "metadata": {},
   "outputs": [
    {
     "data": {
      "text/html": [
       "<div>\n",
       "<style scoped>\n",
       "    .dataframe tbody tr th:only-of-type {\n",
       "        vertical-align: middle;\n",
       "    }\n",
       "\n",
       "    .dataframe tbody tr th {\n",
       "        vertical-align: top;\n",
       "    }\n",
       "\n",
       "    .dataframe thead th {\n",
       "        text-align: right;\n",
       "    }\n",
       "</style>\n",
       "<table border=\"1\" class=\"dataframe\">\n",
       "  <thead>\n",
       "    <tr style=\"text-align: right;\">\n",
       "      <th></th>\n",
       "      <th>java</th>\n",
       "      <th>python</th>\n",
       "      <th>ml</th>\n",
       "      <th>html/css</th>\n",
       "    </tr>\n",
       "  </thead>\n",
       "  <tbody>\n",
       "    <tr>\n",
       "      <th>홍길동</th>\n",
       "      <td>95</td>\n",
       "      <td>100</td>\n",
       "      <td>85</td>\n",
       "      <td>70</td>\n",
       "    </tr>\n",
       "  </tbody>\n",
       "</table>\n",
       "</div>"
      ],
      "text/plain": [
       "     java  python  ml  html/css\n",
       "홍길동    95     100  85        70"
      ]
     },
     "execution_count": 171,
     "metadata": {},
     "output_type": "execute_result"
    }
   ],
   "source": [
    "df_stu[:'홍길동']"
   ]
  },
  {
   "cell_type": "code",
   "execution_count": 174,
   "id": "9440db71",
   "metadata": {},
   "outputs": [
    {
     "data": {
      "text/plain": [
       "홍길동     True\n",
       "김길동    False\n",
       "Name: python, dtype: bool"
      ]
     },
     "execution_count": 174,
     "metadata": {},
     "output_type": "execute_result"
    }
   ],
   "source": [
    "# DataFrame의 boolean 인덱싱\n",
    "df_stu['python'] == 100"
   ]
  },
  {
   "cell_type": "code",
   "execution_count": 175,
   "id": "efbd691f",
   "metadata": {},
   "outputs": [
    {
     "data": {
      "text/html": [
       "<div>\n",
       "<style scoped>\n",
       "    .dataframe tbody tr th:only-of-type {\n",
       "        vertical-align: middle;\n",
       "    }\n",
       "\n",
       "    .dataframe tbody tr th {\n",
       "        vertical-align: top;\n",
       "    }\n",
       "\n",
       "    .dataframe thead th {\n",
       "        text-align: right;\n",
       "    }\n",
       "</style>\n",
       "<table border=\"1\" class=\"dataframe\">\n",
       "  <thead>\n",
       "    <tr style=\"text-align: right;\">\n",
       "      <th></th>\n",
       "      <th>java</th>\n",
       "      <th>python</th>\n",
       "      <th>ml</th>\n",
       "      <th>html/css</th>\n",
       "    </tr>\n",
       "  </thead>\n",
       "  <tbody>\n",
       "    <tr>\n",
       "      <th>홍길동</th>\n",
       "      <td>95</td>\n",
       "      <td>100</td>\n",
       "      <td>85</td>\n",
       "      <td>70</td>\n",
       "    </tr>\n",
       "  </tbody>\n",
       "</table>\n",
       "</div>"
      ],
      "text/plain": [
       "     java  python  ml  html/css\n",
       "홍길동    95     100  85        70"
      ]
     },
     "execution_count": 175,
     "metadata": {},
     "output_type": "execute_result"
    }
   ],
   "source": [
    "# DataFrame의 boolean 인덱싱\n",
    "df_stu[df_stu['java'] >= 90]"
   ]
  },
  {
   "cell_type": "code",
   "execution_count": 180,
   "id": "d5b8c578",
   "metadata": {},
   "outputs": [
    {
     "data": {
      "text/plain": [
       "java         95\n",
       "python      100\n",
       "ml           85\n",
       "html/css     70\n",
       "Name: 홍길동, dtype: int64"
      ]
     },
     "execution_count": 180,
     "metadata": {},
     "output_type": "execute_result"
    }
   ],
   "source": [
    "# loc[] / iloc[]\n",
    "# loc[] : 실제 인덱스명이나 컬럼명을 사용하여 인덱싱을 하는 방법\n",
    "# loc[행 이름 or 인덱스 이름]\n",
    "\n",
    "df_stu.loc['홍길동']"
   ]
  },
  {
   "cell_type": "code",
   "execution_count": 181,
   "id": "3d80c0c5",
   "metadata": {},
   "outputs": [
    {
     "data": {
      "text/plain": [
       "70"
      ]
     },
     "execution_count": 181,
     "metadata": {},
     "output_type": "execute_result"
    }
   ],
   "source": [
    "df_stu.loc['홍길동', 'html/css']"
   ]
  },
  {
   "cell_type": "code",
   "execution_count": 182,
   "id": "f09281db",
   "metadata": {},
   "outputs": [
    {
     "data": {
      "text/plain": [
       "java         95\n",
       "python      100\n",
       "ml           85\n",
       "html/css     70\n",
       "Name: 홍길동, dtype: int64"
      ]
     },
     "execution_count": 182,
     "metadata": {},
     "output_type": "execute_result"
    }
   ],
   "source": [
    "# iloc[] : numpy의 array방식으로 인덱싱 하는 방식\n",
    "df_stu.iloc[0]"
   ]
  },
  {
   "cell_type": "code",
   "execution_count": 184,
   "id": "e0259594",
   "metadata": {},
   "outputs": [
    {
     "data": {
      "text/plain": [
       "java        85\n",
       "python      95\n",
       "ml          85\n",
       "html/css    75\n",
       "Name: 김길동, dtype: int64"
      ]
     },
     "execution_count": 184,
     "metadata": {},
     "output_type": "execute_result"
    }
   ],
   "source": [
    "df_stu.iloc[1]"
   ]
  },
  {
   "cell_type": "code",
   "execution_count": 185,
   "id": "465f40a7",
   "metadata": {},
   "outputs": [
    {
     "data": {
      "text/html": [
       "<div>\n",
       "<style scoped>\n",
       "    .dataframe tbody tr th:only-of-type {\n",
       "        vertical-align: middle;\n",
       "    }\n",
       "\n",
       "    .dataframe tbody tr th {\n",
       "        vertical-align: top;\n",
       "    }\n",
       "\n",
       "    .dataframe thead th {\n",
       "        text-align: right;\n",
       "    }\n",
       "</style>\n",
       "<table border=\"1\" class=\"dataframe\">\n",
       "  <thead>\n",
       "    <tr style=\"text-align: right;\">\n",
       "      <th></th>\n",
       "      <th>java</th>\n",
       "      <th>python</th>\n",
       "      <th>ml</th>\n",
       "      <th>html/css</th>\n",
       "    </tr>\n",
       "  </thead>\n",
       "  <tbody>\n",
       "    <tr>\n",
       "      <th>홍길동</th>\n",
       "      <td>95</td>\n",
       "      <td>100</td>\n",
       "      <td>85</td>\n",
       "      <td>70</td>\n",
       "    </tr>\n",
       "    <tr>\n",
       "      <th>김길동</th>\n",
       "      <td>85</td>\n",
       "      <td>95</td>\n",
       "      <td>85</td>\n",
       "      <td>75</td>\n",
       "    </tr>\n",
       "  </tbody>\n",
       "</table>\n",
       "</div>"
      ],
      "text/plain": [
       "     java  python  ml  html/css\n",
       "홍길동    95     100  85        70\n",
       "김길동    85      95  85        75"
      ]
     },
     "execution_count": 185,
     "metadata": {},
     "output_type": "execute_result"
    }
   ],
   "source": [
    "df_stu"
   ]
  },
  {
   "cell_type": "code",
   "execution_count": 186,
   "id": "4a33648a",
   "metadata": {},
   "outputs": [
    {
     "data": {
      "text/plain": [
       "85"
      ]
     },
     "execution_count": 186,
     "metadata": {},
     "output_type": "execute_result"
    }
   ],
   "source": [
    "df_stu.iloc[0,2]"
   ]
  },
  {
   "cell_type": "code",
   "execution_count": 9,
   "id": "10000f8d",
   "metadata": {},
   "outputs": [
    {
     "data": {
      "text/html": [
       "<div>\n",
       "<style scoped>\n",
       "    .dataframe tbody tr th:only-of-type {\n",
       "        vertical-align: middle;\n",
       "    }\n",
       "\n",
       "    .dataframe tbody tr th {\n",
       "        vertical-align: top;\n",
       "    }\n",
       "\n",
       "    .dataframe thead th {\n",
       "        text-align: right;\n",
       "    }\n",
       "</style>\n",
       "<table border=\"1\" class=\"dataframe\">\n",
       "  <thead>\n",
       "    <tr style=\"text-align: right;\">\n",
       "      <th></th>\n",
       "      <th>2016</th>\n",
       "      <th>2017</th>\n",
       "      <th>2018</th>\n",
       "      <th>2019</th>\n",
       "      <th>2020</th>\n",
       "    </tr>\n",
       "    <tr>\n",
       "      <th>지역</th>\n",
       "      <th></th>\n",
       "      <th></th>\n",
       "      <th></th>\n",
       "      <th></th>\n",
       "      <th></th>\n",
       "    </tr>\n",
       "  </thead>\n",
       "  <tbody>\n",
       "    <tr>\n",
       "      <th>서울</th>\n",
       "      <td>9843000</td>\n",
       "      <td>9766000.0</td>\n",
       "      <td>9705000.0</td>\n",
       "      <td>9662000.0</td>\n",
       "      <td>9602000.0</td>\n",
       "    </tr>\n",
       "    <tr>\n",
       "      <th>부산</th>\n",
       "      <td>3447000</td>\n",
       "      <td>3424000.0</td>\n",
       "      <td>3400000.0</td>\n",
       "      <td>3373000.0</td>\n",
       "      <td>3344000.0</td>\n",
       "    </tr>\n",
       "    <tr>\n",
       "      <th>대구</th>\n",
       "      <td>2461000</td>\n",
       "      <td>2458000.0</td>\n",
       "      <td>2450000.0</td>\n",
       "      <td>2432000.0</td>\n",
       "      <td>2419000.0</td>\n",
       "    </tr>\n",
       "    <tr>\n",
       "      <th>인천</th>\n",
       "      <td>2907000</td>\n",
       "      <td>NaN</td>\n",
       "      <td>NaN</td>\n",
       "      <td>NaN</td>\n",
       "      <td>NaN</td>\n",
       "    </tr>\n",
       "    <tr>\n",
       "      <th>광주</th>\n",
       "      <td>1502000</td>\n",
       "      <td>1495000.0</td>\n",
       "      <td>1493000.0</td>\n",
       "      <td>1494000.0</td>\n",
       "      <td>1488000.0</td>\n",
       "    </tr>\n",
       "    <tr>\n",
       "      <th>대전</th>\n",
       "      <td>1536000</td>\n",
       "      <td>1528000.0</td>\n",
       "      <td>1518000.0</td>\n",
       "      <td>1509000.0</td>\n",
       "      <td>1500000.0</td>\n",
       "    </tr>\n",
       "    <tr>\n",
       "      <th>울산</th>\n",
       "      <td>1166000</td>\n",
       "      <td>1159000.0</td>\n",
       "      <td>1154000.0</td>\n",
       "      <td>1147000.0</td>\n",
       "      <td>1140000.0</td>\n",
       "    </tr>\n",
       "    <tr>\n",
       "      <th>세종</th>\n",
       "      <td>234000</td>\n",
       "      <td>266000.0</td>\n",
       "      <td>304000.0</td>\n",
       "      <td>331000.0</td>\n",
       "      <td>349000.0</td>\n",
       "    </tr>\n",
       "    <tr>\n",
       "      <th>경기</th>\n",
       "      <td>12600000</td>\n",
       "      <td>12786000.0</td>\n",
       "      <td>13031000.0</td>\n",
       "      <td>13238000.0</td>\n",
       "      <td>13405000.0</td>\n",
       "    </tr>\n",
       "    <tr>\n",
       "      <th>강원</th>\n",
       "      <td>1521000</td>\n",
       "      <td>1521000.0</td>\n",
       "      <td>1521000.0</td>\n",
       "      <td>1517000.0</td>\n",
       "      <td>1515000.0</td>\n",
       "    </tr>\n",
       "    <tr>\n",
       "      <th>충북</th>\n",
       "      <td>1601000</td>\n",
       "      <td>1609000.0</td>\n",
       "      <td>1619000.0</td>\n",
       "      <td>1626000.0</td>\n",
       "      <td>1632000.0</td>\n",
       "    </tr>\n",
       "    <tr>\n",
       "      <th>충남</th>\n",
       "      <td>2126000</td>\n",
       "      <td>2153000.0</td>\n",
       "      <td>2180000.0</td>\n",
       "      <td>2188000.0</td>\n",
       "      <td>2204000.0</td>\n",
       "    </tr>\n",
       "    <tr>\n",
       "      <th>전북</th>\n",
       "      <td>1835000</td>\n",
       "      <td>1829000.0</td>\n",
       "      <td>1820000.0</td>\n",
       "      <td>1803000.0</td>\n",
       "      <td>1792000.0</td>\n",
       "    </tr>\n",
       "    <tr>\n",
       "      <th>전남</th>\n",
       "      <td>1798000</td>\n",
       "      <td>1795000.0</td>\n",
       "      <td>1790000.0</td>\n",
       "      <td>1773000.0</td>\n",
       "      <td>1764000.0</td>\n",
       "    </tr>\n",
       "    <tr>\n",
       "      <th>경북</th>\n",
       "      <td>2683000</td>\n",
       "      <td>2675000.0</td>\n",
       "      <td>2674000.0</td>\n",
       "      <td>2665000.0</td>\n",
       "      <td>2655000.0</td>\n",
       "    </tr>\n",
       "    <tr>\n",
       "      <th>경남</th>\n",
       "      <td>3338000</td>\n",
       "      <td>3339000.0</td>\n",
       "      <td>3356000.0</td>\n",
       "      <td>3350000.0</td>\n",
       "      <td>3350000.0</td>\n",
       "    </tr>\n",
       "    <tr>\n",
       "      <th>제주</th>\n",
       "      <td>618000</td>\n",
       "      <td>635000.0</td>\n",
       "      <td>653000.0</td>\n",
       "      <td>660000.0</td>\n",
       "      <td>670000.0</td>\n",
       "    </tr>\n",
       "    <tr>\n",
       "      <th>수도권</th>\n",
       "      <td>25350000</td>\n",
       "      <td>25476000.0</td>\n",
       "      <td>25675000.0</td>\n",
       "      <td>25844000.0</td>\n",
       "      <td>25958000.0</td>\n",
       "    </tr>\n",
       "  </tbody>\n",
       "</table>\n",
       "</div>"
      ],
      "text/plain": [
       "         2016        2017        2018        2019        2020\n",
       "지역                                                           \n",
       "서울    9843000   9766000.0   9705000.0   9662000.0   9602000.0\n",
       "부산    3447000   3424000.0   3400000.0   3373000.0   3344000.0\n",
       "대구    2461000   2458000.0   2450000.0   2432000.0   2419000.0\n",
       "인천    2907000         NaN         NaN         NaN         NaN\n",
       "광주    1502000   1495000.0   1493000.0   1494000.0   1488000.0\n",
       "대전    1536000   1528000.0   1518000.0   1509000.0   1500000.0\n",
       "울산    1166000   1159000.0   1154000.0   1147000.0   1140000.0\n",
       "세종     234000    266000.0    304000.0    331000.0    349000.0\n",
       "경기   12600000  12786000.0  13031000.0  13238000.0  13405000.0\n",
       "강원    1521000   1521000.0   1521000.0   1517000.0   1515000.0\n",
       "충북    1601000   1609000.0   1619000.0   1626000.0   1632000.0\n",
       "충남    2126000   2153000.0   2180000.0   2188000.0   2204000.0\n",
       "전북    1835000   1829000.0   1820000.0   1803000.0   1792000.0\n",
       "전남    1798000   1795000.0   1790000.0   1773000.0   1764000.0\n",
       "경북    2683000   2675000.0   2674000.0   2665000.0   2655000.0\n",
       "경남    3338000   3339000.0   3356000.0   3350000.0   3350000.0\n",
       "제주     618000    635000.0    653000.0    660000.0    670000.0\n",
       "수도권  25350000  25476000.0  25675000.0  25844000.0  25958000.0"
      ]
     },
     "execution_count": 9,
     "metadata": {},
     "output_type": "execute_result"
    }
   ],
   "source": [
    "# pandas (표) 라이브러리를 통해 외부 파일 읽어오기 -> 엑셀\n",
    "# read_csv('파일명.csv', index_col, encoding)\n",
    "data = pd.read_csv('population_number(16-17).csv', index_col = '지역')\n",
    "data"
   ]
  },
  {
   "cell_type": "code",
   "execution_count": 7,
   "id": "fa5307cd",
   "metadata": {},
   "outputs": [
    {
     "data": {
      "text/html": [
       "<div>\n",
       "<style scoped>\n",
       "    .dataframe tbody tr th:only-of-type {\n",
       "        vertical-align: middle;\n",
       "    }\n",
       "\n",
       "    .dataframe tbody tr th {\n",
       "        vertical-align: top;\n",
       "    }\n",
       "\n",
       "    .dataframe thead th {\n",
       "        text-align: right;\n",
       "    }\n",
       "</style>\n",
       "<table border=\"1\" class=\"dataframe\">\n",
       "  <thead>\n",
       "    <tr style=\"text-align: right;\">\n",
       "      <th></th>\n",
       "      <th>지역</th>\n",
       "      <th>2016</th>\n",
       "      <th>2017</th>\n",
       "      <th>2018</th>\n",
       "      <th>2019</th>\n",
       "      <th>2020</th>\n",
       "    </tr>\n",
       "  </thead>\n",
       "  <tbody>\n",
       "    <tr>\n",
       "      <th>0</th>\n",
       "      <td>서울</td>\n",
       "      <td>9843000</td>\n",
       "      <td>9766000.0</td>\n",
       "      <td>9705000.0</td>\n",
       "      <td>9662000.0</td>\n",
       "      <td>9602000.0</td>\n",
       "    </tr>\n",
       "    <tr>\n",
       "      <th>1</th>\n",
       "      <td>부산</td>\n",
       "      <td>3447000</td>\n",
       "      <td>3424000.0</td>\n",
       "      <td>3400000.0</td>\n",
       "      <td>3373000.0</td>\n",
       "      <td>3344000.0</td>\n",
       "    </tr>\n",
       "    <tr>\n",
       "      <th>2</th>\n",
       "      <td>대구</td>\n",
       "      <td>2461000</td>\n",
       "      <td>2458000.0</td>\n",
       "      <td>2450000.0</td>\n",
       "      <td>2432000.0</td>\n",
       "      <td>2419000.0</td>\n",
       "    </tr>\n",
       "    <tr>\n",
       "      <th>3</th>\n",
       "      <td>인천</td>\n",
       "      <td>2907000</td>\n",
       "      <td>NaN</td>\n",
       "      <td>NaN</td>\n",
       "      <td>NaN</td>\n",
       "      <td>NaN</td>\n",
       "    </tr>\n",
       "    <tr>\n",
       "      <th>4</th>\n",
       "      <td>광주</td>\n",
       "      <td>1502000</td>\n",
       "      <td>1495000.0</td>\n",
       "      <td>1493000.0</td>\n",
       "      <td>1494000.0</td>\n",
       "      <td>1488000.0</td>\n",
       "    </tr>\n",
       "  </tbody>\n",
       "</table>\n",
       "</div>"
      ],
      "text/plain": [
       "   지역     2016       2017       2018       2019       2020\n",
       "0  서울  9843000  9766000.0  9705000.0  9662000.0  9602000.0\n",
       "1  부산  3447000  3424000.0  3400000.0  3373000.0  3344000.0\n",
       "2  대구  2461000  2458000.0  2450000.0  2432000.0  2419000.0\n",
       "3  인천  2907000        NaN        NaN        NaN        NaN\n",
       "4  광주  1502000  1495000.0  1493000.0  1494000.0  1488000.0"
      ]
     },
     "execution_count": 7,
     "metadata": {},
     "output_type": "execute_result"
    }
   ],
   "source": [
    "# pandas에서 데이터 확인 시 활용할 수 있는 함수\n",
    "# head() - 상위 5개의 행을 가지고 오는 함수 \n",
    "# tail() - 하위 5개의 행을 가지고 오는 함수\n",
    "data.head()"
   ]
  },
  {
   "cell_type": "code",
   "execution_count": 8,
   "id": "f8ef6a89",
   "metadata": {},
   "outputs": [
    {
     "data": {
      "text/html": [
       "<div>\n",
       "<style scoped>\n",
       "    .dataframe tbody tr th:only-of-type {\n",
       "        vertical-align: middle;\n",
       "    }\n",
       "\n",
       "    .dataframe tbody tr th {\n",
       "        vertical-align: top;\n",
       "    }\n",
       "\n",
       "    .dataframe thead th {\n",
       "        text-align: right;\n",
       "    }\n",
       "</style>\n",
       "<table border=\"1\" class=\"dataframe\">\n",
       "  <thead>\n",
       "    <tr style=\"text-align: right;\">\n",
       "      <th></th>\n",
       "      <th>지역</th>\n",
       "      <th>2016</th>\n",
       "      <th>2017</th>\n",
       "      <th>2018</th>\n",
       "      <th>2019</th>\n",
       "      <th>2020</th>\n",
       "    </tr>\n",
       "  </thead>\n",
       "  <tbody>\n",
       "    <tr>\n",
       "      <th>15</th>\n",
       "      <td>경남</td>\n",
       "      <td>3338000</td>\n",
       "      <td>3339000.0</td>\n",
       "      <td>3356000.0</td>\n",
       "      <td>3350000.0</td>\n",
       "      <td>3350000.0</td>\n",
       "    </tr>\n",
       "    <tr>\n",
       "      <th>16</th>\n",
       "      <td>제주</td>\n",
       "      <td>618000</td>\n",
       "      <td>635000.0</td>\n",
       "      <td>653000.0</td>\n",
       "      <td>660000.0</td>\n",
       "      <td>670000.0</td>\n",
       "    </tr>\n",
       "    <tr>\n",
       "      <th>17</th>\n",
       "      <td>수도권</td>\n",
       "      <td>25350000</td>\n",
       "      <td>25476000.0</td>\n",
       "      <td>25675000.0</td>\n",
       "      <td>25844000.0</td>\n",
       "      <td>25958000.0</td>\n",
       "    </tr>\n",
       "  </tbody>\n",
       "</table>\n",
       "</div>"
      ],
      "text/plain": [
       "     지역      2016        2017        2018        2019        2020\n",
       "15   경남   3338000   3339000.0   3356000.0   3350000.0   3350000.0\n",
       "16   제주    618000    635000.0    653000.0    660000.0    670000.0\n",
       "17  수도권  25350000  25476000.0  25675000.0  25844000.0  25958000.0"
      ]
     },
     "execution_count": 8,
     "metadata": {},
     "output_type": "execute_result"
    }
   ],
   "source": [
    "data.tail(3)"
   ]
  },
  {
   "cell_type": "code",
   "execution_count": 12,
   "id": "ad14c0e8",
   "metadata": {},
   "outputs": [
    {
     "data": {
      "text/plain": [
       "2016    2907000.0\n",
       "2017          NaN\n",
       "2018          NaN\n",
       "2019          NaN\n",
       "2020          NaN\n",
       "Name: 인천, dtype: float64"
      ]
     },
     "execution_count": 12,
     "metadata": {},
     "output_type": "execute_result"
    }
   ],
   "source": [
    "data.loc['인천']"
   ]
  },
  {
   "cell_type": "code",
   "execution_count": 13,
   "id": "d393328c",
   "metadata": {},
   "outputs": [
    {
     "data": {
      "text/plain": [
       "2017   NaN\n",
       "2018   NaN\n",
       "2019   NaN\n",
       "2020   NaN\n",
       "Name: 인천, dtype: float64"
      ]
     },
     "execution_count": 13,
     "metadata": {},
     "output_type": "execute_result"
    }
   ],
   "source": [
    "# 인천행의 Nan 값에 새로운 값들을 추가하기\n",
    "# 1. 전체 데이터로부터 원하는 인천행의 Nan 부분들 가져오기\n",
    "data.loc['인천','2017':'2020']"
   ]
  },
  {
   "cell_type": "code",
   "execution_count": 16,
   "id": "4ef4c584",
   "metadata": {
    "collapsed": true
   },
   "outputs": [
    {
     "data": {
      "text/html": [
       "<div>\n",
       "<style scoped>\n",
       "    .dataframe tbody tr th:only-of-type {\n",
       "        vertical-align: middle;\n",
       "    }\n",
       "\n",
       "    .dataframe tbody tr th {\n",
       "        vertical-align: top;\n",
       "    }\n",
       "\n",
       "    .dataframe thead th {\n",
       "        text-align: right;\n",
       "    }\n",
       "</style>\n",
       "<table border=\"1\" class=\"dataframe\">\n",
       "  <thead>\n",
       "    <tr style=\"text-align: right;\">\n",
       "      <th></th>\n",
       "      <th>2016</th>\n",
       "      <th>2017</th>\n",
       "      <th>2018</th>\n",
       "      <th>2019</th>\n",
       "      <th>2020</th>\n",
       "    </tr>\n",
       "    <tr>\n",
       "      <th>지역</th>\n",
       "      <th></th>\n",
       "      <th></th>\n",
       "      <th></th>\n",
       "      <th></th>\n",
       "      <th></th>\n",
       "    </tr>\n",
       "  </thead>\n",
       "  <tbody>\n",
       "    <tr>\n",
       "      <th>서울</th>\n",
       "      <td>9843000</td>\n",
       "      <td>9766000.0</td>\n",
       "      <td>9705000.0</td>\n",
       "      <td>9662000.0</td>\n",
       "      <td>9602000.0</td>\n",
       "    </tr>\n",
       "    <tr>\n",
       "      <th>부산</th>\n",
       "      <td>3447000</td>\n",
       "      <td>3424000.0</td>\n",
       "      <td>3400000.0</td>\n",
       "      <td>3373000.0</td>\n",
       "      <td>3344000.0</td>\n",
       "    </tr>\n",
       "    <tr>\n",
       "      <th>대구</th>\n",
       "      <td>2461000</td>\n",
       "      <td>2458000.0</td>\n",
       "      <td>2450000.0</td>\n",
       "      <td>2432000.0</td>\n",
       "      <td>2419000.0</td>\n",
       "    </tr>\n",
       "    <tr>\n",
       "      <th>인천</th>\n",
       "      <td>2907000</td>\n",
       "      <td>2924000.0</td>\n",
       "      <td>2939000.0</td>\n",
       "      <td>2944000.0</td>\n",
       "      <td>2951000.0</td>\n",
       "    </tr>\n",
       "    <tr>\n",
       "      <th>광주</th>\n",
       "      <td>1502000</td>\n",
       "      <td>1495000.0</td>\n",
       "      <td>1493000.0</td>\n",
       "      <td>1494000.0</td>\n",
       "      <td>1488000.0</td>\n",
       "    </tr>\n",
       "    <tr>\n",
       "      <th>대전</th>\n",
       "      <td>1536000</td>\n",
       "      <td>1528000.0</td>\n",
       "      <td>1518000.0</td>\n",
       "      <td>1509000.0</td>\n",
       "      <td>1500000.0</td>\n",
       "    </tr>\n",
       "    <tr>\n",
       "      <th>울산</th>\n",
       "      <td>1166000</td>\n",
       "      <td>1159000.0</td>\n",
       "      <td>1154000.0</td>\n",
       "      <td>1147000.0</td>\n",
       "      <td>1140000.0</td>\n",
       "    </tr>\n",
       "    <tr>\n",
       "      <th>세종</th>\n",
       "      <td>234000</td>\n",
       "      <td>266000.0</td>\n",
       "      <td>304000.0</td>\n",
       "      <td>331000.0</td>\n",
       "      <td>349000.0</td>\n",
       "    </tr>\n",
       "    <tr>\n",
       "      <th>경기</th>\n",
       "      <td>12600000</td>\n",
       "      <td>12786000.0</td>\n",
       "      <td>13031000.0</td>\n",
       "      <td>13238000.0</td>\n",
       "      <td>13405000.0</td>\n",
       "    </tr>\n",
       "    <tr>\n",
       "      <th>강원</th>\n",
       "      <td>1521000</td>\n",
       "      <td>1521000.0</td>\n",
       "      <td>1521000.0</td>\n",
       "      <td>1517000.0</td>\n",
       "      <td>1515000.0</td>\n",
       "    </tr>\n",
       "    <tr>\n",
       "      <th>충북</th>\n",
       "      <td>1601000</td>\n",
       "      <td>1609000.0</td>\n",
       "      <td>1619000.0</td>\n",
       "      <td>1626000.0</td>\n",
       "      <td>1632000.0</td>\n",
       "    </tr>\n",
       "    <tr>\n",
       "      <th>충남</th>\n",
       "      <td>2126000</td>\n",
       "      <td>2153000.0</td>\n",
       "      <td>2180000.0</td>\n",
       "      <td>2188000.0</td>\n",
       "      <td>2204000.0</td>\n",
       "    </tr>\n",
       "    <tr>\n",
       "      <th>전북</th>\n",
       "      <td>1835000</td>\n",
       "      <td>1829000.0</td>\n",
       "      <td>1820000.0</td>\n",
       "      <td>1803000.0</td>\n",
       "      <td>1792000.0</td>\n",
       "    </tr>\n",
       "    <tr>\n",
       "      <th>전남</th>\n",
       "      <td>1798000</td>\n",
       "      <td>1795000.0</td>\n",
       "      <td>1790000.0</td>\n",
       "      <td>1773000.0</td>\n",
       "      <td>1764000.0</td>\n",
       "    </tr>\n",
       "    <tr>\n",
       "      <th>경북</th>\n",
       "      <td>2683000</td>\n",
       "      <td>2675000.0</td>\n",
       "      <td>2674000.0</td>\n",
       "      <td>2665000.0</td>\n",
       "      <td>2655000.0</td>\n",
       "    </tr>\n",
       "    <tr>\n",
       "      <th>경남</th>\n",
       "      <td>3338000</td>\n",
       "      <td>3339000.0</td>\n",
       "      <td>3356000.0</td>\n",
       "      <td>3350000.0</td>\n",
       "      <td>3350000.0</td>\n",
       "    </tr>\n",
       "    <tr>\n",
       "      <th>제주</th>\n",
       "      <td>618000</td>\n",
       "      <td>635000.0</td>\n",
       "      <td>653000.0</td>\n",
       "      <td>660000.0</td>\n",
       "      <td>670000.0</td>\n",
       "    </tr>\n",
       "    <tr>\n",
       "      <th>수도권</th>\n",
       "      <td>25350000</td>\n",
       "      <td>25476000.0</td>\n",
       "      <td>25675000.0</td>\n",
       "      <td>25844000.0</td>\n",
       "      <td>25958000.0</td>\n",
       "    </tr>\n",
       "  </tbody>\n",
       "</table>\n",
       "</div>"
      ],
      "text/plain": [
       "         2016        2017        2018        2019        2020\n",
       "지역                                                           \n",
       "서울    9843000   9766000.0   9705000.0   9662000.0   9602000.0\n",
       "부산    3447000   3424000.0   3400000.0   3373000.0   3344000.0\n",
       "대구    2461000   2458000.0   2450000.0   2432000.0   2419000.0\n",
       "인천    2907000   2924000.0   2939000.0   2944000.0   2951000.0\n",
       "광주    1502000   1495000.0   1493000.0   1494000.0   1488000.0\n",
       "대전    1536000   1528000.0   1518000.0   1509000.0   1500000.0\n",
       "울산    1166000   1159000.0   1154000.0   1147000.0   1140000.0\n",
       "세종     234000    266000.0    304000.0    331000.0    349000.0\n",
       "경기   12600000  12786000.0  13031000.0  13238000.0  13405000.0\n",
       "강원    1521000   1521000.0   1521000.0   1517000.0   1515000.0\n",
       "충북    1601000   1609000.0   1619000.0   1626000.0   1632000.0\n",
       "충남    2126000   2153000.0   2180000.0   2188000.0   2204000.0\n",
       "전북    1835000   1829000.0   1820000.0   1803000.0   1792000.0\n",
       "전남    1798000   1795000.0   1790000.0   1773000.0   1764000.0\n",
       "경북    2683000   2675000.0   2674000.0   2665000.0   2655000.0\n",
       "경남    3338000   3339000.0   3356000.0   3350000.0   3350000.0\n",
       "제주     618000    635000.0    653000.0    660000.0    670000.0\n",
       "수도권  25350000  25476000.0  25675000.0  25844000.0  25958000.0"
      ]
     },
     "execution_count": 16,
     "metadata": {},
     "output_type": "execute_result"
    }
   ],
   "source": [
    "# 2. 찾아온 Nan 값에 새로운 값 추가하기\n",
    "data.loc['인천','2017':'2020'] = [2924000, 2939000, 2944000, 2951000]\n",
    "data"
   ]
  },
  {
   "cell_type": "code",
   "execution_count": 18,
   "id": "0b757d86",
   "metadata": {},
   "outputs": [
    {
     "data": {
      "text/html": [
       "<div>\n",
       "<style scoped>\n",
       "    .dataframe tbody tr th:only-of-type {\n",
       "        vertical-align: middle;\n",
       "    }\n",
       "\n",
       "    .dataframe tbody tr th {\n",
       "        vertical-align: top;\n",
       "    }\n",
       "\n",
       "    .dataframe thead th {\n",
       "        text-align: right;\n",
       "    }\n",
       "</style>\n",
       "<table border=\"1\" class=\"dataframe\">\n",
       "  <thead>\n",
       "    <tr style=\"text-align: right;\">\n",
       "      <th></th>\n",
       "      <th>2016</th>\n",
       "      <th>2017</th>\n",
       "      <th>2018</th>\n",
       "      <th>2019</th>\n",
       "      <th>2020</th>\n",
       "    </tr>\n",
       "    <tr>\n",
       "      <th>지역</th>\n",
       "      <th></th>\n",
       "      <th></th>\n",
       "      <th></th>\n",
       "      <th></th>\n",
       "      <th></th>\n",
       "    </tr>\n",
       "  </thead>\n",
       "  <tbody>\n",
       "    <tr>\n",
       "      <th>서울</th>\n",
       "      <td>9843000</td>\n",
       "      <td>9766000</td>\n",
       "      <td>9705000</td>\n",
       "      <td>9662000</td>\n",
       "      <td>9602000</td>\n",
       "    </tr>\n",
       "    <tr>\n",
       "      <th>부산</th>\n",
       "      <td>3447000</td>\n",
       "      <td>3424000</td>\n",
       "      <td>3400000</td>\n",
       "      <td>3373000</td>\n",
       "      <td>3344000</td>\n",
       "    </tr>\n",
       "    <tr>\n",
       "      <th>대구</th>\n",
       "      <td>2461000</td>\n",
       "      <td>2458000</td>\n",
       "      <td>2450000</td>\n",
       "      <td>2432000</td>\n",
       "      <td>2419000</td>\n",
       "    </tr>\n",
       "    <tr>\n",
       "      <th>인천</th>\n",
       "      <td>2907000</td>\n",
       "      <td>2924000</td>\n",
       "      <td>2939000</td>\n",
       "      <td>2944000</td>\n",
       "      <td>2951000</td>\n",
       "    </tr>\n",
       "    <tr>\n",
       "      <th>광주</th>\n",
       "      <td>1502000</td>\n",
       "      <td>1495000</td>\n",
       "      <td>1493000</td>\n",
       "      <td>1494000</td>\n",
       "      <td>1488000</td>\n",
       "    </tr>\n",
       "    <tr>\n",
       "      <th>대전</th>\n",
       "      <td>1536000</td>\n",
       "      <td>1528000</td>\n",
       "      <td>1518000</td>\n",
       "      <td>1509000</td>\n",
       "      <td>1500000</td>\n",
       "    </tr>\n",
       "    <tr>\n",
       "      <th>울산</th>\n",
       "      <td>1166000</td>\n",
       "      <td>1159000</td>\n",
       "      <td>1154000</td>\n",
       "      <td>1147000</td>\n",
       "      <td>1140000</td>\n",
       "    </tr>\n",
       "    <tr>\n",
       "      <th>세종</th>\n",
       "      <td>234000</td>\n",
       "      <td>266000</td>\n",
       "      <td>304000</td>\n",
       "      <td>331000</td>\n",
       "      <td>349000</td>\n",
       "    </tr>\n",
       "    <tr>\n",
       "      <th>경기</th>\n",
       "      <td>12600000</td>\n",
       "      <td>12786000</td>\n",
       "      <td>13031000</td>\n",
       "      <td>13238000</td>\n",
       "      <td>13405000</td>\n",
       "    </tr>\n",
       "    <tr>\n",
       "      <th>강원</th>\n",
       "      <td>1521000</td>\n",
       "      <td>1521000</td>\n",
       "      <td>1521000</td>\n",
       "      <td>1517000</td>\n",
       "      <td>1515000</td>\n",
       "    </tr>\n",
       "    <tr>\n",
       "      <th>충북</th>\n",
       "      <td>1601000</td>\n",
       "      <td>1609000</td>\n",
       "      <td>1619000</td>\n",
       "      <td>1626000</td>\n",
       "      <td>1632000</td>\n",
       "    </tr>\n",
       "    <tr>\n",
       "      <th>충남</th>\n",
       "      <td>2126000</td>\n",
       "      <td>2153000</td>\n",
       "      <td>2180000</td>\n",
       "      <td>2188000</td>\n",
       "      <td>2204000</td>\n",
       "    </tr>\n",
       "    <tr>\n",
       "      <th>전북</th>\n",
       "      <td>1835000</td>\n",
       "      <td>1829000</td>\n",
       "      <td>1820000</td>\n",
       "      <td>1803000</td>\n",
       "      <td>1792000</td>\n",
       "    </tr>\n",
       "    <tr>\n",
       "      <th>전남</th>\n",
       "      <td>1798000</td>\n",
       "      <td>1795000</td>\n",
       "      <td>1790000</td>\n",
       "      <td>1773000</td>\n",
       "      <td>1764000</td>\n",
       "    </tr>\n",
       "    <tr>\n",
       "      <th>경북</th>\n",
       "      <td>2683000</td>\n",
       "      <td>2675000</td>\n",
       "      <td>2674000</td>\n",
       "      <td>2665000</td>\n",
       "      <td>2655000</td>\n",
       "    </tr>\n",
       "    <tr>\n",
       "      <th>경남</th>\n",
       "      <td>3338000</td>\n",
       "      <td>3339000</td>\n",
       "      <td>3356000</td>\n",
       "      <td>3350000</td>\n",
       "      <td>3350000</td>\n",
       "    </tr>\n",
       "    <tr>\n",
       "      <th>제주</th>\n",
       "      <td>618000</td>\n",
       "      <td>635000</td>\n",
       "      <td>653000</td>\n",
       "      <td>660000</td>\n",
       "      <td>670000</td>\n",
       "    </tr>\n",
       "    <tr>\n",
       "      <th>수도권</th>\n",
       "      <td>25350000</td>\n",
       "      <td>25476000</td>\n",
       "      <td>25675000</td>\n",
       "      <td>25844000</td>\n",
       "      <td>25958000</td>\n",
       "    </tr>\n",
       "  </tbody>\n",
       "</table>\n",
       "</div>"
      ],
      "text/plain": [
       "         2016      2017      2018      2019      2020\n",
       "지역                                                   \n",
       "서울    9843000   9766000   9705000   9662000   9602000\n",
       "부산    3447000   3424000   3400000   3373000   3344000\n",
       "대구    2461000   2458000   2450000   2432000   2419000\n",
       "인천    2907000   2924000   2939000   2944000   2951000\n",
       "광주    1502000   1495000   1493000   1494000   1488000\n",
       "대전    1536000   1528000   1518000   1509000   1500000\n",
       "울산    1166000   1159000   1154000   1147000   1140000\n",
       "세종     234000    266000    304000    331000    349000\n",
       "경기   12600000  12786000  13031000  13238000  13405000\n",
       "강원    1521000   1521000   1521000   1517000   1515000\n",
       "충북    1601000   1609000   1619000   1626000   1632000\n",
       "충남    2126000   2153000   2180000   2188000   2204000\n",
       "전북    1835000   1829000   1820000   1803000   1792000\n",
       "전남    1798000   1795000   1790000   1773000   1764000\n",
       "경북    2683000   2675000   2674000   2665000   2655000\n",
       "경남    3338000   3339000   3356000   3350000   3350000\n",
       "제주     618000    635000    653000    660000    670000\n",
       "수도권  25350000  25476000  25675000  25844000  25958000"
      ]
     },
     "execution_count": 18,
     "metadata": {},
     "output_type": "execute_result"
    }
   ],
   "source": [
    "# data 타입 int형으로 수정하기 -> astype(형식)\n",
    "data = data.astype('int')\n",
    "data"
   ]
  },
  {
   "cell_type": "code",
   "execution_count": 21,
   "id": "6ef5a6c3",
   "metadata": {},
   "outputs": [
    {
     "data": {
      "text/html": [
       "<div>\n",
       "<style scoped>\n",
       "    .dataframe tbody tr th:only-of-type {\n",
       "        vertical-align: middle;\n",
       "    }\n",
       "\n",
       "    .dataframe tbody tr th {\n",
       "        vertical-align: top;\n",
       "    }\n",
       "\n",
       "    .dataframe thead th {\n",
       "        text-align: right;\n",
       "    }\n",
       "</style>\n",
       "<table border=\"1\" class=\"dataframe\">\n",
       "  <thead>\n",
       "    <tr style=\"text-align: right;\">\n",
       "      <th></th>\n",
       "      <th>2016</th>\n",
       "      <th>2017</th>\n",
       "      <th>2018</th>\n",
       "      <th>2019</th>\n",
       "      <th>2020</th>\n",
       "    </tr>\n",
       "    <tr>\n",
       "      <th>지역</th>\n",
       "      <th></th>\n",
       "      <th></th>\n",
       "      <th></th>\n",
       "      <th></th>\n",
       "      <th></th>\n",
       "    </tr>\n",
       "  </thead>\n",
       "  <tbody>\n",
       "    <tr>\n",
       "      <th>서울</th>\n",
       "      <td>9843000.0</td>\n",
       "      <td>9766000.0</td>\n",
       "      <td>9705000.0</td>\n",
       "      <td>9662000.0</td>\n",
       "      <td>9602000.0</td>\n",
       "    </tr>\n",
       "    <tr>\n",
       "      <th>부산</th>\n",
       "      <td>3447000.0</td>\n",
       "      <td>3424000.0</td>\n",
       "      <td>3400000.0</td>\n",
       "      <td>3373000.0</td>\n",
       "      <td>3344000.0</td>\n",
       "    </tr>\n",
       "    <tr>\n",
       "      <th>대구</th>\n",
       "      <td>NaN</td>\n",
       "      <td>NaN</td>\n",
       "      <td>NaN</td>\n",
       "      <td>NaN</td>\n",
       "      <td>NaN</td>\n",
       "    </tr>\n",
       "    <tr>\n",
       "      <th>인천</th>\n",
       "      <td>NaN</td>\n",
       "      <td>NaN</td>\n",
       "      <td>NaN</td>\n",
       "      <td>NaN</td>\n",
       "      <td>NaN</td>\n",
       "    </tr>\n",
       "    <tr>\n",
       "      <th>광주</th>\n",
       "      <td>NaN</td>\n",
       "      <td>NaN</td>\n",
       "      <td>NaN</td>\n",
       "      <td>NaN</td>\n",
       "      <td>NaN</td>\n",
       "    </tr>\n",
       "    <tr>\n",
       "      <th>대전</th>\n",
       "      <td>NaN</td>\n",
       "      <td>NaN</td>\n",
       "      <td>NaN</td>\n",
       "      <td>NaN</td>\n",
       "      <td>NaN</td>\n",
       "    </tr>\n",
       "    <tr>\n",
       "      <th>울산</th>\n",
       "      <td>NaN</td>\n",
       "      <td>NaN</td>\n",
       "      <td>NaN</td>\n",
       "      <td>NaN</td>\n",
       "      <td>NaN</td>\n",
       "    </tr>\n",
       "    <tr>\n",
       "      <th>세종</th>\n",
       "      <td>NaN</td>\n",
       "      <td>NaN</td>\n",
       "      <td>NaN</td>\n",
       "      <td>NaN</td>\n",
       "      <td>NaN</td>\n",
       "    </tr>\n",
       "    <tr>\n",
       "      <th>경기</th>\n",
       "      <td>12600000.0</td>\n",
       "      <td>12786000.0</td>\n",
       "      <td>13031000.0</td>\n",
       "      <td>13238000.0</td>\n",
       "      <td>13405000.0</td>\n",
       "    </tr>\n",
       "    <tr>\n",
       "      <th>강원</th>\n",
       "      <td>NaN</td>\n",
       "      <td>NaN</td>\n",
       "      <td>NaN</td>\n",
       "      <td>NaN</td>\n",
       "      <td>NaN</td>\n",
       "    </tr>\n",
       "    <tr>\n",
       "      <th>충북</th>\n",
       "      <td>NaN</td>\n",
       "      <td>NaN</td>\n",
       "      <td>NaN</td>\n",
       "      <td>NaN</td>\n",
       "      <td>NaN</td>\n",
       "    </tr>\n",
       "    <tr>\n",
       "      <th>충남</th>\n",
       "      <td>NaN</td>\n",
       "      <td>NaN</td>\n",
       "      <td>NaN</td>\n",
       "      <td>NaN</td>\n",
       "      <td>NaN</td>\n",
       "    </tr>\n",
       "    <tr>\n",
       "      <th>전북</th>\n",
       "      <td>NaN</td>\n",
       "      <td>NaN</td>\n",
       "      <td>NaN</td>\n",
       "      <td>NaN</td>\n",
       "      <td>NaN</td>\n",
       "    </tr>\n",
       "    <tr>\n",
       "      <th>전남</th>\n",
       "      <td>NaN</td>\n",
       "      <td>NaN</td>\n",
       "      <td>NaN</td>\n",
       "      <td>NaN</td>\n",
       "      <td>NaN</td>\n",
       "    </tr>\n",
       "    <tr>\n",
       "      <th>경북</th>\n",
       "      <td>NaN</td>\n",
       "      <td>NaN</td>\n",
       "      <td>NaN</td>\n",
       "      <td>NaN</td>\n",
       "      <td>NaN</td>\n",
       "    </tr>\n",
       "    <tr>\n",
       "      <th>경남</th>\n",
       "      <td>3338000.0</td>\n",
       "      <td>3339000.0</td>\n",
       "      <td>3356000.0</td>\n",
       "      <td>3350000.0</td>\n",
       "      <td>3350000.0</td>\n",
       "    </tr>\n",
       "    <tr>\n",
       "      <th>제주</th>\n",
       "      <td>NaN</td>\n",
       "      <td>NaN</td>\n",
       "      <td>NaN</td>\n",
       "      <td>NaN</td>\n",
       "      <td>NaN</td>\n",
       "    </tr>\n",
       "    <tr>\n",
       "      <th>수도권</th>\n",
       "      <td>25350000.0</td>\n",
       "      <td>25476000.0</td>\n",
       "      <td>25675000.0</td>\n",
       "      <td>25844000.0</td>\n",
       "      <td>25958000.0</td>\n",
       "    </tr>\n",
       "  </tbody>\n",
       "</table>\n",
       "</div>"
      ],
      "text/plain": [
       "           2016        2017        2018        2019        2020\n",
       "지역                                                             \n",
       "서울    9843000.0   9766000.0   9705000.0   9662000.0   9602000.0\n",
       "부산    3447000.0   3424000.0   3400000.0   3373000.0   3344000.0\n",
       "대구          NaN         NaN         NaN         NaN         NaN\n",
       "인천          NaN         NaN         NaN         NaN         NaN\n",
       "광주          NaN         NaN         NaN         NaN         NaN\n",
       "대전          NaN         NaN         NaN         NaN         NaN\n",
       "울산          NaN         NaN         NaN         NaN         NaN\n",
       "세종          NaN         NaN         NaN         NaN         NaN\n",
       "경기   12600000.0  12786000.0  13031000.0  13238000.0  13405000.0\n",
       "강원          NaN         NaN         NaN         NaN         NaN\n",
       "충북          NaN         NaN         NaN         NaN         NaN\n",
       "충남          NaN         NaN         NaN         NaN         NaN\n",
       "전북          NaN         NaN         NaN         NaN         NaN\n",
       "전남          NaN         NaN         NaN         NaN         NaN\n",
       "경북          NaN         NaN         NaN         NaN         NaN\n",
       "경남    3338000.0   3339000.0   3356000.0   3350000.0   3350000.0\n",
       "제주          NaN         NaN         NaN         NaN         NaN\n",
       "수도권  25350000.0  25476000.0  25675000.0  25844000.0  25958000.0"
      ]
     },
     "execution_count": 21,
     "metadata": {},
     "output_type": "execute_result"
    }
   ],
   "source": [
    "# 3백만 이상의 도시 찾아보기 -> boolean 색인하기\n",
    "data[data['2020'] >= 3000000]"
   ]
  },
  {
   "cell_type": "code",
   "execution_count": 22,
   "id": "4464d61d",
   "metadata": {},
   "outputs": [
    {
     "data": {
      "text/plain": [
       "2432000     1\n",
       "1773000     1\n",
       "1494000     1\n",
       "1509000     1\n",
       "660000      1\n",
       "1147000     1\n",
       "13238000    1\n",
       "1626000     1\n",
       "1803000     1\n",
       "3350000     1\n",
       "331000      1\n",
       "2665000     1\n",
       "9662000     1\n",
       "25844000    1\n",
       "2188000     1\n",
       "2944000     1\n",
       "3373000     1\n",
       "1517000     1\n",
       "Name: 2019, dtype: int64"
      ]
     },
     "execution_count": 22,
     "metadata": {},
     "output_type": "execute_result"
    }
   ],
   "source": [
    "# pandas의 함수\n",
    "# 실제 데이터의 갯수를 확인할 수 있는 함수 -> value_counts()\n",
    "data['2019'].value_counts()"
   ]
  },
  {
   "cell_type": "code",
   "execution_count": 26,
   "id": "a6127b3b",
   "metadata": {},
   "outputs": [
    {
     "data": {
      "text/html": [
       "<div>\n",
       "<style scoped>\n",
       "    .dataframe tbody tr th:only-of-type {\n",
       "        vertical-align: middle;\n",
       "    }\n",
       "\n",
       "    .dataframe tbody tr th {\n",
       "        vertical-align: top;\n",
       "    }\n",
       "\n",
       "    .dataframe thead th {\n",
       "        text-align: right;\n",
       "    }\n",
       "</style>\n",
       "<table border=\"1\" class=\"dataframe\">\n",
       "  <thead>\n",
       "    <tr style=\"text-align: right;\">\n",
       "      <th></th>\n",
       "      <th>data1</th>\n",
       "      <th>data2</th>\n",
       "      <th>data3</th>\n",
       "    </tr>\n",
       "  </thead>\n",
       "  <tbody>\n",
       "    <tr>\n",
       "      <th>num1</th>\n",
       "      <td>1</td>\n",
       "      <td>2</td>\n",
       "      <td>1</td>\n",
       "    </tr>\n",
       "    <tr>\n",
       "      <th>num2</th>\n",
       "      <td>0</td>\n",
       "      <td>1</td>\n",
       "      <td>3</td>\n",
       "    </tr>\n",
       "    <tr>\n",
       "      <th>num3</th>\n",
       "      <td>1</td>\n",
       "      <td>0</td>\n",
       "      <td>3</td>\n",
       "    </tr>\n",
       "  </tbody>\n",
       "</table>\n",
       "</div>"
      ],
      "text/plain": [
       "      data1  data2  data3\n",
       "num1      1      2      1\n",
       "num2      0      1      3\n",
       "num3      1      0      3"
      ]
     },
     "execution_count": 26,
     "metadata": {},
     "output_type": "execute_result"
    }
   ],
   "source": [
    "df_num = pd.DataFrame({'data1' : [1,0,1], 'data2':[2,1,0], 'data3':[1,3,3]},\n",
    "                      index = ['num1', 'num2', 'num3'])\n",
    "df_num "
   ]
  },
  {
   "cell_type": "code",
   "execution_count": 28,
   "id": "89b1064d",
   "metadata": {},
   "outputs": [
    {
     "data": {
      "text/plain": [
       "0    1\n",
       "1    1\n",
       "2    1\n",
       "Name: data2, dtype: int64"
      ]
     },
     "execution_count": 28,
     "metadata": {},
     "output_type": "execute_result"
    }
   ],
   "source": [
    "df_num['data2'].value_counts()"
   ]
  },
  {
   "cell_type": "code",
   "execution_count": 29,
   "id": "7215fa7a",
   "metadata": {},
   "outputs": [
    {
     "data": {
      "text/plain": [
       "지역\n",
       "강원      1517000\n",
       "경기     13238000\n",
       "경남      3350000\n",
       "경북      2665000\n",
       "광주      1494000\n",
       "대구      2432000\n",
       "대전      1509000\n",
       "부산      3373000\n",
       "서울      9662000\n",
       "세종       331000\n",
       "수도권    25844000\n",
       "울산      1147000\n",
       "인천      2944000\n",
       "전남      1773000\n",
       "전북      1803000\n",
       "제주       660000\n",
       "충남      2188000\n",
       "충북      1626000\n",
       "Name: 2019, dtype: int32"
      ]
     },
     "execution_count": 29,
     "metadata": {},
     "output_type": "execute_result"
    }
   ],
   "source": [
    "# sort() : 정렬을 할 수 있는 함수\n",
    "# 정렬의 기준 : 1. 인덱스 이름(sort_index) / 2. 데이터 값(sort_values)\n",
    "data['2019'].sort_index()"
   ]
  },
  {
   "cell_type": "code",
   "execution_count": 30,
   "id": "6b592998",
   "metadata": {},
   "outputs": [
    {
     "data": {
      "text/plain": [
       "지역\n",
       "세종       331000\n",
       "제주       660000\n",
       "울산      1147000\n",
       "광주      1494000\n",
       "대전      1509000\n",
       "강원      1517000\n",
       "충북      1626000\n",
       "전남      1773000\n",
       "전북      1803000\n",
       "충남      2188000\n",
       "대구      2432000\n",
       "경북      2665000\n",
       "인천      2944000\n",
       "경남      3350000\n",
       "부산      3373000\n",
       "서울      9662000\n",
       "경기     13238000\n",
       "수도권    25844000\n",
       "Name: 2019, dtype: int32"
      ]
     },
     "execution_count": 30,
     "metadata": {},
     "output_type": "execute_result"
    }
   ],
   "source": [
    "data['2019'].sort_values()"
   ]
  },
  {
   "cell_type": "code",
   "execution_count": 31,
   "id": "98f5d93b",
   "metadata": {},
   "outputs": [
    {
     "data": {
      "text/plain": [
       "지역\n",
       "충북      1626000\n",
       "충남      2188000\n",
       "제주       660000\n",
       "전북      1803000\n",
       "전남      1773000\n",
       "인천      2944000\n",
       "울산      1147000\n",
       "수도권    25844000\n",
       "세종       331000\n",
       "서울      9662000\n",
       "부산      3373000\n",
       "대전      1509000\n",
       "대구      2432000\n",
       "광주      1494000\n",
       "경북      2665000\n",
       "경남      3350000\n",
       "경기     13238000\n",
       "강원      1517000\n",
       "Name: 2019, dtype: int32"
      ]
     },
     "execution_count": 31,
     "metadata": {},
     "output_type": "execute_result"
    }
   ],
   "source": [
    "# sort() 사용 시 내림차순 속성 : ascending(기본값 : True)\n",
    "data['2019'].sort_index(ascending = False)"
   ]
  },
  {
   "cell_type": "code",
   "execution_count": 33,
   "id": "cfcafb07",
   "metadata": {},
   "outputs": [
    {
     "data": {
      "text/html": [
       "<div>\n",
       "<style scoped>\n",
       "    .dataframe tbody tr th:only-of-type {\n",
       "        vertical-align: middle;\n",
       "    }\n",
       "\n",
       "    .dataframe tbody tr th {\n",
       "        vertical-align: top;\n",
       "    }\n",
       "\n",
       "    .dataframe thead th {\n",
       "        text-align: right;\n",
       "    }\n",
       "</style>\n",
       "<table border=\"1\" class=\"dataframe\">\n",
       "  <thead>\n",
       "    <tr style=\"text-align: right;\">\n",
       "      <th></th>\n",
       "      <th>2016</th>\n",
       "      <th>2017</th>\n",
       "      <th>2018</th>\n",
       "      <th>2019</th>\n",
       "      <th>2020</th>\n",
       "    </tr>\n",
       "    <tr>\n",
       "      <th>지역</th>\n",
       "      <th></th>\n",
       "      <th></th>\n",
       "      <th></th>\n",
       "      <th></th>\n",
       "      <th></th>\n",
       "    </tr>\n",
       "  </thead>\n",
       "  <tbody>\n",
       "    <tr>\n",
       "      <th>세종</th>\n",
       "      <td>234000</td>\n",
       "      <td>266000</td>\n",
       "      <td>304000</td>\n",
       "      <td>331000</td>\n",
       "      <td>349000</td>\n",
       "    </tr>\n",
       "    <tr>\n",
       "      <th>제주</th>\n",
       "      <td>618000</td>\n",
       "      <td>635000</td>\n",
       "      <td>653000</td>\n",
       "      <td>660000</td>\n",
       "      <td>670000</td>\n",
       "    </tr>\n",
       "    <tr>\n",
       "      <th>울산</th>\n",
       "      <td>1166000</td>\n",
       "      <td>1159000</td>\n",
       "      <td>1154000</td>\n",
       "      <td>1147000</td>\n",
       "      <td>1140000</td>\n",
       "    </tr>\n",
       "    <tr>\n",
       "      <th>광주</th>\n",
       "      <td>1502000</td>\n",
       "      <td>1495000</td>\n",
       "      <td>1493000</td>\n",
       "      <td>1494000</td>\n",
       "      <td>1488000</td>\n",
       "    </tr>\n",
       "    <tr>\n",
       "      <th>대전</th>\n",
       "      <td>1536000</td>\n",
       "      <td>1528000</td>\n",
       "      <td>1518000</td>\n",
       "      <td>1509000</td>\n",
       "      <td>1500000</td>\n",
       "    </tr>\n",
       "    <tr>\n",
       "      <th>강원</th>\n",
       "      <td>1521000</td>\n",
       "      <td>1521000</td>\n",
       "      <td>1521000</td>\n",
       "      <td>1517000</td>\n",
       "      <td>1515000</td>\n",
       "    </tr>\n",
       "    <tr>\n",
       "      <th>충북</th>\n",
       "      <td>1601000</td>\n",
       "      <td>1609000</td>\n",
       "      <td>1619000</td>\n",
       "      <td>1626000</td>\n",
       "      <td>1632000</td>\n",
       "    </tr>\n",
       "    <tr>\n",
       "      <th>전남</th>\n",
       "      <td>1798000</td>\n",
       "      <td>1795000</td>\n",
       "      <td>1790000</td>\n",
       "      <td>1773000</td>\n",
       "      <td>1764000</td>\n",
       "    </tr>\n",
       "    <tr>\n",
       "      <th>전북</th>\n",
       "      <td>1835000</td>\n",
       "      <td>1829000</td>\n",
       "      <td>1820000</td>\n",
       "      <td>1803000</td>\n",
       "      <td>1792000</td>\n",
       "    </tr>\n",
       "    <tr>\n",
       "      <th>충남</th>\n",
       "      <td>2126000</td>\n",
       "      <td>2153000</td>\n",
       "      <td>2180000</td>\n",
       "      <td>2188000</td>\n",
       "      <td>2204000</td>\n",
       "    </tr>\n",
       "    <tr>\n",
       "      <th>대구</th>\n",
       "      <td>2461000</td>\n",
       "      <td>2458000</td>\n",
       "      <td>2450000</td>\n",
       "      <td>2432000</td>\n",
       "      <td>2419000</td>\n",
       "    </tr>\n",
       "    <tr>\n",
       "      <th>경북</th>\n",
       "      <td>2683000</td>\n",
       "      <td>2675000</td>\n",
       "      <td>2674000</td>\n",
       "      <td>2665000</td>\n",
       "      <td>2655000</td>\n",
       "    </tr>\n",
       "    <tr>\n",
       "      <th>인천</th>\n",
       "      <td>2907000</td>\n",
       "      <td>2924000</td>\n",
       "      <td>2939000</td>\n",
       "      <td>2944000</td>\n",
       "      <td>2951000</td>\n",
       "    </tr>\n",
       "    <tr>\n",
       "      <th>경남</th>\n",
       "      <td>3338000</td>\n",
       "      <td>3339000</td>\n",
       "      <td>3356000</td>\n",
       "      <td>3350000</td>\n",
       "      <td>3350000</td>\n",
       "    </tr>\n",
       "    <tr>\n",
       "      <th>부산</th>\n",
       "      <td>3447000</td>\n",
       "      <td>3424000</td>\n",
       "      <td>3400000</td>\n",
       "      <td>3373000</td>\n",
       "      <td>3344000</td>\n",
       "    </tr>\n",
       "    <tr>\n",
       "      <th>서울</th>\n",
       "      <td>9843000</td>\n",
       "      <td>9766000</td>\n",
       "      <td>9705000</td>\n",
       "      <td>9662000</td>\n",
       "      <td>9602000</td>\n",
       "    </tr>\n",
       "    <tr>\n",
       "      <th>경기</th>\n",
       "      <td>12600000</td>\n",
       "      <td>12786000</td>\n",
       "      <td>13031000</td>\n",
       "      <td>13238000</td>\n",
       "      <td>13405000</td>\n",
       "    </tr>\n",
       "    <tr>\n",
       "      <th>수도권</th>\n",
       "      <td>25350000</td>\n",
       "      <td>25476000</td>\n",
       "      <td>25675000</td>\n",
       "      <td>25844000</td>\n",
       "      <td>25958000</td>\n",
       "    </tr>\n",
       "  </tbody>\n",
       "</table>\n",
       "</div>"
      ],
      "text/plain": [
       "         2016      2017      2018      2019      2020\n",
       "지역                                                   \n",
       "세종     234000    266000    304000    331000    349000\n",
       "제주     618000    635000    653000    660000    670000\n",
       "울산    1166000   1159000   1154000   1147000   1140000\n",
       "광주    1502000   1495000   1493000   1494000   1488000\n",
       "대전    1536000   1528000   1518000   1509000   1500000\n",
       "강원    1521000   1521000   1521000   1517000   1515000\n",
       "충북    1601000   1609000   1619000   1626000   1632000\n",
       "전남    1798000   1795000   1790000   1773000   1764000\n",
       "전북    1835000   1829000   1820000   1803000   1792000\n",
       "충남    2126000   2153000   2180000   2188000   2204000\n",
       "대구    2461000   2458000   2450000   2432000   2419000\n",
       "경북    2683000   2675000   2674000   2665000   2655000\n",
       "인천    2907000   2924000   2939000   2944000   2951000\n",
       "경남    3338000   3339000   3356000   3350000   3350000\n",
       "부산    3447000   3424000   3400000   3373000   3344000\n",
       "서울    9843000   9766000   9705000   9662000   9602000\n",
       "경기   12600000  12786000  13031000  13238000  13405000\n",
       "수도권  25350000  25476000  25675000  25844000  25958000"
      ]
     },
     "execution_count": 33,
     "metadata": {},
     "output_type": "execute_result"
    }
   ],
   "source": [
    "data.sort_values(by = '2018')"
   ]
  },
  {
   "cell_type": "code",
   "execution_count": 34,
   "id": "306e099a",
   "metadata": {},
   "outputs": [
    {
     "data": {
      "text/html": [
       "<div>\n",
       "<style scoped>\n",
       "    .dataframe tbody tr th:only-of-type {\n",
       "        vertical-align: middle;\n",
       "    }\n",
       "\n",
       "    .dataframe tbody tr th {\n",
       "        vertical-align: top;\n",
       "    }\n",
       "\n",
       "    .dataframe thead th {\n",
       "        text-align: right;\n",
       "    }\n",
       "</style>\n",
       "<table border=\"1\" class=\"dataframe\">\n",
       "  <thead>\n",
       "    <tr style=\"text-align: right;\">\n",
       "      <th></th>\n",
       "      <th>2016</th>\n",
       "      <th>2017</th>\n",
       "      <th>2018</th>\n",
       "      <th>2019</th>\n",
       "      <th>2020</th>\n",
       "    </tr>\n",
       "    <tr>\n",
       "      <th>지역</th>\n",
       "      <th></th>\n",
       "      <th></th>\n",
       "      <th></th>\n",
       "      <th></th>\n",
       "      <th></th>\n",
       "    </tr>\n",
       "  </thead>\n",
       "  <tbody>\n",
       "    <tr>\n",
       "      <th>서울</th>\n",
       "      <td>9843000</td>\n",
       "      <td>9766000</td>\n",
       "      <td>9705000</td>\n",
       "      <td>9662000</td>\n",
       "      <td>9602000</td>\n",
       "    </tr>\n",
       "    <tr>\n",
       "      <th>부산</th>\n",
       "      <td>3447000</td>\n",
       "      <td>3424000</td>\n",
       "      <td>3400000</td>\n",
       "      <td>3373000</td>\n",
       "      <td>3344000</td>\n",
       "    </tr>\n",
       "    <tr>\n",
       "      <th>대구</th>\n",
       "      <td>2461000</td>\n",
       "      <td>2458000</td>\n",
       "      <td>2450000</td>\n",
       "      <td>2432000</td>\n",
       "      <td>2419000</td>\n",
       "    </tr>\n",
       "    <tr>\n",
       "      <th>인천</th>\n",
       "      <td>2907000</td>\n",
       "      <td>2924000</td>\n",
       "      <td>2939000</td>\n",
       "      <td>2944000</td>\n",
       "      <td>2951000</td>\n",
       "    </tr>\n",
       "    <tr>\n",
       "      <th>광주</th>\n",
       "      <td>1502000</td>\n",
       "      <td>1495000</td>\n",
       "      <td>1493000</td>\n",
       "      <td>1494000</td>\n",
       "      <td>1488000</td>\n",
       "    </tr>\n",
       "    <tr>\n",
       "      <th>대전</th>\n",
       "      <td>1536000</td>\n",
       "      <td>1528000</td>\n",
       "      <td>1518000</td>\n",
       "      <td>1509000</td>\n",
       "      <td>1500000</td>\n",
       "    </tr>\n",
       "    <tr>\n",
       "      <th>울산</th>\n",
       "      <td>1166000</td>\n",
       "      <td>1159000</td>\n",
       "      <td>1154000</td>\n",
       "      <td>1147000</td>\n",
       "      <td>1140000</td>\n",
       "    </tr>\n",
       "    <tr>\n",
       "      <th>세종</th>\n",
       "      <td>234000</td>\n",
       "      <td>266000</td>\n",
       "      <td>304000</td>\n",
       "      <td>331000</td>\n",
       "      <td>349000</td>\n",
       "    </tr>\n",
       "    <tr>\n",
       "      <th>경기</th>\n",
       "      <td>12600000</td>\n",
       "      <td>12786000</td>\n",
       "      <td>13031000</td>\n",
       "      <td>13238000</td>\n",
       "      <td>13405000</td>\n",
       "    </tr>\n",
       "    <tr>\n",
       "      <th>강원</th>\n",
       "      <td>1521000</td>\n",
       "      <td>1521000</td>\n",
       "      <td>1521000</td>\n",
       "      <td>1517000</td>\n",
       "      <td>1515000</td>\n",
       "    </tr>\n",
       "    <tr>\n",
       "      <th>충북</th>\n",
       "      <td>1601000</td>\n",
       "      <td>1609000</td>\n",
       "      <td>1619000</td>\n",
       "      <td>1626000</td>\n",
       "      <td>1632000</td>\n",
       "    </tr>\n",
       "    <tr>\n",
       "      <th>충남</th>\n",
       "      <td>2126000</td>\n",
       "      <td>2153000</td>\n",
       "      <td>2180000</td>\n",
       "      <td>2188000</td>\n",
       "      <td>2204000</td>\n",
       "    </tr>\n",
       "    <tr>\n",
       "      <th>전북</th>\n",
       "      <td>1835000</td>\n",
       "      <td>1829000</td>\n",
       "      <td>1820000</td>\n",
       "      <td>1803000</td>\n",
       "      <td>1792000</td>\n",
       "    </tr>\n",
       "    <tr>\n",
       "      <th>전남</th>\n",
       "      <td>1798000</td>\n",
       "      <td>1795000</td>\n",
       "      <td>1790000</td>\n",
       "      <td>1773000</td>\n",
       "      <td>1764000</td>\n",
       "    </tr>\n",
       "    <tr>\n",
       "      <th>경북</th>\n",
       "      <td>2683000</td>\n",
       "      <td>2675000</td>\n",
       "      <td>2674000</td>\n",
       "      <td>2665000</td>\n",
       "      <td>2655000</td>\n",
       "    </tr>\n",
       "    <tr>\n",
       "      <th>경남</th>\n",
       "      <td>3338000</td>\n",
       "      <td>3339000</td>\n",
       "      <td>3356000</td>\n",
       "      <td>3350000</td>\n",
       "      <td>3350000</td>\n",
       "    </tr>\n",
       "    <tr>\n",
       "      <th>제주</th>\n",
       "      <td>618000</td>\n",
       "      <td>635000</td>\n",
       "      <td>653000</td>\n",
       "      <td>660000</td>\n",
       "      <td>670000</td>\n",
       "    </tr>\n",
       "    <tr>\n",
       "      <th>수도권</th>\n",
       "      <td>25350000</td>\n",
       "      <td>25476000</td>\n",
       "      <td>25675000</td>\n",
       "      <td>25844000</td>\n",
       "      <td>25958000</td>\n",
       "    </tr>\n",
       "  </tbody>\n",
       "</table>\n",
       "</div>"
      ],
      "text/plain": [
       "         2016      2017      2018      2019      2020\n",
       "지역                                                   \n",
       "서울    9843000   9766000   9705000   9662000   9602000\n",
       "부산    3447000   3424000   3400000   3373000   3344000\n",
       "대구    2461000   2458000   2450000   2432000   2419000\n",
       "인천    2907000   2924000   2939000   2944000   2951000\n",
       "광주    1502000   1495000   1493000   1494000   1488000\n",
       "대전    1536000   1528000   1518000   1509000   1500000\n",
       "울산    1166000   1159000   1154000   1147000   1140000\n",
       "세종     234000    266000    304000    331000    349000\n",
       "경기   12600000  12786000  13031000  13238000  13405000\n",
       "강원    1521000   1521000   1521000   1517000   1515000\n",
       "충북    1601000   1609000   1619000   1626000   1632000\n",
       "충남    2126000   2153000   2180000   2188000   2204000\n",
       "전북    1835000   1829000   1820000   1803000   1792000\n",
       "전남    1798000   1795000   1790000   1773000   1764000\n",
       "경북    2683000   2675000   2674000   2665000   2655000\n",
       "경남    3338000   3339000   3356000   3350000   3350000\n",
       "제주     618000    635000    653000    660000    670000\n",
       "수도권  25350000  25476000  25675000  25844000  25958000"
      ]
     },
     "execution_count": 34,
     "metadata": {},
     "output_type": "execute_result"
    }
   ],
   "source": [
    "data"
   ]
  },
  {
   "cell_type": "code",
   "execution_count": 36,
   "id": "69ebbbc2",
   "metadata": {},
   "outputs": [
    {
     "data": {
      "text/html": [
       "<div>\n",
       "<style scoped>\n",
       "    .dataframe tbody tr th:only-of-type {\n",
       "        vertical-align: middle;\n",
       "    }\n",
       "\n",
       "    .dataframe tbody tr th {\n",
       "        vertical-align: top;\n",
       "    }\n",
       "\n",
       "    .dataframe thead th {\n",
       "        text-align: right;\n",
       "    }\n",
       "</style>\n",
       "<table border=\"1\" class=\"dataframe\">\n",
       "  <thead>\n",
       "    <tr style=\"text-align: right;\">\n",
       "      <th></th>\n",
       "      <th>2016</th>\n",
       "      <th>2017</th>\n",
       "      <th>2018</th>\n",
       "      <th>2019</th>\n",
       "      <th>2020</th>\n",
       "    </tr>\n",
       "    <tr>\n",
       "      <th>지역</th>\n",
       "      <th></th>\n",
       "      <th></th>\n",
       "      <th></th>\n",
       "      <th></th>\n",
       "      <th></th>\n",
       "    </tr>\n",
       "  </thead>\n",
       "  <tbody>\n",
       "    <tr>\n",
       "      <th>서울</th>\n",
       "      <td>9843000</td>\n",
       "      <td>9766000</td>\n",
       "      <td>9705000</td>\n",
       "      <td>9662000</td>\n",
       "      <td>9602000</td>\n",
       "    </tr>\n",
       "    <tr>\n",
       "      <th>부산</th>\n",
       "      <td>3447000</td>\n",
       "      <td>3424000</td>\n",
       "      <td>3400000</td>\n",
       "      <td>3373000</td>\n",
       "      <td>3344000</td>\n",
       "    </tr>\n",
       "    <tr>\n",
       "      <th>대구</th>\n",
       "      <td>2461000</td>\n",
       "      <td>2458000</td>\n",
       "      <td>2450000</td>\n",
       "      <td>2432000</td>\n",
       "      <td>2419000</td>\n",
       "    </tr>\n",
       "    <tr>\n",
       "      <th>인천</th>\n",
       "      <td>2907000</td>\n",
       "      <td>2924000</td>\n",
       "      <td>2939000</td>\n",
       "      <td>2944000</td>\n",
       "      <td>2951000</td>\n",
       "    </tr>\n",
       "    <tr>\n",
       "      <th>광주</th>\n",
       "      <td>1502000</td>\n",
       "      <td>1495000</td>\n",
       "      <td>1493000</td>\n",
       "      <td>1494000</td>\n",
       "      <td>1488000</td>\n",
       "    </tr>\n",
       "    <tr>\n",
       "      <th>대전</th>\n",
       "      <td>1536000</td>\n",
       "      <td>1528000</td>\n",
       "      <td>1518000</td>\n",
       "      <td>1509000</td>\n",
       "      <td>1500000</td>\n",
       "    </tr>\n",
       "    <tr>\n",
       "      <th>울산</th>\n",
       "      <td>1166000</td>\n",
       "      <td>1159000</td>\n",
       "      <td>1154000</td>\n",
       "      <td>1147000</td>\n",
       "      <td>1140000</td>\n",
       "    </tr>\n",
       "    <tr>\n",
       "      <th>세종</th>\n",
       "      <td>234000</td>\n",
       "      <td>266000</td>\n",
       "      <td>304000</td>\n",
       "      <td>331000</td>\n",
       "      <td>349000</td>\n",
       "    </tr>\n",
       "    <tr>\n",
       "      <th>경기</th>\n",
       "      <td>12600000</td>\n",
       "      <td>12786000</td>\n",
       "      <td>13031000</td>\n",
       "      <td>13238000</td>\n",
       "      <td>13405000</td>\n",
       "    </tr>\n",
       "    <tr>\n",
       "      <th>강원</th>\n",
       "      <td>1521000</td>\n",
       "      <td>1521000</td>\n",
       "      <td>1521000</td>\n",
       "      <td>1517000</td>\n",
       "      <td>1515000</td>\n",
       "    </tr>\n",
       "    <tr>\n",
       "      <th>충북</th>\n",
       "      <td>1601000</td>\n",
       "      <td>1609000</td>\n",
       "      <td>1619000</td>\n",
       "      <td>1626000</td>\n",
       "      <td>1632000</td>\n",
       "    </tr>\n",
       "    <tr>\n",
       "      <th>충남</th>\n",
       "      <td>2126000</td>\n",
       "      <td>2153000</td>\n",
       "      <td>2180000</td>\n",
       "      <td>2188000</td>\n",
       "      <td>2204000</td>\n",
       "    </tr>\n",
       "    <tr>\n",
       "      <th>전북</th>\n",
       "      <td>1835000</td>\n",
       "      <td>1829000</td>\n",
       "      <td>1820000</td>\n",
       "      <td>1803000</td>\n",
       "      <td>1792000</td>\n",
       "    </tr>\n",
       "    <tr>\n",
       "      <th>전남</th>\n",
       "      <td>1798000</td>\n",
       "      <td>1795000</td>\n",
       "      <td>1790000</td>\n",
       "      <td>1773000</td>\n",
       "      <td>1764000</td>\n",
       "    </tr>\n",
       "    <tr>\n",
       "      <th>경북</th>\n",
       "      <td>2683000</td>\n",
       "      <td>2675000</td>\n",
       "      <td>2674000</td>\n",
       "      <td>2665000</td>\n",
       "      <td>2655000</td>\n",
       "    </tr>\n",
       "    <tr>\n",
       "      <th>경남</th>\n",
       "      <td>3338000</td>\n",
       "      <td>3339000</td>\n",
       "      <td>3356000</td>\n",
       "      <td>3350000</td>\n",
       "      <td>3350000</td>\n",
       "    </tr>\n",
       "    <tr>\n",
       "      <th>제주</th>\n",
       "      <td>618000</td>\n",
       "      <td>635000</td>\n",
       "      <td>653000</td>\n",
       "      <td>660000</td>\n",
       "      <td>670000</td>\n",
       "    </tr>\n",
       "  </tbody>\n",
       "</table>\n",
       "</div>"
      ],
      "text/plain": [
       "        2016      2017      2018      2019      2020\n",
       "지역                                                  \n",
       "서울   9843000   9766000   9705000   9662000   9602000\n",
       "부산   3447000   3424000   3400000   3373000   3344000\n",
       "대구   2461000   2458000   2450000   2432000   2419000\n",
       "인천   2907000   2924000   2939000   2944000   2951000\n",
       "광주   1502000   1495000   1493000   1494000   1488000\n",
       "대전   1536000   1528000   1518000   1509000   1500000\n",
       "울산   1166000   1159000   1154000   1147000   1140000\n",
       "세종    234000    266000    304000    331000    349000\n",
       "경기  12600000  12786000  13031000  13238000  13405000\n",
       "강원   1521000   1521000   1521000   1517000   1515000\n",
       "충북   1601000   1609000   1619000   1626000   1632000\n",
       "충남   2126000   2153000   2180000   2188000   2204000\n",
       "전북   1835000   1829000   1820000   1803000   1792000\n",
       "전남   1798000   1795000   1790000   1773000   1764000\n",
       "경북   2683000   2675000   2674000   2665000   2655000\n",
       "경남   3338000   3339000   3356000   3350000   3350000\n",
       "제주    618000    635000    653000    660000    670000"
      ]
     },
     "execution_count": 36,
     "metadata": {},
     "output_type": "execute_result"
    }
   ],
   "source": [
    "# dataFrame 삭제 함수 -> drop() -> 행 삭제\n",
    "data.drop('수도권')"
   ]
  },
  {
   "cell_type": "code",
   "execution_count": 43,
   "id": "17ebd0f5",
   "metadata": {},
   "outputs": [
    {
     "data": {
      "text/html": [
       "<div>\n",
       "<style scoped>\n",
       "    .dataframe tbody tr th:only-of-type {\n",
       "        vertical-align: middle;\n",
       "    }\n",
       "\n",
       "    .dataframe tbody tr th {\n",
       "        vertical-align: top;\n",
       "    }\n",
       "\n",
       "    .dataframe thead th {\n",
       "        text-align: right;\n",
       "    }\n",
       "</style>\n",
       "<table border=\"1\" class=\"dataframe\">\n",
       "  <thead>\n",
       "    <tr style=\"text-align: right;\">\n",
       "      <th></th>\n",
       "      <th>2017</th>\n",
       "      <th>2018</th>\n",
       "      <th>2019</th>\n",
       "      <th>2020</th>\n",
       "    </tr>\n",
       "    <tr>\n",
       "      <th>지역</th>\n",
       "      <th></th>\n",
       "      <th></th>\n",
       "      <th></th>\n",
       "      <th></th>\n",
       "    </tr>\n",
       "  </thead>\n",
       "  <tbody>\n",
       "    <tr>\n",
       "      <th>서울</th>\n",
       "      <td>9766000</td>\n",
       "      <td>9705000</td>\n",
       "      <td>9662000</td>\n",
       "      <td>9602000</td>\n",
       "    </tr>\n",
       "    <tr>\n",
       "      <th>부산</th>\n",
       "      <td>3424000</td>\n",
       "      <td>3400000</td>\n",
       "      <td>3373000</td>\n",
       "      <td>3344000</td>\n",
       "    </tr>\n",
       "    <tr>\n",
       "      <th>대구</th>\n",
       "      <td>2458000</td>\n",
       "      <td>2450000</td>\n",
       "      <td>2432000</td>\n",
       "      <td>2419000</td>\n",
       "    </tr>\n",
       "    <tr>\n",
       "      <th>인천</th>\n",
       "      <td>2924000</td>\n",
       "      <td>2939000</td>\n",
       "      <td>2944000</td>\n",
       "      <td>2951000</td>\n",
       "    </tr>\n",
       "    <tr>\n",
       "      <th>광주</th>\n",
       "      <td>1495000</td>\n",
       "      <td>1493000</td>\n",
       "      <td>1494000</td>\n",
       "      <td>1488000</td>\n",
       "    </tr>\n",
       "    <tr>\n",
       "      <th>대전</th>\n",
       "      <td>1528000</td>\n",
       "      <td>1518000</td>\n",
       "      <td>1509000</td>\n",
       "      <td>1500000</td>\n",
       "    </tr>\n",
       "    <tr>\n",
       "      <th>울산</th>\n",
       "      <td>1159000</td>\n",
       "      <td>1154000</td>\n",
       "      <td>1147000</td>\n",
       "      <td>1140000</td>\n",
       "    </tr>\n",
       "    <tr>\n",
       "      <th>세종</th>\n",
       "      <td>266000</td>\n",
       "      <td>304000</td>\n",
       "      <td>331000</td>\n",
       "      <td>349000</td>\n",
       "    </tr>\n",
       "    <tr>\n",
       "      <th>경기</th>\n",
       "      <td>12786000</td>\n",
       "      <td>13031000</td>\n",
       "      <td>13238000</td>\n",
       "      <td>13405000</td>\n",
       "    </tr>\n",
       "    <tr>\n",
       "      <th>강원</th>\n",
       "      <td>1521000</td>\n",
       "      <td>1521000</td>\n",
       "      <td>1517000</td>\n",
       "      <td>1515000</td>\n",
       "    </tr>\n",
       "    <tr>\n",
       "      <th>충북</th>\n",
       "      <td>1609000</td>\n",
       "      <td>1619000</td>\n",
       "      <td>1626000</td>\n",
       "      <td>1632000</td>\n",
       "    </tr>\n",
       "    <tr>\n",
       "      <th>충남</th>\n",
       "      <td>2153000</td>\n",
       "      <td>2180000</td>\n",
       "      <td>2188000</td>\n",
       "      <td>2204000</td>\n",
       "    </tr>\n",
       "    <tr>\n",
       "      <th>전북</th>\n",
       "      <td>1829000</td>\n",
       "      <td>1820000</td>\n",
       "      <td>1803000</td>\n",
       "      <td>1792000</td>\n",
       "    </tr>\n",
       "    <tr>\n",
       "      <th>전남</th>\n",
       "      <td>1795000</td>\n",
       "      <td>1790000</td>\n",
       "      <td>1773000</td>\n",
       "      <td>1764000</td>\n",
       "    </tr>\n",
       "    <tr>\n",
       "      <th>경북</th>\n",
       "      <td>2675000</td>\n",
       "      <td>2674000</td>\n",
       "      <td>2665000</td>\n",
       "      <td>2655000</td>\n",
       "    </tr>\n",
       "    <tr>\n",
       "      <th>경남</th>\n",
       "      <td>3339000</td>\n",
       "      <td>3356000</td>\n",
       "      <td>3350000</td>\n",
       "      <td>3350000</td>\n",
       "    </tr>\n",
       "    <tr>\n",
       "      <th>제주</th>\n",
       "      <td>635000</td>\n",
       "      <td>653000</td>\n",
       "      <td>660000</td>\n",
       "      <td>670000</td>\n",
       "    </tr>\n",
       "  </tbody>\n",
       "</table>\n",
       "</div>"
      ],
      "text/plain": [
       "        2017      2018      2019      2020\n",
       "지역                                        \n",
       "서울   9766000   9705000   9662000   9602000\n",
       "부산   3424000   3400000   3373000   3344000\n",
       "대구   2458000   2450000   2432000   2419000\n",
       "인천   2924000   2939000   2944000   2951000\n",
       "광주   1495000   1493000   1494000   1488000\n",
       "대전   1528000   1518000   1509000   1500000\n",
       "울산   1159000   1154000   1147000   1140000\n",
       "세종    266000    304000    331000    349000\n",
       "경기  12786000  13031000  13238000  13405000\n",
       "강원   1521000   1521000   1517000   1515000\n",
       "충북   1609000   1619000   1626000   1632000\n",
       "충남   2153000   2180000   2188000   2204000\n",
       "전북   1829000   1820000   1803000   1792000\n",
       "전남   1795000   1790000   1773000   1764000\n",
       "경북   2675000   2674000   2665000   2655000\n",
       "경남   3339000   3356000   3350000   3350000\n",
       "제주    635000    653000    660000    670000"
      ]
     },
     "execution_count": 43,
     "metadata": {},
     "output_type": "execute_result"
    }
   ],
   "source": [
    "# axis -> DataFrame의 축 기준을 잡을 수 있는 속성\n",
    "# 0 -> 행 / 1 -> 열\n",
    "data.drop('2016', axis = 1)"
   ]
  },
  {
   "cell_type": "code",
   "execution_count": 49,
   "id": "620750e5",
   "metadata": {},
   "outputs": [
    {
     "data": {
      "text/html": [
       "<div>\n",
       "<style scoped>\n",
       "    .dataframe tbody tr th:only-of-type {\n",
       "        vertical-align: middle;\n",
       "    }\n",
       "\n",
       "    .dataframe tbody tr th {\n",
       "        vertical-align: top;\n",
       "    }\n",
       "\n",
       "    .dataframe thead th {\n",
       "        text-align: right;\n",
       "    }\n",
       "</style>\n",
       "<table border=\"1\" class=\"dataframe\">\n",
       "  <thead>\n",
       "    <tr style=\"text-align: right;\">\n",
       "      <th></th>\n",
       "      <th>1반</th>\n",
       "      <th>2반</th>\n",
       "      <th>3반</th>\n",
       "      <th>4반</th>\n",
       "    </tr>\n",
       "    <tr>\n",
       "      <th>과목</th>\n",
       "      <th></th>\n",
       "      <th></th>\n",
       "      <th></th>\n",
       "      <th></th>\n",
       "    </tr>\n",
       "  </thead>\n",
       "  <tbody>\n",
       "    <tr>\n",
       "      <th>파이썬</th>\n",
       "      <td>45</td>\n",
       "      <td>44</td>\n",
       "      <td>73</td>\n",
       "      <td>39</td>\n",
       "    </tr>\n",
       "    <tr>\n",
       "      <th>DB</th>\n",
       "      <td>76</td>\n",
       "      <td>92</td>\n",
       "      <td>45</td>\n",
       "      <td>69</td>\n",
       "    </tr>\n",
       "    <tr>\n",
       "      <th>자바</th>\n",
       "      <td>47</td>\n",
       "      <td>92</td>\n",
       "      <td>45</td>\n",
       "      <td>69</td>\n",
       "    </tr>\n",
       "    <tr>\n",
       "      <th>크롤링</th>\n",
       "      <td>92</td>\n",
       "      <td>81</td>\n",
       "      <td>85</td>\n",
       "      <td>40</td>\n",
       "    </tr>\n",
       "    <tr>\n",
       "      <th>Web</th>\n",
       "      <td>11</td>\n",
       "      <td>79</td>\n",
       "      <td>47</td>\n",
       "      <td>26</td>\n",
       "    </tr>\n",
       "  </tbody>\n",
       "</table>\n",
       "</div>"
      ],
      "text/plain": [
       "     1반  2반  3반  4반\n",
       "과목                 \n",
       "파이썬  45  44  73  39\n",
       "DB   76  92  45  69\n",
       "자바   47  92  45  69\n",
       "크롤링  92  81  85  40\n",
       "Web  11  79  47  26"
      ]
     },
     "execution_count": 49,
     "metadata": {},
     "output_type": "execute_result"
    }
   ],
   "source": [
    "# score 파일 불러오기 -> score 변수에 저장\n",
    "score = pd.read_csv('score.csv', encoding='euc-kr', index_col='과목')\n",
    "score"
   ]
  },
  {
   "cell_type": "code",
   "execution_count": 50,
   "id": "7ff54656",
   "metadata": {},
   "outputs": [
    {
     "data": {
      "text/plain": [
       "1반    271\n",
       "2반    388\n",
       "3반    295\n",
       "4반    243\n",
       "dtype: int64"
      ]
     },
     "execution_count": 50,
     "metadata": {},
     "output_type": "execute_result"
    }
   ],
   "source": [
    "score.sum()"
   ]
  },
  {
   "cell_type": "code",
   "execution_count": 55,
   "id": "58e384c5",
   "metadata": {},
   "outputs": [
    {
     "data": {
      "text/plain": [
       "과목\n",
       "파이썬    201\n",
       "DB     282\n",
       "자바     253\n",
       "크롤링    298\n",
       "Web    163\n",
       "dtype: int64"
      ]
     },
     "execution_count": 55,
     "metadata": {},
     "output_type": "execute_result"
    }
   ],
   "source": [
    "# 과목을 기준으로 총합 구하기\n",
    "score.sum(axis=1)"
   ]
  },
  {
   "cell_type": "code",
   "execution_count": 57,
   "id": "71ea006a",
   "metadata": {},
   "outputs": [
    {
     "data": {
      "text/html": [
       "<div>\n",
       "<style scoped>\n",
       "    .dataframe tbody tr th:only-of-type {\n",
       "        vertical-align: middle;\n",
       "    }\n",
       "\n",
       "    .dataframe tbody tr th {\n",
       "        vertical-align: top;\n",
       "    }\n",
       "\n",
       "    .dataframe thead th {\n",
       "        text-align: right;\n",
       "    }\n",
       "</style>\n",
       "<table border=\"1\" class=\"dataframe\">\n",
       "  <thead>\n",
       "    <tr style=\"text-align: right;\">\n",
       "      <th></th>\n",
       "      <th>1반</th>\n",
       "      <th>2반</th>\n",
       "      <th>3반</th>\n",
       "      <th>4반</th>\n",
       "      <th>합계</th>\n",
       "    </tr>\n",
       "    <tr>\n",
       "      <th>과목</th>\n",
       "      <th></th>\n",
       "      <th></th>\n",
       "      <th></th>\n",
       "      <th></th>\n",
       "      <th></th>\n",
       "    </tr>\n",
       "  </thead>\n",
       "  <tbody>\n",
       "    <tr>\n",
       "      <th>파이썬</th>\n",
       "      <td>45</td>\n",
       "      <td>44</td>\n",
       "      <td>73</td>\n",
       "      <td>39</td>\n",
       "      <td>201</td>\n",
       "    </tr>\n",
       "    <tr>\n",
       "      <th>DB</th>\n",
       "      <td>76</td>\n",
       "      <td>92</td>\n",
       "      <td>45</td>\n",
       "      <td>69</td>\n",
       "      <td>282</td>\n",
       "    </tr>\n",
       "    <tr>\n",
       "      <th>자바</th>\n",
       "      <td>47</td>\n",
       "      <td>92</td>\n",
       "      <td>45</td>\n",
       "      <td>69</td>\n",
       "      <td>253</td>\n",
       "    </tr>\n",
       "    <tr>\n",
       "      <th>크롤링</th>\n",
       "      <td>92</td>\n",
       "      <td>81</td>\n",
       "      <td>85</td>\n",
       "      <td>40</td>\n",
       "      <td>298</td>\n",
       "    </tr>\n",
       "    <tr>\n",
       "      <th>Web</th>\n",
       "      <td>11</td>\n",
       "      <td>79</td>\n",
       "      <td>47</td>\n",
       "      <td>26</td>\n",
       "      <td>163</td>\n",
       "    </tr>\n",
       "  </tbody>\n",
       "</table>\n",
       "</div>"
      ],
      "text/plain": [
       "     1반  2반  3반  4반   합계\n",
       "과목                      \n",
       "파이썬  45  44  73  39  201\n",
       "DB   76  92  45  69  282\n",
       "자바   47  92  45  69  253\n",
       "크롤링  92  81  85  40  298\n",
       "Web  11  79  47  26  163"
      ]
     },
     "execution_count": 57,
     "metadata": {},
     "output_type": "execute_result"
    }
   ],
   "source": [
    "score['합계'] = score.sum(axis = 1)\n",
    "score"
   ]
  },
  {
   "cell_type": "code",
   "execution_count": 76,
   "id": "e091f714",
   "metadata": {
    "collapsed": true
   },
   "outputs": [
    {
     "ename": "IndexingError",
     "evalue": "Too many indexers",
     "output_type": "error",
     "traceback": [
      "\u001b[1;31m---------------------------------------------------------------------------\u001b[0m",
      "\u001b[1;31mIndexingError\u001b[0m                             Traceback (most recent call last)",
      "\u001b[1;32m<ipython-input-76-c5215ed63ccb>\u001b[0m in \u001b[0;36m<module>\u001b[1;34m\u001b[0m\n\u001b[0;32m      1\u001b[0m \u001b[1;31m# '평균' -> 1~4반까지의 과목별 평균\u001b[0m\u001b[1;33m\u001b[0m\u001b[1;33m\u001b[0m\u001b[1;33m\u001b[0m\u001b[0m\n\u001b[0;32m      2\u001b[0m \u001b[1;31m# 방법 1\u001b[0m\u001b[1;33m\u001b[0m\u001b[1;33m\u001b[0m\u001b[1;33m\u001b[0m\u001b[0m\n\u001b[1;32m----> 3\u001b[1;33m \u001b[0mscore\u001b[0m\u001b[1;33m[\u001b[0m\u001b[1;34m'평균'\u001b[0m\u001b[1;33m]\u001b[0m \u001b[1;33m=\u001b[0m \u001b[0mscore\u001b[0m\u001b[1;33m.\u001b[0m\u001b[0mloc\u001b[0m\u001b[1;33m[\u001b[0m\u001b[1;33m:\u001b[0m\u001b[1;33m,\u001b[0m\u001b[1;34m'1반'\u001b[0m\u001b[1;33m,\u001b[0m\u001b[1;34m'4반'\u001b[0m\u001b[1;33m]\u001b[0m\u001b[1;33m.\u001b[0m\u001b[0mmean\u001b[0m\u001b[1;33m(\u001b[0m\u001b[0maxis\u001b[0m\u001b[1;33m=\u001b[0m\u001b[1;36m1\u001b[0m\u001b[1;33m)\u001b[0m\u001b[1;33m\u001b[0m\u001b[1;33m\u001b[0m\u001b[0m\n\u001b[0m\u001b[0;32m      4\u001b[0m \u001b[1;31m# 방법 2\u001b[0m\u001b[1;33m\u001b[0m\u001b[1;33m\u001b[0m\u001b[1;33m\u001b[0m\u001b[0m\n\u001b[0;32m      5\u001b[0m \u001b[0mscore\u001b[0m\u001b[1;33m[\u001b[0m\u001b[1;34m'평균'\u001b[0m\u001b[1;33m]\u001b[0m \u001b[1;33m=\u001b[0m \u001b[0mscore\u001b[0m\u001b[1;33m.\u001b[0m\u001b[0mloc\u001b[0m\u001b[1;33m[\u001b[0m\u001b[1;33m:\u001b[0m\u001b[1;33m,\u001b[0m\u001b[1;34m'합계'\u001b[0m\u001b[1;33m]\u001b[0m\u001b[1;33m/\u001b[0m\u001b[1;36m4\u001b[0m\u001b[1;33m\u001b[0m\u001b[1;33m\u001b[0m\u001b[0m\n",
      "\u001b[1;32m~\\anaconda3\\lib\\site-packages\\pandas\\core\\indexing.py\u001b[0m in \u001b[0;36m__getitem__\u001b[1;34m(self, key)\u001b[0m\n\u001b[0;32m    887\u001b[0m                     \u001b[1;31m# AttributeError for IntervalTree get_value\u001b[0m\u001b[1;33m\u001b[0m\u001b[1;33m\u001b[0m\u001b[1;33m\u001b[0m\u001b[0m\n\u001b[0;32m    888\u001b[0m                     \u001b[1;32mreturn\u001b[0m \u001b[0mself\u001b[0m\u001b[1;33m.\u001b[0m\u001b[0mobj\u001b[0m\u001b[1;33m.\u001b[0m\u001b[0m_get_value\u001b[0m\u001b[1;33m(\u001b[0m\u001b[1;33m*\u001b[0m\u001b[0mkey\u001b[0m\u001b[1;33m,\u001b[0m \u001b[0mtakeable\u001b[0m\u001b[1;33m=\u001b[0m\u001b[0mself\u001b[0m\u001b[1;33m.\u001b[0m\u001b[0m_takeable\u001b[0m\u001b[1;33m)\u001b[0m\u001b[1;33m\u001b[0m\u001b[1;33m\u001b[0m\u001b[0m\n\u001b[1;32m--> 889\u001b[1;33m             \u001b[1;32mreturn\u001b[0m \u001b[0mself\u001b[0m\u001b[1;33m.\u001b[0m\u001b[0m_getitem_tuple\u001b[0m\u001b[1;33m(\u001b[0m\u001b[0mkey\u001b[0m\u001b[1;33m)\u001b[0m\u001b[1;33m\u001b[0m\u001b[1;33m\u001b[0m\u001b[0m\n\u001b[0m\u001b[0;32m    890\u001b[0m         \u001b[1;32melse\u001b[0m\u001b[1;33m:\u001b[0m\u001b[1;33m\u001b[0m\u001b[1;33m\u001b[0m\u001b[0m\n\u001b[0;32m    891\u001b[0m             \u001b[1;31m# we by definition only have the 0th axis\u001b[0m\u001b[1;33m\u001b[0m\u001b[1;33m\u001b[0m\u001b[1;33m\u001b[0m\u001b[0m\n",
      "\u001b[1;32m~\\anaconda3\\lib\\site-packages\\pandas\\core\\indexing.py\u001b[0m in \u001b[0;36m_getitem_tuple\u001b[1;34m(self, tup)\u001b[0m\n\u001b[0;32m   1061\u001b[0m \u001b[1;33m\u001b[0m\u001b[0m\n\u001b[0;32m   1062\u001b[0m         \u001b[1;31m# no multi-index, so validate all of the indexers\u001b[0m\u001b[1;33m\u001b[0m\u001b[1;33m\u001b[0m\u001b[1;33m\u001b[0m\u001b[0m\n\u001b[1;32m-> 1063\u001b[1;33m         \u001b[0mself\u001b[0m\u001b[1;33m.\u001b[0m\u001b[0m_has_valid_tuple\u001b[0m\u001b[1;33m(\u001b[0m\u001b[0mtup\u001b[0m\u001b[1;33m)\u001b[0m\u001b[1;33m\u001b[0m\u001b[1;33m\u001b[0m\u001b[0m\n\u001b[0m\u001b[0;32m   1064\u001b[0m \u001b[1;33m\u001b[0m\u001b[0m\n\u001b[0;32m   1065\u001b[0m         \u001b[1;31m# ugly hack for GH #836\u001b[0m\u001b[1;33m\u001b[0m\u001b[1;33m\u001b[0m\u001b[1;33m\u001b[0m\u001b[0m\n",
      "\u001b[1;32m~\\anaconda3\\lib\\site-packages\\pandas\\core\\indexing.py\u001b[0m in \u001b[0;36m_has_valid_tuple\u001b[1;34m(self, key)\u001b[0m\n\u001b[0;32m    718\u001b[0m         \u001b[0mCheck\u001b[0m \u001b[0mthe\u001b[0m \u001b[0mkey\u001b[0m \u001b[1;32mfor\u001b[0m \u001b[0mvalid\u001b[0m \u001b[0mkeys\u001b[0m \u001b[0macross\u001b[0m \u001b[0mmy\u001b[0m \u001b[0mindexer\u001b[0m\u001b[1;33m.\u001b[0m\u001b[1;33m\u001b[0m\u001b[1;33m\u001b[0m\u001b[0m\n\u001b[0;32m    719\u001b[0m         \"\"\"\n\u001b[1;32m--> 720\u001b[1;33m         \u001b[0mself\u001b[0m\u001b[1;33m.\u001b[0m\u001b[0m_validate_key_length\u001b[0m\u001b[1;33m(\u001b[0m\u001b[0mkey\u001b[0m\u001b[1;33m)\u001b[0m\u001b[1;33m\u001b[0m\u001b[1;33m\u001b[0m\u001b[0m\n\u001b[0m\u001b[0;32m    721\u001b[0m         \u001b[1;32mfor\u001b[0m \u001b[0mi\u001b[0m\u001b[1;33m,\u001b[0m \u001b[0mk\u001b[0m \u001b[1;32min\u001b[0m \u001b[0menumerate\u001b[0m\u001b[1;33m(\u001b[0m\u001b[0mkey\u001b[0m\u001b[1;33m)\u001b[0m\u001b[1;33m:\u001b[0m\u001b[1;33m\u001b[0m\u001b[1;33m\u001b[0m\u001b[0m\n\u001b[0;32m    722\u001b[0m             \u001b[1;32mtry\u001b[0m\u001b[1;33m:\u001b[0m\u001b[1;33m\u001b[0m\u001b[1;33m\u001b[0m\u001b[0m\n",
      "\u001b[1;32m~\\anaconda3\\lib\\site-packages\\pandas\\core\\indexing.py\u001b[0m in \u001b[0;36m_validate_key_length\u001b[1;34m(self, key)\u001b[0m\n\u001b[0;32m    759\u001b[0m     \u001b[1;32mdef\u001b[0m \u001b[0m_validate_key_length\u001b[0m\u001b[1;33m(\u001b[0m\u001b[0mself\u001b[0m\u001b[1;33m,\u001b[0m \u001b[0mkey\u001b[0m\u001b[1;33m:\u001b[0m \u001b[0mSequence\u001b[0m\u001b[1;33m[\u001b[0m\u001b[0mAny\u001b[0m\u001b[1;33m]\u001b[0m\u001b[1;33m)\u001b[0m \u001b[1;33m->\u001b[0m \u001b[1;32mNone\u001b[0m\u001b[1;33m:\u001b[0m\u001b[1;33m\u001b[0m\u001b[1;33m\u001b[0m\u001b[0m\n\u001b[0;32m    760\u001b[0m         \u001b[1;32mif\u001b[0m \u001b[0mlen\u001b[0m\u001b[1;33m(\u001b[0m\u001b[0mkey\u001b[0m\u001b[1;33m)\u001b[0m \u001b[1;33m>\u001b[0m \u001b[0mself\u001b[0m\u001b[1;33m.\u001b[0m\u001b[0mndim\u001b[0m\u001b[1;33m:\u001b[0m\u001b[1;33m\u001b[0m\u001b[1;33m\u001b[0m\u001b[0m\n\u001b[1;32m--> 761\u001b[1;33m             \u001b[1;32mraise\u001b[0m \u001b[0mIndexingError\u001b[0m\u001b[1;33m(\u001b[0m\u001b[1;34m\"Too many indexers\"\u001b[0m\u001b[1;33m)\u001b[0m\u001b[1;33m\u001b[0m\u001b[1;33m\u001b[0m\u001b[0m\n\u001b[0m\u001b[0;32m    762\u001b[0m \u001b[1;33m\u001b[0m\u001b[0m\n\u001b[0;32m    763\u001b[0m     \u001b[1;32mdef\u001b[0m \u001b[0m_getitem_tuple_same_dim\u001b[0m\u001b[1;33m(\u001b[0m\u001b[0mself\u001b[0m\u001b[1;33m,\u001b[0m \u001b[0mtup\u001b[0m\u001b[1;33m:\u001b[0m \u001b[0mTuple\u001b[0m\u001b[1;33m)\u001b[0m\u001b[1;33m:\u001b[0m\u001b[1;33m\u001b[0m\u001b[1;33m\u001b[0m\u001b[0m\n",
      "\u001b[1;31mIndexingError\u001b[0m: Too many indexers"
     ]
    }
   ],
   "source": [
    "# '평균' -> 1~4반까지의 과목별 평균\n",
    "# 방법 1\n",
    "score['평균'] = score.loc[:,'1반','4반'].mean(axis=1)\n",
    "# 방법 2\n",
    "# score['평균'] = score.loc[:,'합계']/4\n",
    "score"
   ]
  },
  {
   "cell_type": "code",
   "execution_count": 78,
   "id": "8694ae64",
   "metadata": {},
   "outputs": [
    {
     "data": {
      "text/html": [
       "<div>\n",
       "<style scoped>\n",
       "    .dataframe tbody tr th:only-of-type {\n",
       "        vertical-align: middle;\n",
       "    }\n",
       "\n",
       "    .dataframe tbody tr th {\n",
       "        vertical-align: top;\n",
       "    }\n",
       "\n",
       "    .dataframe thead th {\n",
       "        text-align: right;\n",
       "    }\n",
       "</style>\n",
       "<table border=\"1\" class=\"dataframe\">\n",
       "  <thead>\n",
       "    <tr style=\"text-align: right;\">\n",
       "      <th></th>\n",
       "      <th>1반</th>\n",
       "      <th>2반</th>\n",
       "      <th>3반</th>\n",
       "      <th>4반</th>\n",
       "      <th>합계</th>\n",
       "      <th>평균</th>\n",
       "    </tr>\n",
       "    <tr>\n",
       "      <th>과목</th>\n",
       "      <th></th>\n",
       "      <th></th>\n",
       "      <th></th>\n",
       "      <th></th>\n",
       "      <th></th>\n",
       "      <th></th>\n",
       "    </tr>\n",
       "  </thead>\n",
       "  <tbody>\n",
       "    <tr>\n",
       "      <th>파이썬</th>\n",
       "      <td>45.0</td>\n",
       "      <td>44.0</td>\n",
       "      <td>73.0</td>\n",
       "      <td>39.0</td>\n",
       "      <td>201.0</td>\n",
       "      <td>50.25</td>\n",
       "    </tr>\n",
       "    <tr>\n",
       "      <th>DB</th>\n",
       "      <td>76.0</td>\n",
       "      <td>92.0</td>\n",
       "      <td>45.0</td>\n",
       "      <td>69.0</td>\n",
       "      <td>282.0</td>\n",
       "      <td>70.50</td>\n",
       "    </tr>\n",
       "    <tr>\n",
       "      <th>자바</th>\n",
       "      <td>47.0</td>\n",
       "      <td>92.0</td>\n",
       "      <td>45.0</td>\n",
       "      <td>69.0</td>\n",
       "      <td>253.0</td>\n",
       "      <td>63.25</td>\n",
       "    </tr>\n",
       "    <tr>\n",
       "      <th>크롤링</th>\n",
       "      <td>92.0</td>\n",
       "      <td>81.0</td>\n",
       "      <td>85.0</td>\n",
       "      <td>40.0</td>\n",
       "      <td>298.0</td>\n",
       "      <td>74.50</td>\n",
       "    </tr>\n",
       "    <tr>\n",
       "      <th>Web</th>\n",
       "      <td>11.0</td>\n",
       "      <td>79.0</td>\n",
       "      <td>47.0</td>\n",
       "      <td>26.0</td>\n",
       "      <td>163.0</td>\n",
       "      <td>40.75</td>\n",
       "    </tr>\n",
       "    <tr>\n",
       "      <th>반평균</th>\n",
       "      <td>54.2</td>\n",
       "      <td>77.6</td>\n",
       "      <td>59.0</td>\n",
       "      <td>48.6</td>\n",
       "      <td>239.4</td>\n",
       "      <td>59.85</td>\n",
       "    </tr>\n",
       "  </tbody>\n",
       "</table>\n",
       "</div>"
      ],
      "text/plain": [
       "       1반    2반    3반    4반     합계     평균\n",
       "과목                                       \n",
       "파이썬  45.0  44.0  73.0  39.0  201.0  50.25\n",
       "DB   76.0  92.0  45.0  69.0  282.0  70.50\n",
       "자바   47.0  92.0  45.0  69.0  253.0  63.25\n",
       "크롤링  92.0  81.0  85.0  40.0  298.0  74.50\n",
       "Web  11.0  79.0  47.0  26.0  163.0  40.75\n",
       "반평균  54.2  77.6  59.0  48.6  239.4  59.85"
      ]
     },
     "execution_count": 78,
     "metadata": {},
     "output_type": "execute_result"
    }
   ],
   "source": [
    "# 새로운 행 추가하기\n",
    "score.loc['반평균'] = score.mean()\n",
    "score"
   ]
  },
  {
   "cell_type": "code",
   "execution_count": 79,
   "id": "f1bce354",
   "metadata": {},
   "outputs": [
    {
     "data": {
      "text/plain": [
       "1반     92.0\n",
       "2반     92.0\n",
       "3반     85.0\n",
       "4반     69.0\n",
       "합계    298.0\n",
       "평균     74.5\n",
       "dtype: float64"
      ]
     },
     "execution_count": 79,
     "metadata": {},
     "output_type": "execute_result"
    }
   ],
   "source": [
    "# 최대값 최소값 구하기 -> max(), min()\n",
    "score.max()"
   ]
  },
  {
   "cell_type": "code",
   "execution_count": 80,
   "id": "c994e6b4",
   "metadata": {},
   "outputs": [
    {
     "data": {
      "text/plain": [
       "1반     11.00\n",
       "2반     44.00\n",
       "3반     45.00\n",
       "4반     26.00\n",
       "합계    163.00\n",
       "평균     40.75\n",
       "dtype: float64"
      ]
     },
     "execution_count": 80,
     "metadata": {},
     "output_type": "execute_result"
    }
   ],
   "source": [
    "score.min()"
   ]
  },
  {
   "cell_type": "code",
   "execution_count": 82,
   "id": "a807f4ed",
   "metadata": {},
   "outputs": [
    {
     "data": {
      "text/plain": [
       "과목\n",
       "파이썬    73.0\n",
       "DB     92.0\n",
       "자바     92.0\n",
       "크롤링    92.0\n",
       "Web    79.0\n",
       "dtype: float64"
      ]
     },
     "execution_count": 82,
     "metadata": {},
     "output_type": "execute_result"
    }
   ],
   "source": [
    "# 각반 과목별 가장 큰 점수와 작은 점수의 차이값 구하기\n",
    "maxArr = score.loc[:'Web', :'4반'].max(axis = 1)\n",
    "maxArr"
   ]
  },
  {
   "cell_type": "code",
   "execution_count": 83,
   "id": "904fc708",
   "metadata": {},
   "outputs": [
    {
     "data": {
      "text/plain": [
       "과목\n",
       "파이썬    39.0\n",
       "DB     45.0\n",
       "자바     45.0\n",
       "크롤링    40.0\n",
       "Web    11.0\n",
       "dtype: float64"
      ]
     },
     "execution_count": 83,
     "metadata": {},
     "output_type": "execute_result"
    }
   ],
   "source": [
    "minArr = score.loc[:'Web', :'4반'].min(axis = 1)\n",
    "minArr"
   ]
  },
  {
   "cell_type": "code",
   "execution_count": 84,
   "id": "76f7da86",
   "metadata": {},
   "outputs": [
    {
     "data": {
      "text/plain": [
       "과목\n",
       "파이썬    34.0\n",
       "DB     47.0\n",
       "자바     47.0\n",
       "크롤링    52.0\n",
       "Web    68.0\n",
       "dtype: float64"
      ]
     },
     "execution_count": 84,
     "metadata": {},
     "output_type": "execute_result"
    }
   ],
   "source": [
    "maxArr - minArr"
   ]
  },
  {
   "cell_type": "code",
   "execution_count": 87,
   "id": "201c1c69",
   "metadata": {},
   "outputs": [],
   "source": [
    "# apply() : 행이나 열 단위로 더 복잡한 연산을 진행할 수 있는 함수\n",
    "# apply(func, aixs = ?)\n",
    "\n",
    "# apply()를 활용하여 간단하게 최대-최소 차이 값 구하기\n",
    "# 1. 사용자가 사용하고자 하는 함수 생성하기 -> 최대 - 최소\n",
    "def max_min(x): # max_min 함수 정의 x라는 변수 하나 받음\n",
    "    return x.max() - x.min()"
   ]
  },
  {
   "cell_type": "code",
   "execution_count": 90,
   "id": "983912a5",
   "metadata": {},
   "outputs": [
    {
     "data": {
      "text/plain": [
       "과목\n",
       "파이썬    34.0\n",
       "DB     47.0\n",
       "자바     47.0\n",
       "크롤링    52.0\n",
       "Web    68.0\n",
       "dtype: float64"
      ]
     },
     "execution_count": 90,
     "metadata": {},
     "output_type": "execute_result"
    }
   ],
   "source": [
    "score.loc[:'Web',:'4반'].apply(max_min, axis=1)"
   ]
  },
  {
   "cell_type": "code",
   "execution_count": 91,
   "id": "0e41c3c4",
   "metadata": {},
   "outputs": [
    {
     "data": {
      "text/plain": [
       "[0, 2, 10, 21, 23, 37, 31, 61, 20, 41, 32, 100]"
      ]
     },
     "execution_count": 91,
     "metadata": {},
     "output_type": "execute_result"
    }
   ],
   "source": [
    "ages = [0, 2, 10, 21, 23, 37, 31, 61, 20, 41, 32, 100]\n",
    "ages"
   ]
  },
  {
   "cell_type": "code",
   "execution_count": 94,
   "id": "4622fbf6",
   "metadata": {},
   "outputs": [
    {
     "name": "stdout",
     "output_type": "stream",
     "text": [
      "[0, 15, 25, 35, 60, 99]\n",
      "['미성년자', '청년', '중년', '장년', '노년']\n"
     ]
    }
   ],
   "source": [
    "# 1~15(미성년자), 16~25(청년), 26~35(중년), 36~60(장년), 61~99(노년)\n",
    "# 시작 범위는 항상 실제 데이터보다 -1 작아야 한다\n",
    "# \n",
    "bins = [0, 15, 25, 35, 60, 99]\n",
    "\n",
    "# 각 구간에 들어갈 이름 데이터 생성하기\n",
    "lb = ['미성년자', '청년', '중년', '장년', '노년']\n",
    "\n",
    "print(bins)\n",
    "print(lb)"
   ]
  },
  {
   "cell_type": "code",
   "execution_count": 103,
   "id": "7b9db195",
   "metadata": {},
   "outputs": [
    {
     "data": {
      "text/plain": [
       "[NaN, '미성년자', '미성년자', '청년', '청년', ..., '노년', '청년', '장년', '중년', NaN]\n",
       "Length: 12\n",
       "Categories (5, object): ['미성년자' < '청년' < '중년' < '장년' < '노년']"
      ]
     },
     "execution_count": 103,
     "metadata": {},
     "output_type": "execute_result"
    }
   ],
   "source": [
    "# cut(전체 데이터(), 구분 기준(bins), 구분 이름(labels))\n",
    "data = pd.cut(ages, bins, labels = lb)\n",
    "data"
   ]
  },
  {
   "cell_type": "code",
   "execution_count": 104,
   "id": "86142f74",
   "metadata": {},
   "outputs": [
    {
     "data": {
      "text/html": [
       "<div>\n",
       "<style scoped>\n",
       "    .dataframe tbody tr th:only-of-type {\n",
       "        vertical-align: middle;\n",
       "    }\n",
       "\n",
       "    .dataframe tbody tr th {\n",
       "        vertical-align: top;\n",
       "    }\n",
       "\n",
       "    .dataframe thead th {\n",
       "        text-align: right;\n",
       "    }\n",
       "</style>\n",
       "<table border=\"1\" class=\"dataframe\">\n",
       "  <thead>\n",
       "    <tr style=\"text-align: right;\">\n",
       "      <th></th>\n",
       "      <th>ages</th>\n",
       "    </tr>\n",
       "  </thead>\n",
       "  <tbody>\n",
       "    <tr>\n",
       "      <th>0</th>\n",
       "      <td>0</td>\n",
       "    </tr>\n",
       "    <tr>\n",
       "      <th>1</th>\n",
       "      <td>2</td>\n",
       "    </tr>\n",
       "    <tr>\n",
       "      <th>2</th>\n",
       "      <td>10</td>\n",
       "    </tr>\n",
       "    <tr>\n",
       "      <th>3</th>\n",
       "      <td>21</td>\n",
       "    </tr>\n",
       "    <tr>\n",
       "      <th>4</th>\n",
       "      <td>23</td>\n",
       "    </tr>\n",
       "    <tr>\n",
       "      <th>5</th>\n",
       "      <td>37</td>\n",
       "    </tr>\n",
       "    <tr>\n",
       "      <th>6</th>\n",
       "      <td>31</td>\n",
       "    </tr>\n",
       "    <tr>\n",
       "      <th>7</th>\n",
       "      <td>61</td>\n",
       "    </tr>\n",
       "    <tr>\n",
       "      <th>8</th>\n",
       "      <td>20</td>\n",
       "    </tr>\n",
       "    <tr>\n",
       "      <th>9</th>\n",
       "      <td>41</td>\n",
       "    </tr>\n",
       "    <tr>\n",
       "      <th>10</th>\n",
       "      <td>32</td>\n",
       "    </tr>\n",
       "    <tr>\n",
       "      <th>11</th>\n",
       "      <td>100</td>\n",
       "    </tr>\n",
       "  </tbody>\n",
       "</table>\n",
       "</div>"
      ],
      "text/plain": [
       "    ages\n",
       "0      0\n",
       "1      2\n",
       "2     10\n",
       "3     21\n",
       "4     23\n",
       "5     37\n",
       "6     31\n",
       "7     61\n",
       "8     20\n",
       "9     41\n",
       "10    32\n",
       "11   100"
      ]
     },
     "execution_count": 104,
     "metadata": {},
     "output_type": "execute_result"
    }
   ],
   "source": [
    "df_age = pd.DataFrame(ages, columns = ['ages'])\n",
    "df_age"
   ]
  },
  {
   "cell_type": "code",
   "execution_count": 105,
   "id": "3c090de8",
   "metadata": {},
   "outputs": [
    {
     "data": {
      "text/html": [
       "<div>\n",
       "<style scoped>\n",
       "    .dataframe tbody tr th:only-of-type {\n",
       "        vertical-align: middle;\n",
       "    }\n",
       "\n",
       "    .dataframe tbody tr th {\n",
       "        vertical-align: top;\n",
       "    }\n",
       "\n",
       "    .dataframe thead th {\n",
       "        text-align: right;\n",
       "    }\n",
       "</style>\n",
       "<table border=\"1\" class=\"dataframe\">\n",
       "  <thead>\n",
       "    <tr style=\"text-align: right;\">\n",
       "      <th></th>\n",
       "      <th>ages</th>\n",
       "      <th>age_cat</th>\n",
       "    </tr>\n",
       "  </thead>\n",
       "  <tbody>\n",
       "    <tr>\n",
       "      <th>0</th>\n",
       "      <td>0</td>\n",
       "      <td>NaN</td>\n",
       "    </tr>\n",
       "    <tr>\n",
       "      <th>1</th>\n",
       "      <td>2</td>\n",
       "      <td>미성년자</td>\n",
       "    </tr>\n",
       "    <tr>\n",
       "      <th>2</th>\n",
       "      <td>10</td>\n",
       "      <td>미성년자</td>\n",
       "    </tr>\n",
       "    <tr>\n",
       "      <th>3</th>\n",
       "      <td>21</td>\n",
       "      <td>청년</td>\n",
       "    </tr>\n",
       "    <tr>\n",
       "      <th>4</th>\n",
       "      <td>23</td>\n",
       "      <td>청년</td>\n",
       "    </tr>\n",
       "    <tr>\n",
       "      <th>5</th>\n",
       "      <td>37</td>\n",
       "      <td>장년</td>\n",
       "    </tr>\n",
       "    <tr>\n",
       "      <th>6</th>\n",
       "      <td>31</td>\n",
       "      <td>중년</td>\n",
       "    </tr>\n",
       "    <tr>\n",
       "      <th>7</th>\n",
       "      <td>61</td>\n",
       "      <td>노년</td>\n",
       "    </tr>\n",
       "    <tr>\n",
       "      <th>8</th>\n",
       "      <td>20</td>\n",
       "      <td>청년</td>\n",
       "    </tr>\n",
       "    <tr>\n",
       "      <th>9</th>\n",
       "      <td>41</td>\n",
       "      <td>장년</td>\n",
       "    </tr>\n",
       "    <tr>\n",
       "      <th>10</th>\n",
       "      <td>32</td>\n",
       "      <td>중년</td>\n",
       "    </tr>\n",
       "    <tr>\n",
       "      <th>11</th>\n",
       "      <td>100</td>\n",
       "      <td>NaN</td>\n",
       "    </tr>\n",
       "  </tbody>\n",
       "</table>\n",
       "</div>"
      ],
      "text/plain": [
       "    ages age_cat\n",
       "0      0     NaN\n",
       "1      2    미성년자\n",
       "2     10    미성년자\n",
       "3     21      청년\n",
       "4     23      청년\n",
       "5     37      장년\n",
       "6     31      중년\n",
       "7     61      노년\n",
       "8     20      청년\n",
       "9     41      장년\n",
       "10    32      중년\n",
       "11   100     NaN"
      ]
     },
     "execution_count": 105,
     "metadata": {},
     "output_type": "execute_result"
    }
   ],
   "source": [
    "df_age['age_cat'] = pd.cut(ages, bins, labels=lb)\n",
    "df_age"
   ]
  },
  {
   "cell_type": "code",
   "execution_count": 106,
   "id": "a9a32cf2",
   "metadata": {},
   "outputs": [
    {
     "data": {
      "text/plain": [
       "청년      3\n",
       "미성년자    2\n",
       "중년      2\n",
       "장년      2\n",
       "노년      1\n",
       "Name: age_cat, dtype: int64"
      ]
     },
     "execution_count": 106,
     "metadata": {},
     "output_type": "execute_result"
    }
   ],
   "source": [
    "# 미성년자 -> ?, 청년 -> ? 갯수 세어보기\n",
    "df_age['age_cat'].value_counts()"
   ]
  },
  {
   "cell_type": "code",
   "execution_count": 107,
   "id": "cd89496c",
   "metadata": {},
   "outputs": [
    {
     "data": {
      "text/plain": [
       "Index(['미성년자', '청년', '중년', '장년', '노년'], dtype='object')"
      ]
     },
     "execution_count": 107,
     "metadata": {},
     "output_type": "execute_result"
    }
   ],
   "source": [
    "data.categories"
   ]
  },
  {
   "cell_type": "code",
   "execution_count": 108,
   "id": "3f5b8df7",
   "metadata": {},
   "outputs": [],
   "source": [
    "df1 = pd.DataFrame({'A': ['A0', 'A1', 'A2', 'A3'], \n",
    "                    'B': ['B0', 'B1', 'B2', 'B3'],\n",
    "                    'C': ['C0', 'C1', 'C2', 'C3'],\n",
    "                    'D': ['D0', 'D1', 'D2', 'D3']},\n",
    "                   index=[0, 1, 2, 3])\n",
    "\n",
    "df2 = pd.DataFrame({'A': ['A4', 'A5', 'A6', 'A7'],\n",
    "                    'B': ['B4', 'B5', 'B6', 'B7'],\n",
    "                    'C': ['C4', 'C5', 'C6', 'C7'],\n",
    "                    'D': ['D4', 'D5', 'D6', 'D7']},\n",
    "                   index=[4, 5, 6, 7])\n",
    "\n",
    "df3 = pd.DataFrame({'A': ['A8', 'A9', 'A10', 'A11'],\n",
    "                    'B': ['B8', 'B9', 'B10', 'B11'],\n",
    "                    'C': ['C8', 'C9', 'C10', 'C11'],\n",
    "                    'D': ['D8', 'D9', 'D10', 'D11']},\n",
    "                   index=[8, 9, 10, 11])"
   ]
  },
  {
   "cell_type": "code",
   "execution_count": 113,
   "id": "74d94bfe",
   "metadata": {},
   "outputs": [
    {
     "data": {
      "text/html": [
       "<div>\n",
       "<style scoped>\n",
       "    .dataframe tbody tr th:only-of-type {\n",
       "        vertical-align: middle;\n",
       "    }\n",
       "\n",
       "    .dataframe tbody tr th {\n",
       "        vertical-align: top;\n",
       "    }\n",
       "\n",
       "    .dataframe thead th {\n",
       "        text-align: right;\n",
       "    }\n",
       "</style>\n",
       "<table border=\"1\" class=\"dataframe\">\n",
       "  <thead>\n",
       "    <tr style=\"text-align: right;\">\n",
       "      <th></th>\n",
       "      <th>A</th>\n",
       "      <th>B</th>\n",
       "      <th>C</th>\n",
       "      <th>D</th>\n",
       "    </tr>\n",
       "  </thead>\n",
       "  <tbody>\n",
       "    <tr>\n",
       "      <th>0</th>\n",
       "      <td>A0</td>\n",
       "      <td>B0</td>\n",
       "      <td>C0</td>\n",
       "      <td>D0</td>\n",
       "    </tr>\n",
       "    <tr>\n",
       "      <th>1</th>\n",
       "      <td>A1</td>\n",
       "      <td>B1</td>\n",
       "      <td>C1</td>\n",
       "      <td>D1</td>\n",
       "    </tr>\n",
       "    <tr>\n",
       "      <th>2</th>\n",
       "      <td>A2</td>\n",
       "      <td>B2</td>\n",
       "      <td>C2</td>\n",
       "      <td>D2</td>\n",
       "    </tr>\n",
       "    <tr>\n",
       "      <th>3</th>\n",
       "      <td>A3</td>\n",
       "      <td>B3</td>\n",
       "      <td>C3</td>\n",
       "      <td>D3</td>\n",
       "    </tr>\n",
       "  </tbody>\n",
       "</table>\n",
       "</div>"
      ],
      "text/plain": [
       "    A   B   C   D\n",
       "0  A0  B0  C0  D0\n",
       "1  A1  B1  C1  D1\n",
       "2  A2  B2  C2  D2\n",
       "3  A3  B3  C3  D3"
      ]
     },
     "metadata": {},
     "output_type": "display_data"
    },
    {
     "data": {
      "text/html": [
       "<div>\n",
       "<style scoped>\n",
       "    .dataframe tbody tr th:only-of-type {\n",
       "        vertical-align: middle;\n",
       "    }\n",
       "\n",
       "    .dataframe tbody tr th {\n",
       "        vertical-align: top;\n",
       "    }\n",
       "\n",
       "    .dataframe thead th {\n",
       "        text-align: right;\n",
       "    }\n",
       "</style>\n",
       "<table border=\"1\" class=\"dataframe\">\n",
       "  <thead>\n",
       "    <tr style=\"text-align: right;\">\n",
       "      <th></th>\n",
       "      <th>A</th>\n",
       "      <th>B</th>\n",
       "      <th>C</th>\n",
       "      <th>D</th>\n",
       "    </tr>\n",
       "  </thead>\n",
       "  <tbody>\n",
       "    <tr>\n",
       "      <th>4</th>\n",
       "      <td>A4</td>\n",
       "      <td>B4</td>\n",
       "      <td>C4</td>\n",
       "      <td>D4</td>\n",
       "    </tr>\n",
       "    <tr>\n",
       "      <th>5</th>\n",
       "      <td>A5</td>\n",
       "      <td>B5</td>\n",
       "      <td>C5</td>\n",
       "      <td>D5</td>\n",
       "    </tr>\n",
       "    <tr>\n",
       "      <th>6</th>\n",
       "      <td>A6</td>\n",
       "      <td>B6</td>\n",
       "      <td>C6</td>\n",
       "      <td>D6</td>\n",
       "    </tr>\n",
       "    <tr>\n",
       "      <th>7</th>\n",
       "      <td>A7</td>\n",
       "      <td>B7</td>\n",
       "      <td>C7</td>\n",
       "      <td>D7</td>\n",
       "    </tr>\n",
       "  </tbody>\n",
       "</table>\n",
       "</div>"
      ],
      "text/plain": [
       "    A   B   C   D\n",
       "4  A4  B4  C4  D4\n",
       "5  A5  B5  C5  D5\n",
       "6  A6  B6  C6  D6\n",
       "7  A7  B7  C7  D7"
      ]
     },
     "metadata": {},
     "output_type": "display_data"
    },
    {
     "data": {
      "text/html": [
       "<div>\n",
       "<style scoped>\n",
       "    .dataframe tbody tr th:only-of-type {\n",
       "        vertical-align: middle;\n",
       "    }\n",
       "\n",
       "    .dataframe tbody tr th {\n",
       "        vertical-align: top;\n",
       "    }\n",
       "\n",
       "    .dataframe thead th {\n",
       "        text-align: right;\n",
       "    }\n",
       "</style>\n",
       "<table border=\"1\" class=\"dataframe\">\n",
       "  <thead>\n",
       "    <tr style=\"text-align: right;\">\n",
       "      <th></th>\n",
       "      <th>A</th>\n",
       "      <th>B</th>\n",
       "      <th>C</th>\n",
       "      <th>D</th>\n",
       "    </tr>\n",
       "  </thead>\n",
       "  <tbody>\n",
       "    <tr>\n",
       "      <th>8</th>\n",
       "      <td>A8</td>\n",
       "      <td>B8</td>\n",
       "      <td>C8</td>\n",
       "      <td>D8</td>\n",
       "    </tr>\n",
       "    <tr>\n",
       "      <th>9</th>\n",
       "      <td>A9</td>\n",
       "      <td>B9</td>\n",
       "      <td>C9</td>\n",
       "      <td>D9</td>\n",
       "    </tr>\n",
       "    <tr>\n",
       "      <th>10</th>\n",
       "      <td>A10</td>\n",
       "      <td>B10</td>\n",
       "      <td>C10</td>\n",
       "      <td>D10</td>\n",
       "    </tr>\n",
       "    <tr>\n",
       "      <th>11</th>\n",
       "      <td>A11</td>\n",
       "      <td>B11</td>\n",
       "      <td>C11</td>\n",
       "      <td>D11</td>\n",
       "    </tr>\n",
       "  </tbody>\n",
       "</table>\n",
       "</div>"
      ],
      "text/plain": [
       "      A    B    C    D\n",
       "8    A8   B8   C8   D8\n",
       "9    A9   B9   C9   D9\n",
       "10  A10  B10  C10  D10\n",
       "11  A11  B11  C11  D11"
      ]
     },
     "metadata": {},
     "output_type": "display_data"
    }
   ],
   "source": [
    "display(df1)\n",
    "display(df2)\n",
    "display(df3)"
   ]
  },
  {
   "cell_type": "code",
   "execution_count": 147,
   "id": "bd5dcee3",
   "metadata": {},
   "outputs": [
    {
     "data": {
      "text/html": [
       "<div>\n",
       "<style scoped>\n",
       "    .dataframe tbody tr th:only-of-type {\n",
       "        vertical-align: middle;\n",
       "    }\n",
       "\n",
       "    .dataframe tbody tr th {\n",
       "        vertical-align: top;\n",
       "    }\n",
       "\n",
       "    .dataframe thead th {\n",
       "        text-align: right;\n",
       "    }\n",
       "</style>\n",
       "<table border=\"1\" class=\"dataframe\">\n",
       "  <thead>\n",
       "    <tr style=\"text-align: right;\">\n",
       "      <th></th>\n",
       "      <th>A</th>\n",
       "      <th>B</th>\n",
       "      <th>C</th>\n",
       "      <th>D</th>\n",
       "    </tr>\n",
       "  </thead>\n",
       "  <tbody>\n",
       "    <tr>\n",
       "      <th>0</th>\n",
       "      <td>A0</td>\n",
       "      <td>B0</td>\n",
       "      <td>C0</td>\n",
       "      <td>D0</td>\n",
       "    </tr>\n",
       "    <tr>\n",
       "      <th>1</th>\n",
       "      <td>A1</td>\n",
       "      <td>B1</td>\n",
       "      <td>C1</td>\n",
       "      <td>D1</td>\n",
       "    </tr>\n",
       "    <tr>\n",
       "      <th>2</th>\n",
       "      <td>A2</td>\n",
       "      <td>B2</td>\n",
       "      <td>C2</td>\n",
       "      <td>D2</td>\n",
       "    </tr>\n",
       "    <tr>\n",
       "      <th>3</th>\n",
       "      <td>A3</td>\n",
       "      <td>B3</td>\n",
       "      <td>C3</td>\n",
       "      <td>D3</td>\n",
       "    </tr>\n",
       "    <tr>\n",
       "      <th>4</th>\n",
       "      <td>A4</td>\n",
       "      <td>B4</td>\n",
       "      <td>C4</td>\n",
       "      <td>D4</td>\n",
       "    </tr>\n",
       "    <tr>\n",
       "      <th>5</th>\n",
       "      <td>A5</td>\n",
       "      <td>B5</td>\n",
       "      <td>C5</td>\n",
       "      <td>D5</td>\n",
       "    </tr>\n",
       "    <tr>\n",
       "      <th>6</th>\n",
       "      <td>A6</td>\n",
       "      <td>B6</td>\n",
       "      <td>C6</td>\n",
       "      <td>D6</td>\n",
       "    </tr>\n",
       "    <tr>\n",
       "      <th>7</th>\n",
       "      <td>A7</td>\n",
       "      <td>B7</td>\n",
       "      <td>C7</td>\n",
       "      <td>D7</td>\n",
       "    </tr>\n",
       "    <tr>\n",
       "      <th>8</th>\n",
       "      <td>A8</td>\n",
       "      <td>B8</td>\n",
       "      <td>C8</td>\n",
       "      <td>D8</td>\n",
       "    </tr>\n",
       "    <tr>\n",
       "      <th>9</th>\n",
       "      <td>A9</td>\n",
       "      <td>B9</td>\n",
       "      <td>C9</td>\n",
       "      <td>D9</td>\n",
       "    </tr>\n",
       "    <tr>\n",
       "      <th>10</th>\n",
       "      <td>A10</td>\n",
       "      <td>B10</td>\n",
       "      <td>C10</td>\n",
       "      <td>D10</td>\n",
       "    </tr>\n",
       "    <tr>\n",
       "      <th>11</th>\n",
       "      <td>A11</td>\n",
       "      <td>B11</td>\n",
       "      <td>C11</td>\n",
       "      <td>D11</td>\n",
       "    </tr>\n",
       "  </tbody>\n",
       "</table>\n",
       "</div>"
      ],
      "text/plain": [
       "      A    B    C    D\n",
       "0    A0   B0   C0   D0\n",
       "1    A1   B1   C1   D1\n",
       "2    A2   B2   C2   D2\n",
       "3    A3   B3   C3   D3\n",
       "4    A4   B4   C4   D4\n",
       "5    A5   B5   C5   D5\n",
       "6    A6   B6   C6   D6\n",
       "7    A7   B7   C7   D7\n",
       "8    A8   B8   C8   D8\n",
       "9    A9   B9   C9   D9\n",
       "10  A10  B10  C10  D10\n",
       "11  A11  B11  C11  D11"
      ]
     },
     "execution_count": 147,
     "metadata": {},
     "output_type": "execute_result"
    }
   ],
   "source": [
    "# DataFrame 병합을 위한 함수 -> concat([df1, df2, ...])\n",
    "# 병합의 기준 \n",
    "result = pd.concat([df1,df2,df3])\n",
    "result"
   ]
  },
  {
   "cell_type": "code",
   "execution_count": 118,
   "id": "018e17f0",
   "metadata": {},
   "outputs": [
    {
     "data": {
      "text/html": [
       "<div>\n",
       "<style scoped>\n",
       "    .dataframe tbody tr th:only-of-type {\n",
       "        vertical-align: middle;\n",
       "    }\n",
       "\n",
       "    .dataframe tbody tr th {\n",
       "        vertical-align: top;\n",
       "    }\n",
       "\n",
       "    .dataframe thead th {\n",
       "        text-align: right;\n",
       "    }\n",
       "</style>\n",
       "<table border=\"1\" class=\"dataframe\">\n",
       "  <thead>\n",
       "    <tr style=\"text-align: right;\">\n",
       "      <th></th>\n",
       "      <th></th>\n",
       "      <th>A</th>\n",
       "      <th>B</th>\n",
       "      <th>C</th>\n",
       "      <th>D</th>\n",
       "    </tr>\n",
       "  </thead>\n",
       "  <tbody>\n",
       "    <tr>\n",
       "      <th rowspan=\"4\" valign=\"top\">x</th>\n",
       "      <th>0</th>\n",
       "      <td>A0</td>\n",
       "      <td>B0</td>\n",
       "      <td>C0</td>\n",
       "      <td>D0</td>\n",
       "    </tr>\n",
       "    <tr>\n",
       "      <th>1</th>\n",
       "      <td>A1</td>\n",
       "      <td>B1</td>\n",
       "      <td>C1</td>\n",
       "      <td>D1</td>\n",
       "    </tr>\n",
       "    <tr>\n",
       "      <th>2</th>\n",
       "      <td>A2</td>\n",
       "      <td>B2</td>\n",
       "      <td>C2</td>\n",
       "      <td>D2</td>\n",
       "    </tr>\n",
       "    <tr>\n",
       "      <th>3</th>\n",
       "      <td>A3</td>\n",
       "      <td>B3</td>\n",
       "      <td>C3</td>\n",
       "      <td>D3</td>\n",
       "    </tr>\n",
       "    <tr>\n",
       "      <th rowspan=\"4\" valign=\"top\">y</th>\n",
       "      <th>4</th>\n",
       "      <td>A4</td>\n",
       "      <td>B4</td>\n",
       "      <td>C4</td>\n",
       "      <td>D4</td>\n",
       "    </tr>\n",
       "    <tr>\n",
       "      <th>5</th>\n",
       "      <td>A5</td>\n",
       "      <td>B5</td>\n",
       "      <td>C5</td>\n",
       "      <td>D5</td>\n",
       "    </tr>\n",
       "    <tr>\n",
       "      <th>6</th>\n",
       "      <td>A6</td>\n",
       "      <td>B6</td>\n",
       "      <td>C6</td>\n",
       "      <td>D6</td>\n",
       "    </tr>\n",
       "    <tr>\n",
       "      <th>7</th>\n",
       "      <td>A7</td>\n",
       "      <td>B7</td>\n",
       "      <td>C7</td>\n",
       "      <td>D7</td>\n",
       "    </tr>\n",
       "    <tr>\n",
       "      <th rowspan=\"4\" valign=\"top\">z</th>\n",
       "      <th>8</th>\n",
       "      <td>A8</td>\n",
       "      <td>B8</td>\n",
       "      <td>C8</td>\n",
       "      <td>D8</td>\n",
       "    </tr>\n",
       "    <tr>\n",
       "      <th>9</th>\n",
       "      <td>A9</td>\n",
       "      <td>B9</td>\n",
       "      <td>C9</td>\n",
       "      <td>D9</td>\n",
       "    </tr>\n",
       "    <tr>\n",
       "      <th>10</th>\n",
       "      <td>A10</td>\n",
       "      <td>B10</td>\n",
       "      <td>C10</td>\n",
       "      <td>D10</td>\n",
       "    </tr>\n",
       "    <tr>\n",
       "      <th>11</th>\n",
       "      <td>A11</td>\n",
       "      <td>B11</td>\n",
       "      <td>C11</td>\n",
       "      <td>D11</td>\n",
       "    </tr>\n",
       "  </tbody>\n",
       "</table>\n",
       "</div>"
      ],
      "text/plain": [
       "        A    B    C    D\n",
       "x 0    A0   B0   C0   D0\n",
       "  1    A1   B1   C1   D1\n",
       "  2    A2   B2   C2   D2\n",
       "  3    A3   B3   C3   D3\n",
       "y 4    A4   B4   C4   D4\n",
       "  5    A5   B5   C5   D5\n",
       "  6    A6   B6   C6   D6\n",
       "  7    A7   B7   C7   D7\n",
       "z 8    A8   B8   C8   D8\n",
       "  9    A9   B9   C9   D9\n",
       "  10  A10  B10  C10  D10\n",
       "  11  A11  B11  C11  D11"
      ]
     },
     "execution_count": 118,
     "metadata": {},
     "output_type": "execute_result"
    }
   ],
   "source": [
    "# concat 함수에서 사용할 수 있는 속성 확인하기\n",
    "result = pd.concat([df1, df2, df3], keys = ['x', 'y', 'z'])\n",
    "result"
   ]
  },
  {
   "cell_type": "code",
   "execution_count": 120,
   "id": "0961d3c4",
   "metadata": {},
   "outputs": [
    {
     "data": {
      "text/plain": [
       "MultiIndex([('x',  0),\n",
       "            ('x',  1),\n",
       "            ('x',  2),\n",
       "            ('x',  3),\n",
       "            ('y',  4),\n",
       "            ('y',  5),\n",
       "            ('y',  6),\n",
       "            ('y',  7),\n",
       "            ('z',  8),\n",
       "            ('z',  9),\n",
       "            ('z', 10),\n",
       "            ('z', 11)],\n",
       "           )"
      ]
     },
     "execution_count": 120,
     "metadata": {},
     "output_type": "execute_result"
    }
   ],
   "source": [
    "# 다중 인덱스 속성 살펴보기\n",
    "result.index"
   ]
  },
  {
   "cell_type": "code",
   "execution_count": 121,
   "id": "3fe9364e",
   "metadata": {},
   "outputs": [
    {
     "data": {
      "text/plain": [
       "Index(['x', 'x', 'x', 'x', 'y', 'y', 'y', 'y', 'z', 'z', 'z', 'z'], dtype='object')"
      ]
     },
     "execution_count": 121,
     "metadata": {},
     "output_type": "execute_result"
    }
   ],
   "source": [
    "result.index.get_level_values(0)"
   ]
  },
  {
   "cell_type": "code",
   "execution_count": 126,
   "id": "7893a87c",
   "metadata": {},
   "outputs": [
    {
     "data": {
      "text/html": [
       "<div>\n",
       "<style scoped>\n",
       "    .dataframe tbody tr th:only-of-type {\n",
       "        vertical-align: middle;\n",
       "    }\n",
       "\n",
       "    .dataframe tbody tr th {\n",
       "        vertical-align: top;\n",
       "    }\n",
       "\n",
       "    .dataframe thead th {\n",
       "        text-align: right;\n",
       "    }\n",
       "</style>\n",
       "<table border=\"1\" class=\"dataframe\">\n",
       "  <thead>\n",
       "    <tr style=\"text-align: right;\">\n",
       "      <th></th>\n",
       "      <th></th>\n",
       "      <th>A</th>\n",
       "      <th>B</th>\n",
       "      <th>C</th>\n",
       "      <th>D</th>\n",
       "    </tr>\n",
       "  </thead>\n",
       "  <tbody>\n",
       "    <tr>\n",
       "      <th rowspan=\"4\" valign=\"top\">x</th>\n",
       "      <th>0</th>\n",
       "      <td>A0</td>\n",
       "      <td>B0</td>\n",
       "      <td>C0</td>\n",
       "      <td>D0</td>\n",
       "    </tr>\n",
       "    <tr>\n",
       "      <th>1</th>\n",
       "      <td>A1</td>\n",
       "      <td>B1</td>\n",
       "      <td>C1</td>\n",
       "      <td>D1</td>\n",
       "    </tr>\n",
       "    <tr>\n",
       "      <th>2</th>\n",
       "      <td>A2</td>\n",
       "      <td>B2</td>\n",
       "      <td>C2</td>\n",
       "      <td>D2</td>\n",
       "    </tr>\n",
       "    <tr>\n",
       "      <th>3</th>\n",
       "      <td>A3</td>\n",
       "      <td>B3</td>\n",
       "      <td>C3</td>\n",
       "      <td>D3</td>\n",
       "    </tr>\n",
       "    <tr>\n",
       "      <th rowspan=\"4\" valign=\"top\">y</th>\n",
       "      <th>4</th>\n",
       "      <td>A4</td>\n",
       "      <td>B4</td>\n",
       "      <td>C4</td>\n",
       "      <td>D4</td>\n",
       "    </tr>\n",
       "    <tr>\n",
       "      <th>5</th>\n",
       "      <td>A5</td>\n",
       "      <td>B5</td>\n",
       "      <td>C5</td>\n",
       "      <td>D5</td>\n",
       "    </tr>\n",
       "    <tr>\n",
       "      <th>6</th>\n",
       "      <td>A6</td>\n",
       "      <td>B6</td>\n",
       "      <td>C6</td>\n",
       "      <td>D6</td>\n",
       "    </tr>\n",
       "    <tr>\n",
       "      <th>7</th>\n",
       "      <td>A7</td>\n",
       "      <td>B7</td>\n",
       "      <td>C7</td>\n",
       "      <td>D7</td>\n",
       "    </tr>\n",
       "    <tr>\n",
       "      <th rowspan=\"4\" valign=\"top\">z</th>\n",
       "      <th>8</th>\n",
       "      <td>A8</td>\n",
       "      <td>B8</td>\n",
       "      <td>C8</td>\n",
       "      <td>D8</td>\n",
       "    </tr>\n",
       "    <tr>\n",
       "      <th>9</th>\n",
       "      <td>A9</td>\n",
       "      <td>B9</td>\n",
       "      <td>C9</td>\n",
       "      <td>D9</td>\n",
       "    </tr>\n",
       "    <tr>\n",
       "      <th>10</th>\n",
       "      <td>A10</td>\n",
       "      <td>B10</td>\n",
       "      <td>C10</td>\n",
       "      <td>D10</td>\n",
       "    </tr>\n",
       "    <tr>\n",
       "      <th>11</th>\n",
       "      <td>A11</td>\n",
       "      <td>B11</td>\n",
       "      <td>C11</td>\n",
       "      <td>D11</td>\n",
       "    </tr>\n",
       "  </tbody>\n",
       "</table>\n",
       "</div>"
      ],
      "text/plain": [
       "        A    B    C    D\n",
       "x 0    A0   B0   C0   D0\n",
       "  1    A1   B1   C1   D1\n",
       "  2    A2   B2   C2   D2\n",
       "  3    A3   B3   C3   D3\n",
       "y 4    A4   B4   C4   D4\n",
       "  5    A5   B5   C5   D5\n",
       "  6    A6   B6   C6   D6\n",
       "  7    A7   B7   C7   D7\n",
       "z 8    A8   B8   C8   D8\n",
       "  9    A9   B9   C9   D9\n",
       "  10  A10  B10  C10  D10\n",
       "  11  A11  B11  C11  D11"
      ]
     },
     "execution_count": 126,
     "metadata": {},
     "output_type": "execute_result"
    }
   ],
   "source": [
    "# 멀티 인덱스의 인덱싱 -> 튜플의 형태로 인덱스들을 묶어서 탐색\n",
    "result.loc[('x',0)]\n",
    "result"
   ]
  },
  {
   "cell_type": "code",
   "execution_count": 129,
   "id": "260270d4",
   "metadata": {},
   "outputs": [
    {
     "data": {
      "text/html": [
       "<div>\n",
       "<style scoped>\n",
       "    .dataframe tbody tr th:only-of-type {\n",
       "        vertical-align: middle;\n",
       "    }\n",
       "\n",
       "    .dataframe tbody tr th {\n",
       "        vertical-align: top;\n",
       "    }\n",
       "\n",
       "    .dataframe thead th {\n",
       "        text-align: right;\n",
       "    }\n",
       "</style>\n",
       "<table border=\"1\" class=\"dataframe\">\n",
       "  <thead>\n",
       "    <tr style=\"text-align: right;\">\n",
       "      <th></th>\n",
       "      <th></th>\n",
       "      <th>A</th>\n",
       "      <th>B</th>\n",
       "      <th>C</th>\n",
       "      <th>D</th>\n",
       "    </tr>\n",
       "  </thead>\n",
       "  <tbody>\n",
       "    <tr>\n",
       "      <th>x</th>\n",
       "      <th>0</th>\n",
       "      <td>A0</td>\n",
       "      <td>B0</td>\n",
       "      <td>C0</td>\n",
       "      <td>D0</td>\n",
       "    </tr>\n",
       "    <tr>\n",
       "      <th>z</th>\n",
       "      <th>8</th>\n",
       "      <td>A8</td>\n",
       "      <td>B8</td>\n",
       "      <td>C8</td>\n",
       "      <td>D8</td>\n",
       "    </tr>\n",
       "  </tbody>\n",
       "</table>\n",
       "</div>"
      ],
      "text/plain": [
       "      A   B   C   D\n",
       "x 0  A0  B0  C0  D0\n",
       "z 8  A8  B8  C8  D8"
      ]
     },
     "execution_count": 129,
     "metadata": {},
     "output_type": "execute_result"
    }
   ],
   "source": [
    "result.loc[[('x',0),('z',8)]] # 여러 개 가져오기 위해서는 리스트 형태로 입력 필요"
   ]
  },
  {
   "cell_type": "code",
   "execution_count": 134,
   "id": "eca5fe18",
   "metadata": {},
   "outputs": [
    {
     "data": {
      "text/html": [
       "<div>\n",
       "<style scoped>\n",
       "    .dataframe tbody tr th:only-of-type {\n",
       "        vertical-align: middle;\n",
       "    }\n",
       "\n",
       "    .dataframe tbody tr th {\n",
       "        vertical-align: top;\n",
       "    }\n",
       "\n",
       "    .dataframe thead tr th {\n",
       "        text-align: left;\n",
       "    }\n",
       "</style>\n",
       "<table border=\"1\" class=\"dataframe\">\n",
       "  <thead>\n",
       "    <tr>\n",
       "      <th></th>\n",
       "      <th colspan=\"2\" halign=\"left\">A</th>\n",
       "      <th>B</th>\n",
       "    </tr>\n",
       "    <tr>\n",
       "      <th></th>\n",
       "      <th>apple</th>\n",
       "      <th>banana</th>\n",
       "      <th>orange</th>\n",
       "    </tr>\n",
       "  </thead>\n",
       "  <tbody>\n",
       "    <tr>\n",
       "      <th>0</th>\n",
       "      <td>1</td>\n",
       "      <td>2</td>\n",
       "      <td>3</td>\n",
       "    </tr>\n",
       "    <tr>\n",
       "      <th>1</th>\n",
       "      <td>4</td>\n",
       "      <td>5</td>\n",
       "      <td>6</td>\n",
       "    </tr>\n",
       "    <tr>\n",
       "      <th>2</th>\n",
       "      <td>7</td>\n",
       "      <td>8</td>\n",
       "      <td>9</td>\n",
       "    </tr>\n",
       "  </tbody>\n",
       "</table>\n",
       "</div>"
      ],
      "text/plain": [
       "      A             B\n",
       "  apple banana orange\n",
       "0     1      2      3\n",
       "1     4      5      6\n",
       "2     7      8      9"
      ]
     },
     "execution_count": 134,
     "metadata": {},
     "output_type": "execute_result"
    }
   ],
   "source": [
    "# 다중 column 만들기\n",
    "import numpy as np\n",
    "\n",
    "multi_col_df = pd.DataFrame(np.array([[1,2,3],[4,5,6],[7,8,9]]),\n",
    "            columns = [['A','A','B'],['apple', 'banana', 'orange']])\n",
    "multi_col_df"
   ]
  },
  {
   "cell_type": "code",
   "execution_count": 138,
   "id": "f2637d6d",
   "metadata": {},
   "outputs": [
    {
     "data": {
      "text/plain": [
       "0    1\n",
       "1    4\n",
       "2    7\n",
       "Name: (A, apple), dtype: int32"
      ]
     },
     "execution_count": 138,
     "metadata": {},
     "output_type": "execute_result"
    }
   ],
   "source": [
    "multi_col_df[('A', 'apple')]"
   ]
  },
  {
   "attachments": {
    "image.png": {
     "image/png": "[encoded data removed]"
    }
   },
   "cell_type": "markdown",
   "id": "2900769a",
   "metadata": {},
   "source": [
    "![image.png](attachment:image.png)"
   ]
  },
  {
   "cell_type": "code",
   "execution_count": 140,
   "id": "50697130",
   "metadata": {},
   "outputs": [
    {
     "data": {
      "text/plain": [
       "0    1\n",
       "1    0\n",
       "2    1\n",
       "3    0\n",
       "4    1\n",
       "dtype: int64"
      ]
     },
     "execution_count": 140,
     "metadata": {},
     "output_type": "execute_result"
    }
   ],
   "source": [
    "Survived = pd.Series([1, 0, 1, 0, 1])\n",
    "Survived"
   ]
  },
  {
   "cell_type": "code",
   "execution_count": 144,
   "id": "ed25552c",
   "metadata": {},
   "outputs": [
    {
     "data": {
      "text/plain": [
       "0    female\n",
       "1    female\n",
       "2      male\n",
       "3      male\n",
       "4    female\n",
       "dtype: object"
      ]
     },
     "execution_count": 144,
     "metadata": {},
     "output_type": "execute_result"
    }
   ],
   "source": [
    "Sex = pd.Series(['female', 'female', 'male', 'male', 'female'])\n",
    "Sex"
   ]
  },
  {
   "cell_type": "code",
   "execution_count": 143,
   "id": "5270cff5",
   "metadata": {},
   "outputs": [
    {
     "data": {
      "text/plain": [
       "0    1\n",
       "1    2\n",
       "2    3\n",
       "3    4\n",
       "4    5\n",
       "dtype: int64"
      ]
     },
     "execution_count": 143,
     "metadata": {},
     "output_type": "execute_result"
    }
   ],
   "source": [
    "Passengerld = pd.Series([1, 2, 3, 4, 5])\n",
    "Passengerld"
   ]
  },
  {
   "cell_type": "code",
   "execution_count": 145,
   "id": "432e3897",
   "metadata": {},
   "outputs": [
    {
     "data": {
      "text/plain": [
       "0         1\n",
       "1         0\n",
       "2         1\n",
       "3         0\n",
       "4         1\n",
       "0    female\n",
       "1    female\n",
       "2      male\n",
       "3      male\n",
       "4    female\n",
       "0         1\n",
       "1         2\n",
       "2         3\n",
       "3         4\n",
       "4         5\n",
       "dtype: object"
      ]
     },
     "execution_count": 145,
     "metadata": {},
     "output_type": "execute_result"
    }
   ],
   "source": [
    "result = pd.concat([Survived,Sex,Passengerld])\n",
    "result"
   ]
  },
  {
   "cell_type": "code",
   "execution_count": 148,
   "id": "db2e36e1",
   "metadata": {},
   "outputs": [
    {
     "data": {
      "text/html": [
       "<div>\n",
       "<style scoped>\n",
       "    .dataframe tbody tr th:only-of-type {\n",
       "        vertical-align: middle;\n",
       "    }\n",
       "\n",
       "    .dataframe tbody tr th {\n",
       "        vertical-align: top;\n",
       "    }\n",
       "\n",
       "    .dataframe thead th {\n",
       "        text-align: right;\n",
       "    }\n",
       "</style>\n",
       "<table border=\"1\" class=\"dataframe\">\n",
       "  <thead>\n",
       "    <tr style=\"text-align: right;\">\n",
       "      <th></th>\n",
       "      <th>0</th>\n",
       "      <th>1</th>\n",
       "      <th>2</th>\n",
       "    </tr>\n",
       "  </thead>\n",
       "  <tbody>\n",
       "    <tr>\n",
       "      <th>0</th>\n",
       "      <td>1</td>\n",
       "      <td>female</td>\n",
       "      <td>1</td>\n",
       "    </tr>\n",
       "    <tr>\n",
       "      <th>1</th>\n",
       "      <td>0</td>\n",
       "      <td>female</td>\n",
       "      <td>2</td>\n",
       "    </tr>\n",
       "    <tr>\n",
       "      <th>2</th>\n",
       "      <td>1</td>\n",
       "      <td>male</td>\n",
       "      <td>3</td>\n",
       "    </tr>\n",
       "    <tr>\n",
       "      <th>3</th>\n",
       "      <td>0</td>\n",
       "      <td>male</td>\n",
       "      <td>4</td>\n",
       "    </tr>\n",
       "    <tr>\n",
       "      <th>4</th>\n",
       "      <td>1</td>\n",
       "      <td>female</td>\n",
       "      <td>5</td>\n",
       "    </tr>\n",
       "  </tbody>\n",
       "</table>\n",
       "</div>"
      ],
      "text/plain": [
       "   0       1  2\n",
       "0  1  female  1\n",
       "1  0  female  2\n",
       "2  1    male  3\n",
       "3  0    male  4\n",
       "4  1  female  5"
      ]
     },
     "execution_count": 148,
     "metadata": {},
     "output_type": "execute_result"
    }
   ],
   "source": [
    "data = pd.concat([Survived,Sex,Passengerld], axis = 1)\n",
    "data"
   ]
  },
  {
   "cell_type": "code",
   "execution_count": 149,
   "id": "1746bfdb",
   "metadata": {},
   "outputs": [],
   "source": [
    "data.columns = ['Survived', 'PasengerId', 'Sex']"
   ]
  },
  {
   "cell_type": "code",
   "execution_count": 150,
   "id": "948ede4e",
   "metadata": {},
   "outputs": [
    {
     "data": {
      "text/html": [
       "<div>\n",
       "<style scoped>\n",
       "    .dataframe tbody tr th:only-of-type {\n",
       "        vertical-align: middle;\n",
       "    }\n",
       "\n",
       "    .dataframe tbody tr th {\n",
       "        vertical-align: top;\n",
       "    }\n",
       "\n",
       "    .dataframe thead th {\n",
       "        text-align: right;\n",
       "    }\n",
       "</style>\n",
       "<table border=\"1\" class=\"dataframe\">\n",
       "  <thead>\n",
       "    <tr style=\"text-align: right;\">\n",
       "      <th></th>\n",
       "      <th>Survived</th>\n",
       "      <th>PasengerId</th>\n",
       "      <th>Sex</th>\n",
       "    </tr>\n",
       "  </thead>\n",
       "  <tbody>\n",
       "    <tr>\n",
       "      <th>0</th>\n",
       "      <td>1</td>\n",
       "      <td>female</td>\n",
       "      <td>1</td>\n",
       "    </tr>\n",
       "    <tr>\n",
       "      <th>1</th>\n",
       "      <td>0</td>\n",
       "      <td>female</td>\n",
       "      <td>2</td>\n",
       "    </tr>\n",
       "    <tr>\n",
       "      <th>2</th>\n",
       "      <td>1</td>\n",
       "      <td>male</td>\n",
       "      <td>3</td>\n",
       "    </tr>\n",
       "    <tr>\n",
       "      <th>3</th>\n",
       "      <td>0</td>\n",
       "      <td>male</td>\n",
       "      <td>4</td>\n",
       "    </tr>\n",
       "    <tr>\n",
       "      <th>4</th>\n",
       "      <td>1</td>\n",
       "      <td>female</td>\n",
       "      <td>5</td>\n",
       "    </tr>\n",
       "  </tbody>\n",
       "</table>\n",
       "</div>"
      ],
      "text/plain": [
       "   Survived PasengerId  Sex\n",
       "0         1     female    1\n",
       "1         0     female    2\n",
       "2         1       male    3\n",
       "3         0       male    4\n",
       "4         1     female    5"
      ]
     },
     "execution_count": 150,
     "metadata": {},
     "output_type": "execute_result"
    }
   ],
   "source": [
    "data"
   ]
  }
 ],
 "metadata": {
  "kernelspec": {
   "display_name": "Python 3",
   "language": "python",
   "name": "python3"
  },
  "language_info": {
   "codemirror_mode": {
    "name": "ipython",
    "version": 3
   },
   "file_extension": ".py",
   "mimetype": "text/x-python",
   "name": "python",
   "nbconvert_exporter": "python",
   "pygments_lexer": "ipython3",
   "version": "3.8.8"
  }
 },
 "nbformat": 4,
 "nbformat_minor": 5
}
