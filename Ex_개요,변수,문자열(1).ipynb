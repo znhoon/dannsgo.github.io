{
 "cells": [
  {
   "cell_type": "markdown",
   "id": "3c4277cf",
   "metadata": {},
   "source": [
    "## 변수(variable)\n",
    "- 사전적 의미로는 \"변화를 줄 수 있는\" or \"변할 수 있는 수\"\n",
    "- 프로그래밍에서는 데이터를 담을 수 있는 공간"
   ]
  },
  {
   "cell_type": "code",
   "execution_count": 1,
   "id": "e6bfd5a7",
   "metadata": {},
   "outputs": [],
   "source": [
    "# 변수 정의\n",
    "num = 3"
   ]
  },
  {
   "cell_type": "code",
   "execution_count": 2,
   "id": "04323b2a",
   "metadata": {},
   "outputs": [
    {
     "name": "stdout",
     "output_type": "stream",
     "text": [
      "3\n",
      "<class 'int'>\n"
     ]
    }
   ],
   "source": [
    "print(num)\n",
    "print(type(num)) # 데이터 타입 확인 코드"
   ]
  },
  {
   "cell_type": "markdown",
   "id": "0c70876c",
   "metadata": {},
   "source": [
    "### 자료형 | 설명\n",
    "- 숫자(정수) | -2, -1, 0, 1, 2\n",
    "- 숫자(실수) | 3.2, 3.14, 0.12\n",
    "- 문자열 | 'Hello World!', \"Python\", \"Hello 2022\"\n",
    "- 논리 | True, False"
   ]
  },
  {
   "cell_type": "code",
   "execution_count": 3,
   "id": "d5f63fc3",
   "metadata": {},
   "outputs": [
    {
     "name": "stdout",
     "output_type": "stream",
     "text": [
      "1\n",
      "23\n",
      "456\n"
     ]
    }
   ],
   "source": [
    "# 변수에 숫자(정수) 대입\n",
    "num1 = 1\n",
    "print(num1)\n",
    "num2 = 23\n",
    "print(num2)\n",
    "num2 = 456\n",
    "print(num2)"
   ]
  },
  {
   "cell_type": "code",
   "execution_count": 4,
   "id": "813bc810",
   "metadata": {},
   "outputs": [
    {
     "name": "stdout",
     "output_type": "stream",
     "text": [
      "3.14\n",
      "<class 'float'>\n"
     ]
    }
   ],
   "source": [
    "# 실수 대입\n",
    "num3 = 3.14\n",
    "print(num3)\n",
    "print(type(num3))"
   ]
  },
  {
   "cell_type": "code",
   "execution_count": 5,
   "id": "a349f76c",
   "metadata": {},
   "outputs": [
    {
     "name": "stdout",
     "output_type": "stream",
     "text": [
      "<class 'str'>\n",
      "<class 'str'>\n"
     ]
    }
   ],
   "source": [
    "# 문자열 대입\n",
    "# 문자열 기호 4개 : '문자열', \"문자열\", ' ' ' 엔터를 반영한 문자열 ' ' '\n",
    "# funny python 문자열로 대입\n",
    "str1 = 'Hi Python'\n",
    "print(type(str1))\n",
    "str2 = \"Hello python\"\n",
    "print(type(str2))"
   ]
  },
  {
   "cell_type": "code",
   "execution_count": 6,
   "id": "341b5b90",
   "metadata": {},
   "outputs": [
    {
     "name": "stdout",
     "output_type": "stream",
     "text": [
      "['False', 'None', 'True', 'and', 'as', 'assert', 'async', 'await', 'break', 'class', 'continue', 'def', 'del', 'elif', 'else', 'except', 'finally', 'for', 'from', 'global', 'if', 'import', 'in', 'is', 'lambda', 'nonlocal', 'not', 'or', 'pass', 'raise', 'return', 'try', 'while', 'with', 'yield']\n"
     ]
    }
   ],
   "source": [
    "# 키워드 확인\n",
    "import keyword\n",
    "print(keyword.kwlist)"
   ]
  },
  {
   "cell_type": "code",
   "execution_count": 7,
   "id": "d233f289",
   "metadata": {},
   "outputs": [
    {
     "name": "stdout",
     "output_type": "stream",
     "text": [
      "1 23\n"
     ]
    }
   ],
   "source": [
    "# a,b\n",
    "a,b = 1, 23\n",
    "print(a,b)"
   ]
  },
  {
   "cell_type": "code",
   "execution_count": 8,
   "id": "6d33fe05",
   "metadata": {},
   "outputs": [
    {
     "name": "stdout",
     "output_type": "stream",
     "text": [
      "Hello python Hello python\n"
     ]
    }
   ],
   "source": [
    "# 문자열 대입\n",
    "str1 = 'Hi Python'\n",
    "str2 = \"Hello python\"\n",
    "str1 = str2 = \"Hello python\"\n",
    "print(str1, str2)"
   ]
  },
  {
   "cell_type": "markdown",
   "id": "f54468c3",
   "metadata": {},
   "source": [
    "### 문자열 사용 방법"
   ]
  },
  {
   "cell_type": "code",
   "execution_count": 9,
   "id": "93d739db",
   "metadata": {},
   "outputs": [
    {
     "name": "stdout",
     "output_type": "stream",
     "text": [
      "she's gone. \n",
      "bye~~~~\n",
      "she's gone.\n"
     ]
    }
   ],
   "source": [
    "# 문자열 안에 작은따옴표나 큰 따옴표를 포함하고 싶을 때 \n",
    "# 문자열 안에 엔터를 적용하고 싶을 때\n",
    "# 문자 코드 조합 == 이스케이프 코드\n",
    "s1 = 'she\\'s gone. \\nbye~~~~' # /n == 개행\n",
    "print(s1)\n",
    "s1\n",
    "\n",
    "s2 = \"she's gone.\"\n",
    "print(s2)"
   ]
  },
  {
   "cell_type": "markdown",
   "id": "06f41895",
   "metadata": {},
   "source": [
    "### 이스케이프 코트\n",
    "- 프로그래밍을 할 때 사용할 수 있도록 미리 정의해둔 문자 조합을 의미\n",
    "#### 코드 | 설명\n",
    "- \\n | 개행(줄바꿈)\n",
    "- \\t | 수평 탭\n",
    "- \\\\ | 문자 \"\\\"\n",
    "- \\' | 단일 인용부호(')\n",
    "- \\\" | 이중 인용부호(\")"
   ]
  },
  {
   "cell_type": "code",
   "execution_count": 11,
   "id": "e6403876",
   "metadata": {},
   "outputs": [
    {
     "name": "stdout",
     "output_type": "stream",
     "text": [
      "자세히 보아야 예쁘다 \n",
      " 오래 보아야 사랑스럽다 \n",
      " 너도 그렇다.\n"
     ]
    }
   ],
   "source": [
    "# 여러 줄인 문자열 변수 대입하고 싶을 때\n",
    "s = \"자세히 보아야 예쁘다 \\n 오래 보아야 사랑스럽다 \\n 너도 그렇다.\"\n",
    "print(s)"
   ]
  },
  {
   "cell_type": "code",
   "execution_count": 12,
   "id": "a7ec5ccf",
   "metadata": {},
   "outputs": [
    {
     "name": "stdout",
     "output_type": "stream",
     "text": [
      "자세히 보아야 예쁘다.\n",
      "오래 보아야 사랑스럽다.\n",
      "너도 그렇다.\n"
     ]
    }
   ],
   "source": [
    "s2 = '''자세히 보아야 예쁘다.\n",
    "오래 보아야 사랑스럽다.\n",
    "너도 그렇다.'''\n",
    "print(s2)"
   ]
  }
 ],
 "metadata": {
  "kernelspec": {
   "display_name": "Python 3",
   "language": "python",
   "name": "python3"
  },
  "language_info": {
   "codemirror_mode": {
    "name": "ipython",
    "version": 3
   },
   "file_extension": ".py",
   "mimetype": "text/x-python",
   "name": "python",
   "nbconvert_exporter": "python",
   "pygments_lexer": "ipython3",
   "version": "3.8.8"
  }
 },
 "nbformat": 4,
 "nbformat_minor": 5
}
