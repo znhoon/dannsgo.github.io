{
 "cells": [
  {
   "cell_type": "markdown",
   "id": "618ee03c",
   "metadata": {},
   "source": [
    "## 딕셔너리"
   ]
  },
  {
   "cell_type": "code",
   "execution_count": 4,
   "id": "4cb570d0",
   "metadata": {},
   "outputs": [],
   "source": [
    "d = {} # 빈 딕셔너리\n",
    "d2 = {'name':'김씨','age':20}\n",
    "# 요소를 구별(,콤마), key(변하지않음):value(값,변해도됨)\n",
    "d3 = {1:'str',2:2}"
   ]
  },
  {
   "cell_type": "code",
   "execution_count": 5,
   "id": "d54251b8",
   "metadata": {},
   "outputs": [
    {
     "name": "stdout",
     "output_type": "stream",
     "text": [
      "{}\n",
      "{'name': '김씨', 'age': 20}\n",
      "{1: 'str', 2: 2}\n"
     ]
    }
   ],
   "source": [
    "print(d)\n",
    "print(d2)\n",
    "print(d3)"
   ]
  },
  {
   "cell_type": "code",
   "execution_count": 7,
   "id": "9c408c2f",
   "metadata": {},
   "outputs": [
    {
     "data": {
      "text/plain": [
       "{'name': 'Kim', 'age': 20, 'phone': '010-1234-5678'}"
      ]
     },
     "execution_count": 7,
     "metadata": {},
     "output_type": "execute_result"
    }
   ],
   "source": [
    "# 김씨의 정보\n",
    "dic1 = {'name':'Kim','age':20,'phone':'010-1234-5678'}\n",
    "dic1"
   ]
  },
  {
   "cell_type": "code",
   "execution_count": 8,
   "id": "400412c1",
   "metadata": {},
   "outputs": [
    {
     "name": "stdout",
     "output_type": "stream",
     "text": [
      "<class 'dict'>\n"
     ]
    }
   ],
   "source": [
    "print(type(dic1)) # 딕셔너리 자료형이다!"
   ]
  },
  {
   "cell_type": "markdown",
   "id": "97ce3d17",
   "metadata": {},
   "source": [
    "### 딕셔너리 값 가져오기(접근)"
   ]
  },
  {
   "cell_type": "code",
   "execution_count": 9,
   "id": "6f406829",
   "metadata": {},
   "outputs": [
    {
     "data": {
      "text/plain": [
       "{'name': 'Kim', 'age': 20, 'phone': '010-1234-5678'}"
      ]
     },
     "execution_count": 9,
     "metadata": {},
     "output_type": "execute_result"
    }
   ],
   "source": [
    "dic1"
   ]
  },
  {
   "cell_type": "code",
   "execution_count": 10,
   "id": "1220fe34",
   "metadata": {},
   "outputs": [
    {
     "data": {
      "text/plain": [
       "'Kim'"
      ]
     },
     "execution_count": 10,
     "metadata": {},
     "output_type": "execute_result"
    }
   ],
   "source": [
    "dic1['name']"
   ]
  },
  {
   "cell_type": "code",
   "execution_count": 11,
   "id": "ce495dcd",
   "metadata": {},
   "outputs": [
    {
     "data": {
      "text/plain": [
       "'010-1234-5678'"
      ]
     },
     "execution_count": 11,
     "metadata": {},
     "output_type": "execute_result"
    }
   ],
   "source": [
    "# 폰 번호 접근해보기\n",
    "dic1['phone']"
   ]
  },
  {
   "cell_type": "markdown",
   "id": "88e2e7de",
   "metadata": {},
   "source": [
    "#### 성별, 키, 몸무게, 혈액형, 생일, 가족의 수, 혼인여부, 친구 수"
   ]
  },
  {
   "cell_type": "markdown",
   "id": "2028a5ea",
   "metadata": {},
   "source": [
    "### 딕셔너리 값 추가"
   ]
  },
  {
   "cell_type": "code",
   "execution_count": 14,
   "id": "60cac505",
   "metadata": {},
   "outputs": [
    {
     "data": {
      "text/plain": [
       "{'name': 'Kim', 'age': 20, 'phone': '010-1234-5678', 'birth': '1111'}"
      ]
     },
     "execution_count": 14,
     "metadata": {},
     "output_type": "execute_result"
    }
   ],
   "source": [
    "dic1['birth'] = '1111' # 맨 뒤쪽으로 추가 됨\n",
    "dic1"
   ]
  },
  {
   "cell_type": "code",
   "execution_count": 15,
   "id": "06cd2ab4",
   "metadata": {},
   "outputs": [
    {
     "data": {
      "text/plain": [
       "{'name': 'Kim',\n",
       " 'age': 20,\n",
       " 'phone': '010-1234-5678',\n",
       " 'birth': '1111',\n",
       " '혈액형': 'o'}"
      ]
     },
     "execution_count": 15,
     "metadata": {},
     "output_type": "execute_result"
    }
   ],
   "source": [
    "dic1['혈액형'] = 'o'\n",
    "dic1"
   ]
  },
  {
   "cell_type": "code",
   "execution_count": 16,
   "id": "fe6861f4",
   "metadata": {},
   "outputs": [
    {
     "data": {
      "text/plain": [
       "{'노래제목': '아무노래'}"
      ]
     },
     "execution_count": 16,
     "metadata": {},
     "output_type": "execute_result"
    }
   ],
   "source": [
    "dic_test = {'노래제목':'아무노래'}\n",
    "dic_test"
   ]
  },
  {
   "cell_type": "code",
   "execution_count": 17,
   "id": "000b041d",
   "metadata": {},
   "outputs": [
    {
     "data": {
      "text/plain": [
       "{'노래제목': '아무노래', '가수': '지코', '날짜': '2020.01.13'}"
      ]
     },
     "execution_count": 17,
     "metadata": {},
     "output_type": "execute_result"
    }
   ],
   "source": [
    "dic_test['가수']='지코'\n",
    "dic_test['날짜']='2020.01.13'\n",
    "dic_test"
   ]
  },
  {
   "cell_type": "code",
   "execution_count": 18,
   "id": "4851d8c2",
   "metadata": {},
   "outputs": [
    {
     "data": {
      "text/plain": [
       "dict_keys(['노래제목', '가수', '날짜'])"
      ]
     },
     "execution_count": 18,
     "metadata": {},
     "output_type": "execute_result"
    }
   ],
   "source": [
    "#키값 확인\n",
    "dic_test.keys()"
   ]
  },
  {
   "cell_type": "code",
   "execution_count": 19,
   "id": "dac15f46",
   "metadata": {},
   "outputs": [
    {
     "data": {
      "text/plain": [
       "['아무노래', '지코', '2020.01.13']"
      ]
     },
     "execution_count": 19,
     "metadata": {},
     "output_type": "execute_result"
    }
   ],
   "source": [
    "# 값 확인\n",
    "dic_test.values()\n",
    "# 리스트로 사용하고 싶으면?\n",
    "list(dic_test.values())"
   ]
  },
  {
   "cell_type": "markdown",
   "id": "9145c56f",
   "metadata": {},
   "source": [
    "#### keys(), values(), items() 이용해서 for문 돌려보기"
   ]
  },
  {
   "cell_type": "code",
   "execution_count": 20,
   "id": "cf0364c2",
   "metadata": {},
   "outputs": [
    {
     "name": "stdout",
     "output_type": "stream",
     "text": [
      "노래제목\n",
      "가수\n",
      "날짜\n"
     ]
    }
   ],
   "source": [
    "for key in dic_test.keys():\n",
    "    print(key)"
   ]
  },
  {
   "cell_type": "code",
   "execution_count": 21,
   "id": "81dcf563",
   "metadata": {},
   "outputs": [
    {
     "name": "stdout",
     "output_type": "stream",
     "text": [
      "노래제목 아무노래\n",
      "가수 지코\n",
      "날짜 2020.01.13\n"
     ]
    }
   ],
   "source": [
    "for key,value in dic_test.items():\n",
    "    print(key, value)"
   ]
  },
  {
   "cell_type": "code",
   "execution_count": 22,
   "id": "13f6725a",
   "metadata": {},
   "outputs": [
    {
     "data": {
      "text/plain": [
       "True"
      ]
     },
     "execution_count": 22,
     "metadata": {},
     "output_type": "execute_result"
    }
   ],
   "source": [
    "# 멤버 연산자랑 같이 사용\n",
    "'가수' in dic_test"
   ]
  },
  {
   "cell_type": "code",
   "execution_count": 23,
   "id": "839c5801",
   "metadata": {},
   "outputs": [
    {
     "data": {
      "text/plain": [
       "False"
      ]
     },
     "execution_count": 23,
     "metadata": {},
     "output_type": "execute_result"
    }
   ],
   "source": [
    "'사진'in dic_test"
   ]
  },
  {
   "cell_type": "code",
   "execution_count": 24,
   "id": "31b9739a",
   "metadata": {},
   "outputs": [
    {
     "data": {
      "text/plain": [
       "False"
      ]
     },
     "execution_count": 24,
     "metadata": {},
     "output_type": "execute_result"
    }
   ],
   "source": [
    "'지코' in dic_test"
   ]
  }
 ],
 "metadata": {
  "kernelspec": {
   "display_name": "Python 3",
   "language": "python",
   "name": "python3"
  },
  "language_info": {
   "codemirror_mode": {
    "name": "ipython",
    "version": 3
   },
   "file_extension": ".py",
   "mimetype": "text/x-python",
   "name": "python",
   "nbconvert_exporter": "python",
   "pygments_lexer": "ipython3",
   "version": "3.8.8"
  }
 },
 "nbformat": 4,
 "nbformat_minor": 5
}
