{
 "cells": [
  {
   "cell_type": "markdown",
   "id": "4c071b6d",
   "metadata": {},
   "source": [
    "### 딕셔너리 값 삭제"
   ]
  },
  {
   "cell_type": "code",
   "execution_count": 21,
   "id": "e1ca1f21",
   "metadata": {},
   "outputs": [
    {
     "data": {
      "text/plain": [
       "{'노래제목': '아무노래', '가수': '지코', '날짜': '2020.01.13'}"
      ]
     },
     "execution_count": 21,
     "metadata": {},
     "output_type": "execute_result"
    }
   ],
   "source": [
    "dic_test = {'노래제목':'아무노래'}\n",
    "dic_test['가수']='지코'\n",
    "dic_test['날짜']='2020.01.13'\n",
    "dic_test"
   ]
  },
  {
   "cell_type": "code",
   "execution_count": 22,
   "id": "a14d6050",
   "metadata": {},
   "outputs": [
    {
     "data": {
      "text/plain": [
       "{'노래제목': '아무노래', '가수': '지코'}"
      ]
     },
     "execution_count": 22,
     "metadata": {},
     "output_type": "execute_result"
    }
   ],
   "source": [
    "# 하나씩\n",
    "del dic_test['날짜']\n",
    "dic_test"
   ]
  },
  {
   "cell_type": "code",
   "execution_count": 23,
   "id": "d55c0637",
   "metadata": {},
   "outputs": [
    {
     "data": {
      "text/plain": [
       "{}"
      ]
     },
     "execution_count": 23,
     "metadata": {},
     "output_type": "execute_result"
    }
   ],
   "source": [
    "# 데이터 전체 삭제\n",
    "dic_test.clear()\n",
    "dic_test"
   ]
  },
  {
   "cell_type": "code",
   "execution_count": 24,
   "id": "dcd0648d",
   "metadata": {},
   "outputs": [],
   "source": [
    "play_list = [{'노래제목':'사랑은 늘 도망가','가수':'이문세'},{'노래제목':'신호등','가수':'이무진'},{'노래제목':'문득','가수명':'비오'}]"
   ]
  },
  {
   "cell_type": "code",
   "execution_count": 25,
   "id": "a449847c",
   "metadata": {},
   "outputs": [
    {
     "name": "stdout",
     "output_type": "stream",
     "text": [
      "{'노래제목': '사랑은 늘 도망가', '가수': '이문세'}\n",
      "{'노래제목': '신호등', '가수': '이무진'}\n",
      "{'노래제목': '문득', '가수명': '비오'}\n"
     ]
    }
   ],
   "source": [
    "# play_list for문 돌리기\n",
    "for s in play_list:\n",
    "    print(s)"
   ]
  },
  {
   "cell_type": "code",
   "execution_count": 26,
   "id": "f5ce4238",
   "metadata": {},
   "outputs": [
    {
     "name": "stdout",
     "output_type": "stream",
     "text": [
      "사랑은 늘 도망가\n",
      "신호등\n",
      "문득\n"
     ]
    }
   ],
   "source": [
    "# 노래제목만 출력해보기\n",
    "for s in play_list:\n",
    "    print(s['노래제목'])"
   ]
  },
  {
   "cell_type": "code",
   "execution_count": 27,
   "id": "d255c953",
   "metadata": {},
   "outputs": [
    {
     "ename": "SyntaxError",
     "evalue": "invalid syntax (<ipython-input-27-982587a0e5de>, line 2)",
     "output_type": "error",
     "traceback": [
      "\u001b[1;36m  File \u001b[1;32m\"<ipython-input-27-982587a0e5de>\"\u001b[1;36m, line \u001b[1;32m2\u001b[0m\n\u001b[1;33m    print(s.['가수']) # 오류 발생 # 왜? 리스트이 첫 번째가 '노래제목이라서'\u001b[0m\n\u001b[1;37m            ^\u001b[0m\n\u001b[1;31mSyntaxError\u001b[0m\u001b[1;31m:\u001b[0m invalid syntax\n"
     ]
    }
   ],
   "source": [
    "for s in play_list:\n",
    "    print(s.['가수']) # 오류 발생 # 왜? 리스트이 첫 번째가 '노래제목이라서'"
   ]
  },
  {
   "cell_type": "markdown",
   "id": "467855b5",
   "metadata": {},
   "source": [
    "### 딕셔너리 데이터 접근\n",
    "- dict.['키값']\n",
    "- dict.get('키값'): 없으면 None 반환"
   ]
  },
  {
   "cell_type": "code",
   "execution_count": 28,
   "id": "ac19521b",
   "metadata": {},
   "outputs": [
    {
     "name": "stdout",
     "output_type": "stream",
     "text": [
      "이문세\n",
      "None\n",
      "----------\n",
      "이무진\n",
      "None\n",
      "----------\n",
      "None\n",
      "비오\n",
      "----------\n"
     ]
    }
   ],
   "source": [
    "for s in play_list:\n",
    "    print(s.get('가수'))\n",
    "    print(s.get('가수명')) # 없으면 에러 X, None(null) 반환\n",
    "    print('-'*10)"
   ]
  },
  {
   "cell_type": "code",
   "execution_count": 29,
   "id": "ef158455",
   "metadata": {},
   "outputs": [
    {
     "data": {
      "text/plain": [
       "{'노래제목': '아무노래'}"
      ]
     },
     "execution_count": 29,
     "metadata": {},
     "output_type": "execute_result"
    }
   ],
   "source": [
    "dic_test['노래제목'] = '아무노래'\n",
    "dic_test"
   ]
  },
  {
   "cell_type": "code",
   "execution_count": 42,
   "id": "33d974b2",
   "metadata": {},
   "outputs": [
    {
     "data": {
      "text/plain": [
       "{'노래제목': '문득'}"
      ]
     },
     "execution_count": 42,
     "metadata": {},
     "output_type": "execute_result"
    }
   ],
   "source": [
    "dic_test['노래제목'] = '문득'\n",
    "dic_test # 키값을 바꾸고 싶으면 초기화하고 다시 생성"
   ]
  }
 ],
 "metadata": {
  "kernelspec": {
   "display_name": "Python 3",
   "language": "python",
   "name": "python3"
  },
  "language_info": {
   "codemirror_mode": {
    "name": "ipython",
    "version": 3
   },
   "file_extension": ".py",
   "mimetype": "text/x-python",
   "name": "python",
   "nbconvert_exporter": "python",
   "pygments_lexer": "ipython3",
   "version": "3.8.8"
  }
 },
 "nbformat": 4,
 "nbformat_minor": 5
}
