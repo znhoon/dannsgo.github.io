{
 "cells": [
  {
   "cell_type": "markdown",
   "id": "778d34db",
   "metadata": {},
   "source": [
    "## 리스트"
   ]
  },
  {
   "cell_type": "code",
   "execution_count": 1,
   "id": "18d9486c",
   "metadata": {},
   "outputs": [],
   "source": [
    "# 파이썬 자료 구조 중 하나\n",
    "# 순서가 있는 수정 가능한 대상\n",
    "# 대괄호([])로 작성 되어짐, 리스트 내부의 값은 (,)콤마로 구분\n",
    "# 추가, 수정, 삭제"
   ]
  },
  {
   "cell_type": "markdown",
   "id": "68f6338e",
   "metadata": {},
   "source": [
    "### 리스트 선언"
   ]
  },
  {
   "cell_type": "code",
   "execution_count": 2,
   "id": "3454b3f4",
   "metadata": {},
   "outputs": [],
   "source": [
    "a = [] # 빈 리스트 선언\n",
    "b = [1, 2, 3] # 정수를 담은 리스트 선언\n",
    "c = ['a', 'b', 'c'] # 문자를 담은 리스트 선언\n",
    "d = [1, 2, 'a', 'b'] # 어떤 데이터든지 자료형 상관 없이 선언 가능\n",
    "e = [1, 2, ['a', 'b']] # 이중 리스트 선언 가능"
   ]
  },
  {
   "cell_type": "markdown",
   "id": "f02b9e85",
   "metadata": {},
   "source": [
    "### 리스트 인덱싱과 슬라이싱"
   ]
  },
  {
   "cell_type": "code",
   "execution_count": 3,
   "id": "2168294b",
   "metadata": {},
   "outputs": [],
   "source": [
    "# 인덱싱 - 딱딱 꼬집어서 '가리킴'\n",
    "# 슬라이싱 - 무엇인가를 '잘라냄'"
   ]
  },
  {
   "cell_type": "code",
   "execution_count": 4,
   "id": "83fe68d9",
   "metadata": {},
   "outputs": [
    {
     "data": {
      "text/plain": [
       "90"
      ]
     },
     "execution_count": 4,
     "metadata": {},
     "output_type": "execute_result"
    }
   ],
   "source": [
    "# 리스트[인덱스번호]\n",
    "list1 = [80, 90, 85, 100, 93]\n",
    "list1\n",
    "\n",
    "# in 연산자\n",
    "100 in list1\n",
    "# 100 접근\n",
    "list1[3]\n",
    "\n",
    "# 90 접근\n",
    "list1[1]"
   ]
  },
  {
   "cell_type": "code",
   "execution_count": 5,
   "id": "ae3c5610",
   "metadata": {},
   "outputs": [
    {
     "data": {
      "text/plain": [
       "[['병관', 80], ['선재', 90], ['현지', 85], ['현준', 100], ['석현', 93]]"
      ]
     },
     "execution_count": 5,
     "metadata": {},
     "output_type": "execute_result"
    }
   ],
   "source": [
    "# 이중 리스트 생성 후 접근\n",
    "list2 = [['가', 80], ['나', 90], ['다', 85], ['라', 100], ['마', 93]]\n",
    "list2"
   ]
  },
  {
   "cell_type": "code",
   "execution_count": 10,
   "id": "ce63d339",
   "metadata": {},
   "outputs": [
    {
     "data": {
      "text/plain": [
       "88.33333333333333"
      ]
     },
     "execution_count": 10,
     "metadata": {},
     "output_type": "execute_result"
    }
   ],
   "source": [
    "# 가의 점수 확인\n",
    "list2[0]\n",
    "# 점수만 출력\n",
    "list2[0][1]\n",
    "\n",
    "# 가, 다, 라의 평균 점수를 확인하고 싶어요\n",
    "(list2[0][1]+list2[2][1]+list2[3][1]) / 3"
   ]
  },
  {
   "cell_type": "markdown",
   "id": "2e1d5b34",
   "metadata": {},
   "source": [
    "### 리스트 슬라이싱"
   ]
  },
  {
   "cell_type": "code",
   "execution_count": 8,
   "id": "5668760e",
   "metadata": {},
   "outputs": [
    {
     "data": {
      "text/plain": [
       "['초코나무치즈', '아몬드봉봉', '민트초코', '레인보우샤베트', '엄마는 외계인']"
      ]
     },
     "execution_count": 8,
     "metadata": {},
     "output_type": "execute_result"
    }
   ],
   "source": [
    "#### 리스트[시작 인덱스 번호 : 끝 인덱스 번호 +1]\n",
    "list3 = ['초코나무치즈', '아몬드봉봉', '민트초코', '레인보우샤베트', '엄마는 외계인']\n",
    "list3"
   ]
  },
  {
   "cell_type": "code",
   "execution_count": 9,
   "id": "75c205cb",
   "metadata": {},
   "outputs": [
    {
     "name": "stdout",
     "output_type": "stream",
     "text": [
      "['초코나무치즈', '아몬드봉봉']\n",
      "['초코나무치즈', '아몬드봉봉']\n"
     ]
    }
   ],
   "source": [
    "# 초코나무숲, 아몬드 봉봉 접근\n",
    "print(list3[0:2])\n",
    "print(list3[:2])"
   ]
  },
  {
   "cell_type": "code",
   "execution_count": 11,
   "id": "707c7834",
   "metadata": {},
   "outputs": [
    {
     "name": "stdout",
     "output_type": "stream",
     "text": [
      "['초코나무치즈', '아몬드봉봉']\n",
      "['초코나무치즈', '민트초코']\n"
     ]
    }
   ],
   "source": [
    "# 초코나무숲, 민트초코 접근\n",
    "# 슬라이싱으로\n",
    "print(list3[:2])\n",
    "print(list3[:3:2])"
   ]
  },
  {
   "cell_type": "code",
   "execution_count": 12,
   "id": "12ef2068",
   "metadata": {},
   "outputs": [
    {
     "data": {
      "text/plain": [
       "[80, 90, 85, 100, 93, '초코나무치즈', '아몬드봉봉', '민트초코', '레인보우샤베트', '엄마는 외계인']"
      ]
     },
     "execution_count": 12,
     "metadata": {},
     "output_type": "execute_result"
    }
   ],
   "source": [
    "list1 + list3"
   ]
  },
  {
   "cell_type": "markdown",
   "id": "0bad51fd",
   "metadata": {},
   "source": [
    "### 리스트 값 추가하기"
   ]
  },
  {
   "cell_type": "code",
   "execution_count": 13,
   "id": "3336390a",
   "metadata": {},
   "outputs": [
    {
     "data": {
      "text/plain": [
       "['초코나무치즈', '아몬드봉봉', '민트초코', '레인보우샤베트', '엄마는 외계인', '마법사의 할로윈']"
      ]
     },
     "execution_count": 13,
     "metadata": {},
     "output_type": "execute_result"
    }
   ],
   "source": [
    "# append : 맨 뒤에 값을 추가\n",
    "list3.append('마법사의 할로윈')\n",
    "list3"
   ]
  },
  {
   "cell_type": "code",
   "execution_count": 14,
   "id": "439eb9ab",
   "metadata": {},
   "outputs": [],
   "source": [
    "list3.append('체리쥬빌레')"
   ]
  },
  {
   "cell_type": "code",
   "execution_count": 16,
   "id": "17a3860a",
   "metadata": {},
   "outputs": [
    {
     "data": {
      "text/plain": [
       "['초코나무치즈',\n",
       " '아몬드봉봉',\n",
       " '민트초코',\n",
       " '레인보우샤베트',\n",
       " '엄마는 외계인',\n",
       " '마법사의 할로윈',\n",
       " '체리쥬빌레',\n",
       " ['이상한나라의솜사탕', '고구마고구마']]"
      ]
     },
     "execution_count": 16,
     "metadata": {},
     "output_type": "execute_result"
    }
   ],
   "source": [
    "list3.append(['이상한나라의솜사탕','고구마고구마'])\n",
    "list3"
   ]
  },
  {
   "cell_type": "code",
   "execution_count": 18,
   "id": "24697db4",
   "metadata": {},
   "outputs": [
    {
     "data": {
      "text/plain": [
       "['초코나무치즈',\n",
       " '아몬드봉봉',\n",
       " '민트초코',\n",
       " '레인보우샤베트',\n",
       " '엄마는 외계인',\n",
       " '마법사의 할로윈',\n",
       " '체리쥬빌레',\n",
       " ['이상한나라의솜사탕', '고구마고구마']]"
      ]
     },
     "execution_count": 18,
     "metadata": {},
     "output_type": "execute_result"
    }
   ],
   "source": [
    "# insert : 인덱스 위치에 값 추가\n",
    "list3\n",
    "# 인덱스 번호 1번째에 '피스타치오'\n",
    "# list3.insert(인덱스 번호, 넣고 싶은 값)\n",
    "list3"
   ]
  },
  {
   "cell_type": "code",
   "execution_count": 19,
   "id": "ccf9836c",
   "metadata": {},
   "outputs": [
    {
     "name": "stdout",
     "output_type": "stream",
     "text": [
      "인덱스위치입력 >> 2\n",
      "노래제목입력 >> 롤린\n",
      "가수입력 >> 브레이브걸스\n",
      "music_list :  [['Butter', '방탄'], ['헤픈 우연', '헤이즈'], '[song,singer]', ['라일락', '아이유']]\n"
     ]
    }
   ],
   "source": [
    "# input\n",
    "music_list = [['Butter', '방탄'],\n",
    "              ['헤픈 우연', '헤이즈'],\n",
    "              ['라일락', '아이유']]\n",
    "\n",
    "loc = int(input(\"인덱스위치입력 >> \"))\n",
    "song = input('노래제목입력 >> ')\n",
    "singer = input('가수입력 >> ')\n",
    "\n",
    "music_list.insert(loc,'[song,singer]')\n",
    "print('music_list : ' , music_list)"
   ]
  },
  {
   "cell_type": "markdown",
   "id": "8779d6d2",
   "metadata": {},
   "source": [
    "### 리스트 값 수정"
   ]
  },
  {
   "cell_type": "code",
   "execution_count": 20,
   "id": "9cdb7b94",
   "metadata": {},
   "outputs": [
    {
     "data": {
      "text/plain": [
       "['초코나무숲',\n",
       " '아몬드봉봉',\n",
       " '민트초코',\n",
       " '레인보우샤베트',\n",
       " '엄마는 외계인',\n",
       " '체리쥬빌레',\n",
       " '마법사의 할로윈',\n",
       " ['이상한나라의솜사탕', '고구마고구마']]"
      ]
     },
     "execution_count": 20,
     "metadata": {},
     "output_type": "execute_result"
    }
   ],
   "source": [
    "# 해당 위치 접근\n",
    "# 대입\n",
    "list3[0] = '초코나무숲'\n",
    "list3 = ['초코나무숲',\n",
    " '아몬드봉봉',\n",
    " '민트초코',\n",
    " '레인보우샤베트',\n",
    " '엄마는 외계인',\n",
    " '체리쥬빌레',\n",
    " '마법사의 할로윈',\n",
    " ['이상한나라의솜사탕', '고구마고구마']]\n",
    "list3"
   ]
  },
  {
   "cell_type": "code",
   "execution_count": 21,
   "id": "b7f41511",
   "metadata": {},
   "outputs": [
    {
     "data": {
      "text/plain": [
       "['초코나무숲',\n",
       " '아몬드봉봉',\n",
       " '민트초코',\n",
       " '레인보우샤베트',\n",
       " '엄마는 외계인',\n",
       " '체리쥬빌레',\n",
       " '뉴욕치즈',\n",
       " ['이상한나라의솜사탕', '고구마고구마']]"
      ]
     },
     "execution_count": 21,
     "metadata": {},
     "output_type": "execute_result"
    }
   ],
   "source": [
    "# 체리쥬빌레 -> 뉴욕치즈 바꾸기\n",
    "list3[-2] = '뉴욕치즈'\n",
    "list3"
   ]
  },
  {
   "cell_type": "markdown",
   "id": "70d20796",
   "metadata": {},
   "source": [
    "### 리스트 값 삭제"
   ]
  },
  {
   "cell_type": "code",
   "execution_count": 22,
   "id": "3ff92563",
   "metadata": {},
   "outputs": [
    {
     "data": {
      "text/plain": [
       "['초코나무숲', '아몬드봉봉', '민트초코', '레인보우샤베트', '엄마는 외계인', '체리쥬빌레', '뉴욕치즈']"
      ]
     },
     "execution_count": 22,
     "metadata": {},
     "output_type": "execute_result"
    }
   ],
   "source": [
    "# del 키워드 이용 삭제\n",
    "del list3[7]\n",
    "list3"
   ]
  },
  {
   "cell_type": "code",
   "execution_count": 23,
   "id": "d8ef0203",
   "metadata": {},
   "outputs": [
    {
     "data": {
      "text/plain": [
       "['초코나무숲', '민트초코', '레인보우샤베트', '엄마는 외계인', '체리쥬빌레', '뉴욕치즈']"
      ]
     },
     "execution_count": 23,
     "metadata": {},
     "output_type": "execute_result"
    }
   ],
   "source": [
    "# remove(값)\n",
    "list3.remove('아몬드봉봉')\n",
    "list3"
   ]
  },
  {
   "cell_type": "markdown",
   "id": "0c4f7b88",
   "metadata": {},
   "source": [
    "### 리스트 정렬, 뒤집기"
   ]
  },
  {
   "cell_type": "code",
   "execution_count": 24,
   "id": "a1f350c1",
   "metadata": {},
   "outputs": [],
   "source": [
    "list5 = [80, 75, 90, 12, 53]\n",
    "list5\n",
    "list5.sort()"
   ]
  },
  {
   "cell_type": "code",
   "execution_count": 25,
   "id": "d7f97df5",
   "metadata": {},
   "outputs": [
    {
     "data": {
      "text/plain": [
       "[12, 53, 75, 80, 90]"
      ]
     },
     "execution_count": 25,
     "metadata": {},
     "output_type": "execute_result"
    }
   ],
   "source": [
    "list5 # 오름차순 정렬"
   ]
  },
  {
   "cell_type": "code",
   "execution_count": 26,
   "id": "2119a752",
   "metadata": {},
   "outputs": [
    {
     "data": {
      "text/plain": [
       "[90, 80, 75, 53, 12]"
      ]
     },
     "execution_count": 26,
     "metadata": {},
     "output_type": "execute_result"
    }
   ],
   "source": [
    "list5[::-1]"
   ]
  },
  {
   "cell_type": "code",
   "execution_count": 27,
   "id": "031b1c5e",
   "metadata": {},
   "outputs": [],
   "source": [
    "# 내림차순 정렬\n",
    "list5.reverse()"
   ]
  },
  {
   "cell_type": "code",
   "execution_count": 28,
   "id": "b4ca5ccf",
   "metadata": {},
   "outputs": [
    {
     "data": {
      "text/plain": [
       "[90, 80, 75, 53, 12]"
      ]
     },
     "execution_count": 28,
     "metadata": {},
     "output_type": "execute_result"
    }
   ],
   "source": [
    "list5"
   ]
  },
  {
   "cell_type": "markdown",
   "id": "6738edc4",
   "metadata": {},
   "source": [
    "리스트 값 위치 알려줌"
   ]
  },
  {
   "cell_type": "code",
   "execution_count": 29,
   "id": "6a5efaac",
   "metadata": {},
   "outputs": [
    {
     "data": {
      "text/plain": [
       "1"
      ]
     },
     "execution_count": 29,
     "metadata": {},
     "output_type": "execute_result"
    }
   ],
   "source": [
    "list5\n",
    "# 80 위치 확인\n",
    "list5.index(80)"
   ]
  },
  {
   "cell_type": "code",
   "execution_count": 30,
   "id": "f9167bb7",
   "metadata": {},
   "outputs": [
    {
     "data": {
      "text/plain": [
       "3"
      ]
     },
     "execution_count": 30,
     "metadata": {},
     "output_type": "execute_result"
    }
   ],
   "source": [
    "100 in list1\n",
    "list1.index(100)"
   ]
  },
  {
   "cell_type": "markdown",
   "id": "90815ee4",
   "metadata": {},
   "source": [
    "리스트의 길이 확인"
   ]
  },
  {
   "cell_type": "code",
   "execution_count": 31,
   "id": "4ec6e810",
   "metadata": {},
   "outputs": [
    {
     "data": {
      "text/plain": [
       "5"
      ]
     },
     "execution_count": 31,
     "metadata": {},
     "output_type": "execute_result"
    }
   ],
   "source": [
    "len(list2)"
   ]
  },
  {
   "cell_type": "code",
   "execution_count": 32,
   "id": "4c3d8e08",
   "metadata": {},
   "outputs": [
    {
     "data": {
      "text/plain": [
       "10"
      ]
     },
     "execution_count": 32,
     "metadata": {},
     "output_type": "execute_result"
    }
   ],
   "source": [
    "s = '오늘 점심 뭐먹지?'\n",
    "len(s)"
   ]
  }
 ],
 "metadata": {
  "kernelspec": {
   "display_name": "Python 3",
   "language": "python",
   "name": "python3"
  },
  "language_info": {
   "codemirror_mode": {
    "name": "ipython",
    "version": 3
   },
   "file_extension": ".py",
   "mimetype": "text/x-python",
   "name": "python",
   "nbconvert_exporter": "python",
   "pygments_lexer": "ipython3",
   "version": "3.8.8"
  }
 },
 "nbformat": 4,
 "nbformat_minor": 5
}
