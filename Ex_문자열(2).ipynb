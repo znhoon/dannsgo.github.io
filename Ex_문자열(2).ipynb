{
 "cells": [
  {
   "cell_type": "markdown",
   "id": "0c11d842",
   "metadata": {},
   "source": [
    "### 문자열 데이터 접근\n",
    "- 인덱싱 : 무엇인가를 하나하나 '가르킴'\n",
    "- 슬라이싱 : 무엇인가를 '잘라냄'(범위)"
   ]
  },
  {
   "cell_type": "markdown",
   "id": "18b79b32",
   "metadata": {},
   "source": [
    "#### 문자열 인덱싱"
   ]
  },
  {
   "cell_type": "code",
   "execution_count": 21,
   "id": "75bbf59e",
   "metadata": {},
   "outputs": [
    {
     "name": "stdout",
     "output_type": "stream",
     "text": [
      "M\n"
     ]
    }
   ],
   "source": [
    "my_info = 'My name is PK'\n",
    "# M 데이터 접근 -> M이 가지고 있는 인덱스 번호 부름\n",
    "# 앞에서는 0부터 시작\n",
    "# 뒤에서는 -1부터 시작\n",
    "print(my_info[0])"
   ]
  },
  {
   "cell_type": "code",
   "execution_count": 22,
   "id": "60f92bf8",
   "metadata": {},
   "outputs": [
    {
     "name": "stdout",
     "output_type": "stream",
     "text": [
      "i\n"
     ]
    }
   ],
   "source": [
    "# i 데이터에 접근 -> i가 위치한 인덱스 번호 부름\n",
    "print(my_info[8])"
   ]
  },
  {
   "cell_type": "code",
   "execution_count": 23,
   "id": "0df8e7e7",
   "metadata": {},
   "outputs": [
    {
     "name": "stdout",
     "output_type": "stream",
     "text": [
      "My\n"
     ]
    }
   ],
   "source": [
    "# My 접근하기\n",
    "print(my_info[0:2])"
   ]
  },
  {
   "cell_type": "code",
   "execution_count": 24,
   "id": "156500e5",
   "metadata": {},
   "outputs": [
    {
     "name": "stdout",
     "output_type": "stream",
     "text": [
      "M\n"
     ]
    }
   ],
   "source": [
    "print(my_info[0:1])"
   ]
  },
  {
   "cell_type": "code",
   "execution_count": 25,
   "id": "062c0a6a",
   "metadata": {},
   "outputs": [
    {
     "name": "stdout",
     "output_type": "stream",
     "text": [
      "name\n",
      "PK\n",
      "My name\n"
     ]
    }
   ],
   "source": [
    "# name 데이터 접근\n",
    "print(my_info[3:7])\n",
    "# PK 데이터 접근\n",
    "print(my_info[-2:]) # 끝까지 슬라이싱은 끝값 생략가능\n",
    "# My name\n",
    "print(my_info[:7]) # 처음부터 슬라이싱은 시작 값 생략 가능"
   ]
  },
  {
   "cell_type": "code",
   "execution_count": 26,
   "id": "f8b879d4",
   "metadata": {},
   "outputs": [
    {
     "data": {
      "text/plain": [
       "'My name is PK'"
      ]
     },
     "execution_count": 26,
     "metadata": {},
     "output_type": "execute_result"
    }
   ],
   "source": [
    "my_info"
   ]
  },
  {
   "cell_type": "code",
   "execution_count": 27,
   "id": "d8a4b004",
   "metadata": {},
   "outputs": [
    {
     "data": {
      "text/plain": [
       "'KP si eman yM'"
      ]
     },
     "execution_count": 27,
     "metadata": {},
     "output_type": "execute_result"
    }
   ],
   "source": [
    "# 슬라이싱 - 처음부터 끝까지 슬라이싱\n",
    "# 문자열 대상[시작 값:끝값+1:증감값]\n",
    "my_info[0:14:2]\n",
    "# my_info[::1] # 생략 가능\n",
    "# 문자열 뒤에서부터 앞으로 출력하기\n",
    "my_info[::-1]"
   ]
  },
  {
   "cell_type": "code",
   "execution_count": 28,
   "id": "1068eb1c",
   "metadata": {},
   "outputs": [
    {
     "name": "stdout",
     "output_type": "stream",
     "text": [
      "날짜: 2022년 1월 1일\n",
      "날짜: 흐림\n"
     ]
    }
   ],
   "source": [
    "day = \"2022년 1월 1일의 날씨는 흐림입니다\"\n",
    "print('날짜:', day[0:11])\n",
    "print('날짜:', day[-5:-3])"
   ]
  },
  {
   "cell_type": "markdown",
   "id": "e7246c91",
   "metadata": {},
   "source": [
    "### 문자열 포매팅\n",
    "- 1. % 기호 포매팅\n",
    "- 2. format 함수 포매팅\n",
    "- 3. f문자열 포매팅(최신 - 3.6 이상 사용가능)"
   ]
  },
  {
   "cell_type": "code",
   "execution_count": 30,
   "id": "f0eb5421",
   "metadata": {},
   "outputs": [
    {
     "name": "stdout",
     "output_type": "stream",
     "text": [
      "오늘은 1월 1일입니다.\n"
     ]
    }
   ],
   "source": [
    "# format 함수 포매팅\n",
    "month = 1\n",
    "day = 1\n",
    "s = '오늘은 {}월 {}일입니다.'.format(month,day)\n",
    "print(s)"
   ]
  },
  {
   "cell_type": "code",
   "execution_count": 31,
   "id": "69871849",
   "metadata": {},
   "outputs": [
    {
     "name": "stdout",
     "output_type": "stream",
     "text": [
      "오늘은 1월 1일입니다.\n"
     ]
    }
   ],
   "source": [
    "# f문자열 포매팅\n",
    "month = 1\n",
    "day = 1\n",
    "s = f'오늘은 {month}월 {day}일입니다.'\n",
    "print(s)"
   ]
  },
  {
   "cell_type": "code",
   "execution_count": 32,
   "id": "3d4934a2",
   "metadata": {},
   "outputs": [
    {
     "data": {
      "text/plain": [
       "'100과 200의 합은 300입니다.'"
      ]
     },
     "execution_count": 32,
     "metadata": {},
     "output_type": "execute_result"
    }
   ],
   "source": [
    "x = 100\n",
    "y = 200\n",
    "sum2 = x + y \n",
    "f'{x}과 {y}의 합은 {sum2}입니다.'"
   ]
  },
  {
   "cell_type": "markdown",
   "id": "0b8a82c1",
   "metadata": {},
   "source": [
    "#### 문자열 관련 함수"
   ]
  },
  {
   "cell_type": "code",
   "execution_count": 39,
   "id": "933117f3",
   "metadata": {},
   "outputs": [
    {
     "data": {
      "text/plain": [
       "2"
      ]
     },
     "execution_count": 39,
     "metadata": {},
     "output_type": "execute_result"
    }
   ],
   "source": [
    "# 문자열에 포함된 문자 개수 세기\n",
    "s = 'Hi, My name is PK'\n",
    "s.count('i')"
   ]
  },
  {
   "cell_type": "code",
   "execution_count": 42,
   "id": "7e5bb1cd",
   "metadata": {},
   "outputs": [
    {
     "data": {
      "text/plain": [
       "0"
      ]
     },
     "execution_count": 42,
     "metadata": {},
     "output_type": "execute_result"
    }
   ],
   "source": [
    "# Y 등장 횟수?\n",
    "s.count('Y')"
   ]
  },
  {
   "cell_type": "code",
   "execution_count": 41,
   "id": "9c6e60ce",
   "metadata": {},
   "outputs": [
    {
     "data": {
      "text/plain": [
       "1"
      ]
     },
     "execution_count": 41,
     "metadata": {},
     "output_type": "execute_result"
    }
   ],
   "source": [
    "# 문자열을 소문자 -> 대문자\n",
    "s.upper()\n",
    "# 대문자 -> 소문자\n",
    "s.lower()\n",
    "# y 등장 횟수?\n",
    "s.count('y')"
   ]
  },
  {
   "cell_type": "code",
   "execution_count": 43,
   "id": "51f65a66",
   "metadata": {},
   "outputs": [
    {
     "data": {
      "text/plain": [
       "-1"
      ]
     },
     "execution_count": 43,
     "metadata": {},
     "output_type": "execute_result"
    }
   ],
   "source": [
    "# find, index 문자 위치 반환\n",
    "s.find('i') # 문장 안에서 첫 번째로 만나는 i 인덱스 반환\n",
    "s.find('z') # -1 # 에러 X"
   ]
  },
  {
   "cell_type": "code",
   "execution_count": 44,
   "id": "05355ce2",
   "metadata": {
    "collapsed": true
   },
   "outputs": [
    {
     "ename": "ValueError",
     "evalue": "substring not found",
     "output_type": "error",
     "traceback": [
      "\u001b[1;31m---------------------------------------------------------------------------\u001b[0m",
      "\u001b[1;31mValueError\u001b[0m                                Traceback (most recent call last)",
      "\u001b[1;32m<ipython-input-44-04f4ef0db09a>\u001b[0m in \u001b[0;36m<module>\u001b[1;34m\u001b[0m\n\u001b[0;32m      1\u001b[0m \u001b[0ms\u001b[0m\u001b[1;33m.\u001b[0m\u001b[0mindex\u001b[0m\u001b[1;33m(\u001b[0m\u001b[1;34m'i'\u001b[0m\u001b[1;33m)\u001b[0m\u001b[1;33m\u001b[0m\u001b[1;33m\u001b[0m\u001b[0m\n\u001b[1;32m----> 2\u001b[1;33m \u001b[0ms\u001b[0m\u001b[1;33m.\u001b[0m\u001b[0mindex\u001b[0m\u001b[1;33m(\u001b[0m\u001b[1;34m'z'\u001b[0m\u001b[1;33m)\u001b[0m \u001b[1;31m# ValueError : substring not found\u001b[0m\u001b[1;33m\u001b[0m\u001b[1;33m\u001b[0m\u001b[0m\n\u001b[0m",
      "\u001b[1;31mValueError\u001b[0m: substring not found"
     ]
    }
   ],
   "source": [
    "s.index('i')\n",
    "s.index('z') # 오류 발생 # ValueError : substring not found"
   ]
  },
  {
   "cell_type": "code",
   "execution_count": 45,
   "id": "d06abad8",
   "metadata": {},
   "outputs": [
    {
     "data": {
      "text/plain": [
       "'Hi,'"
      ]
     },
     "execution_count": 45,
     "metadata": {},
     "output_type": "execute_result"
    }
   ],
   "source": [
    "# rstrip()\n",
    "s[:4].rstrip() # 공백 삭제"
   ]
  },
  {
   "cell_type": "code",
   "execution_count": 46,
   "id": "c1110db1",
   "metadata": {},
   "outputs": [
    {
     "data": {
      "text/plain": [
       "'My name is PK'"
      ]
     },
     "execution_count": 46,
     "metadata": {},
     "output_type": "execute_result"
    }
   ],
   "source": [
    "# lstrip() 왼쪽 공백 제거\n",
    "s[3:]\n",
    "s[3:].lstrip()"
   ]
  },
  {
   "cell_type": "code",
   "execution_count": 48,
   "id": "8ffaf718",
   "metadata": {},
   "outputs": [
    {
     "data": {
      "text/plain": [
       "'빅데이터 화이팅!'"
      ]
     },
     "execution_count": 48,
     "metadata": {},
     "output_type": "execute_result"
    }
   ],
   "source": [
    "# 양 옆 공백 제거\n",
    "s3 = '빅데이터 화이팅!'\n",
    "s3.strip()"
   ]
  },
  {
   "cell_type": "code",
   "execution_count": 49,
   "id": "0e037d3e",
   "metadata": {},
   "outputs": [
    {
     "data": {
      "text/plain": [
       "'빅데이터 파이팅!!!!'"
      ]
     },
     "execution_count": 49,
     "metadata": {},
     "output_type": "execute_result"
    }
   ],
   "source": [
    "# replace('문자1', '문자2') : 문자열1을 문자열2로 변경\n",
    "s3.replace('화이팅', '파이팅!!!')"
   ]
  },
  {
   "cell_type": "code",
   "execution_count": 50,
   "id": "abc66118",
   "metadata": {},
   "outputs": [
    {
     "data": {
      "text/plain": [
       "'조심히 들어가세요 ~'"
      ]
     },
     "execution_count": 50,
     "metadata": {},
     "output_type": "execute_result"
    }
   ],
   "source": [
    "# 문자열 나누기\n",
    "s4 = '오늘도 고생하셨습니다, 조심히 들어가세요 ~'\n",
    "s4.split(',')[1].strip() # 리스트로 반환"
   ]
  }
 ],
 "metadata": {
  "kernelspec": {
   "display_name": "Python 3",
   "language": "python",
   "name": "python3"
  },
  "language_info": {
   "codemirror_mode": {
    "name": "ipython",
    "version": 3
   },
   "file_extension": ".py",
   "mimetype": "text/x-python",
   "name": "python",
   "nbconvert_exporter": "python",
   "pygments_lexer": "ipython3",
   "version": "3.8.8"
  }
 },
 "nbformat": 4,
 "nbformat_minor": 5
}
