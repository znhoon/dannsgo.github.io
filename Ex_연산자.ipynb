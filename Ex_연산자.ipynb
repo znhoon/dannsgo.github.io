{
 "cells": [
  {
   "cell_type": "markdown",
   "id": "32ebb0a5",
   "metadata": {},
   "source": [
    "## 연산자 종류\n",
    "### 연산자 : 기호\n",
    "- 산술 연산자 : + | - | * | / | // | %\n",
    "- 지수 연산자 : **\n",
    "- 대입(복합) 연산자 : = | += | -= | *= | /= | //= | %=\n",
    "- 관계(비교) 연산자 : > | >= | < | <= | == | !=\n",
    "- 논리 연산자 : not | and | or\n",
    "- 멤버 연산자 : in | not in"
   ]
  },
  {
   "cell_type": "markdown",
   "id": "2b94b2b1",
   "metadata": {},
   "source": [
    "## 연산자"
   ]
  },
  {
   "cell_type": "code",
   "execution_count": 2,
   "id": "7cd744ed",
   "metadata": {},
   "outputs": [
    {
     "name": "stdout",
     "output_type": "stream",
     "text": [
      "나누기: 14.285714285714286\n",
      "나머지: 2\n",
      "나누기(몫) 14\n"
     ]
    }
   ],
   "source": [
    "num1 = 100\n",
    "num2 = 7\n",
    "\n",
    "print('나누기:', num1/num2)\n",
    "print('나머지:', num1%num2)\n",
    "print('나누기(몫)', num1//num2)"
   ]
  },
  {
   "cell_type": "markdown",
   "id": "0fb30bc4",
   "metadata": {},
   "source": [
    "### 문자열 더하기, 곱하기"
   ]
  },
  {
   "cell_type": "code",
   "execution_count": 3,
   "id": "b2416006",
   "metadata": {},
   "outputs": [
    {
     "name": "stdout",
     "output_type": "stream",
     "text": [
      "HelloWorld\n"
     ]
    }
   ],
   "source": [
    "str1 = 'Hello'\n",
    "str2 = 'World'\n",
    "\n",
    "print(str1+str2)"
   ]
  },
  {
   "cell_type": "code",
   "execution_count": 4,
   "id": "cdb2cf28",
   "metadata": {},
   "outputs": [
    {
     "name": "stdout",
     "output_type": "stream",
     "text": [
      "**********\n"
     ]
    }
   ],
   "source": [
    "star = '*'\n",
    "print(star * 10)"
   ]
  },
  {
   "cell_type": "markdown",
   "id": "6aaa84eb",
   "metadata": {},
   "source": [
    "### 숫자, 문자열 더하기"
   ]
  },
  {
   "cell_type": "code",
   "execution_count": 5,
   "id": "2889334c",
   "metadata": {
    "collapsed": true
   },
   "outputs": [
    {
     "ename": "TypeError",
     "evalue": "unsupported operand type(s) for +: 'int' and 'str'",
     "output_type": "error",
     "traceback": [
      "\u001b[1;31m---------------------------------------------------------------------------\u001b[0m",
      "\u001b[1;31mTypeError\u001b[0m                                 Traceback (most recent call last)",
      "\u001b[1;32m<ipython-input-5-9313756017f4>\u001b[0m in \u001b[0;36m<module>\u001b[1;34m\u001b[0m\n\u001b[0;32m      1\u001b[0m \u001b[0mnum1\u001b[0m \u001b[1;33m=\u001b[0m \u001b[1;36m100\u001b[0m\u001b[1;33m\u001b[0m\u001b[1;33m\u001b[0m\u001b[0m\n\u001b[0;32m      2\u001b[0m \u001b[0ms3\u001b[0m \u001b[1;33m=\u001b[0m \u001b[1;34m'7'\u001b[0m\u001b[1;33m\u001b[0m\u001b[1;33m\u001b[0m\u001b[0m\n\u001b[1;32m----> 3\u001b[1;33m \u001b[0mprint\u001b[0m\u001b[1;33m(\u001b[0m\u001b[0mnum1\u001b[0m\u001b[1;33m+\u001b[0m\u001b[0ms3\u001b[0m\u001b[1;33m)\u001b[0m \u001b[1;31m# TypeError : unsupported operand type(s) for +\u001b[0m\u001b[1;33m\u001b[0m\u001b[1;33m\u001b[0m\u001b[0m\n\u001b[0m",
      "\u001b[1;31mTypeError\u001b[0m: unsupported operand type(s) for +: 'int' and 'str'"
     ]
    }
   ],
   "source": [
    "num1 = 100\n",
    "s3 = '7'\n",
    "print(num1+s3) # TypeError : unsupported operand type(s) for +"
   ]
  },
  {
   "cell_type": "code",
   "execution_count": 6,
   "id": "86da347d",
   "metadata": {},
   "outputs": [
    {
     "data": {
      "text/plain": [
       "7"
      ]
     },
     "execution_count": 6,
     "metadata": {},
     "output_type": "execute_result"
    }
   ],
   "source": [
    "int(s3)"
   ]
  },
  {
   "cell_type": "code",
   "execution_count": 7,
   "id": "15eee77b",
   "metadata": {},
   "outputs": [
    {
     "name": "stdout",
     "output_type": "stream",
     "text": [
      "숫자로 맞추기: 107\n",
      "문자로 맞추기: 1007\n"
     ]
    }
   ],
   "source": [
    "print('숫자로 맞추기:', num1 + int(s3))\n",
    "print('문자로 맞추기:', str(num1) + s3)"
   ]
  },
  {
   "cell_type": "code",
   "execution_count": 8,
   "id": "280a3f2c",
   "metadata": {},
   "outputs": [
    {
     "name": "stdout",
     "output_type": "stream",
     "text": [
      "더하기 결과 : 55\n",
      "빼기 결과 : 45\n",
      "곱하기 결과 : 250\n",
      "나누기 결과 : 10.0\n"
     ]
    }
   ],
   "source": [
    "num1 = 50\n",
    "num2 = 5\n",
    "print('더하기 결과 :', num1 + int(num2))\n",
    "print('빼기 결과 :', num1 - int(num2))\n",
    "print('곱하기 결과 :', num1 * int(num2))\n",
    "print('나누기 결과 :', num1 / int(num2))"
   ]
  },
  {
   "cell_type": "code",
   "execution_count": 9,
   "id": "9672b170",
   "metadata": {},
   "outputs": [
    {
     "name": "stdout",
     "output_type": "stream",
     "text": [
      "정수를 입력하세요 >> 77\n"
     ]
    },
    {
     "data": {
      "text/plain": [
       "77"
      ]
     },
     "execution_count": 9,
     "metadata": {},
     "output_type": "execute_result"
    }
   ],
   "source": [
    "num1 = int(input('정수를 입력하세요 >> '))\n",
    "num1"
   ]
  },
  {
   "cell_type": "code",
   "execution_count": 10,
   "id": "228245a4",
   "metadata": {},
   "outputs": [
    {
     "name": "stdout",
     "output_type": "stream",
     "text": [
      "정수를 입력하세요 >> 23\n",
      "정수를 입력하세요 >> 3\n",
      "더하기 결과 : 26\n",
      "빼기 결과 : 20\n",
      "곱하기 결과 : 69\n",
      "나누기 결과 : 7.666666666666667\n"
     ]
    }
   ],
   "source": [
    "num1 = int(input('정수를 입력하세요 >> ')) # 값 입력\n",
    "num2 = int(input('정수를 입력하세요 >> ')) # 값 입력\n",
    "print('더하기 결과 :', num1+int(num2)) \n",
    "print('빼기 결과 :', num1 - int(num2))\n",
    "print('곱하기 결과 :', num1 * int(num2))\n",
    "print('나누기 결과 :', num1 / int(num2))"
   ]
  },
  {
   "cell_type": "code",
   "execution_count": null,
   "id": "c1ed697e",
   "metadata": {},
   "outputs": [],
   "source": [
    "num1 = int(input('python 점수 입력 >> ')) # 값 입력\n",
    "num2 = int(input('머신러닝 점수 입력 >> ')) # 값 입력\n",
    "num3 = int(input('딥러닝 점수 입력 >> ')) # 값 입력\n",
    "total = num1 + num2 + num3\n",
    "avg = total / 3\n",
    "print(\"합계 : {}\".format(total)) # int\n",
    "print(\"평균 : {}\".format(avg)) # float"
   ]
  },
  {
   "cell_type": "code",
   "execution_count": null,
   "id": "ccad5804",
   "metadata": {},
   "outputs": [],
   "source": [
    "# 반올림 하는 함수\n",
    "round(3.13,1) # (반올림 하고 싶은 숫자, 출력하고 싶은 소수점자리)"
   ]
  },
  {
   "cell_type": "code",
   "execution_count": null,
   "id": "92a64fd4",
   "metadata": {},
   "outputs": [],
   "source": [
    "# 2의 3승\n",
    "# **\n",
    "2 ** 3"
   ]
  },
  {
   "cell_type": "markdown",
   "id": "fe18799f",
   "metadata": {},
   "source": [
    "### 복합대입 연산자"
   ]
  },
  {
   "cell_type": "code",
   "execution_count": 11,
   "id": "ffea100c",
   "metadata": {},
   "outputs": [
    {
     "name": "stdout",
     "output_type": "stream",
     "text": [
      "33\n"
     ]
    }
   ],
   "source": [
    "num = 30\n",
    "num += 3\n",
    "print(num)"
   ]
  },
  {
   "cell_type": "code",
   "execution_count": 12,
   "id": "1485a10a",
   "metadata": {},
   "outputs": [
    {
     "data": {
      "text/plain": [
       "36"
      ]
     },
     "execution_count": 12,
     "metadata": {},
     "output_type": "execute_result"
    }
   ],
   "source": [
    "num += 3\n",
    "num"
   ]
  },
  {
   "cell_type": "code",
   "execution_count": 13,
   "id": "571e1552",
   "metadata": {},
   "outputs": [
    {
     "name": "stdout",
     "output_type": "stream",
     "text": [
      "45\n"
     ]
    }
   ],
   "source": [
    "# 뺄셈\n",
    "num = 100\n",
    "num -= 55 # num = num - 55\n",
    "print(num)"
   ]
  },
  {
   "cell_type": "code",
   "execution_count": 14,
   "id": "de6f556c",
   "metadata": {},
   "outputs": [
    {
     "name": "stdout",
     "output_type": "stream",
     "text": [
      "25\n"
     ]
    }
   ],
   "source": [
    "num -= 20 # num(45) = num(45) - 30\n",
    "print(num)"
   ]
  },
  {
   "cell_type": "code",
   "execution_count": 15,
   "id": "5446e09a",
   "metadata": {},
   "outputs": [
    {
     "name": "stdout",
     "output_type": "stream",
     "text": [
      "25.0\n"
     ]
    }
   ],
   "source": [
    "# 나눗셈\n",
    "num = 100\n",
    "num /= 2 # 50.0\n",
    "num /= 2 # 25.0\n",
    "print(num)"
   ]
  },
  {
   "cell_type": "markdown",
   "id": "411987c8",
   "metadata": {},
   "source": [
    "### 변수 치환"
   ]
  },
  {
   "cell_type": "code",
   "execution_count": 16,
   "id": "64c40692",
   "metadata": {},
   "outputs": [
    {
     "name": "stdout",
     "output_type": "stream",
     "text": [
      "7 10\n"
     ]
    }
   ],
   "source": [
    "a = 10\n",
    "b = 7\n",
    "\n",
    "# a,b의 값을 치환\n",
    "tmp = a\n",
    "a = b\n",
    "b = tmp\n",
    "print(a,b)"
   ]
  },
  {
   "cell_type": "code",
   "execution_count": 17,
   "id": "a2341c15",
   "metadata": {},
   "outputs": [
    {
     "name": "stdout",
     "output_type": "stream",
     "text": [
      "a : 7\n",
      "b : 10\n",
      "7 10\n"
     ]
    }
   ],
   "source": [
    "a = 10\n",
    "b = 7\n",
    "a,b = b,a # 치환\n",
    "print('a :',a)\n",
    "print('b :',b)\n",
    "print(a,b)"
   ]
  },
  {
   "cell_type": "markdown",
   "id": "c818e983",
   "metadata": {},
   "source": [
    "### 비교 연산자"
   ]
  },
  {
   "cell_type": "code",
   "execution_count": 19,
   "id": "22db7d72",
   "metadata": {},
   "outputs": [
    {
     "name": "stdout",
     "output_type": "stream",
     "text": [
      "False\n",
      "True\n",
      "False\n",
      "True\n"
     ]
    }
   ],
   "source": [
    "# 입력값을 비교하게, 조건이 될 수 있음\n",
    "# >, ==, <, <=, >=, !=\n",
    "a = 3\n",
    "b = 7\n",
    "print(a > b) # False(파이썬에서 첫 글자 대문자로 써야 오류 발생X)\n",
    "print(a <= b) \n",
    "print(a == b)\n",
    "print(a != b)"
   ]
  },
  {
   "cell_type": "code",
   "execution_count": 20,
   "id": "24618b10",
   "metadata": {},
   "outputs": [],
   "source": [
    "import random # 라이브러리 불러오기 == import 라이브러리명"
   ]
  },
  {
   "cell_type": "code",
   "execution_count": 21,
   "id": "cf956faf",
   "metadata": {},
   "outputs": [
    {
     "name": "stdout",
     "output_type": "stream",
     "text": [
      "a:4, b:10\n",
      "False\n",
      "True\n",
      "False\n",
      "True\n"
     ]
    }
   ],
   "source": [
    "a = random.randint(1,10)\n",
    "b = random.randint(1,10)\n",
    "print(f'a:{a}, b:{b}')\n",
    "\n",
    "print(a > b)\n",
    "print(a <= b) \n",
    "print(a == b)\n",
    "print(a != b)"
   ]
  },
  {
   "cell_type": "markdown",
   "id": "cc1856c1",
   "metadata": {},
   "source": [
    "### 논리 연산자, 멤버 연산자"
   ]
  },
  {
   "cell_type": "code",
   "execution_count": 22,
   "id": "381a4e59",
   "metadata": {},
   "outputs": [],
   "source": [
    "# 논리 not, and, or\n",
    "# 멤버 in, not in"
   ]
  },
  {
   "cell_type": "code",
   "execution_count": 23,
   "id": "53d94c23",
   "metadata": {},
   "outputs": [
    {
     "data": {
      "text/plain": [
       "True"
      ]
     },
     "execution_count": 23,
     "metadata": {},
     "output_type": "execute_result"
    }
   ],
   "source": [
    "# not : 논리 값을 뒤집는 역할\n",
    "a = 10\n",
    "b = 7\n",
    "not a < b"
   ]
  },
  {
   "cell_type": "code",
   "execution_count": 24,
   "id": "9868c183",
   "metadata": {},
   "outputs": [
    {
     "data": {
      "text/plain": [
       "True"
      ]
     },
     "execution_count": 24,
     "metadata": {},
     "output_type": "execute_result"
    }
   ],
   "source": [
    "not a == b"
   ]
  },
  {
   "cell_type": "code",
   "execution_count": 25,
   "id": "74dbd096",
   "metadata": {},
   "outputs": [
    {
     "data": {
      "text/plain": [
       "False"
      ]
     },
     "execution_count": 25,
     "metadata": {},
     "output_type": "execute_result"
    }
   ],
   "source": [
    "# and, or 조건들을 연결시킴\n",
    "a < b and a == b # 둘 다 True -> True, 조건 1개라도 False -> False"
   ]
  },
  {
   "cell_type": "code",
   "execution_count": 26,
   "id": "9c019180",
   "metadata": {},
   "outputs": [
    {
     "data": {
      "text/plain": [
       "False"
      ]
     },
     "execution_count": 26,
     "metadata": {},
     "output_type": "execute_result"
    }
   ],
   "source": [
    "a < b or a == b # 조건 1개라도 True -> True"
   ]
  },
  {
   "cell_type": "code",
   "execution_count": 27,
   "id": "4004e0fb",
   "metadata": {},
   "outputs": [
    {
     "data": {
      "text/plain": [
       "'합격'"
      ]
     },
     "execution_count": 27,
     "metadata": {},
     "output_type": "execute_result"
    }
   ],
   "source": [
    "score = 80\n",
    "'합격' if score >= 60 else '불합격'"
   ]
  },
  {
   "cell_type": "code",
   "execution_count": 28,
   "id": "a855fe9d",
   "metadata": {},
   "outputs": [
    {
     "data": {
      "text/plain": [
       "'불합격'"
      ]
     },
     "execution_count": 28,
     "metadata": {},
     "output_type": "execute_result"
    }
   ],
   "source": [
    "score = 57\n",
    "'합격' if score >= 60 else '불합격'"
   ]
  },
  {
   "cell_type": "code",
   "execution_count": 29,
   "id": "d7c060de",
   "metadata": {},
   "outputs": [
    {
     "name": "stdout",
     "output_type": "stream",
     "text": [
      "정수입력 >> 3\n",
      "정수입력 >> 10\n",
      "b: 10\n"
     ]
    }
   ],
   "source": [
    "a = int(input(\"정수입력 >> \"))\n",
    "b = int(input(\"정수입력 >> \"))\n",
    "\n",
    "print(f'a: {a}') if a > b else print(f'b: {b}')"
   ]
  },
  {
   "cell_type": "markdown",
   "id": "446b78ef",
   "metadata": {},
   "source": [
    "### 멤버 연산자"
   ]
  },
  {
   "cell_type": "code",
   "execution_count": 32,
   "id": "f22433b8",
   "metadata": {},
   "outputs": [
    {
     "data": {
      "text/plain": [
       "True"
      ]
     },
     "execution_count": 32,
     "metadata": {},
     "output_type": "execute_result"
    }
   ],
   "source": [
    "s = 'Hello World'\n",
    "'o' in s # 있음? 있으면 True, 없으면 False"
   ]
  },
  {
   "cell_type": "markdown",
   "id": "fa8658e1",
   "metadata": {},
   "source": [
    "not in # 없음? 없으면 True, 있으면 False"
   ]
  },
  {
   "cell_type": "code",
   "execution_count": null,
   "id": "5c4310eb",
   "metadata": {},
   "outputs": [],
   "source": [
    "# replace(' ', '') 공백 제거해주는 함수"
   ]
  }
 ],
 "metadata": {
  "kernelspec": {
   "display_name": "Python 3",
   "language": "python",
   "name": "python3"
  },
  "language_info": {
   "codemirror_mode": {
    "name": "ipython",
    "version": 3
   },
   "file_extension": ".py",
   "mimetype": "text/x-python",
   "name": "python",
   "nbconvert_exporter": "python",
   "pygments_lexer": "ipython3",
   "version": "3.8.8"
  }
 },
 "nbformat": 4,
 "nbformat_minor": 5
}
