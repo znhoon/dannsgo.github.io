{
 "cells": [
  {
   "cell_type": "markdown",
   "id": "8601acd4",
   "metadata": {},
   "source": [
    "## 조건문"
   ]
  },
  {
   "cell_type": "markdown",
   "id": "739c503c",
   "metadata": {},
   "source": [
    "### if"
   ]
  },
  {
   "cell_type": "markdown",
   "id": "3cd3176a",
   "metadata": {},
   "source": [
    "if True:\n",
    "    print('조건문 안 실행문장')\n",
    "print('조건문 밖 실행문장')"
   ]
  },
  {
   "cell_type": "markdown",
   "id": "67c352a5",
   "metadata": {},
   "source": [
    "if False:\n",
    "    print('조건문 안 실행문장')\n",
    "print('조건문 밖 실행문장')"
   ]
  },
  {
   "cell_type": "code",
   "execution_count": 2,
   "id": "cd4bae45",
   "metadata": {},
   "outputs": [
    {
     "name": "stdout",
     "output_type": "stream",
     "text": [
      "a가 더 크다.\n"
     ]
    }
   ],
   "source": [
    "a = 1000\n",
    "b = 500\n",
    "if a > b:\n",
    "    print('a가 더 크다.')"
   ]
  },
  {
   "cell_type": "code",
   "execution_count": 3,
   "id": "f2e880a2",
   "metadata": {},
   "outputs": [
    {
     "name": "stdout",
     "output_type": "stream",
     "text": [
      "b가 더 크다.\n"
     ]
    }
   ],
   "source": [
    "b = 5000\n",
    "if a > b : # a : 1000, b : 5000\n",
    "    print('a가 더 크다.')\n",
    "else :\n",
    "    print('b가 더 크다.')"
   ]
  },
  {
   "cell_type": "code",
   "execution_count": 4,
   "id": "8041cebf",
   "metadata": {},
   "outputs": [
    {
     "name": "stdout",
     "output_type": "stream",
     "text": [
      "b가 더 크다.\n",
      "조건문 종료\n"
     ]
    }
   ],
   "source": [
    "# 조건이 더 많아졌을 경우\n",
    "# if elif else\n",
    "if a > b :\n",
    "    print('a가 더 크다.')\n",
    "elif a < b :\n",
    "    print('b가 더 크다.')\n",
    "elif a == b : \n",
    "    print('a와 b는 같다.')\n",
    "print('조건문 종료')"
   ]
  },
  {
   "cell_type": "code",
   "execution_count": 7,
   "id": "0586f850",
   "metadata": {},
   "outputs": [
    {
     "name": "stdout",
     "output_type": "stream",
     "text": [
      "score = 20\n",
      "20점은 F학점 입니다.\n"
     ]
    }
   ],
   "source": [
    "score = int(input(\"score = \"))\n",
    "if 100 >= score >= 90 :\n",
    "    grade = 'A'\n",
    "    print('{}점은 A학점 입니다.'.format(score))\n",
    "elif 90 > score >= 80 :\n",
    "    grade = 'B'\n",
    "    print('{}점은 B학점 입니다.'.format(score))\n",
    "elif 80 > score >= 70 : \n",
    "    grade = 'C'\n",
    "    print('{}점은 C학점 입니다.'.format(score))\n",
    "elif 70 > score >= 60 : \n",
    "    grade = 'D'\n",
    "    print('{}점은 D학점 입니다.'.format(score))\n",
    "elif 60 > score >= 0 :\n",
    "    grade = 'F'\n",
    "    print('{}점은 F학점 입니다.'.format(score))\n",
    "else :\n",
    "    print('{}점은 잘못 입력한 점수입니다.'.format(score))"
   ]
  },
  {
   "cell_type": "code",
   "execution_count": 10,
   "id": "77b166cb",
   "metadata": {},
   "outputs": [
    {
     "name": "stdout",
     "output_type": "stream",
     "text": [
      "점수 입력하세요 >> 20\n",
      "20는 F학점 입니다.\n"
     ]
    }
   ],
   "source": [
    "score = int(input('점수 입력하세요 >> '))\n",
    "grade = '' # grade = ''\n",
    "if score >= 90 :\n",
    "    grade = 'A'\n",
    "elif score >= 80 :\n",
    "    grade = 'B'\n",
    "elif score >= 70 :\n",
    "    grade = 'C'\n",
    "elif score > 60 :\n",
    "    grade = 'D'\n",
    "else :\n",
    "    grade = 'F'\n",
    "print(f'{score}는 {grade}학점 입니다.')"
   ]
  },
  {
   "cell_type": "code",
   "execution_count": 11,
   "id": "113e4ae2",
   "metadata": {},
   "outputs": [
    {
     "name": "stdout",
     "output_type": "stream",
     "text": [
      "마스크 개수 입력 >> 15\n",
      "8개마스크들이 : 1\n",
      "5개마스크들이 : 2\n"
     ]
    }
   ],
   "source": [
    "countOfMask = int(input(\"마스크 개수 입력 >> \"))\n",
    "if countOfMask >= 8 : # 조건 1 : 마스크 8개 이상\n",
    "    if countOfMask % 8 == 0 : # 조건 1 + 마스크를 8로 나누어 떨어지는 경우\n",
    "        num1 = countOfMask // 8 # 8개들이 == 마스크 / 8의 몫\n",
    "        num2 = 0 # 마스크가 8로 나누어 떨어지므로 계산 X\n",
    "    else : # 조건 1 + 마스크를 8로 나누었을 때 나머지 != 0 \n",
    "        num1 = countOfMask // 8 # 8개들이 == 마스크 / 8의 몫\n",
    "        num2 = countOfMask % 8 // 5  + 1 # 5개들이 == 마스크 / 8의 몫 / 5의 몫 + 1\n",
    "else : # 조건 2 : 마스크가 7개 이하\n",
    "    if countOfMask % 5 != 0 : # 조건 2 + 마스크를 5로 나누었을 때 나머지 != 0\n",
    "        num1 = 0 # 마스크가 8개 미만이므로 계산 X\n",
    "        num2 = countOfMask // 5 + 1 # 5개들이 == 마스크 / 5의 몫 + 1\n",
    "    else : # 조건 2 + 마스크가 5로 나누어 떨어지는 경우 == 마스크가 5개인 경우\n",
    "        num1 = 0 # 마스크가 8개 미만이므로 계산 X\n",
    "        num2 = countOfMask // 5 # 마스크 / 5의 몫\n",
    "print(f'8개마스크들이 : {num1}')\n",
    "print(f'5개마스크들이 : {num2}')"
   ]
  },
  {
   "cell_type": "code",
   "execution_count": null,
   "id": "b337d2bd",
   "metadata": {},
   "outputs": [],
   "source": [
    "### CLASS\n",
    "countOfMask = int(input('마스크 개수 입력 >> '))\n",
    "a, b, c = 0, 0, 0\n",
    "if countOfMask >= 8 :\n",
    "    a = countOfMask // 8 #8개들이 포장지 개수\n",
    "    b = (countOfMask % 8) // 5 # 5개들이 포장지 개수\n",
    "    c = (countOfMask % 8) % 5 #5개들이 포장지에 담고 남은 나머지 \n",
    "    if c > 0:\n",
    "        b += 1   \n",
    "else:\n",
    "    b = countOfMask // 5 # 5개들이 포장지 개수\n",
    "    c = countOfMask % 5 # 나머지는 5개들이포장지 하나더 가져와서 포장함\n",
    "    if c > 0:\n",
    "        b += 1\n",
    "print('8개들이 포장지 개수:', a)\n",
    "print('5개들이 포장지 개수:', b)"
   ]
  }
 ],
 "metadata": {
  "kernelspec": {
   "display_name": "Python 3",
   "language": "python",
   "name": "python3"
  },
  "language_info": {
   "codemirror_mode": {
    "name": "ipython",
    "version": 3
   },
   "file_extension": ".py",
   "mimetype": "text/x-python",
   "name": "python",
   "nbconvert_exporter": "python",
   "pygments_lexer": "ipython3",
   "version": "3.8.8"
  }
 },
 "nbformat": 4,
 "nbformat_minor": 5
}
