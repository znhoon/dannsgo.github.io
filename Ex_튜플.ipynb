{
 "cells": [
  {
   "cell_type": "markdown",
   "id": "dd2df1cb",
   "metadata": {},
   "source": [
    "## 튜플(tuple)"
   ]
  },
  {
   "cell_type": "code",
   "execution_count": 105,
   "id": "b5db3e78",
   "metadata": {},
   "outputs": [],
   "source": [
    "# 파이썬 자료 구조 중 하나\n",
    "# 순서가 있는 대상\n",
    "# 소괄호() 로 작성, 내부 요소는 ,로 구분\n",
    "# 추가, 삭제, 수정 불가능(== 데이터 확인만 가능)"
   ]
  },
  {
   "cell_type": "code",
   "execution_count": 109,
   "id": "3f3dca73",
   "metadata": {},
   "outputs": [],
   "source": [
    "# 튜플 선언\n",
    "a = () # 빈 튜플 선언\n",
    "b = (1, 2, 3) # 정수형 데이터 담은 튜플\n",
    "c = ('a', 'b', 'c') # 문자열 담은 튜플\n",
    "d = (1, 2, 'a', 'b') # 자료형 상관없이 선언 가능\n",
    "e = (1, 2, ('a', 'b')) # 이중 튜플 선언 가능"
   ]
  },
  {
   "cell_type": "markdown",
   "id": "df0798c7",
   "metadata": {},
   "source": [
    "### 튜플 인덱싱 슬라이싱"
   ]
  },
  {
   "cell_type": "code",
   "execution_count": 110,
   "id": "7a118642",
   "metadata": {},
   "outputs": [
    {
     "data": {
      "text/plain": [
       "('a', 'b')"
      ]
     },
     "execution_count": 110,
     "metadata": {},
     "output_type": "execute_result"
    }
   ],
   "source": [
    "# 인덱싱\n",
    "e[2]"
   ]
  },
  {
   "cell_type": "code",
   "execution_count": 111,
   "id": "2709f598",
   "metadata": {},
   "outputs": [
    {
     "data": {
      "text/plain": [
       "'b'"
      ]
     },
     "execution_count": 111,
     "metadata": {},
     "output_type": "execute_result"
    }
   ],
   "source": [
    "# 'b' 요소에 접근\n",
    "e[2][1]"
   ]
  },
  {
   "cell_type": "code",
   "execution_count": 117,
   "id": "dc20ea5a",
   "metadata": {},
   "outputs": [
    {
     "data": {
      "text/plain": [
       "(2, ('a', 'b'))"
      ]
     },
     "execution_count": 117,
     "metadata": {},
     "output_type": "execute_result"
    }
   ],
   "source": [
    "# 슬라이싱\n",
    "# e[시작 인덱스 : 끝 번호 + 1]\n",
    "e[1:]"
   ]
  },
  {
   "cell_type": "code",
   "execution_count": 115,
   "id": "5640c5a4",
   "metadata": {},
   "outputs": [
    {
     "data": {
      "text/plain": [
       "(1, 2, ('a', 'b'))"
      ]
     },
     "execution_count": 115,
     "metadata": {},
     "output_type": "execute_result"
    }
   ],
   "source": [
    "e"
   ]
  },
  {
   "cell_type": "code",
   "execution_count": 113,
   "id": "2004b8c5",
   "metadata": {},
   "outputs": [
    {
     "data": {
      "text/plain": [
       "3"
      ]
     },
     "execution_count": 113,
     "metadata": {},
     "output_type": "execute_result"
    }
   ],
   "source": [
    "len(e)"
   ]
  },
  {
   "cell_type": "markdown",
   "id": "cda03996",
   "metadata": {},
   "source": [
    "### 튜플 수정 가능 여부 확인"
   ]
  },
  {
   "cell_type": "code",
   "execution_count": 1,
   "id": "57e4ac14",
   "metadata": {},
   "outputs": [
    {
     "ename": "NameError",
     "evalue": "name 'e' is not defined",
     "output_type": "error",
     "traceback": [
      "\u001b[1;31m---------------------------------------------------------------------------\u001b[0m",
      "\u001b[1;31mNameError\u001b[0m                                 Traceback (most recent call last)",
      "\u001b[1;32m<ipython-input-1-2309b070ef8d>\u001b[0m in \u001b[0;36m<module>\u001b[1;34m\u001b[0m\n\u001b[1;32m----> 1\u001b[1;33m \u001b[0me\u001b[0m\u001b[1;33m[\u001b[0m\u001b[1;36m2\u001b[0m\u001b[1;33m]\u001b[0m \u001b[1;33m=\u001b[0m \u001b[1;33m(\u001b[0m\u001b[1;36m1\u001b[0m\u001b[1;33m,\u001b[0m \u001b[1;36m2\u001b[0m\u001b[1;33m,\u001b[0m \u001b[1;36m3\u001b[0m\u001b[1;33m)\u001b[0m\u001b[1;33m\u001b[0m\u001b[1;33m\u001b[0m\u001b[0m\n\u001b[0m\u001b[0;32m      2\u001b[0m \u001b[0me\u001b[0m\u001b[1;33m\u001b[0m\u001b[1;33m\u001b[0m\u001b[0m\n",
      "\u001b[1;31mNameError\u001b[0m: name 'e' is not defined"
     ]
    }
   ],
   "source": [
    "e[2] = (1, 2, 3)\n",
    "e"
   ]
  },
  {
   "cell_type": "code",
   "execution_count": 134,
   "id": "68429fc2",
   "metadata": {},
   "outputs": [
    {
     "name": "stdout",
     "output_type": "stream",
     "text": [
      "검색할 문자를 입력하세요 >>오렌지\n",
      "오렌지는 리스트에 들어있지 않습니다.\n"
     ]
    }
   ],
   "source": [
    "lst = ['딸기', '바나나', '수박', '체리', '포도']\n",
    "f = input('검색할 문자를 입력하세요 >>')\n",
    "# f == 과일 이름\n",
    "if f in lst :\n",
    "    print(f'{f}는 리스트에 {lst.index(f)}번째 인덱스에 들어있습니다.')\n",
    "else :\n",
    "    print(f'{f}는 리스트에 들어있지 않습니다.')"
   ]
  },
  {
   "cell_type": "code",
   "execution_count": 133,
   "id": "623d6d91",
   "metadata": {},
   "outputs": [
    {
     "name": "stdout",
     "output_type": "stream",
     "text": [
      "검색할 문자를 입력하세요 >>딸기\n",
      "딸기는 리스트에 0번째 인덱스에 들어있습니다.\n"
     ]
    }
   ],
   "source": [
    "f = input('검색할 문자를 입력하세요 >>')\n",
    "if f in lst :\n",
    "    num = lst.index(f)\n",
    "    print('{}는 리스트에 {}번째 인덱스에 들어있습니다.'.format(f, num))\n",
    "else :\n",
    "    print('{}는 리스트에 들어있지 않습니다.'.format(f))"
   ]
  },
  {
   "cell_type": "code",
   "execution_count": null,
   "id": "b53029d3",
   "metadata": {},
   "outputs": [],
   "source": [
    "# \"''\"\n",
    "# '\\'\\'\n",
    "# \"\\'\\'\""
   ]
  },
  {
   "cell_type": "code",
   "execution_count": 148,
   "id": "6f2f7190",
   "metadata": {},
   "outputs": [
    {
     "name": "stdout",
     "output_type": "stream",
     "text": [
      "검색할 문자를 입력하세요 : i\n",
      "'i'는 1 번 들어 있습니다.\n"
     ]
    }
   ],
   "source": [
    "s = \"Hi, My name is Dan\"\n",
    "m = input('검색할 문자를 입력하세요 : ')\n",
    "if m in s :\n",
    "    print('\\'{}\\'는 {} 번 들어 있습니다.'.format(m, s.count('m')))\n",
    "else :\n",
    "    print('\\'{}\\'는 {} 번 들어있지 않습니다.'.format(m, s.count('m')))"
   ]
  },
  {
   "cell_type": "code",
   "execution_count": 2,
   "id": "82b21fa5",
   "metadata": {},
   "outputs": [
    {
     "name": "stdout",
     "output_type": "stream",
     "text": [
      "검색할 문자를 입력하세요 : D\n",
      "'D'는 1번 들어 있습니다.\n"
     ]
    }
   ],
   "source": [
    "s = \"Hi, My name is Dan\"\n",
    "a = input('검색할 문자를 입력하세요 : ')\n",
    "\n",
    "if a in s: \n",
    "    print(f'\\'{a}\\'는 {s.count(a)}번 들어 있습니다.')\n",
    "else:\n",
    "    print(f'\\'{a}\\'는 문자열에 들어 있지 않습니다.')"
   ]
  },
  {
   "cell_type": "code",
   "execution_count": 152,
   "id": "52602141",
   "metadata": {},
   "outputs": [
    {
     "data": {
      "text/plain": [
       "658"
      ]
     },
     "execution_count": 152,
     "metadata": {},
     "output_type": "execute_result"
    }
   ],
   "source": [
    "strToInt = \"329\"\n",
    "# print(type(strToInt))\n",
    "int(strToInt) * 2"
   ]
  },
  {
   "cell_type": "code",
   "execution_count": 166,
   "id": "3978a2bd",
   "metadata": {},
   "outputs": [
    {
     "name": "stdout",
     "output_type": "stream",
     "text": [
      "01051798179\n"
     ]
    }
   ],
   "source": [
    "phone_number = '010-1234-5678'\n",
    "print(phone_number.replace('-',''))"
   ]
  },
  {
   "cell_type": "code",
   "execution_count": 3,
   "id": "7b219422",
   "metadata": {},
   "outputs": [
    {
     "name": "stdout",
     "output_type": "stream",
     "text": [
      "문자열을 입력하시오>> 01012345678\n",
      "분리 기준 문자 >> 1\n",
      "[0, 0, 2345678]\n"
     ]
    }
   ],
   "source": [
    "a = input('문자열을 입력하시오>> ')\n",
    "sp = input('분리 기준 문자 >> ')\n",
    "a = a.split(sp)\n",
    "for i in range(3):\n",
    "    a[i] = int(a[i])\n",
    "# print(a.split(sp))\n",
    "print(a)"
   ]
  },
  {
   "cell_type": "code",
   "execution_count": null,
   "id": "a4aefba4",
   "metadata": {},
   "outputs": [],
   "source": [
    "a = input('문자열을 입력하시오>> ')\n",
    "sp = input('분리 기준 문자 >> ')\n",
    "a = a.split(sp)\n",
    "print(a)\n",
    "a = a.replace(sp, '')\n",
    "print(a)"
   ]
  },
  {
   "cell_type": "code",
   "execution_count": 216,
   "id": "333556a2",
   "metadata": {
    "scrolled": true
   },
   "outputs": [
    {
     "name": "stdout",
     "output_type": "stream",
     "text": [
      "문자열을 입력하시오>> 2021-05-21\n",
      "분리 기준 문자 >> -\n",
      "20210521\n"
     ]
    }
   ],
   "source": [
    "a = input('문자열을 입력하시오>> ')\n",
    "sp = input('분리 기준 문자 >> ')\n",
    "a = a.replace(sp, '')\n",
    "print(a)"
   ]
  }
 ],
 "metadata": {
  "kernelspec": {
   "display_name": "Python 3",
   "language": "python",
   "name": "python3"
  },
  "language_info": {
   "codemirror_mode": {
    "name": "ipython",
    "version": 3
   },
   "file_extension": ".py",
   "mimetype": "text/x-python",
   "name": "python",
   "nbconvert_exporter": "python",
   "pygments_lexer": "ipython3",
   "version": "3.8.8"
  }
 },
 "nbformat": 4,
 "nbformat_minor": 5
}
