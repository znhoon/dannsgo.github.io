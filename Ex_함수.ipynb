{
 "cells": [
  {
   "cell_type": "markdown",
   "id": "59db9d3a",
   "metadata": {},
   "source": [
    "## 함수(function,기능)"
   ]
  },
  {
   "cell_type": "code",
   "execution_count": null,
   "id": "915b0acb",
   "metadata": {},
   "outputs": [],
   "source": [
    "# 함수 정의\n",
    "def 함수명(매개변수):\n",
    "    함수의 기능(수행 코드)\n",
    "    return 반환변수(반환결과)"
   ]
  },
  {
   "cell_type": "markdown",
   "id": "a76f1558",
   "metadata": {},
   "source": [
    "### 함수 정의"
   ]
  },
  {
   "cell_type": "code",
   "execution_count": 1,
   "id": "f185b165",
   "metadata": {},
   "outputs": [],
   "source": [
    "# 더하기 기능(함수)\n",
    "# 매개변수 2개 : 숫자 2개\n",
    "# 더하는 수행 코드\n",
    "# 더해진 결과 반환\n",
    "\n",
    "def number_sum(num11,num22):\n",
    "    result = num11 + num22\n",
    "    return result"
   ]
  },
  {
   "cell_type": "code",
   "execution_count": 3,
   "id": "50813b46",
   "metadata": {},
   "outputs": [
    {
     "name": "stdout",
     "output_type": "stream",
     "text": [
      "8\n"
     ]
    }
   ],
   "source": [
    "# 함수 사용법_1\n",
    "# 함수를 불러야 함(호출)\n",
    "number = number_sum(3,5)\n",
    "print(number)"
   ]
  },
  {
   "cell_type": "code",
   "execution_count": 4,
   "id": "b1521744",
   "metadata": {},
   "outputs": [
    {
     "name": "stdout",
     "output_type": "stream",
     "text": [
      "8\n"
     ]
    }
   ],
   "source": [
    "# 함수 사용법_2\n",
    "num3=3 # 따로 변수명에 숫자를 넣어 호출해서 사용해도 됨\n",
    "num4=5\n",
    "number = number_sum(num3,num4) # num3, num4는 함수의 변수명과 달라도 됨\n",
    "print(number)"
   ]
  },
  {
   "cell_type": "code",
   "execution_count": 12,
   "id": "fd8ba024",
   "metadata": {},
   "outputs": [
    {
     "name": "stdout",
     "output_type": "stream",
     "text": [
      "첫 번째 정수 입력>> 10\n",
      "첫 번째 정수 입력>> 3\n",
      "7\n"
     ]
    }
   ],
   "source": [
    "num1 = int(input('첫 번째 정수 입력>> '))\n",
    "num2 = int(input('첫 번째 정수 입력>> '))\n",
    "# 빼기 기능을 하는 함수 두 인자값 입력하여 호출\n",
    "def number_sub(a,b): # def 함수명(매개변수1,매개변수2)\n",
    "    num = a-b # 함수 기능(수행 코드)\n",
    "    return num # return 반환변수 # 반환결과\n",
    "\n",
    "n = num1\n",
    "m = num2\n",
    "number_sub(n,m) # 함수 호출\n",
    "result = number_sub(n,m) # 함수 이용 후 계산 값 result 호출\n",
    "print(result) # 결과"
   ]
  },
  {
   "cell_type": "code",
   "execution_count": 13,
   "id": "1827bda6",
   "metadata": {},
   "outputs": [
    {
     "name": "stdout",
     "output_type": "stream",
     "text": [
      "num1 입력 >> 10\n",
      "num2 입력 >> 3\n",
      "7\n"
     ]
    }
   ],
   "source": [
    "# 1. 함수 정의\n",
    "# 2. 함수 호출(화면코드)\n",
    "def number_sub(num1,num2):\n",
    "    return num1-num2\n",
    "\n",
    "# 호출\n",
    "num1 = int(input('num1 입력 >> '))\n",
    "num2 = int(input('num2 입력 >> '))\n",
    "result = number_sub(num1,num2)\n",
    "print(result)"
   ]
  },
  {
   "cell_type": "code",
   "execution_count": 42,
   "id": "ded1f681",
   "metadata": {},
   "outputs": [
    {
     "name": "stdout",
     "output_type": "stream",
     "text": [
      "문자열 입력 >> ㅋ을 모두 지워주세요ㅋㅋㅋㅋㅋ\n",
      "'을 모두 지워주세요'\n"
     ]
    }
   ],
   "source": [
    "def s_replace(s) :\n",
    "    n = s.replace('ㅋ','')\n",
    "    return n\n",
    "s = input(\"문자열 입력 >> \")\n",
    "s_replace(s)\n",
    "print(f'\\'{s_replace(s)}\\'')"
   ]
  },
  {
   "cell_type": "code",
   "execution_count": null,
   "id": "99bdc17c",
   "metadata": {},
   "outputs": [],
   "source": [
    "# 1. 함수 정의\n",
    "def s_replace(s):\n",
    "    \"\"\"ㅋ을 제거하는 기능\"\"\" # 함수 정의\n",
    "    result = s.replace('ㅋ','')\n",
    "    return result"
   ]
  },
  {
   "cell_type": "code",
   "execution_count": null,
   "id": "0e3df147",
   "metadata": {},
   "outputs": [],
   "source": [
    "# 2. 함수호출\n",
    "s = input('문자열 입력 >> ')\n",
    "res = s_replace(s)\n",
    "print(f'\\'{res}\\'')"
   ]
  },
  {
   "cell_type": "markdown",
   "id": "ff14c46c",
   "metadata": {},
   "source": [
    "### 가변 매개변수"
   ]
  },
  {
   "cell_type": "code",
   "execution_count": 5,
   "id": "40520012",
   "metadata": {},
   "outputs": [],
   "source": [
    "# 함수를 정의할 때, 변수 개수가 몇 개인지 모름\n",
    "def 함수명(*매개변수):\n",
    "    실행문장\n",
    "    return 반환변수"
   ]
  },
  {
   "cell_type": "code",
   "execution_count": 6,
   "id": "0137fe3d",
   "metadata": {},
   "outputs": [],
   "source": [
    "# 가변매개변수 가진 함수 정의\n",
    "def test(*args):\n",
    "    print(args)"
   ]
  },
  {
   "cell_type": "code",
   "execution_count": 7,
   "id": "a6d7b926",
   "metadata": {},
   "outputs": [
    {
     "name": "stdout",
     "output_type": "stream",
     "text": [
      "(1,)\n",
      "(1, 2, 3, 4, 5)\n",
      "(1, 2, 3, 4, 5, 6, 7, 8, 9, 10)\n"
     ]
    }
   ],
   "source": [
    "# test 사용(호출)\n",
    "test(1)\n",
    "test(1,2,3,4,5)\n",
    "test(1,2,3,4,5,6,7,8,9,10)"
   ]
  },
  {
   "cell_type": "code",
   "execution_count": 8,
   "id": "b8da9c10",
   "metadata": {},
   "outputs": [],
   "source": [
    "# 가변 매개변수 활용하여 더하는 기능 함수 정의\n",
    "# sum() 함수 이용\n",
    "# * : 별, 아스타리크\n",
    "def add(*a):\n",
    "    return sum(a)"
   ]
  },
  {
   "cell_type": "code",
   "execution_count": 9,
   "id": "34e00c73",
   "metadata": {},
   "outputs": [
    {
     "data": {
      "text/plain": [
       "10"
      ]
     },
     "execution_count": 9,
     "metadata": {},
     "output_type": "execute_result"
    }
   ],
   "source": [
    "# sum(데이터)\n",
    "sum((1,2,3))\n",
    "sum([1,2,3,4])"
   ]
  },
  {
   "cell_type": "code",
   "execution_count": 10,
   "id": "bbb5efb0",
   "metadata": {},
   "outputs": [
    {
     "data": {
      "text/plain": [
       "10"
      ]
     },
     "execution_count": 10,
     "metadata": {},
     "output_type": "execute_result"
    }
   ],
   "source": [
    "# add 함수 호출\n",
    "add(1,2,3,4,5,6,7,8)\n",
    "add(1,2,3,4)"
   ]
  },
  {
   "cell_type": "code",
   "execution_count": 11,
   "id": "b2a3d40e",
   "metadata": {},
   "outputs": [
    {
     "data": {
      "text/plain": [
       "10"
      ]
     },
     "execution_count": 11,
     "metadata": {},
     "output_type": "execute_result"
    }
   ],
   "source": [
    "def add(*b):\n",
    "    return sum(b)\n",
    "add(1,3,6)"
   ]
  },
  {
   "cell_type": "markdown",
   "id": "93da40ec",
   "metadata": {},
   "source": [
    "### 매개변수 기본값 설정"
   ]
  },
  {
   "cell_type": "code",
   "execution_count": 12,
   "id": "de855077",
   "metadata": {},
   "outputs": [],
   "source": [
    "# 지수 연산하는 함수"
   ]
  },
  {
   "cell_type": "code",
   "execution_count": 13,
   "id": "615477ef",
   "metadata": {},
   "outputs": [],
   "source": [
    "# 정의\n",
    "def power_of_N(num,power=2):\n",
    "    return num**power # ** : 지수 연산자"
   ]
  },
  {
   "cell_type": "code",
   "execution_count": 14,
   "id": "d530c765",
   "metadata": {},
   "outputs": [
    {
     "data": {
      "text/plain": [
       "27"
      ]
     },
     "execution_count": 14,
     "metadata": {},
     "output_type": "execute_result"
    }
   ],
   "source": [
    "# 함수 호출\n",
    "power_of_N(3) # 오류 안 나는 이유 : 기본값으로 power=2가 설정되어 있음 # 3 = num # 3^2\n",
    "# 3의 3제곱\n",
    "power_of_N(3,3)"
   ]
  },
  {
   "cell_type": "markdown",
   "id": "add5d467",
   "metadata": {},
   "source": [
    "### return 정리"
   ]
  },
  {
   "cell_type": "code",
   "execution_count": 15,
   "id": "5407e4be",
   "metadata": {},
   "outputs": [
    {
     "data": {
      "text/plain": [
       "(1, 2)"
      ]
     },
     "execution_count": 15,
     "metadata": {},
     "output_type": "execute_result"
    }
   ],
   "source": [
    "1,2"
   ]
  },
  {
   "cell_type": "code",
   "execution_count": 16,
   "id": "19d7b203",
   "metadata": {},
   "outputs": [],
   "source": [
    "# 1. return 함수 안에서 한번만 실행\n",
    "# 2. return 을 만나면 함수 끝남\n",
    "# 3. return result,result2 튜플로 묶어서 반환"
   ]
  },
  {
   "cell_type": "code",
   "execution_count": 17,
   "id": "7119c856",
   "metadata": {},
   "outputs": [],
   "source": [
    "def add_sub(num1,num2):\n",
    "    return num1+num2, num1-num2"
   ]
  },
  {
   "cell_type": "code",
   "execution_count": 18,
   "id": "3c7f7544",
   "metadata": {},
   "outputs": [
    {
     "name": "stdout",
     "output_type": "stream",
     "text": [
      "17 3\n"
     ]
    }
   ],
   "source": [
    "add, sub = add_sub(10,7)\n",
    "print(add, sub) # add = 10+7, sub = 10-7"
   ]
  },
  {
   "cell_type": "markdown",
   "id": "96eb815d",
   "metadata": {},
   "source": [
    "### 함수의 4가지 형태"
   ]
  },
  {
   "cell_type": "code",
   "execution_count": 19,
   "id": "836aae67",
   "metadata": {},
   "outputs": [],
   "source": [
    "# 1. 매개변수 X, return X\n",
    "def hi():\n",
    "    print('안녕~~~')"
   ]
  },
  {
   "cell_type": "code",
   "execution_count": 20,
   "id": "5d1b6e94",
   "metadata": {},
   "outputs": [
    {
     "name": "stdout",
     "output_type": "stream",
     "text": [
      "안녕~~~\n",
      "None\n"
     ]
    }
   ],
   "source": [
    "a = hi() # return X\n",
    "print(a)"
   ]
  },
  {
   "cell_type": "code",
   "execution_count": 21,
   "id": "33e489ff",
   "metadata": {},
   "outputs": [],
   "source": [
    "# 2. 매개변수 X, return O\n",
    "def hi2():\n",
    "    return '안녕~~~'"
   ]
  },
  {
   "cell_type": "code",
   "execution_count": 22,
   "id": "0690c9c5",
   "metadata": {},
   "outputs": [
    {
     "name": "stdout",
     "output_type": "stream",
     "text": [
      "안녕~~~\n"
     ]
    }
   ],
   "source": [
    "b = hi2()\n",
    "print(hi2())"
   ]
  },
  {
   "cell_type": "code",
   "execution_count": 23,
   "id": "14e22691",
   "metadata": {},
   "outputs": [],
   "source": [
    "# 3. 매개변수 O, return X\n",
    "def hi3(name):\n",
    "    print(f'{name} 안녕~~~')"
   ]
  },
  {
   "cell_type": "code",
   "execution_count": 24,
   "id": "d288beb8",
   "metadata": {},
   "outputs": [
    {
     "name": "stdout",
     "output_type": "stream",
     "text": [
      "name 안녕~~~\n"
     ]
    }
   ],
   "source": [
    "hi3('name')"
   ]
  },
  {
   "cell_type": "code",
   "execution_count": 25,
   "id": "f931d969",
   "metadata": {},
   "outputs": [],
   "source": [
    "# 4. 매개변수 O, return O\n",
    "def hi4(name):\n",
    "    return f'{name} 안녕~~~'"
   ]
  },
  {
   "cell_type": "code",
   "execution_count": 27,
   "id": "62722f24",
   "metadata": {},
   "outputs": [
    {
     "name": "stdout",
     "output_type": "stream",
     "text": [
      "파이썬 안녕~~~\n"
     ]
    }
   ],
   "source": [
    "c = hi4('파이썬')\n",
    "print(c)"
   ]
  }
 ],
 "metadata": {
  "kernelspec": {
   "display_name": "Python 3",
   "language": "python",
   "name": "python3"
  },
  "language_info": {
   "codemirror_mode": {
    "name": "ipython",
    "version": 3
   },
   "file_extension": ".py",
   "mimetype": "text/x-python",
   "name": "python",
   "nbconvert_exporter": "python",
   "pygments_lexer": "ipython3",
   "version": "3.8.8"
  }
 },
 "nbformat": 4,
 "nbformat_minor": 5
}
